{
 "cells": [
  {
   "cell_type": "code",
   "execution_count": 1,
   "id": "6379a9d6",
   "metadata": {},
   "outputs": [],
   "source": [
    "import sys\n",
    "sys.path.insert(0, './lib/')\n",
    "from heat_index_utilities import calculate_rh, heat_index"
   ]
  },
  {
   "cell_type": "code",
   "execution_count": 2,
   "id": "a1053c57",
   "metadata": {},
   "outputs": [
    {
     "data": {
      "text/plain": [
       "104.25742276000021"
      ]
     },
     "execution_count": 2,
     "metadata": {},
     "output_type": "execute_result"
    }
   ],
   "source": [
    "heat_index(89, 72)"
   ]
  },
  {
   "cell_type": "code",
   "execution_count": null,
   "id": "0c364168",
   "metadata": {},
   "outputs": [],
   "source": []
  }
 ],
 "metadata": {
  "kernelspec": {
   "display_name": "pcmdi_metrics",
   "language": "python",
   "name": "python3"
  },
  "language_info": {
   "codemirror_mode": {
    "name": "ipython",
    "version": 3
   },
   "file_extension": ".py",
   "mimetype": "text/x-python",
   "name": "python",
   "nbconvert_exporter": "python",
   "pygments_lexer": "ipython3",
   "version": "3.10.15"
  }
 },
 "nbformat": 4,
 "nbformat_minor": 5
}
