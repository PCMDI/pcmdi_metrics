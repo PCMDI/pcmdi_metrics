{
 "cells": [
  {
   "cell_type": "markdown",
   "id": "9ec40c3c-12c5-4c35-b507-f1522293843b",
   "metadata": {},
   "source": [
    "# Bar Chart\n",
    "\n",
    "- Generate a static image of bar chart using Matplotlib, for a quick view of metrics value.\n",
    "- Author: Jiwoo Lee (2021.10)\n",
    "- Last update: 2021.10\n",
    "\n",
    "\n",
    "## 1. Read data from JSON files\n",
    "\n",
    "Input data for portrait plot is expected as a set a (stacked or list of) 2-d numpy array(s) with list of strings for x and y axes labels.\n",
    "### Provide PMP output JSON files"
   ]
  },
  {
   "cell_type": "code",
   "execution_count": 1,
   "id": "ec3e41ee-b208-4cbc-839b-ab11e2ee52f4",
   "metadata": {},
   "outputs": [],
   "source": [
    "import glob\n",
    "import os\n",
    "import numpy as np"
   ]
  },
  {
   "cell_type": "markdown",
   "id": "f80be28d-5ecd-45de-8d43-95dbc4738541",
   "metadata": {},
   "source": [
    "PMP output files downloadable from the [PMP results archive](https://github.com/PCMDI/pcmdi_metrics_results_archive/)."
   ]
  },
  {
   "cell_type": "code",
   "execution_count": 2,
   "id": "1366a47c-caa2-4286-bd94-22e9ef4ab87c",
   "metadata": {},
   "outputs": [],
   "source": [
    "url = (\"https://github.com/PCMDI/pcmdi_metrics_results_archive/\" + \n",
    "       \"raw/main/metrics_results/mean_climate/cmip6/historical/v20210811/cmip6.historical.regrid2.2p5x2p5.v20210811.tar.gz\")"
   ]
  },
  {
   "cell_type": "code",
   "execution_count": 3,
   "id": "7a2d003c-1bfa-4ab2-be00-51f1da408b9b",
   "metadata": {},
   "outputs": [],
   "source": [
    "import requests\n",
    "\n",
    "r = requests.get(url, allow_redirects=True)\n",
    "filename = url.split('/')[-1]\n",
    "with open(filename, 'wb') as file:\n",
    "    file.write(r.content)"
   ]
  },
  {
   "cell_type": "markdown",
   "id": "37d584a4-c75a-4427-8be1-7aff6366e317",
   "metadata": {},
   "source": [
    "Uncompress PMP output archive file"
   ]
  },
  {
   "cell_type": "code",
   "execution_count": 4,
   "id": "c93aae3d-e4ae-4d6a-b57d-cc3886e92e88",
   "metadata": {},
   "outputs": [],
   "source": [
    "import tarfile\n",
    "  \n",
    "# open file\n",
    "with tarfile.open(filename) as file:\n",
    "    # extracting file\n",
    "    os.makedirs('json_files', exist_ok=True)\n",
    "    file.extractall('./json_files')"
   ]
  },
  {
   "cell_type": "markdown",
   "id": "c03e551e-5caf-4f8a-947e-b1d65f3d18cc",
   "metadata": {},
   "source": [
    "Check JSON files"
   ]
  },
  {
   "cell_type": "code",
   "execution_count": 5,
   "id": "29363395-bc58-4434-9509-b6e1fa7c8be2",
   "metadata": {},
   "outputs": [],
   "source": [
    "mip = 'cmip6'\n",
    "data_version = \"v20210811\"\n",
    "json_dir = './json_files/'"
   ]
  },
  {
   "cell_type": "code",
   "execution_count": 6,
   "id": "75526b4e-9682-49d0-95f7-d58125bf321b",
   "metadata": {},
   "outputs": [
    {
     "name": "stdout",
     "output_type": "stream",
     "text": [
      "pr.cmip6.historical.regrid2.2p5x2p5.v20210811.json\n",
      "prw.cmip6.historical.regrid2.2p5x2p5.v20210811.json\n",
      "psl.cmip6.historical.regrid2.2p5x2p5.v20210811.json\n",
      "rlds.cmip6.historical.regrid2.2p5x2p5.v20210811.json\n",
      "rltcre.cmip6.historical.regrid2.2p5x2p5.v20210811.json\n",
      "rlus.cmip6.historical.regrid2.2p5x2p5.v20210811.json\n",
      "rlut.cmip6.historical.regrid2.2p5x2p5.v20210811.json\n",
      "rlutcs.cmip6.historical.regrid2.2p5x2p5.v20210811.json\n",
      "rsds.cmip6.historical.regrid2.2p5x2p5.v20210811.json\n",
      "rsdscs.cmip6.historical.regrid2.2p5x2p5.v20210811.json\n",
      "rsdt.cmip6.historical.regrid2.2p5x2p5.v20210811.json\n",
      "rstcre.cmip6.historical.regrid2.2p5x2p5.v20210811.json\n",
      "rsut.cmip6.historical.regrid2.2p5x2p5.v20210811.json\n",
      "rsutcs.cmip6.historical.regrid2.2p5x2p5.v20210811.json\n",
      "sfcWind.cmip6.historical.regrid2.2p5x2p5.v20210811.json\n",
      "ta-200.cmip6.historical.regrid2.2p5x2p5.v20210811.json\n",
      "ta-850.cmip6.historical.regrid2.2p5x2p5.v20210811.json\n",
      "tas.cmip6.historical.regrid2.2p5x2p5.v20210811.json\n",
      "tauu.cmip6.historical.regrid2.2p5x2p5.v20210811.json\n",
      "ts.cmip6.historical.regrid2.2p5x2p5.v20210811.json\n",
      "ua-200.cmip6.historical.regrid2.2p5x2p5.v20210811.json\n",
      "ua-850.cmip6.historical.regrid2.2p5x2p5.v20210811.json\n",
      "va-200.cmip6.historical.regrid2.2p5x2p5.v20210811.json\n",
      "va-850.cmip6.historical.regrid2.2p5x2p5.v20210811.json\n",
      "zg-500.cmip6.historical.regrid2.2p5x2p5.v20210811.json\n"
     ]
    }
   ],
   "source": [
    "json_list = sorted(glob.glob(os.path.join(json_dir, '*' + mip + '*' + data_version + '.json')))\n",
    "for json_file in json_list:\n",
    "    print(json_file.split('/')[-1])"
   ]
  },
  {
   "cell_type": "markdown",
   "id": "0028adbe-8952-4d7b-b565-0f6607512eae",
   "metadata": {},
   "source": [
    "## 2. Plot\n",
    "\n",
    "Options are described below."
   ]
  },
  {
   "cell_type": "code",
   "execution_count": 7,
   "id": "ae9912f4-1783-4084-9742-49286360bf66",
   "metadata": {},
   "outputs": [
    {
     "name": "stdout",
     "output_type": "stream",
     "text": [
      "usage: bar_chart.py [-h] [-j JSON] [-v VAR] [-s SEASON] [-o PATHOUT] [-e EXP]\n",
      "                    [-d DOMAIN] [--stat STAT]\n",
      "\n",
      "optional arguments:\n",
      "  -h, --help            show this help message and exit\n",
      "  -j JSON, --json JSON  path for input json file\n",
      "  -v VAR, --var VAR     variable\n",
      "  -s SEASON, --season SEASON\n",
      "                        season: djf, mam, jja, son, ann, or all\n",
      "  -o PATHOUT, --pathout PATHOUT\n",
      "                        directory path for output files\n",
      "  -e EXP, --exp EXP     experiment\n",
      "  -d DOMAIN, --domain DOMAIN\n",
      "                        domain\n",
      "  --stat STAT           statistics\n"
     ]
    }
   ],
   "source": [
    "%%bash\n",
    "\n",
    "python bar_chart.py --help"
   ]
  },
  {
   "cell_type": "markdown",
   "id": "cbe945ab-b663-4403-a55b-0d90dec577e5",
   "metadata": {},
   "source": [
    "### 2.1 One season"
   ]
  },
  {
   "cell_type": "code",
   "execution_count": 8,
   "id": "375f1a83-9749-44fe-b945-155612b8a7f7",
   "metadata": {},
   "outputs": [
    {
     "name": "stdout",
     "output_type": "stream",
     "text": [
      "args: Namespace(domain='NHEX', exp='historical', json='json_files/ts.cmip6.historical.regrid2.2p5x2p5.v20210811.json', pathout='example_plot', season='djf', stat='bias_xy', var='ts')\n",
      "json_path: json_files/ts.cmip6.historical.regrid2.2p5x2p5.v20210811.json\n",
      "season: djf\n",
      "pathout: example_plot\n",
      "exp: historical\n",
      "variable: ts\n",
      "domain: NHEX\n"
     ]
    },
    {
     "name": "stderr",
     "output_type": "stream",
     "text": [
      "Traceback (most recent call last):\n",
      "  File \"bar_chart.py\", line 73, in <module>\n",
      "    dia = BarChart(mods, all_mods, stat, fig=fig, rect=rects[season])\n",
      "  File \"/opt/anaconda3/envs/pmp_nightly_20210602/lib/python3.8/site-packages/pcmdi_metrics-v2.0_231_gf7d16e18-py3.8.egg/pcmdi_metrics/graphics/bar_chart/lib/barChart.py\", line 42, in __init__\n",
      "NameError: name 'ylable' is not defined\n"
     ]
    },
    {
     "ename": "CalledProcessError",
     "evalue": "Command 'b\"\\npython bar_chart.py -j 'json_files/ts.cmip6.historical.regrid2.2p5x2p5.v20210811.json' \\\\\\n                    -s 'djf' -e 'historical' -d 'NHEX' -v 'ts' --pathout 'example_plot' \\\\\\n                    --stat 'bias_xy'\\n\"' returned non-zero exit status 1.",
     "output_type": "error",
     "traceback": [
      "\u001b[0;31m---------------------------------------------------------------------------\u001b[0m",
      "\u001b[0;31mCalledProcessError\u001b[0m                        Traceback (most recent call last)",
      "\u001b[0;32m<ipython-input-8-7ff6c135fc6e>\u001b[0m in \u001b[0;36m<module>\u001b[0;34m\u001b[0m\n\u001b[0;32m----> 1\u001b[0;31m \u001b[0mget_ipython\u001b[0m\u001b[0;34m(\u001b[0m\u001b[0;34m)\u001b[0m\u001b[0;34m.\u001b[0m\u001b[0mrun_cell_magic\u001b[0m\u001b[0;34m(\u001b[0m\u001b[0;34m'bash'\u001b[0m\u001b[0;34m,\u001b[0m \u001b[0;34m''\u001b[0m\u001b[0;34m,\u001b[0m \u001b[0;34m\"\\npython bar_chart.py -j 'json_files/ts.cmip6.historical.regrid2.2p5x2p5.v20210811.json' \\\\\\n                    -s 'djf' -e 'historical' -d 'NHEX' -v 'ts' --pathout 'example_plot' \\\\\\n                    --stat 'bias_xy'\\n\"\u001b[0m\u001b[0;34m)\u001b[0m\u001b[0;34m\u001b[0m\u001b[0;34m\u001b[0m\u001b[0m\n\u001b[0m",
      "\u001b[0;32m/opt/anaconda3/envs/pmp_nightly_20210602/lib/python3.8/site-packages/IPython/core/interactiveshell.py\u001b[0m in \u001b[0;36mrun_cell_magic\u001b[0;34m(self, magic_name, line, cell)\u001b[0m\n\u001b[1;32m   2401\u001b[0m             \u001b[0;32mwith\u001b[0m \u001b[0mself\u001b[0m\u001b[0;34m.\u001b[0m\u001b[0mbuiltin_trap\u001b[0m\u001b[0;34m:\u001b[0m\u001b[0;34m\u001b[0m\u001b[0;34m\u001b[0m\u001b[0m\n\u001b[1;32m   2402\u001b[0m                 \u001b[0margs\u001b[0m \u001b[0;34m=\u001b[0m \u001b[0;34m(\u001b[0m\u001b[0mmagic_arg_s\u001b[0m\u001b[0;34m,\u001b[0m \u001b[0mcell\u001b[0m\u001b[0;34m)\u001b[0m\u001b[0;34m\u001b[0m\u001b[0;34m\u001b[0m\u001b[0m\n\u001b[0;32m-> 2403\u001b[0;31m                 \u001b[0mresult\u001b[0m \u001b[0;34m=\u001b[0m \u001b[0mfn\u001b[0m\u001b[0;34m(\u001b[0m\u001b[0;34m*\u001b[0m\u001b[0margs\u001b[0m\u001b[0;34m,\u001b[0m \u001b[0;34m**\u001b[0m\u001b[0mkwargs\u001b[0m\u001b[0;34m)\u001b[0m\u001b[0;34m\u001b[0m\u001b[0;34m\u001b[0m\u001b[0m\n\u001b[0m\u001b[1;32m   2404\u001b[0m             \u001b[0;32mreturn\u001b[0m \u001b[0mresult\u001b[0m\u001b[0;34m\u001b[0m\u001b[0;34m\u001b[0m\u001b[0m\n\u001b[1;32m   2405\u001b[0m \u001b[0;34m\u001b[0m\u001b[0m\n",
      "\u001b[0;32m/opt/anaconda3/envs/pmp_nightly_20210602/lib/python3.8/site-packages/IPython/core/magics/script.py\u001b[0m in \u001b[0;36mnamed_script_magic\u001b[0;34m(line, cell)\u001b[0m\n\u001b[1;32m    140\u001b[0m             \u001b[0;32melse\u001b[0m\u001b[0;34m:\u001b[0m\u001b[0;34m\u001b[0m\u001b[0;34m\u001b[0m\u001b[0m\n\u001b[1;32m    141\u001b[0m                 \u001b[0mline\u001b[0m \u001b[0;34m=\u001b[0m \u001b[0mscript\u001b[0m\u001b[0;34m\u001b[0m\u001b[0;34m\u001b[0m\u001b[0m\n\u001b[0;32m--> 142\u001b[0;31m             \u001b[0;32mreturn\u001b[0m \u001b[0mself\u001b[0m\u001b[0;34m.\u001b[0m\u001b[0mshebang\u001b[0m\u001b[0;34m(\u001b[0m\u001b[0mline\u001b[0m\u001b[0;34m,\u001b[0m \u001b[0mcell\u001b[0m\u001b[0;34m)\u001b[0m\u001b[0;34m\u001b[0m\u001b[0;34m\u001b[0m\u001b[0m\n\u001b[0m\u001b[1;32m    143\u001b[0m \u001b[0;34m\u001b[0m\u001b[0m\n\u001b[1;32m    144\u001b[0m         \u001b[0;31m# write a basic docstring:\u001b[0m\u001b[0;34m\u001b[0m\u001b[0;34m\u001b[0m\u001b[0;34m\u001b[0m\u001b[0m\n",
      "\u001b[0;32m/opt/anaconda3/envs/pmp_nightly_20210602/lib/python3.8/site-packages/decorator.py\u001b[0m in \u001b[0;36mfun\u001b[0;34m(*args, **kw)\u001b[0m\n\u001b[1;32m    230\u001b[0m             \u001b[0;32mif\u001b[0m \u001b[0;32mnot\u001b[0m \u001b[0mkwsyntax\u001b[0m\u001b[0;34m:\u001b[0m\u001b[0;34m\u001b[0m\u001b[0;34m\u001b[0m\u001b[0m\n\u001b[1;32m    231\u001b[0m                 \u001b[0margs\u001b[0m\u001b[0;34m,\u001b[0m \u001b[0mkw\u001b[0m \u001b[0;34m=\u001b[0m \u001b[0mfix\u001b[0m\u001b[0;34m(\u001b[0m\u001b[0margs\u001b[0m\u001b[0;34m,\u001b[0m \u001b[0mkw\u001b[0m\u001b[0;34m,\u001b[0m \u001b[0msig\u001b[0m\u001b[0;34m)\u001b[0m\u001b[0;34m\u001b[0m\u001b[0;34m\u001b[0m\u001b[0m\n\u001b[0;32m--> 232\u001b[0;31m             \u001b[0;32mreturn\u001b[0m \u001b[0mcaller\u001b[0m\u001b[0;34m(\u001b[0m\u001b[0mfunc\u001b[0m\u001b[0;34m,\u001b[0m \u001b[0;34m*\u001b[0m\u001b[0;34m(\u001b[0m\u001b[0mextras\u001b[0m \u001b[0;34m+\u001b[0m \u001b[0margs\u001b[0m\u001b[0;34m)\u001b[0m\u001b[0;34m,\u001b[0m \u001b[0;34m**\u001b[0m\u001b[0mkw\u001b[0m\u001b[0;34m)\u001b[0m\u001b[0;34m\u001b[0m\u001b[0;34m\u001b[0m\u001b[0m\n\u001b[0m\u001b[1;32m    233\u001b[0m     \u001b[0mfun\u001b[0m\u001b[0;34m.\u001b[0m\u001b[0m__name__\u001b[0m \u001b[0;34m=\u001b[0m \u001b[0mfunc\u001b[0m\u001b[0;34m.\u001b[0m\u001b[0m__name__\u001b[0m\u001b[0;34m\u001b[0m\u001b[0;34m\u001b[0m\u001b[0m\n\u001b[1;32m    234\u001b[0m     \u001b[0mfun\u001b[0m\u001b[0;34m.\u001b[0m\u001b[0m__doc__\u001b[0m \u001b[0;34m=\u001b[0m \u001b[0mfunc\u001b[0m\u001b[0;34m.\u001b[0m\u001b[0m__doc__\u001b[0m\u001b[0;34m\u001b[0m\u001b[0;34m\u001b[0m\u001b[0m\n",
      "\u001b[0;32m/opt/anaconda3/envs/pmp_nightly_20210602/lib/python3.8/site-packages/IPython/core/magic.py\u001b[0m in \u001b[0;36m<lambda>\u001b[0;34m(f, *a, **k)\u001b[0m\n\u001b[1;32m    185\u001b[0m     \u001b[0;31m# but it's overkill for just that one bit of state.\u001b[0m\u001b[0;34m\u001b[0m\u001b[0;34m\u001b[0m\u001b[0;34m\u001b[0m\u001b[0m\n\u001b[1;32m    186\u001b[0m     \u001b[0;32mdef\u001b[0m \u001b[0mmagic_deco\u001b[0m\u001b[0;34m(\u001b[0m\u001b[0marg\u001b[0m\u001b[0;34m)\u001b[0m\u001b[0;34m:\u001b[0m\u001b[0;34m\u001b[0m\u001b[0;34m\u001b[0m\u001b[0m\n\u001b[0;32m--> 187\u001b[0;31m         \u001b[0mcall\u001b[0m \u001b[0;34m=\u001b[0m \u001b[0;32mlambda\u001b[0m \u001b[0mf\u001b[0m\u001b[0;34m,\u001b[0m \u001b[0;34m*\u001b[0m\u001b[0ma\u001b[0m\u001b[0;34m,\u001b[0m \u001b[0;34m**\u001b[0m\u001b[0mk\u001b[0m\u001b[0;34m:\u001b[0m \u001b[0mf\u001b[0m\u001b[0;34m(\u001b[0m\u001b[0;34m*\u001b[0m\u001b[0ma\u001b[0m\u001b[0;34m,\u001b[0m \u001b[0;34m**\u001b[0m\u001b[0mk\u001b[0m\u001b[0;34m)\u001b[0m\u001b[0;34m\u001b[0m\u001b[0;34m\u001b[0m\u001b[0m\n\u001b[0m\u001b[1;32m    188\u001b[0m \u001b[0;34m\u001b[0m\u001b[0m\n\u001b[1;32m    189\u001b[0m         \u001b[0;32mif\u001b[0m \u001b[0mcallable\u001b[0m\u001b[0;34m(\u001b[0m\u001b[0marg\u001b[0m\u001b[0;34m)\u001b[0m\u001b[0;34m:\u001b[0m\u001b[0;34m\u001b[0m\u001b[0;34m\u001b[0m\u001b[0m\n",
      "\u001b[0;32m/opt/anaconda3/envs/pmp_nightly_20210602/lib/python3.8/site-packages/IPython/core/magics/script.py\u001b[0m in \u001b[0;36mshebang\u001b[0;34m(self, line, cell)\u001b[0m\n\u001b[1;32m    243\u001b[0m             \u001b[0msys\u001b[0m\u001b[0;34m.\u001b[0m\u001b[0mstderr\u001b[0m\u001b[0;34m.\u001b[0m\u001b[0mflush\u001b[0m\u001b[0;34m(\u001b[0m\u001b[0;34m)\u001b[0m\u001b[0;34m\u001b[0m\u001b[0;34m\u001b[0m\u001b[0m\n\u001b[1;32m    244\u001b[0m         \u001b[0;32mif\u001b[0m \u001b[0margs\u001b[0m\u001b[0;34m.\u001b[0m\u001b[0mraise_error\u001b[0m \u001b[0;32mand\u001b[0m \u001b[0mp\u001b[0m\u001b[0;34m.\u001b[0m\u001b[0mreturncode\u001b[0m\u001b[0;34m!=\u001b[0m\u001b[0;36m0\u001b[0m\u001b[0;34m:\u001b[0m\u001b[0;34m\u001b[0m\u001b[0;34m\u001b[0m\u001b[0m\n\u001b[0;32m--> 245\u001b[0;31m             \u001b[0;32mraise\u001b[0m \u001b[0mCalledProcessError\u001b[0m\u001b[0;34m(\u001b[0m\u001b[0mp\u001b[0m\u001b[0;34m.\u001b[0m\u001b[0mreturncode\u001b[0m\u001b[0;34m,\u001b[0m \u001b[0mcell\u001b[0m\u001b[0;34m,\u001b[0m \u001b[0moutput\u001b[0m\u001b[0;34m=\u001b[0m\u001b[0mout\u001b[0m\u001b[0;34m,\u001b[0m \u001b[0mstderr\u001b[0m\u001b[0;34m=\u001b[0m\u001b[0merr\u001b[0m\u001b[0;34m)\u001b[0m\u001b[0;34m\u001b[0m\u001b[0;34m\u001b[0m\u001b[0m\n\u001b[0m\u001b[1;32m    246\u001b[0m \u001b[0;34m\u001b[0m\u001b[0m\n\u001b[1;32m    247\u001b[0m     \u001b[0;32mdef\u001b[0m \u001b[0m_run_script\u001b[0m\u001b[0;34m(\u001b[0m\u001b[0mself\u001b[0m\u001b[0;34m,\u001b[0m \u001b[0mp\u001b[0m\u001b[0;34m,\u001b[0m \u001b[0mcell\u001b[0m\u001b[0;34m,\u001b[0m \u001b[0mto_close\u001b[0m\u001b[0;34m)\u001b[0m\u001b[0;34m:\u001b[0m\u001b[0;34m\u001b[0m\u001b[0;34m\u001b[0m\u001b[0m\n",
      "\u001b[0;31mCalledProcessError\u001b[0m: Command 'b\"\\npython bar_chart.py -j 'json_files/ts.cmip6.historical.regrid2.2p5x2p5.v20210811.json' \\\\\\n                    -s 'djf' -e 'historical' -d 'NHEX' -v 'ts' --pathout 'example_plot' \\\\\\n                    --stat 'bias_xy'\\n\"' returned non-zero exit status 1."
     ]
    }
   ],
   "source": [
    "%%bash\n",
    "\n",
    "python bar_chart.py -j 'json_files/ts.cmip6.historical.regrid2.2p5x2p5.v20210811.json' \\\n",
    "                    -s 'djf' -e 'historical' -d 'NHEX' -v 'ts' --pathout 'example_plot' \\\n",
    "                    --stat 'bias_xy'"
   ]
  },
  {
   "cell_type": "markdown",
   "id": "caa1a59f-bbc8-443a-b11a-b56b45292d3a",
   "metadata": {},
   "source": [
    "![plot](example_plot/ts_historical_bias_xy_1panel_djf_NHEX.png)"
   ]
  },
  {
   "cell_type": "code",
   "execution_count": null,
   "id": "b3d47773-6a3c-4b18-a88e-86929cd4bf5f",
   "metadata": {},
   "outputs": [],
   "source": [
    "%%bash\n",
    "\n",
    "python bar_chart.py -j 'json_files/zg-500.cmip6.historical.regrid2.2p5x2p5.v20210811.json' \\\n",
    "                    -s 'djf' -e 'historical' -d 'NHEX' -v 'zg-500' --pathout 'example_plot' \\\n",
    "                    --stat 'bias_xy'"
   ]
  },
  {
   "cell_type": "markdown",
   "id": "4577dc56-0639-41cd-869b-48a792ac1800",
   "metadata": {},
   "source": [
    "![plot](example_plot/zg-500_historical_bias_xy_1panel_djf_NHEX.png)"
   ]
  },
  {
   "cell_type": "markdown",
   "id": "ebbb7a24-3237-47e4-91b0-7099d03d3fe9",
   "metadata": {},
   "source": [
    "### 2.2 All seasons"
   ]
  },
  {
   "cell_type": "code",
   "execution_count": null,
   "id": "a3c7e3c8-cc8f-4d1a-aaee-2bd7ed08f728",
   "metadata": {},
   "outputs": [],
   "source": [
    "%%bash\n",
    "\n",
    "python bar_chart.py -j 'json_files/ts.cmip6.historical.regrid2.2p5x2p5.v20210811.json' \\\n",
    "                    -s 'all' -e 'historical' -d 'NHEX' -v 'ts' --pathout 'example_plot' \\\n",
    "                    --stat 'bias_xy'"
   ]
  },
  {
   "cell_type": "markdown",
   "id": "b4e4f84e-f8fb-4583-8316-6c6fcfdb646f",
   "metadata": {},
   "source": [
    "![plot](example_plot/ts_historical_bias_xy_5panel_all_NHEX.png)"
   ]
  },
  {
   "cell_type": "code",
   "execution_count": null,
   "id": "cab9c820-2961-4711-8f6e-9010ed6d36b0",
   "metadata": {},
   "outputs": [],
   "source": [
    "%%bash\n",
    "\n",
    "python bar_chart.py -j 'json_files/ts.cmip6.historical.regrid2.2p5x2p5.v20210811.json' \\\n",
    "                    -s 'all' -e 'historical' -d 'NHEX' -v 'ts' --pathout 'example_plot' \\\n",
    "                    --stat 'rms_xy'"
   ]
  },
  {
   "cell_type": "markdown",
   "id": "a8932a50-75c8-4c10-bd59-6b61e07408a2",
   "metadata": {},
   "source": [
    "![plot](example_plot/ts_historical_rms_xy_5panel_all_NHEX.png)"
   ]
  }
 ],
 "metadata": {
  "kernelspec": {
   "display_name": "Python 3",
   "language": "python",
   "name": "python3"
  },
  "language_info": {
   "codemirror_mode": {
    "name": "ipython",
    "version": 3
   },
   "file_extension": ".py",
   "mimetype": "text/x-python",
   "name": "python",
   "nbconvert_exporter": "python",
   "pygments_lexer": "ipython3",
   "version": "3.8.10"
  }
 },
 "nbformat": 4,
 "nbformat_minor": 5
}
