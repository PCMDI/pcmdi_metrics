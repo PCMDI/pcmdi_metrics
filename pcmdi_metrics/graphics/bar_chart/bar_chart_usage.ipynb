{
 "cells": [
  {
   "cell_type": "markdown",
   "id": "9ec40c3c-12c5-4c35-b507-f1522293843b",
   "metadata": {},
   "source": [
    "# Bar Chart\n",
    "\n",
    "- Generate a static image of bar chart using Matplotlib, for a quick view of metrics value.\n",
    "- Author: Jiwoo Lee (2021.10)\n",
    "- Last update: 2021.10\n",
    "\n",
    "\n",
    "## 1. Read data from JSON files\n",
    "\n",
    "Input data for portrait plot is expected as a set a (stacked or list of) 2-d numpy array(s) with list of strings for x and y axes labels.\n",
    "### Provide PMP output JSON files"
   ]
  },
  {
   "cell_type": "code",
   "execution_count": 1,
   "id": "ec3e41ee-b208-4cbc-839b-ab11e2ee52f4",
   "metadata": {},
   "outputs": [],
   "source": [
    "import glob\n",
    "import os\n",
    "import numpy as np"
   ]
  },
  {
   "cell_type": "markdown",
   "id": "f80be28d-5ecd-45de-8d43-95dbc4738541",
   "metadata": {},
   "source": [
    "PMP output files downloadable from the [PMP results archive](https://github.com/PCMDI/pcmdi_metrics_results_archive/)."
   ]
  },
  {
   "cell_type": "code",
   "execution_count": 2,
   "id": "1366a47c-caa2-4286-bd94-22e9ef4ab87c",
   "metadata": {},
   "outputs": [],
   "source": [
    "url = (\"https://github.com/PCMDI/pcmdi_metrics_results_archive/\" + \n",
    "       \"raw/main/metrics_results/mean_climate/cmip6/historical/v20210811/cmip6.historical.regrid2.2p5x2p5.v20210811.tar.gz\")"
   ]
  },
  {
   "cell_type": "code",
   "execution_count": 3,
   "id": "7a2d003c-1bfa-4ab2-be00-51f1da408b9b",
   "metadata": {},
   "outputs": [],
   "source": [
    "import requests\n",
    "\n",
    "r = requests.get(url, allow_redirects=True)\n",
    "filename = url.split('/')[-1]\n",
    "with open(filename, 'wb') as file:\n",
    "    file.write(r.content)"
   ]
  },
  {
   "cell_type": "markdown",
   "id": "37d584a4-c75a-4427-8be1-7aff6366e317",
   "metadata": {},
   "source": [
    "Uncompress PMP output archive file"
   ]
  },
  {
   "cell_type": "code",
   "execution_count": 4,
   "id": "c93aae3d-e4ae-4d6a-b57d-cc3886e92e88",
   "metadata": {},
   "outputs": [],
   "source": [
    "import tarfile\n",
    "  \n",
    "# open file\n",
    "with tarfile.open(filename) as file:\n",
    "    # extracting file\n",
    "    os.makedirs('json_files', exist_ok=True)\n",
    "    file.extractall('./json_files')"
   ]
  },
  {
   "cell_type": "markdown",
   "id": "c03e551e-5caf-4f8a-947e-b1d65f3d18cc",
   "metadata": {},
   "source": [
    "Check JSON files"
   ]
  },
  {
   "cell_type": "code",
   "execution_count": 5,
   "id": "29363395-bc58-4434-9509-b6e1fa7c8be2",
   "metadata": {},
   "outputs": [],
   "source": [
    "mip = 'cmip6'\n",
    "data_version = \"v20210811\"\n",
    "json_dir = './json_files/'"
   ]
  },
  {
   "cell_type": "code",
   "execution_count": 6,
   "id": "75526b4e-9682-49d0-95f7-d58125bf321b",
   "metadata": {},
   "outputs": [
    {
     "name": "stdout",
     "output_type": "stream",
     "text": [
      "pr.cmip6.historical.regrid2.2p5x2p5.v20210811.json\n",
      "prw.cmip6.historical.regrid2.2p5x2p5.v20210811.json\n",
      "psl.cmip6.historical.regrid2.2p5x2p5.v20210811.json\n",
      "rlds.cmip6.historical.regrid2.2p5x2p5.v20210811.json\n",
      "rltcre.cmip6.historical.regrid2.2p5x2p5.v20210811.json\n",
      "rlus.cmip6.historical.regrid2.2p5x2p5.v20210811.json\n",
      "rlut.cmip6.historical.regrid2.2p5x2p5.v20210811.json\n",
      "rlutcs.cmip6.historical.regrid2.2p5x2p5.v20210811.json\n",
      "rsds.cmip6.historical.regrid2.2p5x2p5.v20210811.json\n",
      "rsdscs.cmip6.historical.regrid2.2p5x2p5.v20210811.json\n",
      "rsdt.cmip6.historical.regrid2.2p5x2p5.v20210811.json\n",
      "rstcre.cmip6.historical.regrid2.2p5x2p5.v20210811.json\n",
      "rsut.cmip6.historical.regrid2.2p5x2p5.v20210811.json\n",
      "rsutcs.cmip6.historical.regrid2.2p5x2p5.v20210811.json\n",
      "sfcWind.cmip6.historical.regrid2.2p5x2p5.v20210811.json\n",
      "ta-200.cmip6.historical.regrid2.2p5x2p5.v20210811.json\n",
      "ta-850.cmip6.historical.regrid2.2p5x2p5.v20210811.json\n",
      "tas.cmip6.historical.regrid2.2p5x2p5.v20210811.json\n",
      "tauu.cmip6.historical.regrid2.2p5x2p5.v20210811.json\n",
      "ts.cmip6.historical.regrid2.2p5x2p5.v20210811.json\n",
      "ua-200.cmip6.historical.regrid2.2p5x2p5.v20210811.json\n",
      "ua-850.cmip6.historical.regrid2.2p5x2p5.v20210811.json\n",
      "va-200.cmip6.historical.regrid2.2p5x2p5.v20210811.json\n",
      "va-850.cmip6.historical.regrid2.2p5x2p5.v20210811.json\n",
      "zg-500.cmip6.historical.regrid2.2p5x2p5.v20210811.json\n"
     ]
    }
   ],
   "source": [
    "json_list = sorted(glob.glob(os.path.join(json_dir, '*' + mip + '*' + data_version + '.json')))\n",
    "for json_file in json_list:\n",
    "    print(json_file.split('/')[-1])"
   ]
  },
  {
   "cell_type": "markdown",
   "id": "0028adbe-8952-4d7b-b565-0f6607512eae",
   "metadata": {},
   "source": [
    "## 2. Plot\n",
    "\n",
    "### 2.1 One season"
   ]
  },
  {
   "cell_type": "code",
   "execution_count": 7,
   "id": "375f1a83-9749-44fe-b945-155612b8a7f7",
   "metadata": {},
   "outputs": [
    {
     "name": "stdout",
     "output_type": "stream",
     "text": [
      "json_path: json_files/ts.cmip6.historical.regrid2.2p5x2p5.v20210811.json\n",
      "season: djf\n",
      "pathout: example_plot\n",
      "exp: historical\n",
      "variable: ts\n",
      "domain: NHEX\n",
      "Figure saved as example_plot/ts_historical_bias_1panel_djf_NHEX.png\n"
     ]
    }
   ],
   "source": [
    "%%bash\n",
    "\n",
    "python bar_chart.py -j 'json_files/ts.cmip6.historical.regrid2.2p5x2p5.v20210811.json' \\\n",
    "                    -s 'djf' -e 'historical' -d 'NHEX' -v 'ts' --pathout 'example_plot'"
   ]
  },
  {
   "cell_type": "markdown",
   "id": "28541567-2685-454d-8b8a-0c0da1c34609",
   "metadata": {},
   "source": [
    "![plot](example_plot/ts_historical_bias_1panel_djf_NHEX.png)"
   ]
  },
  {
   "cell_type": "code",
   "execution_count": 8,
   "id": "b3d47773-6a3c-4b18-a88e-86929cd4bf5f",
   "metadata": {},
   "outputs": [
    {
     "name": "stdout",
     "output_type": "stream",
     "text": [
      "json_path: json_files/zg-500.cmip6.historical.regrid2.2p5x2p5.v20210811.json\n",
      "season: djf\n",
      "pathout: example_plot\n",
      "exp: historical\n",
      "variable: zg-500\n",
      "domain: NHEX\n",
      "Figure saved as example_plot/zg-500_historical_bias_1panel_djf_NHEX.png\n"
     ]
    }
   ],
   "source": [
    "%%bash\n",
    "\n",
    "python bar_chart.py -j 'json_files/zg-500.cmip6.historical.regrid2.2p5x2p5.v20210811.json' \\\n",
    "                    -s 'djf' -e 'historical' -d 'NHEX' -v 'zg-500' --pathout 'example_plot'"
   ]
  },
  {
   "cell_type": "markdown",
   "id": "7d03354e-50ea-4e07-a08b-73c75d63bb88",
   "metadata": {},
   "source": [
    "![plot](example_plot/zg-500_historical_bias_1panel_djf_NHEX.png)"
   ]
  },
  {
   "cell_type": "markdown",
   "id": "ebbb7a24-3237-47e4-91b0-7099d03d3fe9",
   "metadata": {},
   "source": [
    "### 2.2 All seasons"
   ]
  },
  {
   "cell_type": "code",
   "execution_count": 9,
   "id": "a3c7e3c8-cc8f-4d1a-aaee-2bd7ed08f728",
   "metadata": {},
   "outputs": [
    {
     "name": "stdout",
     "output_type": "stream",
     "text": [
      "json_path: json_files/ts.cmip6.historical.regrid2.2p5x2p5.v20210811.json\n",
      "season: all\n",
      "pathout: example_plot\n",
      "exp: historical\n",
      "variable: ts\n",
      "domain: NHEX\n",
      "Figure saved as example_plot/ts_historical_bias_5panel_all_NHEX.png\n"
     ]
    }
   ],
   "source": [
    "%%bash\n",
    "\n",
    "python bar_chart.py -j 'json_files/ts.cmip6.historical.regrid2.2p5x2p5.v20210811.json' \\\n",
    "                    -s 'all' -e 'historical' -d 'NHEX' -v 'ts' --pathout 'example_plot'"
   ]
  },
  {
   "cell_type": "markdown",
   "id": "38a82849-5ceb-4075-a66b-8403701dff33",
   "metadata": {},
   "source": [
    "![plot](example_plot/ts_historical_bias_5panel_all_NHEX.png)"
   ]
  }
 ],
 "metadata": {
  "kernelspec": {
   "display_name": "Python 3",
   "language": "python",
   "name": "python3"
  },
  "language_info": {
   "codemirror_mode": {
    "name": "ipython",
    "version": 3
   },
   "file_extension": ".py",
   "mimetype": "text/x-python",
   "name": "python",
   "nbconvert_exporter": "python",
   "pygments_lexer": "ipython3",
   "version": "3.8.10"
  }
 },
 "nbformat": 4,
 "nbformat_minor": 5
}
