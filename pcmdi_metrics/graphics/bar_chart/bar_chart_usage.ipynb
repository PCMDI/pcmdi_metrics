{
 "cells": [
  {
   "cell_type": "markdown",
   "id": "9ec40c3c-12c5-4c35-b507-f1522293843b",
   "metadata": {
    "tags": []
   },
   "source": [
    "# Bar Chart\n",
    "\n",
    "- Generate a static image of bar chart using Matplotlib, for a quick view of metrics value.\n",
    "- Author: Jiwoo Lee (2021.10)\n",
    "- Last update: 2022.04\n",
    "\n",
    "\n",
    "## 1. Read data from JSON files\n",
    "\n",
    "Input data for portrait plot is expected as a set a (stacked or list of) 2-d numpy array(s) with list of strings for x and y axes labels.\n",
    "### Provide PMP output JSON files"
   ]
  },
  {
   "cell_type": "code",
   "execution_count": 1,
   "id": "ec3e41ee-b208-4cbc-839b-ab11e2ee52f4",
   "metadata": {},
   "outputs": [],
   "source": [
    "import glob\n",
    "import os\n",
    "import numpy as np\n",
    "import requests\n",
    "from pcmdi_metrics.graphics import download_archived_results"
   ]
  },
  {
   "cell_type": "markdown",
   "id": "f80be28d-5ecd-45de-8d43-95dbc4738541",
   "metadata": {},
   "source": [
    "PMP output files downloadable from the [PMP results archive](https://github.com/PCMDI/pcmdi_metrics_results_archive/)."
   ]
  },
  {
   "cell_type": "code",
   "execution_count": 1,
   "id": "4624a522",
   "metadata": {},
   "outputs": [],
   "source": [
    "import glob\n",
    "import os\n",
    "import numpy as np\n",
    "import requests\n",
    "from pcmdi_metrics.graphics import download_archived_results"
   ]
  },
  {
   "cell_type": "markdown",
   "id": "f10ab20d-f288-48b7-91ec-f8782ca37599",
   "metadata": {},
   "source": [
    "Provide directory path and filename in the [PMP results archive](https://github.com/PCMDI/pcmdi_metrics_results_archive)."
   ]
  },
  {
   "cell_type": "code",
   "execution_count": 3,
   "id": "1b571806-4336-4473-b2f9-a8fab0c432ae",
   "metadata": {},
   "outputs": [],
   "source": [
    "for var in vars:\n",
    "    path = \"metrics_results/mean_climate/\"+mip+\"/\"+exp+\"/\"+data_version+\"/\"+var+\".\"+mip+\".\"+exp+\".regrid2.2p5x2p5.\"+data_version+\".json\"\n",
    "    download_archived_results(path, json_dir)"
   ]
  },
  {
   "cell_type": "markdown",
   "id": "c03e551e-5caf-4f8a-947e-b1d65f3d18cc",
   "metadata": {},
   "source": [
    "Check JSON files"
   ]
  },
  {
   "cell_type": "code",
   "execution_count": 4,
   "id": "75526b4e-9682-49d0-95f7-d58125bf321b",
   "metadata": {},
   "outputs": [
    {
     "name": "stdout",
     "output_type": "stream",
     "text": [
      "pr.cmip6.historical.regrid2.2p5x2p5.v20210811.json\n",
      "prw.cmip6.historical.regrid2.2p5x2p5.v20210811.json\n",
      "psl.cmip6.historical.regrid2.2p5x2p5.v20210811.json\n",
      "rlds.cmip6.historical.regrid2.2p5x2p5.v20210811.json\n",
      "rltcre.cmip6.historical.regrid2.2p5x2p5.v20210811.json\n",
      "rlus.cmip6.historical.regrid2.2p5x2p5.v20210811.json\n",
      "rlut.cmip6.historical.regrid2.2p5x2p5.v20210811.json\n",
      "rlutcs.cmip6.historical.regrid2.2p5x2p5.v20210811.json\n",
      "rsds.cmip6.historical.regrid2.2p5x2p5.v20210811.json\n",
      "rsdscs.cmip6.historical.regrid2.2p5x2p5.v20210811.json\n",
      "rsdt.cmip6.historical.regrid2.2p5x2p5.v20210811.json\n",
      "rstcre.cmip6.historical.regrid2.2p5x2p5.v20210811.json\n",
      "rsut.cmip6.historical.regrid2.2p5x2p5.v20210811.json\n",
      "rsutcs.cmip6.historical.regrid2.2p5x2p5.v20210811.json\n",
      "sfcWind.cmip6.historical.regrid2.2p5x2p5.v20210811.json\n",
      "ta-200.cmip6.historical.regrid2.2p5x2p5.v20210811.json\n",
      "ta-850.cmip6.historical.regrid2.2p5x2p5.v20210811.json\n",
      "tas.cmip6.historical.regrid2.2p5x2p5.v20210811.json\n",
      "tauu.cmip6.historical.regrid2.2p5x2p5.v20210811.json\n",
      "ts.cmip6.historical.regrid2.2p5x2p5.v20210811.json\n",
      "ua-200.cmip6.historical.regrid2.2p5x2p5.v20210811.json\n",
      "ua-850.cmip6.historical.regrid2.2p5x2p5.v20210811.json\n",
      "va-200.cmip6.historical.regrid2.2p5x2p5.v20210811.json\n",
      "va-850.cmip6.historical.regrid2.2p5x2p5.v20210811.json\n",
      "zg-500.cmip6.historical.regrid2.2p5x2p5.v20210811.json\n"
     ]
    }
   ],
   "source": [
    "json_list = sorted(glob.glob(os.path.join(json_dir, '*' + mip + '*' + data_version + '.json')))\n",
    "for json_file in json_list:\n",
    "    print(json_file.split('/')[-1])"
   ]
  },
  {
   "cell_type": "markdown",
   "id": "0028adbe-8952-4d7b-b565-0f6607512eae",
   "metadata": {},
   "source": [
    "## 2. Plot\n",
    "\n",
    "Options are described below."
   ]
  },
  {
   "cell_type": "code",
   "execution_count": 5,
   "id": "ae9912f4-1783-4084-9742-49286360bf66",
   "metadata": {},
   "outputs": [
    {
     "name": "stdout",
     "output_type": "stream",
     "text": [
      "usage: bar_chart.py [-h] [-j JSON] [-v VAR] [-s SEASON] [-o PATHOUT] [-e EXP]\n",
      "                    [-d DOMAIN] [--stat STAT]\n",
      "\n",
      "optional arguments:\n",
      "  -h, --help            show this help message and exit\n",
      "  -j JSON, --json JSON  path for input json file\n",
      "  -v VAR, --var VAR     variable\n",
      "  -s SEASON, --season SEASON\n",
      "                        season: djf, mam, jja, son, ann, or all\n",
      "  -o PATHOUT, --pathout PATHOUT\n",
      "                        directory path for output files\n",
      "  -e EXP, --exp EXP     experiment\n",
      "  -d DOMAIN, --domain DOMAIN\n",
      "                        domain\n",
      "  --stat STAT           statistics\n"
     ]
    }
   ],
   "source": [
    "%%bash\n",
    "\n",
    "python bar_chart.py --help"
   ]
  },
  {
   "cell_type": "markdown",
   "id": "cbe945ab-b663-4403-a55b-0d90dec577e5",
   "metadata": {},
   "source": [
    "### 2.1 One season"
   ]
  },
  {
   "cell_type": "code",
   "execution_count": 6,
   "id": "375f1a83-9749-44fe-b945-155612b8a7f7",
   "metadata": {},
   "outputs": [
    {
     "name": "stdout",
     "output_type": "stream",
     "text": [
      "args: Namespace(json='json_files/ts.cmip6.historical.regrid2.2p5x2p5.v20210811.json', var='ts', season='djf', pathout='example_plot', exp='historical', domain='NHEX', stat='bias_xy')\n",
      "json_path: json_files/ts.cmip6.historical.regrid2.2p5x2p5.v20210811.json\n",
      "season: djf\n",
      "pathout: example_plot\n",
      "exp: historical\n",
      "variable: ts\n",
      "domain: NHEX\n",
      "Figure saved as example_plot/ts_historical_bias_xy_1panel_djf_NHEX.png\n"
     ]
    }
   ],
   "source": [
    "%%bash\n",
    "\n",
    "python bar_chart.py -j 'json_files/ts.cmip6.historical.regrid2.2p5x2p5.v20210811.json' \\\n",
    "                    -s 'djf' -e 'historical' -d 'NHEX' -v 'ts' --pathout 'example_plot' \\\n",
    "                    --stat 'bias_xy'"
   ]
  },
  {
   "cell_type": "markdown",
   "id": "caa1a59f-bbc8-443a-b11a-b56b45292d3a",
   "metadata": {},
   "source": [
    "![plot](example_plot/ts_historical_bias_xy_1panel_djf_NHEX.png)"
   ]
  },
  {
   "cell_type": "code",
   "execution_count": 7,
   "id": "b3d47773-6a3c-4b18-a88e-86929cd4bf5f",
   "metadata": {},
   "outputs": [
    {
     "name": "stdout",
     "output_type": "stream",
     "text": [
      "args: Namespace(json='json_files/zg-500.cmip6.historical.regrid2.2p5x2p5.v20210811.json', var='zg-500', season='djf', pathout='example_plot', exp='historical', domain='NHEX', stat='bias_xy')\n",
      "json_path: json_files/zg-500.cmip6.historical.regrid2.2p5x2p5.v20210811.json\n",
      "season: djf\n",
      "pathout: example_plot\n",
      "exp: historical\n",
      "variable: zg-500\n",
      "domain: NHEX\n",
      "Figure saved as example_plot/zg-500_historical_bias_xy_1panel_djf_NHEX.png\n"
     ]
    }
   ],
   "source": [
    "%%bash\n",
    "\n",
    "python bar_chart.py -j 'json_files/zg-500.cmip6.historical.regrid2.2p5x2p5.v20210811.json' \\\n",
    "                    -s 'djf' -e 'historical' -d 'NHEX' -v 'zg-500' --pathout 'example_plot' \\\n",
    "                    --stat 'bias_xy'"
   ]
  },
  {
   "cell_type": "markdown",
   "id": "4577dc56-0639-41cd-869b-48a792ac1800",
   "metadata": {},
   "source": [
    "![plot](example_plot/zg-500_historical_bias_xy_1panel_djf_NHEX.png)"
   ]
  },
  {
   "cell_type": "markdown",
   "id": "ebbb7a24-3237-47e4-91b0-7099d03d3fe9",
   "metadata": {},
   "source": [
    "### 2.2 All seasons"
   ]
  },
  {
   "cell_type": "code",
   "execution_count": 8,
   "id": "a3c7e3c8-cc8f-4d1a-aaee-2bd7ed08f728",
   "metadata": {},
   "outputs": [
    {
     "name": "stdout",
     "output_type": "stream",
     "text": [
      "args: Namespace(json='json_files/ts.cmip6.historical.regrid2.2p5x2p5.v20210811.json', var='ts', season='all', pathout='example_plot', exp='historical', domain='NHEX', stat='bias_xy')\n",
      "json_path: json_files/ts.cmip6.historical.regrid2.2p5x2p5.v20210811.json\n",
      "season: all\n",
      "pathout: example_plot\n",
      "exp: historical\n",
      "variable: ts\n",
      "domain: NHEX\n",
      "Figure saved as example_plot/ts_historical_bias_xy_5panel_all_NHEX.png\n"
     ]
    }
   ],
   "source": [
    "%%bash\n",
    "\n",
    "python bar_chart.py -j 'json_files/ts.cmip6.historical.regrid2.2p5x2p5.v20210811.json' \\\n",
    "                    -s 'all' -e 'historical' -d 'NHEX' -v 'ts' --pathout 'example_plot' \\\n",
    "                    --stat 'bias_xy'"
   ]
  },
  {
   "cell_type": "markdown",
   "id": "b4e4f84e-f8fb-4583-8316-6c6fcfdb646f",
   "metadata": {
    "tags": []
   },
   "source": [
    "![plot](example_plot/ts_historical_bias_xy_5panel_all_NHEX.png)"
   ]
  },
  {
   "cell_type": "code",
   "execution_count": 9,
   "id": "cab9c820-2961-4711-8f6e-9010ed6d36b0",
   "metadata": {},
   "outputs": [
    {
     "name": "stdout",
     "output_type": "stream",
     "text": [
      "args: Namespace(json='json_files/ts.cmip6.historical.regrid2.2p5x2p5.v20210811.json', var='ts', season='all', pathout='example_plot', exp='historical', domain='NHEX', stat='rms_xy')\n",
      "json_path: json_files/ts.cmip6.historical.regrid2.2p5x2p5.v20210811.json\n",
      "season: all\n",
      "pathout: example_plot\n",
      "exp: historical\n",
      "variable: ts\n",
      "domain: NHEX\n",
      "Figure saved as example_plot/ts_historical_rms_xy_5panel_all_NHEX.png\n"
     ]
    }
   ],
   "source": [
    "%%bash\n",
    "\n",
    "python bar_chart.py -j 'json_files/ts.cmip6.historical.regrid2.2p5x2p5.v20210811.json' \\\n",
    "                    -s 'all' -e 'historical' -d 'NHEX' -v 'ts' --pathout 'example_plot' \\\n",
    "                    --stat 'rms_xy'"
   ]
  },
  {
   "cell_type": "markdown",
   "id": "a8932a50-75c8-4c10-bd59-6b61e07408a2",
   "metadata": {},
   "source": [
    "![plot](example_plot/ts_historical_rms_xy_5panel_all_NHEX.png)"
   ]
  }
 ],
 "metadata": {
  "kernelspec": {
   "display_name": "Python 3 (ipykernel)",
   "language": "python",
   "name": "python3"
  },
  "language_info": {
   "codemirror_mode": {
    "name": "ipython",
    "version": 3
   },
   "file_extension": ".py",
   "mimetype": "text/x-python",
   "name": "python",
   "nbconvert_exporter": "python",
   "pygments_lexer": "ipython3",
   "version": "3.9.7"
  }
 },
 "nbformat": 4,
 "nbformat_minor": 5
}
