{
 "cells": [
  {
   "cell_type": "code",
   "execution_count": null,
   "metadata": {},
   "outputs": [],
   "source": [
    "import logging\n",
    "import sys\n",
    "\n",
    "logging.basicConfig(filename='error_log.txt', level=logging.ERROR, filemode='w',\n",
    "                    format='%(asctime)s - %(name)s - %(levelname)s - %(message)s')\n",
    "\n",
    "\"\"\"logging.basicConfig(\n",
    "    filemode='w',\n",
    "    level=logging.ERROR,\n",
    "    format='%(asctime)s - %(name)s - %(levelname)s - %(message)s',\n",
    "    handlers=[\n",
    "        logging.FileHandler('error_log.txt'),\n",
    "        logging.StreamHandler(sys.stdout)\n",
    "    ]\n",
    ")\n",
    "\n",
    "logger = logging.getLogger(__name__)\"\"\""
   ]
  },
  {
   "cell_type": "code",
   "execution_count": null,
   "metadata": {},
   "outputs": [],
   "source": [
    "from pcmdi_metrics.mean_climate.lib_unified import (\n",
    "    get_unique_bases, process_dataset, calculate_and_save_metrics, extract_info_from_model_catalogue, \n",
    "    get_ref_catalogue, get_model_catalogue, \n",
    "    multi_level_dict, print_dict, write_to_json\n",
    ")\n",
    "import os\n",
    "import datetime\n",
    "\n",
    "\n",
    "from pcmdi_metrics.utils import create_target_grid"
   ]
  },
  {
   "cell_type": "code",
   "execution_count": null,
   "metadata": {},
   "outputs": [],
   "source": [
    "variables = [\n",
    "    #\"pr\", \"ua-200\", \"ua-850\", \"va-200\", \"ta-850\",\n",
    "    \"rsdt\", \"rsut\", \"rsutcs\", \"rlut\", \"rlutcs\", \n",
    "    \"rstcre\", \"rltcre\", \"rt\", \"rst\"\n",
    "]  # optional. If given, prioritized over the model_catalogue.json. If not given, use all variables commonly in ref_catalogue.json and model_catalogue.json\n",
    "\n",
    "#variables = [\n",
    "#    \"ua-200\", \"ua-850\", \"va-200\"\n",
    "#]\n",
    "\n",
    "model_data_path_template = \"/home/data/%(model)/%(var)/%(model)_%(run)_%(var)_blabla.nc\"  # optional. If given, prioritized over model_catalogue.json\n",
    "\n",
    "models = [\"model-a\", \"model-b\"]  # optional. If given, prioritized over the model_catalogue.json. If not given, use all models in model_catalogue.json\n",
    "\n",
    "models_runs_dict = {\n",
    "    \"model-a\": [\"r1\", \"r2\"],\n",
    "    \"model-b\": [\"r1\", \"r2\"],\n",
    "    \"model-c\": [\"r1\", \"r2\"],\n",
    "}\n",
    "# optional. If given, prioritized over the model_catalogue.json. If not given, use all runs in model_catalogue.json"
   ]
  },
  {
   "cell_type": "code",
   "execution_count": null,
   "metadata": {},
   "outputs": [],
   "source": [
    "interim_output_path_dict = {\n",
    "    \"ref\": {\n",
    "        \"path_ac\": \"/p/user_pub/climate_work/lee1043/temporary/mean_climate_workflow_refactorization/output/clims_ref/%(var)\",\n",
    "        \"path_ac_interp\": \"/p/user_pub/climate_work/lee1043/temporary/mean_climate_workflow_refactorization/output/clims_ref_interp/%(var)\"\n",
    "    },\n",
    "    \"model\": {\n",
    "        \"path_ac\": \"/p/user_pub/climate_work/lee1043/temporary/mean_climate_workflow_refactorization/output/clims_model/%(var)\",\n",
    "        \"path_ac_interp\": \"/p/user_pub/climate_work/lee1043/temporary/mean_climate_workflow_refactorization/output/clims_model_interp/%(var)\"\n",
    "    }\n",
    "}\n",
    "\n",
    "output_path = \"/p/user_pub/climate_work/lee1043/temporary/mean_climate_workflow_refactorization/output/json\"\n",
    "\n",
    "regions = [\"NHEX\", \"SHEX\"]\n",
    "\n",
    "target_grid = \"2.5x2.5\"\n",
    "\n",
    "ref_catalogue_file_path = '/p/user_pub/PCMDIobs/catalogue/obs4MIPs_PCMDI_monthly_byVar_catalogue_v20240716.json'\n",
    "model_catalogue_file_path = 'model_catalogue.json'\n",
    "\n",
    "ref_data_head = \"/p/user_pub/PCMDIobs\"  # optional, if ref_catalogue file does not include entire directory path"
   ]
  },
  {
   "cell_type": "code",
   "execution_count": null,
   "metadata": {},
   "outputs": [],
   "source": [
    "rad_diagnostic_variables = [\"rt\", \"rst\", \"rstcre\", \"rltcre\"]\n",
    "\n",
    "default_regions = [\"global\", \"NHEX\", \"SHEX\", \"TROPICS\"]"
   ]
  },
  {
   "cell_type": "code",
   "execution_count": null,
   "metadata": {},
   "outputs": [],
   "source": [
    "if not regions:\n",
    "    regions = default_regions"
   ]
  },
  {
   "cell_type": "code",
   "execution_count": null,
   "metadata": {},
   "outputs": [],
   "source": [
    "refs_dict = get_ref_catalogue(ref_catalogue_file_path, ref_data_head)\n",
    "models_dict = get_model_catalogue(model_catalogue_file_path, variables, models, models_runs_dict, model_data_path_template)"
   ]
  },
  {
   "cell_type": "code",
   "execution_count": null,
   "metadata": {},
   "outputs": [],
   "source": [
    "if any(var is None for var in (variables, models, models_runs_dict)): \n",
    "    variables, models, models_runs_dict = extract_info_from_model_catalogue(variables, models, models_runs_dict, refs_dict, models_dict)"
   ]
  },
  {
   "cell_type": "code",
   "execution_count": null,
   "metadata": {},
   "outputs": [],
   "source": [
    "common_grid = create_target_grid(target_grid_resolution=target_grid)"
   ]
  },
  {
   "cell_type": "code",
   "execution_count": null,
   "metadata": {},
   "outputs": [],
   "source": []
  },
  {
   "cell_type": "code",
   "execution_count": null,
   "metadata": {},
   "outputs": [],
   "source": [
    "encountered_variables = set()\n",
    "ac_ref_dict = multi_level_dict()\n",
    "ac_model_run_dict = multi_level_dict()\n",
    "metrics_dict = multi_level_dict()\n",
    "\n",
    "variables_level_dict = get_unique_bases(variables)\n",
    "variables_unique = list(variables_level_dict.keys())\n",
    "\n",
    "print('variables_unique:', variables_unique)\n",
    "print('variables_level_dict:', variables_level_dict)\n",
    "\n",
    "\n",
    "\n",
    "\n",
    "def process_references(var, refs, rad_diagnostic_variables, levels, common_grid, start, end, version):\n",
    "\n",
    "    #refs = [ref for ref in refs if ref in [\"GPCP-2-3\", \"ERA-5\", \"CERES-EBAF-4-2\"]]\n",
    "\n",
    "    for ref in refs:\n",
    "        print(f\"=== var, ref: {var}, {ref}\")\n",
    "        #try:\n",
    "        if 1:\n",
    "            process_dataset(\n",
    "                var, ref, refs_dict, ac_ref_dict, rad_diagnostic_variables, \n",
    "                encountered_variables, levels, common_grid, interim_output_path_dict[\"ref\"], data_type=\"ref\",\n",
    "                start=start, end=end,     \n",
    "                repair_time_axis=True,\n",
    "                overwrite_output_ac=True,\n",
    "                version=version\n",
    "            )\n",
    "        \"\"\"\n",
    "        except Exception as e:\n",
    "            # Log the error to a file\n",
    "            logging.error(f\"Error for {var} {ref}: {str(e)}\")\n",
    "            print(f\"Error logged for {var} {ref}\")\n",
    "            print(f'Error from process_references for {var} {ref}:', e)\n",
    "        \"\"\"\n",
    "            \n",
    "\n",
    "def process_models(var, models, models_runs_dict, rad_diagnostic_variables, levels, common_grid, refs, start, end, version):\n",
    "    for model in models:\n",
    "        for run in models_runs_dict[model]:\n",
    "            try:\n",
    "                process_dataset(\n",
    "                    var, (model, run), models_dict, ac_model_run_dict, \n",
    "                    rad_diagnostic_variables, encountered_variables, levels, common_grid, \n",
    "                    interim_output_path_dict[\"model\"], data_type=\"model\",\n",
    "                    start=start, end=end,\n",
    "                    version=version\n",
    "                )\n",
    "                for level in levels:\n",
    "                    ac_model_run_level_interp = ac_model_run_dict[var][model][run][level]\n",
    "                    calculate_and_save_metrics(var, model, run, level, regions, refs, ac_ref_dict, ac_model_run_level_interp, output_path, refs_dict, metrics_dict)\n",
    "            except Exception as e:\n",
    "                print(f'Error from process_models for {var} {model} {run}:', e)\n",
    "\n",
    "    for level in levels:\n",
    "        if level is None:\n",
    "             var_key = var\n",
    "        else:\n",
    "             var_key = f\"{var}-{level}\"\n",
    "        write_to_json(metrics_dict[var_key], os.path.join(output_path, f\"output_{var_key}.json\"))\n",
    "\n",
    "\n",
    "def main():  \n",
    "\n",
    "    # Set version identifier using the current date if not provided\n",
    "    version = datetime.datetime.now().strftime(\"v%Y%m%d\")\n",
    "    print(\"version:\", version)\n",
    "\n",
    "    all_ref_variables = True\n",
    "\n",
    "    #variables_unique = [\"pr\", \"ua\", \"va\", \"ta\"]\n",
    "    if all_ref_variables:\n",
    "        variables_unique = sorted(list(refs_dict.keys()))\n",
    "\n",
    "    start = \"1981-01\"\n",
    "    end = \"2013-12\"\n",
    "\n",
    "    for var in variables_unique:\n",
    "        try:\n",
    "            print(\"var:\", var)\n",
    "            encountered_variables.add(var)\n",
    "            levels = variables_level_dict[var]\n",
    "\n",
    "            if var in refs_dict:\n",
    "                refs = refs_dict[var].keys()\n",
    "                process_references(var, refs, rad_diagnostic_variables, levels, common_grid, start, end, version)\n",
    "\n",
    "            # process_models(var, models, models_runs_dict, rad_diagnostic_variables, levels, common_grid, refs, start, end, version)\n",
    "        except Exception as e:\n",
    "            print(f'Error from main for {var}:', e)            \n",
    "\n",
    "if __name__ == \"__main__\":\n",
    "    main()\n"
   ]
  },
  {
   "cell_type": "code",
   "execution_count": null,
   "metadata": {},
   "outputs": [],
   "source": [
    "print_dict(refs_dict)"
   ]
  },
  {
   "cell_type": "code",
   "execution_count": null,
   "metadata": {},
   "outputs": [],
   "source": [
    "print_dict(models_dict)"
   ]
  },
  {
   "cell_type": "code",
   "execution_count": null,
   "metadata": {},
   "outputs": [],
   "source": [
    "f = \"/p/user_pub/PCMDIobs/obs4MIPs/NASA-LaRC/CERES-EBAF-4-2/mon/rsdt/gn/v20240513/rsdt_mon_CERES-EBAF-4-2_RSS_gn_200003-202310.nc\"\n",
    "\n",
    "import xcdat as xc\n",
    "ds = xc.open_dataset(f)"
   ]
  },
  {
   "cell_type": "code",
   "execution_count": null,
   "metadata": {},
   "outputs": [],
   "source": []
  }
 ],
 "metadata": {
  "kernelspec": {
   "display_name": "pmp_devel_20240425",
   "language": "python",
   "name": "python3"
  },
  "language_info": {
   "codemirror_mode": {
    "name": "ipython",
    "version": 3
   },
   "file_extension": ".py",
   "mimetype": "text/x-python",
   "name": "python",
   "nbconvert_exporter": "python",
   "pygments_lexer": "ipython3",
   "version": "3.10.10"
  }
 },
 "nbformat": 4,
 "nbformat_minor": 2
}
