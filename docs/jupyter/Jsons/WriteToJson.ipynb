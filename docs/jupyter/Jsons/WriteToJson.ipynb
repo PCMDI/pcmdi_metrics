{
 "cells": [
  {
   "cell_type": "markdown",
   "metadata": {},
   "source": [
    "# Writing Tables Into Re-Usable Json Files\n",
    "\n",
    "This notebook demonstrate how to use PMP's Json class to write easily parsable and reusable json files. See [this notebook](ReadInJsonFiles.ipynb) to see how to take advantage of this json format.\n",
    "\n",
    "## Key Concepts\n",
    "\n",
    "\n",
    "### Structure\n",
    "\n",
    "This essentialy helps storing possibly complex tables into a json format that can later be easily parsed back into cdms/numpy variables.\n",
    "\n",
    "The idea is that the user ran a set of metrics looping over different parameters and wants to store these results\n",
    "\n",
    "For example for a given set of ***models***, loop through a given set of ***variables*** and for each variable compute a set of ***statitics***.\n",
    "\n",
    "`model`, `variable` and `statistic` would represent what the call the json file's **structure**\n",
    "\n",
    "Another example is to loop through model and realizations test against a set of references loop through modes and seasons to produce a statistic\n",
    "\n",
    "Here the structure would be:\n",
    "\n",
    "`model`, `realization`, `reference`, `mode`, `season`, `statistic`\n",
    "\n",
    "A python code to generate this would probably look similar to this:\n",
    "\n",
    "```python\n",
    "for model in [\"A\", \"B\", \"C\"]:\n",
    "    for realization in [\"a\", \"b\", \"c\", \"d\"]:\n",
    "        for reference in [\"ref1\", \"ref2\"]:\n",
    "            for mode in [\"NAM\", \"NAO\", \"NPGO\", \"PDO\", \"PNA\"]:\n",
    "                for season in [\"DJF\", \"JJA\", \"MAM\"]:\n",
    "                    for stat in [\"rms\", \"average\"]:\n",
    "                        value = compute_some_stat(model, realization, reference, mode, season, stat)\n",
    "```\n",
    "\n",
    "### Dictionary\n",
    "\n",
    "If stored in an array the final shape would be: `(3,4,2, 5, 3, 2)` which is 720 values\n",
    "\n",
    "But in reality maybe for each mode the user runs a different set of statistics these can also depend on the variable. Storing this in an array would end up with a lot of missing values. This is not necessary when using dictionaries.\n",
    "\n",
    "(If your data comes as a cdms2 variable, our package comes with a utility function to convert it back to a dictionary)\n",
    "\n",
    "\n",
    "As described above the \"Structure\" defines what each layer of keys represent\n",
    "\n",
    "In the example above to access the first value one would do:\n",
    "\n",
    "```python\n",
    "\n",
    "value = results[\"A\"][\"a\"][\"ref1\"][\"NAM\"][\"DJF\"][\"rms\"]\n",
    "\n",
    "```\n",
    "\n",
    "Additional the \"results\" are expected to be in a filed named \"RESULTS\"\n",
    "\n",
    "## Example\n"
   ]
  },
  {
   "cell_type": "code",
   "execution_count": 1,
   "metadata": {},
   "outputs": [
    {
     "name": "stderr",
     "output_type": "stream",
     "text": [
      "INFO::2019-05-23 14:00::pcmdi_metrics:: Results saved to a json file: /1TB/git/pcmdi_metrics/doc/jupyter/Jsons/myfile.json\n"
     ]
    }
   ],
   "source": [
    "results = {\"RESULTS\": {\"A\": {\"rms\": .2, \"mean\":.5}, \"B\": {\"mean\":.123, \"rms\": .67}}}\n",
    "\n",
    "import pcmdi_metrics\n",
    "\n",
    "out = pcmdi_metrics.io.base.Base(\".\", \"myfile.json\")\n",
    "out.write(results, json_structure=[\"model\", \"Statisitc\"])"
   ]
  },
  {
   "cell_type": "code",
   "execution_count": 2,
   "metadata": {},
   "outputs": [
    {
     "name": "stdout",
     "output_type": "stream",
     "text": [
      "{\"RESULTS\": {\"A\": {\"rms\": 0.2, \"mean\": 0.5}, \"B\": {\"mean\": 0.123, \"rms\": 0.67}},\n",
      " \"json_version\": 3.0, \"json_structure\": [\"model\", \"Statisitc\"], \"provenance\": {\"\n",
      "platform\": {\"OS\": \"Linux\", \"Version\": \"4.15.0-50-generic\", \"Name\": \"drdoom\"}, \"u\n",
      "serId\": \"doutriaux1\", \"osAccess\": false, \"commandLine\": \"/1Tb/miniconda3/envs/ju\n",
      "pyter-vcdat/lib/python3.6/site-packages/ipykernel_launcher.py -f /run/user/1000/\n",
      "jupyter/kernel-76cecce7-1761-432d-915f-fc0bfd45647d.json\", \"date\": \"2019-05-23 1\n",
      "4:00:21\", \"conda\": {}, \"packages\": {}, \"openGL\": {\"GLX\": {\"server\": {}, \"client\"\n",
      ": {}}}}}\n"
     ]
    }
   ],
   "source": [
    "!more myfile.json"
   ]
  },
  {
   "cell_type": "code",
   "execution_count": 3,
   "metadata": {},
   "outputs": [],
   "source": [
    "J = pcmdi_metrics.io.base.JSONs(files=[\"myfile.json\",], oneVariablePerFile=False)"
   ]
  },
  {
   "cell_type": "code",
   "execution_count": 4,
   "metadata": {},
   "outputs": [
    {
     "data": {
      "text/plain": [
       "[   id: model\n",
       "    Length: 2\n",
       "    First:  A\n",
       "    Last:   B\n",
       "    Python id:  0x7f18d1163a90,    id: Statisitc\n",
       "    Length: 2\n",
       "    First:  mean\n",
       "    Last:   rms\n",
       "    Python id:  0x7f18d1163160]"
      ]
     },
     "execution_count": 4,
     "metadata": {},
     "output_type": "execute_result"
    }
   ],
   "source": [
    "J.getAxisList()"
   ]
  },
  {
   "cell_type": "code",
   "execution_count": 5,
   "metadata": {},
   "outputs": [
    {
     "data": {
      "text/plain": [
       "variable_5\n",
       "masked_array(\n",
       "  data=[[0.5  , 0.2  ],\n",
       "        [0.123, 0.67 ]],\n",
       "  mask=False,\n",
       "  fill_value=1e+20)"
      ]
     },
     "execution_count": 5,
     "metadata": {},
     "output_type": "execute_result"
    }
   ],
   "source": [
    "J()"
   ]
  }
 ],
 "metadata": {
  "data_variable_file_paths": {},
  "kernelspec": {
   "display_name": "Python 3",
   "language": "python",
   "name": "python3"
  },
  "language_info": {
   "codemirror_mode": {
    "name": "ipython",
    "version": 3
   },
   "file_extension": ".py",
   "mimetype": "text/x-python",
   "name": "python",
   "nbconvert_exporter": "python",
   "pygments_lexer": "ipython3",
   "version": "3.7.3"
  },
  "selected_variables": [],
  "variable_source_names": {},
  "vcdat_file_path": "",
  "vcdat_loaded_variables": []
 },
 "nbformat": 4,
 "nbformat_minor": 2
}
