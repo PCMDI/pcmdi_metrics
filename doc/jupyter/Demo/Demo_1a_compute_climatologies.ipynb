{
 "cells": [
  {
   "cell_type": "markdown",
   "id": "de6a850f",
   "metadata": {},
   "source": [
    "# Compute Climatologies"
   ]
  },
  {
   "cell_type": "markdown",
   "id": "de63a73f",
   "metadata": {},
   "source": [
    "Model output and observations must be converted into annual climatologies for use with the mean climate driver. This has already been done for the observations provided by PCMDI. PMP provides a script for generating these input climatologies from other data. For more information about using the script, see [the documentation](https://github.com/PCMDI/pcmdi_metrics/tree/main/sample_setups/pcmdi_parameter_files/mean_climate/make_clims). The basic use is shown here:   \n",
    "```\n",
    "python pcmdi_compute_climatologies.py \\  \n",
    "-p clim_calc_cmip_inparam.py --options\n",
    "``` \n",
    "Examples of parameter files can be found under [sample_setups](https://github.com/PCMDI/pcmdi_metrics/tree/main/sample_setups/pcmdi_parameter_files/mean_climate/make_clims).  \n",
    "\n",
    "Five netcdf files are produced by this script: an annual climatology (AC) and seasonal climatologies (DJF, MAM, JJA, SON)."
   ]
  },
  {
   "cell_type": "markdown",
   "id": "18e67f6e",
   "metadata": {},
   "source": [
    "## Passing parameters via parameter file"
   ]
  },
  {
   "cell_type": "markdown",
   "id": "1b68abfb",
   "metadata": {},
   "source": [
    "First, load custom demo directories:"
   ]
  },
  {
   "cell_type": "code",
   "execution_count": 1,
   "id": "863f326d",
   "metadata": {},
   "outputs": [],
   "source": [
    "from user_choices import demo_data_directory, demo_output_directory"
   ]
  },
  {
   "cell_type": "markdown",
   "id": "284afd7d",
   "metadata": {},
   "source": [
    "The parameter file for this demo is shown here:"
   ]
  },
  {
   "cell_type": "code",
   "execution_count": 2,
   "id": "6d96daa7",
   "metadata": {},
   "outputs": [
    {
     "name": "stdout",
     "output_type": "stream",
     "text": [
      "import os\n",
      "\n",
      "#\n",
      "#  OPTIONS ARE SET BY USER IN THIS FILE AS INDICATED BELOW BY:\n",
      "#\n",
      "#\n",
      "\n",
      "# VARIABLES TO USE\n",
      "vars = ['rlut']\n",
      "\n",
      "# START AND END DATES FOR CLIMATOLOGY\n",
      "start = '2003-01'\n",
      "end = '2018-12'\n",
      "\n",
      "# INPUT DATASET - CAN BE MODEL OR OBSERVATIONS\n",
      "infile = 'demo_data_tmp/obs4MIPs_PCMDI_monthly/NASA-LaRC/CERES-EBAF-4-1/mon/rlut/gn/v20210727/rlut_mon_CERES-EBAF-4-1_PCMDI_gn_200301-201812.nc'\n",
      "\n",
      "# DIRECTORY WHERE TO PUT RESULTS\n",
      "outfile = 'demo_output_tmp/climo/rlut_mon_CERES-EBAF-4-1_BE_gn.nc'\n",
      "\n"
     ]
    }
   ],
   "source": [
    "with open(\"basic_annual_cycle_param.py\") as f:\n",
    "    print(f.read())"
   ]
  },
  {
   "cell_type": "markdown",
   "id": "cdbb358a",
   "metadata": {},
   "source": [
    "In this example, all of the parameters are set in the parameter file shown above. The climatology script is then run from the command line with the parameter file as the sole input."
   ]
  },
  {
   "cell_type": "code",
   "execution_count": 3,
   "id": "5bff62ea",
   "metadata": {},
   "outputs": [
    {
     "name": "stdout",
     "output_type": "stream",
     "text": [
      "start and end are  2003-01   2018-12\n",
      "variable list:  ['rlut']\n",
      "ver: v20240923\n",
      "var: rlut\n",
      "infile: demo_data_tmp/obs4MIPs_PCMDI_monthly/NASA-LaRC/CERES-EBAF-4-1/mon/rlut/gn/v20210727/rlut_mon_CERES-EBAF-4-1_PCMDI_gn_200301-201812.nc\n",
      "outfile: demo_output_tmp/climo/rlut_mon_CERES-EBAF-4-1_BE_gn.nc\n",
      "outfilename: None\n",
      "outpath: None\n",
      "ver: v20240923\n",
      "infilename: rlut_mon_CERES-EBAF-4-1_PCMDI_gn_200301-201812.nc\n",
      "type(d): <class 'xarray.core.dataset.Dataset'>\n",
      "atts: {'Conventions': 'CF-1.7 ODS-2.1', 'activity_id': 'obs4MIPs', 'contact': 'PCMDI (pcmdi-metrics@llnl.gov)', 'creation_date': '2021-07-27T18:20:26Z', 'curation_provenance': 'work-in-progress', 'data_specs_version': '2.1.0', 'external_variables': 'areacella', 'frequency': 'mon', 'further_info_url': 'https://furtherinfo.es-doc.org/CMIP6.NASA-LaRC.CERES-EBAF-4-1.experiment_idsub_experiment_idPCMDI', 'grid': '1x1 degree latitude x longitude', 'grid_label': 'gn', 'history': '2021-07-27T18:20:26Z; CMOR rewrote data to be consistent with obs4MIPs, and CF-1.7 ODS-2.1 standards', 'institution': 'NASA-LaRC (Langley Research Center) Hampton, Va', 'institution_id': 'NASA-LaRC', 'mip_era': 'CMIP6', 'nominal_resolution': '100 km', 'product': 'observations', 'realm': 'atmos', 'release_year': '2019', 'source': 'CERES EBAF (Energy Balanced and Filled) TOA Fluxes. Monthly Averages', 'source_description': 'CERES EBAF (Energy Balanced and Filled) TOA Fluxes. Monthly Averages', 'source_id': 'CERES-EBAF-4-1', 'source_label': 'CERES-EBAF-4-1', 'source_name': 'CERES-EBAF4-1', 'source_type': 'satellite_blended', 'source_version_number': '4.1', 'table_id': 'obs4MIPs_Amon', 'table_info': 'Creation Date:(18 November 2020) MD5:d8a4a72de798e86a999881bdaeb1809e', 'title': 'CERES prepared for obs4MIPs (ODS-v2.1.0)', 'tracking_id': 'hdl:21.14102/d1afa116-4801-4801-b302-43c49b5bb7dc', 'variable_id': 'rlut', 'variant_info': 'Best Estimate', 'variant_label': 'PCMDI', 'license': 'Data in this file processed for obs4MIPs by PCMDI and is for research purposes only.', 'cmor_version': '3.6.1'}\n",
      "outdir: demo_output_tmp/climo\n",
      "start_yr_str is  2003\n",
      "start_mo_str is  01\n",
      "end_yr_str is  2018\n",
      "end_mo_str is  12\n",
      "output file is demo_output_tmp/climo/rlut_mon_CERES-EBAF-4-1_BE_gn.200301-201812.AC.v20240923.nc\n",
      "output file is demo_output_tmp/climo/rlut_mon_CERES-EBAF-4-1_BE_gn.200301-201812.DJF.v20240923.nc\n",
      "output file is demo_output_tmp/climo/rlut_mon_CERES-EBAF-4-1_BE_gn.200301-201812.MAM.v20240923.nc\n",
      "output file is demo_output_tmp/climo/rlut_mon_CERES-EBAF-4-1_BE_gn.200301-201812.JJA.v20240923.nc\n",
      "output file is demo_output_tmp/climo/rlut_mon_CERES-EBAF-4-1_BE_gn.200301-201812.SON.v20240923.nc\n"
     ]
    }
   ],
   "source": [
    "%%bash\n",
    "pcmdi_compute_climatologies.py -p basic_annual_cycle_param.py"
   ]
  },
  {
   "cell_type": "markdown",
   "id": "39a0611c",
   "metadata": {},
   "source": [
    "## Passing parameters via command line"
   ]
  },
  {
   "cell_type": "markdown",
   "id": "a299a47a",
   "metadata": {},
   "source": [
    "The following example uses the command line to pass arguments rather than a parameter file. Bash cell magic is used to pass the directory names (referenced as `$1` and `$2`) and run the command as a subprocess.\n",
    "\n",
    "Similar to the mean climate metrics, filenames can use chain notation to substitute variables into the file name. In this case, the `%(variable)` placeholder shows the climatology script where to substitute the variable name into the file name. This functionality is useful for model data where there are separate timeseries files to read in for each variable. "
   ]
  },
  {
   "cell_type": "code",
   "execution_count": 4,
   "id": "75f301b5",
   "metadata": {},
   "outputs": [
    {
     "name": "stdout",
     "output_type": "stream",
     "text": [
      "start and end are  2003-01   2018-12\n",
      "variable list:  ['rlut']\n",
      "ver: v20240923\n"
     ]
    },
    {
     "name": "stderr",
     "output_type": "stream",
     "text": [
      "/Users/lee1043/mambaforge/envs/pmp_devel_20240425/lib/python3.10/site-packages/pcmdi_metrics/io/string_constructor.py:43: UserWarning: Keyword 'variable' not provided for filling the template.\n",
      "  warnings.warn(f\"Keyword '{k}' not provided for filling the template.\")\n"
     ]
    },
    {
     "name": "stdout",
     "output_type": "stream",
     "text": [
      "var: rlut\n",
      "infile: demo_data_tmp/obs4MIPs_PCMDI_monthly/NASA-LaRC/CERES-EBAF-4-1/mon/rlut/gn/v20210727/rlut_mon_CERES-EBAF-4-1_PCMDI_gn_200301-201812.nc\n",
      "outfile: demo_output_tmp/climo/rlut_mon_CERES-EBAF-4-1_BE_gn.nc\n",
      "outfilename: None\n",
      "outpath: None\n",
      "ver: v20240923\n",
      "infilename: rlut_mon_CERES-EBAF-4-1_PCMDI_gn_200301-201812.nc\n",
      "type(d): <class 'xarray.core.dataset.Dataset'>\n",
      "atts: {'Conventions': 'CF-1.7 ODS-2.1', 'activity_id': 'obs4MIPs', 'contact': 'PCMDI (pcmdi-metrics@llnl.gov)', 'creation_date': '2021-07-27T18:20:26Z', 'curation_provenance': 'work-in-progress', 'data_specs_version': '2.1.0', 'external_variables': 'areacella', 'frequency': 'mon', 'further_info_url': 'https://furtherinfo.es-doc.org/CMIP6.NASA-LaRC.CERES-EBAF-4-1.experiment_idsub_experiment_idPCMDI', 'grid': '1x1 degree latitude x longitude', 'grid_label': 'gn', 'history': '2021-07-27T18:20:26Z; CMOR rewrote data to be consistent with obs4MIPs, and CF-1.7 ODS-2.1 standards', 'institution': 'NASA-LaRC (Langley Research Center) Hampton, Va', 'institution_id': 'NASA-LaRC', 'mip_era': 'CMIP6', 'nominal_resolution': '100 km', 'product': 'observations', 'realm': 'atmos', 'release_year': '2019', 'source': 'CERES EBAF (Energy Balanced and Filled) TOA Fluxes. Monthly Averages', 'source_description': 'CERES EBAF (Energy Balanced and Filled) TOA Fluxes. Monthly Averages', 'source_id': 'CERES-EBAF-4-1', 'source_label': 'CERES-EBAF-4-1', 'source_name': 'CERES-EBAF4-1', 'source_type': 'satellite_blended', 'source_version_number': '4.1', 'table_id': 'obs4MIPs_Amon', 'table_info': 'Creation Date:(18 November 2020) MD5:d8a4a72de798e86a999881bdaeb1809e', 'title': 'CERES prepared for obs4MIPs (ODS-v2.1.0)', 'tracking_id': 'hdl:21.14102/d1afa116-4801-4801-b302-43c49b5bb7dc', 'variable_id': 'rlut', 'variant_info': 'Best Estimate', 'variant_label': 'PCMDI', 'license': 'Data in this file processed for obs4MIPs by PCMDI and is for research purposes only.', 'cmor_version': '3.6.1'}\n",
      "outdir: demo_output_tmp/climo\n",
      "start_yr_str is  2003\n",
      "start_mo_str is  01\n",
      "end_yr_str is  2018\n",
      "end_mo_str is  12\n",
      "output file is demo_output_tmp/climo/rlut_mon_CERES-EBAF-4-1_BE_gn.200301-201812.AC.v20240923.nc\n",
      "output file is demo_output_tmp/climo/rlut_mon_CERES-EBAF-4-1_BE_gn.200301-201812.DJF.v20240923.nc\n",
      "output file is demo_output_tmp/climo/rlut_mon_CERES-EBAF-4-1_BE_gn.200301-201812.MAM.v20240923.nc\n",
      "output file is demo_output_tmp/climo/rlut_mon_CERES-EBAF-4-1_BE_gn.200301-201812.JJA.v20240923.nc\n",
      "output file is demo_output_tmp/climo/rlut_mon_CERES-EBAF-4-1_BE_gn.200301-201812.SON.v20240923.nc\n"
     ]
    }
   ],
   "source": [
    "%%bash -s \"$demo_data_directory\" \"$demo_output_directory\"\n",
    "pcmdi_compute_climatologies.py \\\n",
    "--var rlut \\\n",
    "--start 2003-01 --end 2018-12 \\\n",
    "--outfile $2'/climo/%(variable)_mon_CERES-EBAF-4-1_BE_gn.nc' \\\n",
    "--infile $1/obs4MIPs_PCMDI_monthly/NASA-LaRC/CERES-EBAF-4-1/mon/rlut/gn/v20210727/rlut_mon_CERES-EBAF-4-1_PCMDI_gn_200301-201812.nc"
   ]
  },
  {
   "cell_type": "markdown",
   "id": "6a529d8b",
   "metadata": {},
   "source": [
    "## Mixing inputs and specifying the output directory"
   ]
  },
  {
   "cell_type": "markdown",
   "id": "2e107f8d",
   "metadata": {},
   "source": [
    "Parameters that are specified on the command line override those in the parameter file when both are provided. In this case the output directory and file name are specified separately on the command line using the variables `outpath` and `outfilename`. This functionality is usefuly for creating batch climatologies scripts."
   ]
  },
  {
   "cell_type": "code",
   "execution_count": 5,
   "id": "ede12487",
   "metadata": {},
   "outputs": [
    {
     "name": "stdout",
     "output_type": "stream",
     "text": [
      "start and end are  2003-01   2018-12\n",
      "variable list:  ['rlut']\n",
      "ver: v20240923\n",
      "var: rlut\n",
      "infile: demo_data_tmp/obs4MIPs_PCMDI_monthly/NASA-LaRC/CERES-EBAF-4-1/mon/rlut/gn/v20210727/rlut_mon_CERES-EBAF-4-1_PCMDI_gn_200301-201812.nc\n",
      "outfile: demo_output_tmp/climo/rlut_mon_CERES-EBAF-4-1_BE_gn.nc\n",
      "outfilename: rlut_mon_CERES-EBAF-4-1_BE_gn.nc\n",
      "outpath: demo_output_tmp/climo/\n",
      "ver: v20240923\n",
      "infilename: rlut_mon_CERES-EBAF-4-1_PCMDI_gn_200301-201812.nc\n",
      "type(d): <class 'xarray.core.dataset.Dataset'>\n",
      "atts: {'Conventions': 'CF-1.7 ODS-2.1', 'activity_id': 'obs4MIPs', 'contact': 'PCMDI (pcmdi-metrics@llnl.gov)', 'creation_date': '2021-07-27T18:20:26Z', 'curation_provenance': 'work-in-progress', 'data_specs_version': '2.1.0', 'external_variables': 'areacella', 'frequency': 'mon', 'further_info_url': 'https://furtherinfo.es-doc.org/CMIP6.NASA-LaRC.CERES-EBAF-4-1.experiment_idsub_experiment_idPCMDI', 'grid': '1x1 degree latitude x longitude', 'grid_label': 'gn', 'history': '2021-07-27T18:20:26Z; CMOR rewrote data to be consistent with obs4MIPs, and CF-1.7 ODS-2.1 standards', 'institution': 'NASA-LaRC (Langley Research Center) Hampton, Va', 'institution_id': 'NASA-LaRC', 'mip_era': 'CMIP6', 'nominal_resolution': '100 km', 'product': 'observations', 'realm': 'atmos', 'release_year': '2019', 'source': 'CERES EBAF (Energy Balanced and Filled) TOA Fluxes. Monthly Averages', 'source_description': 'CERES EBAF (Energy Balanced and Filled) TOA Fluxes. Monthly Averages', 'source_id': 'CERES-EBAF-4-1', 'source_label': 'CERES-EBAF-4-1', 'source_name': 'CERES-EBAF4-1', 'source_type': 'satellite_blended', 'source_version_number': '4.1', 'table_id': 'obs4MIPs_Amon', 'table_info': 'Creation Date:(18 November 2020) MD5:d8a4a72de798e86a999881bdaeb1809e', 'title': 'CERES prepared for obs4MIPs (ODS-v2.1.0)', 'tracking_id': 'hdl:21.14102/d1afa116-4801-4801-b302-43c49b5bb7dc', 'variable_id': 'rlut', 'variant_info': 'Best Estimate', 'variant_label': 'PCMDI', 'license': 'Data in this file processed for obs4MIPs by PCMDI and is for research purposes only.', 'cmor_version': '3.6.1'}\n",
      "outdir: demo_output_tmp/climo/\n",
      "start_yr_str is  2003\n",
      "start_mo_str is  01\n",
      "end_yr_str is  2018\n",
      "end_mo_str is  12\n",
      "output file is demo_output_tmp/climo/rlut_mon_CERES-EBAF-4-1_BE_gn.200301-201812.AC.v20240923.nc\n",
      "output file is demo_output_tmp/climo/rlut_mon_CERES-EBAF-4-1_BE_gn.200301-201812.DJF.v20240923.nc\n",
      "output file is demo_output_tmp/climo/rlut_mon_CERES-EBAF-4-1_BE_gn.200301-201812.MAM.v20240923.nc\n",
      "output file is demo_output_tmp/climo/rlut_mon_CERES-EBAF-4-1_BE_gn.200301-201812.JJA.v20240923.nc\n",
      "output file is demo_output_tmp/climo/rlut_mon_CERES-EBAF-4-1_BE_gn.200301-201812.SON.v20240923.nc\n"
     ]
    }
   ],
   "source": [
    "%%bash -s \"$demo_data_directory\" \"$demo_output_directory\"\n",
    "pcmdi_compute_climatologies.py \\\n",
    "-p basic_annual_cycle_param.py \\\n",
    "--outpath $2/climo/ \\\n",
    "--outfilename rlut_mon_CERES-EBAF-4-1_BE_gn.nc \\"
   ]
  }
 ],
 "metadata": {
  "kernelspec": {
   "display_name": "Python 3 (ipykernel)",
   "language": "python",
   "name": "python3"
  },
  "language_info": {
   "codemirror_mode": {
    "name": "ipython",
    "version": 3
   },
   "file_extension": ".py",
   "mimetype": "text/x-python",
   "name": "python",
   "nbconvert_exporter": "python",
   "pygments_lexer": "ipython3",
   "version": "3.10.10"
  }
 },
 "nbformat": 4,
 "nbformat_minor": 5
}
