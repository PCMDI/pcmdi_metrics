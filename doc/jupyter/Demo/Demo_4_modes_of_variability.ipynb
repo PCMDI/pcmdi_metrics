{
 "cells": [
  {
   "cell_type": "markdown",
   "metadata": {},
   "source": [
    "# Modes of Variability"
   ]
  },
  {
   "cell_type": "markdown",
   "metadata": {},
   "source": [
    "This notebook provides an overview of running the modes of variability module. More information can be found in the [README](https://github.com/PCMDI/pcmdi_metrics/tree/master/pcmdi_metrics/variability_mode). Example parameter files are located in the [PMP sample setups](https://github.com/PCMDI/pcmdi_metrics/tree/master/sample_setups/pcmdi_parameter_files/variability_modes)."
   ]
  },
  {
   "cell_type": "markdown",
   "metadata": {},
   "source": [
    "## Environment"
   ]
  },
  {
   "cell_type": "markdown",
   "metadata": {},
   "source": [
    "The modes of variability metric requires two additional packages that are not part of the standard PMP install: [eofs](https://ajdawson.github.io/eofs/latest/) and [scipy](https://www.scipy.org/). If those are not already part of your environment, you can edit the following cell to install them in the jupyter notebook kernel. Delete the triple quotations from lines 2&5 to install with conda:"
   ]
  },
  {
   "cell_type": "code",
   "execution_count": null,
   "metadata": {},
   "outputs": [],
   "source": [
    "# for conda\n",
    "\"\"\"\n",
    "import sys\n",
    "!conda install --yes --prefix {sys.prefix} -c conda-forge eofs scipy\n",
    "\"\"\""
   ]
  },
  {
   "cell_type": "markdown",
   "metadata": {},
   "source": [
    "OR delete the triple quotations on lines 2&5 from this cell to install with pip:"
   ]
  },
  {
   "cell_type": "code",
   "execution_count": null,
   "metadata": {},
   "outputs": [],
   "source": [
    "# for pip\n",
    "\"\"\"\n",
    "import sys\n",
    "!{sys.executable} -m pip install eofs scipy\n",
    "\"\"\""
   ]
  },
  {
   "cell_type": "markdown",
   "metadata": {},
   "source": [
    "## Usage"
   ]
  },
  {
   "cell_type": "markdown",
   "metadata": {},
   "source": [
    "Modes of variability can be run on the command line or with using a parameter file"
   ]
  },
  {
   "cell_type": "markdown",
   "metadata": {},
   "source": [
    "Available modes: NAM, NAO, SAM, PNA, PDO  \n",
    "Available seasons: DJF, MAM, JJA, SON, monthly, yearly  \n",
    "ConvEOF = True  # Calculate conventioanl EOF for model  \n",
    "CBF = True  # Calculate Common Basis Function (CBF) for model  "
   ]
  },
  {
   "cell_type": "markdown",
   "metadata": {},
   "source": [
    "For help, type:  \n",
    "```\n",
    "variability_modes_driver.py --help\n",
    "```"
   ]
  },
  {
   "cell_type": "code",
   "execution_count": 1,
   "metadata": {},
   "outputs": [
    {
     "name": "stdout",
     "output_type": "stream",
     "text": [
      "usage: variability_modes_driver.py [-h] [--parameters PARAMETERS]\n",
      "                                   [--diags OTHER_PARAMETERS [OTHER_PARAMETERS ...]]\n",
      "                                   [--results_dir RESULTS_DIR]\n",
      "                                   [--reference_data_path REFERENCE_DATA_PATH]\n",
      "                                   [--modpath MODPATH] [--mip MIP] [--exp EXP]\n",
      "                                   [--frequency FREQUENCY] [--realm REALM]\n",
      "                                   [--reference_data_name REFERENCE_DATA_NAME]\n",
      "                                   [-v VARIABILITY_MODE]\n",
      "                                   [--seasons SEASONS [SEASONS ...]]\n",
      "                                   [--modnames MODNAMES [MODNAMES ...]]\n",
      "                                   [-r REALIZATION] [--modpath_lf MODPATH_LF]\n",
      "                                   [--varOBS VAROBS] [--varModel VARMODEL]\n",
      "                                   [--eofn_obs EOFN_OBS] [--eofn_mod EOFN_MOD]\n",
      "                                   [--osyear OSYEAR] [--oeyear OEYEAR]\n",
      "                                   [--msyear MSYEAR] [--meyear MEYEAR]\n",
      "                                   [--ObsUnitsAdjust OBSUNITSADJUST]\n",
      "                                   [--ModUnitsAdjust MODUNITSADJUST]\n",
      "                                   [--case_id CASE_ID] [-d DEBUG]\n",
      "                                   [--RemoveDomainMean REMOVEDOMAINMEAN]\n",
      "                                   [--EofScaling EOFSCALING]\n",
      "                                   [--landmask LANDMASK] [--ConvEOF CONVEOF]\n",
      "                                   [--CBF CBF] [--nc_out NC_OUT] [--plot PLOT]\n",
      "                                   [--parallel PARALLEL] [--no_nc_out_obs]\n",
      "                                   [--no_plot_obs] [--update_json UPDATE_JSON]\n",
      "                                   [--cmec CMEC]\n",
      "\n",
      "Runs PCMDI Modes of Variability Computations\n",
      "\n",
      "optional arguments:\n",
      "  -h, --help            show this help message and exit\n",
      "  --parameters PARAMETERS, -p PARAMETERS\n",
      "  --diags OTHER_PARAMETERS [OTHER_PARAMETERS ...]\n",
      "                        Path to other user-defined parameter file.\n",
      "  --results_dir RESULTS_DIR, --rd RESULTS_DIR\n",
      "                        The name of the folder where all runs will be stored.\n",
      "  --reference_data_path REFERENCE_DATA_PATH, --rdp REFERENCE_DATA_PATH\n",
      "                        The path/filename of reference (obs) data.\n",
      "  --modpath MODPATH, --mp MODPATH\n",
      "                        Explicit path to model data\n",
      "  --mip MIP             A WCRP MIP project such as CMIP3 and CMIP5\n",
      "  --exp EXP             An experiment such as amip, historical or piContorl\n",
      "  --frequency FREQUENCY\n",
      "  --realm REALM\n",
      "  --reference_data_name REFERENCE_DATA_NAME\n",
      "                        Name of reference data set\n",
      "  -v VARIABILITY_MODE, --variability_mode VARIABILITY_MODE\n",
      "                        Mode of variability: NAM, NAO, SAM, PNA, PDO\n",
      "                        - NAM: Northern Annular Mode\n",
      "                        - NAO: Northern Atlantic Oscillation\n",
      "                        - SAM: Southern Annular Mode\n",
      "                        - PNA: Pacific North American Pattern\n",
      "                        - PDO: Pacific Decadal Oscillation\n",
      "                        (Note: Case insensitive)\n",
      "  --seasons SEASONS [SEASONS ...]\n",
      "                        List of seasons\n",
      "  --modnames MODNAMES [MODNAMES ...]\n",
      "                        List of models. 'all' for every available models\n",
      "  -r REALIZATION, --realization REALIZATION\n",
      "                        Consider all accessible realizations as idividual\n",
      "                        - r1i1p1: default, consider only 'r1i1p1' member\n",
      "                                  Or, specify realization, e.g, r3i1p1'\n",
      "                        - *: consider all available realizations\n",
      "  --modpath_lf MODPATH_LF\n",
      "                        Directory path to model land fraction field\n",
      "  --varOBS VAROBS       Name of variable in reference data\n",
      "  --varModel VARMODEL   Name of variable in model(s)\n",
      "  --eofn_obs EOFN_OBS   EOF mode from observation as reference\n",
      "  --eofn_mod EOFN_MOD   EOF mode from model\n",
      "  --osyear OSYEAR       Start year for reference data\n",
      "  --oeyear OEYEAR       End year for reference data\n",
      "  --msyear MSYEAR       Start year for model(s)\n",
      "  --meyear MEYEAR       End year for model(s)\n",
      "  --ObsUnitsAdjust OBSUNITSADJUST\n",
      "                        For unit adjust for OBS dataset. For example:\n",
      "                        - (True, 'divide', 100.0)  # Pa to hPa\n",
      "                        - (True, 'subtract', 273.15)  # degK to degC\n",
      "                        - (False, 0, 0) # No adjustment (default)\n",
      "  --ModUnitsAdjust MODUNITSADJUST\n",
      "                        For unit adjust for model dataset. For example:\n",
      "                        - (True, 'divide', 100.0)  # Pa to hPa\n",
      "                        - (True, 'subtract', 273.15)  # degK to degC\n",
      "                        - (False, 0, 0) # No adjustment (default)\n",
      "  --case_id CASE_ID     version as date, e.g., v20191116 (yyyy-mm-dd)\n",
      "  -d DEBUG, --debug DEBUG\n",
      "                        Option for debug: True / False (defualt)\n",
      "  --RemoveDomainMean REMOVEDOMAINMEAN\n",
      "                        Option for Remove Domain Mean from each time step: True (defualt)/ False\n",
      "  --EofScaling EOFSCALING\n",
      "                        Option for Consider EOF with unit variance: True / False (default)\n",
      "  --landmask LANDMASK   Option for maskout land region: True / False (default)\n",
      "  --ConvEOF CONVEOF     Option for Calculate Conventioanl EOF for model: True / False (default)\n",
      "  --CBF CBF             Option for Calculate Common Basis Function (CBF) for model: True (default) / False\n",
      "  --nc_out NC_OUT       Option for generate netCDF file output: True (default) / False\n",
      "  --plot PLOT           Option for generate individual plots: True (default) / False\n",
      "  --parallel PARALLEL   Option for running code in parallel mode: True / False (default)\n",
      "  --no_nc_out_obs       Turn off netCDF generating for obs\n",
      "  --no_plot_obs         Turn off plot generating for obs\n",
      "  --update_json UPDATE_JSON\n",
      "                        Option for update existing JSON file: True (i.e., update) (default) / False (i.e., overwrite)\n",
      "  --cmec CMEC           Option to save metrics in CMEC format: True / False (default)\n"
     ]
    }
   ],
   "source": [
    "%%bash\n",
    "variability_modes_driver.py --help"
   ]
  },
  {
   "cell_type": "markdown",
   "metadata": {},
   "source": [
    "## Basic example"
   ]
  },
  {
   "cell_type": "code",
   "execution_count": 2,
   "metadata": {},
   "outputs": [
    {
     "name": "stdout",
     "output_type": "stream",
     "text": [
      "mip: cmip5\n",
      "exp: historical\n",
      "fq: mo\n",
      "realm: atm\n",
      "EofScaling: False\n",
      "RmDomainMean: True\n",
      "LandMask: False\n",
      "nc_out_obs, plot_obs: True True\n",
      "nc_out_model, plot_model: True True\n",
      "CMEC:False\n",
      "mode: NAM\n",
      "seasons: ['DJF']\n",
      "models: ['ACCESS1-0']\n",
      "number of models: 1\n",
      "realization:  r1i1p1\n",
      "parallel: False\n",
      "demo_output/mov_1\n",
      "demo_output/mov_1\n",
      "demo_output/mov_1\n",
      " -----  ACCESS1-0  ---------------------\n",
      " ---  r1i1p1  ---\n"
     ]
    },
    {
     "name": "stderr",
     "output_type": "stream",
     "text": [
      "INFO::2021-03-08 10:11::pcmdi_metrics:: Results saved to a json file: /Users/lee1043/Documents/Research/git/pcmdi_metrics/doc/jupyter/Demo/demo_output/mov_1/var_mode_NAM_EOF1_stat_cmip5_historical_mo_atm_ACCESS1-0_r1i1p1_1900-2005.json\n"
     ]
    }
   ],
   "source": [
    "%%bash\n",
    "variability_modes_driver.py -p basic_mov_param.py --case_id \"mov_1\""
   ]
  },
  {
   "cell_type": "markdown",
   "metadata": {},
   "source": [
    "## Observation Settings\n",
    "\n",
    "Options given in the `basic_mov_param.py` file can be override by options given from the commend line.\n",
    "\n",
    "For example, below is for settings for observations from `basic_mov_param.py`:\n",
    "```python\n",
    "varOBS = 'psl'  \n",
    "ObsUnitsAdjust = (True, 'divide', 100.0)  # Pa to hPa; or (False, 0, 0)  \n",
    "\n",
    "osyear = 1900  \n",
    "oeyear = 2005  \n",
    "eofn_obs = 1  \n",
    "```\n",
    "\n",
    "If you want to adjust observation starting year (`osyear`) to 1980 and assign new `case_id` as \"mov_2\":"
   ]
  },
  {
   "cell_type": "code",
   "execution_count": null,
   "metadata": {},
   "outputs": [],
   "source": [
    "%%bash\n",
    "variability_modes_driver.py -p basic_mov_param.py --case_id \"mov_2\" --osyear 1980"
   ]
  },
  {
   "cell_type": "markdown",
   "metadata": {},
   "source": [
    "## Model Settings\n",
    "\n",
    "Similarly, options for models can be also adjusted from commend line."
   ]
  },
  {
   "cell_type": "code",
   "execution_count": null,
   "metadata": {},
   "outputs": [],
   "source": [
    "%%bash\n",
    "variability_modes_driver.py -p basic_mov_param.py --case_id \"mov_3\" --msyear 1950 --meyear 2005"
   ]
  },
  {
   "cell_type": "markdown",
   "metadata": {},
   "source": [
    "## Results\n",
    "\n",
    "Results are generated in three different types: maps in image (PNG), maps and time series in binary (netCDF), and metrics in text (JSON).\n",
    "\n",
    "By the default setting, metrics code generates outputs for CBF (Common Basis Function), EOF1, EOF2, and EOF3. "
   ]
  },
  {
   "cell_type": "markdown",
   "metadata": {},
   "source": [
    "### Graphics (PNG)"
   ]
  },
  {
   "cell_type": "code",
   "execution_count": null,
   "metadata": {},
   "outputs": [],
   "source": [
    "!ls demo_output/mov_1/*.png"
   ]
  },
  {
   "cell_type": "code",
   "execution_count": null,
   "metadata": {},
   "outputs": [],
   "source": [
    "# open and display one of the graphics\n",
    "\n",
    "from IPython.display import Image\n",
    "from IPython.core.display import HTML \n",
    "\n",
    "Image(filename = \"demo_output/mov_1/NAM_psl_EOF1_DJF_cmip5_ACCESS1-0_historical_r1i1p1_mo_atm_1900-2005_cbf.png\")"
   ]
  },
  {
   "cell_type": "markdown",
   "metadata": {},
   "source": [
    "### Binary (NetCDF)\n",
    "\n",
    "NetCDF files include spatial pattern for aforementioned maps and associated PC timeseries."
   ]
  },
  {
   "cell_type": "code",
   "execution_count": null,
   "metadata": {
    "scrolled": true
   },
   "outputs": [],
   "source": [
    "!ls demo_output/mov_1/*.nc"
   ]
  },
  {
   "cell_type": "code",
   "execution_count": null,
   "metadata": {},
   "outputs": [],
   "source": [
    "!ncdump -h demo_output/mov_1/NAM_psl_EOF1_DJF_cmip5_ACCESS1-0_historical_r1i1p1_mo_atm_1900-2005_cbf.nc"
   ]
  },
  {
   "cell_type": "markdown",
   "metadata": {},
   "source": [
    "### Metrics (JSON)"
   ]
  },
  {
   "cell_type": "code",
   "execution_count": null,
   "metadata": {},
   "outputs": [],
   "source": [
    "!ls demo_output/mov_1/*.json"
   ]
  },
  {
   "cell_type": "code",
   "execution_count": null,
   "metadata": {},
   "outputs": [],
   "source": [
    "import json\n",
    "with open(\"demo_output/mov_1/var_mode_NAM_EOF1_stat_cmip5_historical_mo_atm_ACCESS1-0_r1i1p1_1900-2005.json\") as fj:\n",
    "    metrics = json.load(fj)\n",
    "print(json.dumps(metrics, indent=2))"
   ]
  }
 ],
 "metadata": {
  "kernelspec": {
   "display_name": "Python 3",
   "language": "python",
   "name": "python3"
  },
  "language_info": {
   "codemirror_mode": {
    "name": "ipython",
    "version": 3
   },
   "file_extension": ".py",
   "mimetype": "text/x-python",
   "name": "python",
   "nbconvert_exporter": "python",
   "pygments_lexer": "ipython3",
   "version": "3.8.6"
  }
 },
 "nbformat": 4,
 "nbformat_minor": 5
}
