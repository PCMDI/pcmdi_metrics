{
 "cells": [
  {
   "cell_type": "markdown",
   "metadata": {},
   "source": [
    "# Modes of Variability"
   ]
  },
  {
   "cell_type": "markdown",
   "metadata": {},
   "source": [
    "This notebook provides an overview of running the modes of variability module. More information can be found in the [README](https://github.com/PCMDI/pcmdi_metrics/tree/master/pcmdi_metrics/variability_mode). Example parameter files are located in the [PMP sample setups](https://github.com/PCMDI/pcmdi_metrics/tree/master/sample_setups/pcmdi_parameter_files/variability_modes). \n",
    "\n",
    "It is expected that the user has run the Demo_0_download_data notebook to obtain the sample data and generate parameter files. This first cell loads the demo directory choices made in Demo_0_download_data."
   ]
  },
  {
   "cell_type": "code",
   "execution_count": 1,
   "metadata": {},
   "outputs": [],
   "source": [
    "from user_choices import demo_data_directory, demo_output_directory"
   ]
  },
  {
   "cell_type": "markdown",
   "metadata": {},
   "source": [
    "## Environment"
   ]
  },
  {
   "cell_type": "markdown",
   "metadata": {},
   "source": [
    "The modes of variability metric requires two additional packages that are not part of the standard PMP install: [eofs](https://ajdawson.github.io/eofs/latest/) and [scipy](https://www.scipy.org/). If those are not already part of your environment, you can edit the following cell to install them in the jupyter notebook kernel. Delete the triple quotations from lines 2&5 to install with conda:"
   ]
  },
  {
   "cell_type": "code",
   "execution_count": 2,
   "metadata": {},
   "outputs": [
    {
     "data": {
      "text/plain": [
       "'\\nimport sys\\n!conda install --yes --prefix {sys.prefix} -c conda-forge eofs scipy\\n'"
      ]
     },
     "execution_count": 2,
     "metadata": {},
     "output_type": "execute_result"
    }
   ],
   "source": [
    "# for conda\n",
    "\"\"\"\n",
    "import sys\n",
    "!conda install --yes --prefix {sys.prefix} -c conda-forge eofs scipy\n",
    "\"\"\""
   ]
  },
  {
   "cell_type": "markdown",
   "metadata": {},
   "source": [
    "OR delete the triple quotations on lines 2&5 from this cell to install with pip:"
   ]
  },
  {
   "cell_type": "code",
   "execution_count": 3,
   "metadata": {},
   "outputs": [
    {
     "data": {
      "text/plain": [
       "'\\nimport sys\\n!{sys.executable} -m pip install eofs scipy\\n'"
      ]
     },
     "execution_count": 3,
     "metadata": {},
     "output_type": "execute_result"
    }
   ],
   "source": [
    "# for pip\n",
    "\"\"\"\n",
    "import sys\n",
    "!{sys.executable} -m pip install eofs scipy\n",
    "\"\"\""
   ]
  },
  {
   "cell_type": "markdown",
   "metadata": {},
   "source": [
    "## Usage"
   ]
  },
  {
   "cell_type": "markdown",
   "metadata": {},
   "source": [
    "Modes of variability can be run on the command line or with using a parameter file"
   ]
  },
  {
   "cell_type": "markdown",
   "metadata": {},
   "source": [
    "Available modes: NAM, NAO, SAM, PNA, PDO  \n",
    "Available seasons: DJF, MAM, JJA, SON, monthly, yearly  \n",
    "ConvEOF = True  # Calculate conventioanl EOF for model  \n",
    "CBF = True  # Calculate Common Basis Function (CBF) for model  "
   ]
  },
  {
   "cell_type": "markdown",
   "metadata": {},
   "source": [
    "For help, type:  \n",
    "```\n",
    "variability_modes_driver.py --help\n",
    "```"
   ]
  },
  {
   "cell_type": "code",
   "execution_count": 4,
   "metadata": {},
   "outputs": [
    {
     "name": "stdout",
     "output_type": "stream",
     "text": [
      "usage: variability_modes_driver.py [-h] [--parameters PARAMETERS]\n",
      "                                   [--diags OTHER_PARAMETERS [OTHER_PARAMETERS ...]]\n",
      "                                   [--results_dir RESULTS_DIR]\n",
      "                                   [--reference_data_path REFERENCE_DATA_PATH]\n",
      "                                   [--modpath MODPATH] [--mip MIP] [--exp EXP]\n",
      "                                   [--frequency FREQUENCY] [--realm REALM]\n",
      "                                   [--reference_data_name REFERENCE_DATA_NAME]\n",
      "                                   [-v VARIABILITY_MODE]\n",
      "                                   [--seasons SEASONS [SEASONS ...]]\n",
      "                                   [--modnames MODNAMES [MODNAMES ...]]\n",
      "                                   [-r REALIZATION] [--modpath_lf MODPATH_LF]\n",
      "                                   [--varOBS VAROBS] [--varModel VARMODEL]\n",
      "                                   [--eofn_obs EOFN_OBS] [--eofn_mod EOFN_MOD]\n",
      "                                   [--osyear OSYEAR] [--oeyear OEYEAR]\n",
      "                                   [--msyear MSYEAR] [--meyear MEYEAR]\n",
      "                                   [--ObsUnitsAdjust OBSUNITSADJUST]\n",
      "                                   [--ModUnitsAdjust MODUNITSADJUST]\n",
      "                                   [--case_id CASE_ID] [-d DEBUG]\n",
      "                                   [--RemoveDomainMean REMOVEDOMAINMEAN]\n",
      "                                   [--EofScaling EOFSCALING]\n",
      "                                   [--landmask LANDMASK] [--ConvEOF CONVEOF]\n",
      "                                   [--CBF CBF] [--nc_out NC_OUT] [--plot PLOT]\n",
      "                                   [--parallel PARALLEL] [--no_nc_out_obs]\n",
      "                                   [--no_plot_obs] [--update_json UPDATE_JSON]\n",
      "                                   [--cmec] [--no_cmec]\n",
      "\n",
      "Runs PCMDI Modes of Variability Computations\n",
      "\n",
      "optional arguments:\n",
      "  -h, --help            show this help message and exit\n",
      "  --parameters PARAMETERS, -p PARAMETERS\n",
      "  --diags OTHER_PARAMETERS [OTHER_PARAMETERS ...]\n",
      "                        Path to other user-defined parameter file.\n",
      "  --results_dir RESULTS_DIR, --rd RESULTS_DIR\n",
      "                        The name of the folder where all runs will be stored.\n",
      "  --reference_data_path REFERENCE_DATA_PATH, --rdp REFERENCE_DATA_PATH\n",
      "                        The path/filename of reference (obs) data.\n",
      "  --modpath MODPATH, --mp MODPATH\n",
      "                        Explicit path to model data\n",
      "  --mip MIP             A WCRP MIP project such as CMIP3 and CMIP5\n",
      "  --exp EXP             An experiment such as amip, historical or piContorl\n",
      "  --frequency FREQUENCY\n",
      "  --realm REALM\n",
      "  --reference_data_name REFERENCE_DATA_NAME\n",
      "                        Name of reference data set\n",
      "  -v VARIABILITY_MODE, --variability_mode VARIABILITY_MODE\n",
      "                        Mode of variability: NAM, NAO, SAM, PNA, PDO\n",
      "                        - NAM: Northern Annular Mode\n",
      "                        - NAO: Northern Atlantic Oscillation\n",
      "                        - SAM: Southern Annular Mode\n",
      "                        - PNA: Pacific North American Pattern\n",
      "                        - PDO: Pacific Decadal Oscillation\n",
      "                        (Note: Case insensitive)\n",
      "  --seasons SEASONS [SEASONS ...]\n",
      "                        List of seasons\n",
      "  --modnames MODNAMES [MODNAMES ...]\n",
      "                        List of models. 'all' for every available models\n",
      "  -r REALIZATION, --realization REALIZATION\n",
      "                        Consider all accessible realizations as idividual\n",
      "                        - r1i1p1: default, consider only 'r1i1p1' member\n",
      "                                  Or, specify realization, e.g, r3i1p1'\n",
      "                        - *: consider all available realizations\n",
      "  --modpath_lf MODPATH_LF\n",
      "                        Directory path to model land fraction field\n",
      "  --varOBS VAROBS       Name of variable in reference data\n",
      "  --varModel VARMODEL   Name of variable in model(s)\n",
      "  --eofn_obs EOFN_OBS   EOF mode from observation as reference\n",
      "  --eofn_mod EOFN_MOD   EOF mode from model\n",
      "  --osyear OSYEAR       Start year for reference data\n",
      "  --oeyear OEYEAR       End year for reference data\n",
      "  --msyear MSYEAR       Start year for model(s)\n",
      "  --meyear MEYEAR       End year for model(s)\n",
      "  --ObsUnitsAdjust OBSUNITSADJUST\n",
      "                        For unit adjust for OBS dataset. For example:\n",
      "                        - (True, 'divide', 100.0)  # Pa to hPa\n",
      "                        - (True, 'subtract', 273.15)  # degK to degC\n",
      "                        - (False, 0, 0) # No adjustment (default)\n",
      "  --ModUnitsAdjust MODUNITSADJUST\n",
      "                        For unit adjust for model dataset. For example:\n",
      "                        - (True, 'divide', 100.0)  # Pa to hPa\n",
      "                        - (True, 'subtract', 273.15)  # degK to degC\n",
      "                        - (False, 0, 0) # No adjustment (default)\n",
      "  --case_id CASE_ID     version as date, e.g., v20191116 (yyyy-mm-dd)\n",
      "  -d DEBUG, --debug DEBUG\n",
      "                        Option for debug: True / False (defualt)\n",
      "  --RemoveDomainMean REMOVEDOMAINMEAN\n",
      "                        Option for Remove Domain Mean from each time step: True (defualt)/ False\n",
      "  --EofScaling EOFSCALING\n",
      "                        Option for Consider EOF with unit variance: True / False (default)\n",
      "  --landmask LANDMASK   Option for maskout land region: True / False (default)\n",
      "  --ConvEOF CONVEOF     Option for Calculate Conventioanl EOF for model: True / False (default)\n",
      "  --CBF CBF             Option for Calculate Common Basis Function (CBF) for model: True (default) / False\n",
      "  --nc_out NC_OUT       Option for generate netCDF file output: True (default) / False\n",
      "  --plot PLOT           Option for generate individual plots: True (default) / False\n",
      "  --parallel PARALLEL   Option for running code in parallel mode: True / False (default)\n",
      "  --no_nc_out_obs       Turn off netCDF generating for obs\n",
      "  --no_plot_obs         Turn off plot generating for obs\n",
      "  --update_json UPDATE_JSON\n",
      "                        Option for update existing JSON file: True (i.e., update) (default) / False (i.e., overwrite)\n",
      "  --cmec                Save metrics in CMEC format\n",
      "  --no_cmec             Option to not save metrics in CMEC format\n"
     ]
    }
   ],
   "source": [
    "%%bash\n",
    "variability_modes_driver.py --help"
   ]
  },
  {
   "cell_type": "markdown",
   "metadata": {},
   "source": [
    "## Basic example"
   ]
  },
  {
   "cell_type": "markdown",
   "metadata": {},
   "source": [
    "This example uses settings from the \"basic_mov_param.py\" parameter file to run the metrics for the NAM (Northern Annular Mode) in DJF. The input data for this mode of variability is monthly sea level pressure. "
   ]
  },
  {
   "cell_type": "code",
   "execution_count": 5,
   "metadata": {},
   "outputs": [
    {
     "name": "stdout",
     "output_type": "stream",
     "text": [
      "mip: cmip5\n",
      "exp: historical\n",
      "fq: mo\n",
      "realm: atm\n",
      "EofScaling: False\n",
      "RmDomainMean: True\n",
      "LandMask: False\n",
      "nc_out_obs, plot_obs: True True\n",
      "nc_out_model, plot_model: True True\n",
      "CMEC:False\n",
      "mode: NAM\n",
      "seasons: ['DJF']\n",
      "models: ['ACCESS1-0']\n",
      "number of models: 1\n",
      "realization:  r1i1p1\n",
      "parallel: False\n",
      "demo_output/mov_1\n",
      "demo_output/mov_1\n",
      "demo_output/mov_1\n",
      " -----  ACCESS1-0  ---------------------\n",
      " ---  r1i1p1  ---\n"
     ]
    },
    {
     "name": "stderr",
     "output_type": "stream",
     "text": [
      "INFO::2021-03-18 11:47::pcmdi_metrics:: Results saved to a json file: /Users/ordonez4/Documents/git/pcmdi_metrics/doc/jupyter/Demo/demo_output/mov_1/var_mode_NAM_EOF1_stat_cmip5_historical_mo_atm_ACCESS1-0_r1i1p1_1900-2005.json\n"
     ]
    }
   ],
   "source": [
    "%%bash\n",
    "variability_modes_driver.py -p basic_mov_param.py --case_id \"mov_1\""
   ]
  },
  {
   "cell_type": "markdown",
   "metadata": {},
   "source": [
    "## Observation Settings\n",
    "\n",
    "Options given in the `basic_mov_param.py` file can be overriden by options given from the command line.\n",
    "\n",
    "For example, below is for settings for observations from `basic_mov_param.py`:\n",
    "```python\n",
    "varOBS = 'psl'  \n",
    "ObsUnitsAdjust = (True, 'divide', 100.0)  # Pa to hPa; or (False, 0, 0)  \n",
    "\n",
    "osyear = 1900  \n",
    "oeyear = 2005  \n",
    "eofn_obs = 1  \n",
    "```\n",
    "\n",
    "If you want to adjust observation starting year (`osyear`) to 1980 and assign new `case_id` as \"mov_2\":"
   ]
  },
  {
   "cell_type": "code",
   "execution_count": 6,
   "metadata": {},
   "outputs": [
    {
     "name": "stdout",
     "output_type": "stream",
     "text": [
      "mip: cmip5\n",
      "exp: historical\n",
      "fq: mo\n",
      "realm: atm\n",
      "EofScaling: False\n",
      "RmDomainMean: True\n",
      "LandMask: False\n",
      "nc_out_obs, plot_obs: True True\n",
      "nc_out_model, plot_model: True True\n",
      "CMEC:False\n",
      "mode: NAM\n",
      "seasons: ['DJF']\n",
      "models: ['ACCESS1-0']\n",
      "number of models: 1\n",
      "realization:  r1i1p1\n",
      "parallel: False\n",
      "demo_output/mov_2\n",
      "demo_output/mov_2\n",
      "demo_output/mov_2\n",
      " -----  ACCESS1-0  ---------------------\n",
      " ---  r1i1p1  ---\n"
     ]
    },
    {
     "name": "stderr",
     "output_type": "stream",
     "text": [
      "INFO::2021-03-18 11:47::pcmdi_metrics:: Results saved to a json file: /Users/ordonez4/Documents/git/pcmdi_metrics/doc/jupyter/Demo/demo_output/mov_2/var_mode_NAM_EOF1_stat_cmip5_historical_mo_atm_ACCESS1-0_r1i1p1_1900-2005.json\n"
     ]
    }
   ],
   "source": [
    "%%bash\n",
    "variability_modes_driver.py -p basic_mov_param.py --case_id \"mov_2\" --osyear 1980"
   ]
  },
  {
   "cell_type": "markdown",
   "metadata": {},
   "source": [
    "## Model Settings\n",
    "\n",
    "Similarly, options for models can be also adjusted from command line."
   ]
  },
  {
   "cell_type": "code",
   "execution_count": 7,
   "metadata": {},
   "outputs": [
    {
     "name": "stdout",
     "output_type": "stream",
     "text": [
      "mip: cmip5\n",
      "exp: historical\n",
      "fq: mo\n",
      "realm: atm\n",
      "EofScaling: False\n",
      "RmDomainMean: True\n",
      "LandMask: False\n",
      "nc_out_obs, plot_obs: True True\n",
      "nc_out_model, plot_model: True True\n",
      "CMEC:False\n",
      "mode: NAM\n",
      "seasons: ['DJF']\n",
      "models: ['ACCESS1-0']\n",
      "number of models: 1\n",
      "realization:  r1i1p1\n",
      "parallel: False\n",
      "demo_output/mov_3\n",
      "demo_output/mov_3\n",
      "demo_output/mov_3\n",
      " -----  ACCESS1-0  ---------------------\n",
      " ---  r1i1p1  ---\n"
     ]
    },
    {
     "name": "stderr",
     "output_type": "stream",
     "text": [
      "INFO::2021-03-18 11:47::pcmdi_metrics:: Results saved to a json file: /Users/ordonez4/Documents/git/pcmdi_metrics/doc/jupyter/Demo/demo_output/mov_3/var_mode_NAM_EOF1_stat_cmip5_historical_mo_atm_ACCESS1-0_r1i1p1_1950-2005.json\n"
     ]
    }
   ],
   "source": [
    "%%bash\n",
    "variability_modes_driver.py -p basic_mov_param.py --case_id \"mov_3\" --msyear 1950 --meyear 2005"
   ]
  },
  {
   "cell_type": "markdown",
   "metadata": {},
   "source": [
    "## Results\n",
    "\n",
    "Results are generated in three different types: maps in image (PNG), maps and time series in binary (netCDF), and metrics in text (JSON).\n",
    "\n",
    "By the default setting, metrics code generates outputs for CBF (Common Basis Function), EOF1, EOF2, and EOF3. "
   ]
  },
  {
   "cell_type": "markdown",
   "metadata": {},
   "source": [
    "### Graphics (PNG)"
   ]
  },
  {
   "cell_type": "markdown",
   "metadata": {},
   "source": [
    "Graphics are saved in along with other results in a folder with the case_id name. Here we list the images available from the Basic Example and display the CBF plot."
   ]
  },
  {
   "cell_type": "code",
   "execution_count": 8,
   "metadata": {},
   "outputs": [
    {
     "name": "stdout",
     "output_type": "stream",
     "text": [
      "demo_output/mov_1/NAM_psl_EOF1_DJF_cmip5_ACCESS1-0_historical_r1i1p1_mo_atm_1900-2005.png\r\n",
      "demo_output/mov_1/NAM_psl_EOF1_DJF_cmip5_ACCESS1-0_historical_r1i1p1_mo_atm_1900-2005_cbf.png\r\n",
      "demo_output/mov_1/NAM_psl_EOF1_DJF_cmip5_ACCESS1-0_historical_r1i1p1_mo_atm_1900-2005_cbf_teleconnection.png\r\n",
      "demo_output/mov_1/NAM_psl_EOF1_DJF_cmip5_ACCESS1-0_historical_r1i1p1_mo_atm_1900-2005_teleconnection.png\r\n",
      "demo_output/mov_1/NAM_psl_EOF1_DJF_obs_1900-2005.png\r\n",
      "demo_output/mov_1/NAM_psl_EOF1_DJF_obs_1900-2005_teleconnection.png\r\n",
      "demo_output/mov_1/NAM_psl_EOF2_DJF_cmip5_ACCESS1-0_historical_r1i1p1_mo_atm_1900-2005.png\r\n",
      "demo_output/mov_1/NAM_psl_EOF2_DJF_cmip5_ACCESS1-0_historical_r1i1p1_mo_atm_1900-2005_teleconnection.png\r\n",
      "demo_output/mov_1/NAM_psl_EOF3_DJF_cmip5_ACCESS1-0_historical_r1i1p1_mo_atm_1900-2005.png\r\n",
      "demo_output/mov_1/NAM_psl_EOF3_DJF_cmip5_ACCESS1-0_historical_r1i1p1_mo_atm_1900-2005_teleconnection.png\r\n"
     ]
    }
   ],
   "source": [
    "!ls {demo_output_directory + \"/mov_1/*.png\"}"
   ]
  },
  {
   "cell_type": "code",
   "execution_count": 9,
   "metadata": {},
   "outputs": [
    {
     "data": {
      "image/png": "[encoded data removed]",
      "text/plain": [
       "<IPython.core.display.Image object>"
      ]
     },
     "execution_count": 9,
     "metadata": {},
     "output_type": "execute_result"
    }
   ],
   "source": [
    "# open and display one of the graphics\n",
    "\n",
    "from IPython.display import Image\n",
    "from IPython.core.display import HTML \n",
    "\n",
    "Image(filename = demo_output_directory + \"/mov_1/NAM_psl_EOF1_DJF_cmip5_ACCESS1-0_historical_r1i1p1_mo_atm_1900-2005_cbf.png\")"
   ]
  },
  {
   "cell_type": "markdown",
   "metadata": {},
   "source": [
    "### Binary (NetCDF)\n",
    "\n",
    "NetCDF files include spatial patterns for aforementioned maps and associated PC timeseries. The ncdump utility is used to get a summary of the netCDF results from the Basic Example."
   ]
  },
  {
   "cell_type": "code",
   "execution_count": 10,
   "metadata": {
    "scrolled": true
   },
   "outputs": [
    {
     "name": "stdout",
     "output_type": "stream",
     "text": [
      "demo_output/mov_1/NAM_psl_EOF1_DJF_cmip5_ACCESS1-0_historical_r1i1p1_mo_atm_1900-2005.nc\r\n",
      "demo_output/mov_1/NAM_psl_EOF1_DJF_cmip5_ACCESS1-0_historical_r1i1p1_mo_atm_1900-2005_cbf.nc\r\n",
      "demo_output/mov_1/NAM_psl_EOF1_DJF_obs_1900-2005.nc\r\n",
      "demo_output/mov_1/NAM_psl_EOF2_DJF_cmip5_ACCESS1-0_historical_r1i1p1_mo_atm_1900-2005.nc\r\n",
      "demo_output/mov_1/NAM_psl_EOF3_DJF_cmip5_ACCESS1-0_historical_r1i1p1_mo_atm_1900-2005.nc\r\n"
     ]
    }
   ],
   "source": [
    "!ls {demo_output_directory + \"/mov_1/*.nc\"}"
   ]
  },
  {
   "cell_type": "code",
   "execution_count": 11,
   "metadata": {},
   "outputs": [
    {
     "name": "stdout",
     "output_type": "stream",
     "text": [
      "netcdf NAM_psl_EOF1_DJF_cmip5_ACCESS1-0_historical_r1i1p1_mo_atm_1900-2005_cbf {\r\n",
      "dimensions:\r\n",
      "\ttime = UNLIMITED ; // (105 currently)\r\n",
      "\tbound = 2 ;\r\n",
      "\tlat = 145 ;\r\n",
      "\tlon = 192 ;\r\n",
      "variables:\r\n",
      "\tdouble time(time) ;\r\n",
      "\t\ttime:bounds = \"bounds_time\" ;\r\n",
      "\t\ttime:axis = \"T\" ;\r\n",
      "\t\ttime:calendar = \"proleptic_gregorian\" ;\r\n",
      "\t\ttime:units = \"days since 0001-01-01\" ;\r\n",
      "\t\ttime:realtopology = \"linear\" ;\r\n",
      "\tdouble bounds_time(time, bound) ;\r\n",
      "\tdouble pc(time) ;\r\n",
      "\t\tpc:long_name = \"variable_19133_pseudo_pcs\" ;\r\n",
      "\t\tpc:missing_value = 1.e+20 ;\r\n",
      "\t\tpc:_FillValue = 1.e+20 ;\r\n",
      "\tdouble lat(lat) ;\r\n",
      "\t\tlat:bounds = \"lat_bnds\" ;\r\n",
      "\t\tlat:axis = \"Y\" ;\r\n",
      "\t\tlat:units = \"degrees_north\" ;\r\n",
      "\t\tlat:long_name = \"latitude\" ;\r\n",
      "\t\tlat:standard_name = \"latitude\" ;\r\n",
      "\t\tlat:realtopology = \"linear\" ;\r\n",
      "\tdouble lat_bnds(lat, bound) ;\r\n",
      "\tdouble lon(lon) ;\r\n",
      "\t\tlon:bounds = \"lon_bnds\" ;\r\n",
      "\t\tlon:axis = \"X\" ;\r\n",
      "\t\tlon:modulo = 360. ;\r\n",
      "\t\tlon:topology = \"circular\" ;\r\n",
      "\t\tlon:units = \"degrees_east\" ;\r\n",
      "\t\tlon:long_name = \"longitude\" ;\r\n",
      "\t\tlon:standard_name = \"longitude\" ;\r\n",
      "\t\tlon:realtopology = \"circular\" ;\r\n",
      "\tdouble lon_bnds(lon, bound) ;\r\n",
      "\tdouble eof(lat, lon) ;\r\n",
      "\t\teof:missing_value = 1.e+20 ;\r\n",
      "\t\teof:_FillValue = 1.e+20 ;\r\n",
      "\tdouble slope(lat, lon) ;\r\n",
      "\t\tslope:missing_value = 1.e+20 ;\r\n",
      "\t\tslope:_FillValue = 1.e+20 ;\r\n",
      "\tdouble intercept(lat, lon) ;\r\n",
      "\t\tintercept:missing_value = 1.e+20 ;\r\n",
      "\t\tintercept:_FillValue = 1.e+20 ;\r\n",
      "\tdouble frac ;\r\n",
      "\t\tfrac:missing_value = 1.e+20 ;\r\n",
      "\t\tfrac:_FillValue = 1.e+20 ;\r\n",
      "\r\n",
      "// global attributes:\r\n",
      "\t\t:Conventions = \"CF-1.0\" ;\r\n",
      "}\r\n"
     ]
    }
   ],
   "source": [
    "!ncdump -h {demo_output_directory + \"/mov_1/NAM_psl_EOF1_DJF_cmip5_ACCESS1-0_historical_r1i1p1_mo_atm_1900-2005_cbf.nc\"}"
   ]
  },
  {
   "cell_type": "markdown",
   "metadata": {},
   "source": [
    "### Metrics (JSON)"
   ]
  },
  {
   "cell_type": "markdown",
   "metadata": {},
   "source": [
    "Finally, we list the JSON metrics files from the Basic Example and look inside one of these JSONS."
   ]
  },
  {
   "cell_type": "code",
   "execution_count": 12,
   "metadata": {},
   "outputs": [
    {
     "name": "stdout",
     "output_type": "stream",
     "text": [
      "demo_output/mov_1/var_mode_NAM_EOF1_stat_cmip5_historical_mo_atm_ACCESS1-0_r1i1p1_1900-2005.json\r\n",
      "demo_output/mov_1/var_mode_NAM_EOF1_stat_cmip5_historical_mo_atm_ACCESS1-0_r1i1p1_1900-2005_cmec.json\r\n"
     ]
    }
   ],
   "source": [
    "!ls {demo_output_directory + \"/mov_1/*.json\"}"
   ]
  },
  {
   "cell_type": "code",
   "execution_count": 13,
   "metadata": {},
   "outputs": [
    {
     "name": "stdout",
     "output_type": "stream",
     "text": [
      "{\n",
      "  \"ACCESS1-0\": {\n",
      "    \"r1i1p1\": {\n",
      "      \"defaultReference\": {\n",
      "        \"NAM\": {\n",
      "          \"DJF\": {\n",
      "            \"best_matching_model_eofs__cor\": 1,\n",
      "            \"best_matching_model_eofs__rms\": 1,\n",
      "            \"best_matching_model_eofs__tcor_cbf_vs_eof_pc\": 1,\n",
      "            \"cbf\": {\n",
      "              \"bias\": -0.00019562846900546624,\n",
      "              \"bias_glo\": -0.04295804178762154,\n",
      "              \"cor\": 0.9710135582327006,\n",
      "              \"cor_glo\": 0.9569263431175612,\n",
      "              \"frac\": 0.19537628387451714,\n",
      "              \"frac_cbf_regrid\": 0.19658542218267333,\n",
      "              \"mean\": 0.0,\n",
      "              \"mean_glo\": 0.07534158696354616,\n",
      "              \"rms\": 0.46501370637642175,\n",
      "              \"rms_glo\": 0.2984561498091529,\n",
      "              \"rmsc\": 0.24077558921304565,\n",
      "              \"rmsc_glo\": 0.29350862004474604,\n",
      "              \"stdv_pc\": 1.164680720002589,\n",
      "              \"stdv_pc_ratio_to_obs\": 0.7608321251796011\n",
      "            },\n",
      "            \"eof1\": {\n",
      "              \"bias\": -0.00023302144705010294,\n",
      "              \"bias_glo\": -0.08440423251166837,\n",
      "              \"cor\": 0.9179354053968666,\n",
      "              \"cor_glo\": 0.9061762995782466,\n",
      "              \"frac\": 0.20202905132513205,\n",
      "              \"mean\": -1.0545754301626972e-17,\n",
      "              \"mean_glo\": 0.03389539668876286,\n",
      "              \"rms\": 0.6349908207381267,\n",
      "              \"rms_glo\": 0.39655675368260557,\n",
      "              \"rmsc\": 0.405128605700632,\n",
      "              \"rmsc_glo\": 0.43318286139185375,\n",
      "              \"stdv_pc\": 1.2219059534079921,\n",
      "              \"stdv_pc_ratio_to_obs\": 0.7982147272936249,\n",
      "              \"tcor_cbf_vs_eof_pc\": 0.9613378658270392\n",
      "            },\n",
      "            \"eof2\": {\n",
      "              \"bias\": 7.486977013696111e-05,\n",
      "              \"bias_glo\": 0.1147197294754833,\n",
      "              \"cor\": 0.0026427060721907745,\n",
      "              \"cor_glo\": 0.023931446001973677,\n",
      "              \"frac\": 0.15474759052876222,\n",
      "              \"mean\": 6.327452580976184e-17,\n",
      "              \"mean_glo\": 0.23301935710121094,\n",
      "              \"rms\": 1.8638750268911166,\n",
      "              \"rms_glo\": 1.1013582894368579,\n",
      "              \"rmsc\": 1.4123436292301563,\n",
      "              \"rmsc_glo\": 1.3971890182581579,\n",
      "              \"stdv_pc\": 1.0694064923227535,\n",
      "              \"stdv_pc_ratio_to_obs\": 0.6985938723472427,\n",
      "              \"tcor_cbf_vs_eof_pc\": 0.002425000283825915\n",
      "            },\n",
      "            \"eof3\": {\n",
      "              \"bias\": 0.00010990693337118012,\n",
      "              \"bias_glo\": 0.07717122892862834,\n",
      "              \"cor\": 0.23754979834299542,\n",
      "              \"cor_glo\": 0.2392032673850073,\n",
      "              \"frac\": 0.13537278567556676,\n",
      "              \"mean\": -4.218301720650789e-17,\n",
      "              \"mean_glo\": 0.1954708577724826,\n",
      "              \"rms\": 1.6166960152519034,\n",
      "              \"rms_glo\": 0.9513195825334747,\n",
      "              \"rmsc\": 1.2348685944954836,\n",
      "              \"rmsc_glo\": 1.2335289015769608,\n",
      "              \"stdv_pc\": 1.0002223426569221,\n",
      "              \"stdv_pc_ratio_to_obs\": 0.6533990625465952,\n",
      "              \"tcor_cbf_vs_eof_pc\": 0.2035861662068779\n",
      "            },\n",
      "            \"period\": \"1900-2005\"\n",
      "          },\n",
      "          \"target_model_eofs\": 1\n",
      "        }\n",
      "      }\n",
      "    }\n",
      "  }\n",
      "}\n"
     ]
    }
   ],
   "source": [
    "import json\n",
    "with open(demo_output_directory+\"/mov_1/var_mode_NAM_EOF1_stat_cmip5_historical_mo_atm_ACCESS1-0_r1i1p1_1900-2005.json\") as fj:\n",
    "    metrics = json.load(fj)[\"RESULTS\"]\n",
    "print(json.dumps(metrics, indent=2))"
   ]
  },
  {
   "cell_type": "code",
   "execution_count": null,
   "metadata": {},
   "outputs": [],
   "source": []
  }
 ],
 "metadata": {
  "kernelspec": {
   "display_name": "Python 3",
   "language": "python",
   "name": "python3"
  },
  "language_info": {
   "codemirror_mode": {
    "name": "ipython",
    "version": 3
   },
   "file_extension": ".py",
   "mimetype": "text/x-python",
   "name": "python",
   "nbconvert_exporter": "python",
   "pygments_lexer": "ipython3",
   "version": "3.8.6"
  }
 },
 "nbformat": 4,
 "nbformat_minor": 5
}
