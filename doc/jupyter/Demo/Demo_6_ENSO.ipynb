{
 "cells": [
  {
   "cell_type": "markdown",
   "id": "38f5e3be",
   "metadata": {},
   "source": [
    "# ENSO"
   ]
  },
  {
   "cell_type": "markdown",
   "id": "d3cb5c91",
   "metadata": {},
   "source": [
    "This notebook provides an overview of running the modes of variability module. More information can be found in the [README](https://github.com/PCMDI/pcmdi_metrics/tree/master/pcmdi_metrics/variability_mode). Example parameter files are located in the [PMP sample setups](https://github.com/PCMDI/pcmdi_metrics/tree/master/sample_setups/pcmdi_parameter_files/variability_modes). \n",
    "\n",
    "It is expected that the user has run the Demo_0_download_data notebook to obtain the sample data and generate parameter files. This first cell loads the demo directory choices made in Demo_0_download_data."
   ]
  },
  {
   "cell_type": "markdown",
   "id": "1309e909",
   "metadata": {},
   "source": [
    "## Download demo data"
   ]
  },
  {
   "cell_type": "code",
   "execution_count": 1,
   "id": "58172b48",
   "metadata": {},
   "outputs": [],
   "source": [
    "# Lets get the file containing the data needed for this demo\n",
    "import requests\n",
    "r = requests.get(\"https://pcmdiweb.llnl.gov/pss/pmpdata/pmp_enso_tutorial_files.txt\")\n",
    "with open(\"enso_data_files.txt\",\"wb\") as f:\n",
    "    f.write(r.content)"
   ]
  },
  {
   "cell_type": "code",
   "execution_count": 2,
   "id": "4f84ce5b",
   "metadata": {},
   "outputs": [],
   "source": [
    "# This is where you will be downloading the sample_data\n",
    "demo_data_directory = \"demo_data\"\n",
    "# this line is where your output will be stored\n",
    "demo_output_directory = \"deom_output\""
   ]
  },
  {
   "cell_type": "code",
   "execution_count": 3,
   "id": "bf899fe1",
   "metadata": {},
   "outputs": [
    {
     "name": "stdout",
     "output_type": "stream",
     "text": [
      "All files downloaded\n"
     ]
    }
   ],
   "source": [
    "# Let's download the files\n",
    "import cdat_info\n",
    "try:\n",
    "    cdat_info.download_sample_data_files(\"enso_data_files.txt\", demo_data_directory)\n",
    "    print(\"All files downloaded\")\n",
    "except:\n",
    "    print(\"Download failed\")"
   ]
  },
  {
   "cell_type": "code",
   "execution_count": 4,
   "id": "63f5cfa6",
   "metadata": {},
   "outputs": [
    {
     "name": "stdout",
     "output_type": "stream",
     "text": [
      "Preparing parameter file: basic_enso_param.py\n",
      "Saving User Choices\n"
     ]
    }
   ],
   "source": [
    "from download_sample_data import generate_parameter_files\n",
    "filenames=[\"basic_enso_param.py.in\"]\n",
    "generate_parameter_files(demo_data_directory, demo_output_directory, filenames=filenames)"
   ]
  },
  {
   "cell_type": "markdown",
   "id": "3cf9f922",
   "metadata": {},
   "source": [
    "## Environment"
   ]
  },
  {
   "cell_type": "markdown",
   "id": "484fc3bb",
   "metadata": {},
   "source": [
    "[ENSO Metrics package](https://github.com/CLIVAR-PRP/ENSO_metrics) and [scipy](https://www.scipy.org/) installation needed"
   ]
  },
  {
   "cell_type": "code",
   "execution_count": 7,
   "id": "18e059ed",
   "metadata": {
    "scrolled": true
   },
   "outputs": [
    {
     "data": {
      "text/plain": [
       "'\\nconda install -c anaconda scipy \\n'"
      ]
     },
     "execution_count": 7,
     "metadata": {},
     "output_type": "execute_result"
    }
   ],
   "source": [
    "\"\"\"\n",
    "%%bash\n",
    "\n",
    "git clone https://github.com/CLIVAR-PRP/ENSO_metrics.git\n",
    "cd ENSO_metrics\n",
    "python setup.py install\n",
    "\"\"\"\n",
    "\n",
    "\"\"\"\n",
    "conda install -c anaconda scipy \n",
    "\"\"\""
   ]
  },
  {
   "cell_type": "markdown",
   "id": "8ce46a64",
   "metadata": {},
   "source": [
    "## Usage"
   ]
  },
  {
   "cell_type": "markdown",
   "id": "f30e2e23",
   "metadata": {},
   "source": [
    "ENSO can be run on the command line or with using a parameter file"
   ]
  },
  {
   "cell_type": "markdown",
   "id": "83fe4dcc",
   "metadata": {},
   "source": [
    "For help, type:  \n",
    "```\n",
    "enso_driver.py --help\n",
    "```"
   ]
  },
  {
   "cell_type": "code",
   "execution_count": 9,
   "id": "ffcb6d3a",
   "metadata": {},
   "outputs": [
    {
     "name": "stdout",
     "output_type": "stream",
     "text": [
      "usage: enso_driver.py [-h] [--parameters PARAMETERS]\n",
      "                      [--diags OTHER_PARAMETERS [OTHER_PARAMETERS ...]]\n",
      "                      [--mip MIP] [--exp EXP] [--modpath MODPATH]\n",
      "                      [--modpath_lf MODPATH_LF]\n",
      "                      [--modnames MODNAMES [MODNAMES ...]] [-r REALIZATION]\n",
      "                      [--reference_data_path REFERENCE_DATA_PATH]\n",
      "                      [--reference_data_lf_path REFERENCE_DATA_LF_PATH]\n",
      "                      [--metricsCollection METRICSCOLLECTION]\n",
      "                      [--json_name JSON_NAME] [--netcdf_name NETCDF_NAME]\n",
      "                      [--results_dir RESULTS_DIR] [--case_id CASE_ID]\n",
      "                      [--obs_catalogue OBS_CATALOGUE]\n",
      "                      [--obs_cmor_path OBS_CMOR_PATH] [-d [DEBUG]]\n",
      "                      [--obs_cmor [OBS_CMOR]] [--nc_out [NC_OUT]]\n",
      "\n",
      "optional arguments:\n",
      "  -h, --help            show this help message and exit\n",
      "  --parameters PARAMETERS, -p PARAMETERS\n",
      "  --diags OTHER_PARAMETERS [OTHER_PARAMETERS ...]\n",
      "                        Path to other user-defined parameter file. (default:\n",
      "                        None)\n",
      "  --mip MIP             A WCRP MIP project such as CMIP3 and CMIP5 (default:\n",
      "                        cmip5)\n",
      "  --exp EXP             An experiment such as AMIP, historical or pi-contorl\n",
      "                        (default: historical)\n",
      "  --modpath MODPATH, --mp MODPATH\n",
      "                        Explicit path to model data (default: None)\n",
      "  --modpath_lf MODPATH_LF\n",
      "                        Directory path to model land fraction field (default:\n",
      "                        None)\n",
      "  --modnames MODNAMES [MODNAMES ...]\n",
      "                        List of models (default: None)\n",
      "  -r REALIZATION, --realization REALIZATION\n",
      "                        Consider all accessible realizations as idividual -\n",
      "                        r1i1p1: default, consider only 'r1i1p1' member Or,\n",
      "                        specify realization, e.g, r3i1p1' - *: consider all\n",
      "                        available realizations (default: r1i1p1)\n",
      "  --reference_data_path REFERENCE_DATA_PATH, --rdp REFERENCE_DATA_PATH\n",
      "                        The path/filename of reference (obs) data. (default:\n",
      "                        None)\n",
      "  --reference_data_lf_path REFERENCE_DATA_LF_PATH\n",
      "                        Data path to land fraction of reference dataset\n",
      "                        (default: None)\n",
      "  --metricsCollection METRICSCOLLECTION\n",
      "                        Metrics Collection e.g. ENSO_perf, ENSO_tel, or\n",
      "                        ENSO_proc (default: ENSO_perf)\n",
      "  --json_name JSON_NAME\n",
      "                        File name for output JSON (default: None)\n",
      "  --netcdf_name NETCDF_NAME\n",
      "                        File name for output NetCDF (default: None)\n",
      "  --results_dir RESULTS_DIR, --rd RESULTS_DIR\n",
      "                        The name of the folder where all runs will be stored.\n",
      "                        (default: None)\n",
      "  --case_id CASE_ID     version as date, e.g., v20191116 (yyyy-mm-dd)\n",
      "                        (default: v20210604)\n",
      "  --obs_catalogue OBS_CATALOGUE\n",
      "                        obs_catalogue JSON file for CMORized observation,\n",
      "                        default is None (default: None)\n",
      "  --obs_cmor_path OBS_CMOR_PATH\n",
      "                        Directory path for CMORized observation dataset,\n",
      "                        default is None (default: None)\n",
      "  -d [DEBUG], --debug [DEBUG]\n",
      "                        Option for debug: True / False (defualt) (default:\n",
      "                        False)\n",
      "  --obs_cmor [OBS_CMOR]\n",
      "                        Use CMORized reference database?: True / False\n",
      "                        (defualt) (default: False)\n",
      "  --nc_out [NC_OUT]     Option for generate netCDF file output: True (default)\n",
      "                        / False (default: True)\n"
     ]
    }
   ],
   "source": [
    "%%bash\n",
    "enso_driver.py --help"
   ]
  },
  {
   "cell_type": "markdown",
   "id": "048631a1",
   "metadata": {},
   "source": [
    "## Basic example"
   ]
  },
  {
   "cell_type": "code",
   "execution_count": 11,
   "id": "3fb003d1",
   "metadata": {},
   "outputs": [
    {
     "name": "stdout",
     "output_type": "stream",
     "text": [
      "mip: cmip5\n",
      "exp: historical\n",
      "models: ['ACCESS1-0']\n",
      "realization:  r1i1p1\n",
      "mc_name: ENSO_perf\n",
      "outdir: deom_output/basicTestEnso\n",
      "netcdf_path: deom_output/basicTestEnso\n",
      "debug: False\n",
      "obs_cmor: True\n",
      "obs_cmor_path: demo_data/PCMDIobs2\n",
      "egg_pth: /Users/lee1043/Library/Caches/Python-Eggs/pcmdi_metrics-v1.2.1_691_g26ef287-py3.8.egg-tmp/share/pmp\n",
      "output directory for graphics:deom_output/basicTestEnso\n",
      "output directory for diagnostic_results:deom_output/basicTestEnso\n",
      "output directory for metrics_results:deom_output/basicTestEnso\n",
      "list_variables: ['pr', 'sst', 'taux']\n",
      "list_obs: ['AVISO-1-0', 'ERA-INT', 'GPCP-2-3', 'HadISST-1-1']\n",
      "PMPdriver: dict_obs readin end\n",
      "models: ['ACCESS1-0']\n",
      " ----- model:  ACCESS1-0  ---------------------\n",
      "PMPdriver: var loop start for model  ACCESS1-0\n",
      "realization: r1i1p1\n",
      " --- run:  r1i1p1  ---\n",
      " --- var:  pr  ---\n",
      "var_in_file: pr\n",
      "var, areacell_in_file, realm: pr areacella atmos\n",
      "path:  demo_data/CMIP5_demo_data/pr_Amon_ACCESS1-0_historical_r1i1p1_185001-200512.nc\n",
      "file_list:  ['demo_data/CMIP5_demo_data/pr_Amon_ACCESS1-0_historical_r1i1p1_185001-200512.nc']\n",
      "path:  demo_data/CMIP5_demo_data/sftlf_fx_ACCESS1-0_amip_r0i0p0.nc\n",
      "file_list:  ['demo_data/CMIP5_demo_data/sftlf_fx_ACCESS1-0_amip_r0i0p0.nc']\n",
      "path:  demo_data/CMIP5_demo_data/sftlf_fx_ACCESS1-0_amip_r0i0p0.nc\n",
      "file_list:  ['demo_data/CMIP5_demo_data/sftlf_fx_ACCESS1-0_amip_r0i0p0.nc']\n",
      "PMPdriver: var loop end\n",
      " --- var:  sst  ---\n",
      "var_in_file: ts\n",
      "var, areacell_in_file, realm: sst areacella atmos\n",
      "path:  demo_data/CMIP5_demo_data/ts_Amon_ACCESS1-0_historical_r1i1p1_185001-200512.nc\n",
      "file_list:  ['demo_data/CMIP5_demo_data/ts_Amon_ACCESS1-0_historical_r1i1p1_185001-200512.nc']\n",
      "path:  demo_data/CMIP5_demo_data/sftlf_fx_ACCESS1-0_amip_r0i0p0.nc\n",
      "file_list:  ['demo_data/CMIP5_demo_data/sftlf_fx_ACCESS1-0_amip_r0i0p0.nc']\n",
      "path:  demo_data/CMIP5_demo_data/sftlf_fx_ACCESS1-0_amip_r0i0p0.nc\n",
      "file_list:  ['demo_data/CMIP5_demo_data/sftlf_fx_ACCESS1-0_amip_r0i0p0.nc']\n",
      "PMPdriver: var loop end\n",
      " --- var:  taux  ---\n",
      "var_in_file: tauu\n",
      "var, areacell_in_file, realm: taux areacella atmos\n",
      "path:  demo_data/CMIP5_demo_data/tauu_Amon_ACCESS1-0_historical_r1i1p1_185001-200512.nc\n",
      "file_list:  ['demo_data/CMIP5_demo_data/tauu_Amon_ACCESS1-0_historical_r1i1p1_185001-200512.nc']\n",
      "path:  demo_data/CMIP5_demo_data/sftlf_fx_ACCESS1-0_amip_r0i0p0.nc\n",
      "file_list:  ['demo_data/CMIP5_demo_data/sftlf_fx_ACCESS1-0_amip_r0i0p0.nc']\n",
      "path:  demo_data/CMIP5_demo_data/sftlf_fx_ACCESS1-0_amip_r0i0p0.nc\n",
      "file_list:  ['demo_data/CMIP5_demo_data/sftlf_fx_ACCESS1-0_amip_r0i0p0.nc']\n",
      "PMPdriver: var loop end\n",
      "dictDatasets:\n",
      "{\n",
      "    \"model\": {\n",
      "        \"ACCESS1-0_r1i1p1\": {\n",
      "            \"pr\": {\n",
      "                \"areaname\": \"areacella\",\n",
      "                \"landmaskname\": \"sftlf\",\n",
      "                \"path + filename\": \"demo_data/CMIP5_demo_data/pr_Amon_ACCESS1-0_historical_r1i1p1_185001-200512.nc\",\n",
      "                \"path + filename_area\": \"demo_data/CMIP5_demo_data/sftlf_fx_ACCESS1-0_amip_r0i0p0.nc\",\n",
      "                \"path + filename_landmask\": \"demo_data/CMIP5_demo_data/sftlf_fx_ACCESS1-0_amip_r0i0p0.nc\",\n",
      "                \"varname\": \"pr\"\n",
      "            },\n",
      "            \"sst\": {\n",
      "                \"areaname\": \"areacella\",\n",
      "                \"landmaskname\": \"sftlf\",\n",
      "                \"path + filename\": \"demo_data/CMIP5_demo_data/ts_Amon_ACCESS1-0_historical_r1i1p1_185001-200512.nc\",\n",
      "                \"path + filename_area\": \"demo_data/CMIP5_demo_data/sftlf_fx_ACCESS1-0_amip_r0i0p0.nc\",\n",
      "                \"path + filename_landmask\": \"demo_data/CMIP5_demo_data/sftlf_fx_ACCESS1-0_amip_r0i0p0.nc\",\n",
      "                \"varname\": \"ts\"\n",
      "            },\n",
      "            \"taux\": {\n",
      "                \"areaname\": \"areacella\",\n",
      "                \"landmaskname\": \"sftlf\",\n",
      "                \"path + filename\": \"demo_data/CMIP5_demo_data/tauu_Amon_ACCESS1-0_historical_r1i1p1_185001-200512.nc\",\n",
      "                \"path + filename_area\": \"demo_data/CMIP5_demo_data/sftlf_fx_ACCESS1-0_amip_r0i0p0.nc\",\n",
      "                \"path + filename_landmask\": \"demo_data/CMIP5_demo_data/sftlf_fx_ACCESS1-0_amip_r0i0p0.nc\",\n",
      "                \"varname\": \"tauu\"\n",
      "            }\n",
      "        }\n",
      "    },\n",
      "    \"observations\": {\n",
      "        \"ERA-INT\": {\n",
      "            \"pr\": {\n",
      "                \"areaname\": \"areacella\",\n",
      "                \"landmaskname\": \"sftlf\",\n",
      "                \"path + filename\": \"demo_data/PCMDIobs2/atmos/mon/pr/ERA-INT/gn/v20200707/pr_mon_ERA-INT_BE_gn_v20200707_197901-201903.nc\",\n",
      "                \"path + filename_area\": null,\n",
      "                \"path + filename_landmask\": null,\n",
      "                \"varname\": \"pr\"\n",
      "            },\n",
      "            \"sst\": {\n",
      "                \"areaname\": \"areacella\",\n",
      "                \"landmaskname\": \"sftlf\",\n",
      "                \"path + filename\": \"demo_data/PCMDIobs2/atmos/mon/ts/ERA-INT/gn/v20200707/ts_mon_ERA-INT_BE_gn_v20200707_197901-201903.nc\",\n",
      "                \"path + filename_area\": null,\n",
      "                \"path + filename_landmask\": null,\n",
      "                \"varname\": \"ts\"\n",
      "            },\n",
      "            \"taux\": {\n",
      "                \"areaname\": \"areacella\",\n",
      "                \"landmaskname\": \"sftlf\",\n",
      "                \"path + filename\": \"demo_data/PCMDIobs2/atmos/mon/tauu/ERA-INT/gn/v20200707/tauu_mon_ERA-INT_BE_gn_v20200707_197901-201903.nc\",\n",
      "                \"path + filename_area\": null,\n",
      "                \"path + filename_landmask\": null,\n",
      "                \"varname\": \"tauu\"\n",
      "            }\n",
      "        },\n",
      "        \"GPCP-2-3\": {\n",
      "            \"pr\": {\n",
      "                \"areaname\": \"areacella\",\n",
      "                \"landmaskname\": \"sftlf\",\n",
      "                \"path + filename\": \"demo_data/PCMDIobs2/atmos/mon/pr/GPCP-2-3/gn/v20200707/pr_mon_GPCP-2-3_BE_gn_v20200707_197901-201907.nc\",\n",
      "                \"path + filename_area\": null,\n",
      "                \"path + filename_landmask\": null,\n",
      "                \"varname\": \"pr\"\n",
      "            }\n",
      "        }\n",
      "    }\n",
      "}\n",
      "\n",
      "### Compute the metric collection ###\n",
      "\n",
      "\u001b[94m     ComputeCollection: metric = BiasPrLatRmse\u001b[0m\n",
      "\u001b[94m     ComputeMetric: oneVarRMSmetric, BiasPrLatRmse = ACCESS1-0_r1i1p1 and ERA-INT\u001b[0m\n",
      "\u001b[93m                         NOTE: Estimated landmask applied\u001b[0m\n",
      "\u001b[93m               EnsoUvcdatToolsLib AverageZonal\u001b[0m\n",
      "\u001b[93m               EnsoUvcdatToolsLib AverageZonal\u001b[0m\n",
      "\u001b[94m     ComputeMetric: oneVarRMSmetric, BiasPrLatRmse = ACCESS1-0_r1i1p1 and GPCP-2-3\u001b[0m\n",
      "\u001b[93m                         NOTE: Estimated landmask applied\u001b[0m\n",
      "\u001b[93m               EnsoUvcdatToolsLib AverageZonal\u001b[0m\n",
      "\u001b[93m               EnsoUvcdatToolsLib AverageZonal\u001b[0m\n",
      "\u001b[94m     ComputeCollection: metric = BiasPrLonRmse\u001b[0m\n",
      "\u001b[94m     ComputeMetric: oneVarRMSmetric, BiasPrLonRmse = ACCESS1-0_r1i1p1 and ERA-INT\u001b[0m\n",
      "\u001b[93m                         NOTE: Estimated landmask applied\u001b[0m\n",
      "\u001b[93m               EnsoUvcdatToolsLib AverageMeridional\u001b[0m\n",
      "\u001b[93m               EnsoUvcdatToolsLib AverageMeridional\u001b[0m\n",
      "\u001b[94m     ComputeMetric: oneVarRMSmetric, BiasPrLonRmse = ACCESS1-0_r1i1p1 and GPCP-2-3\u001b[0m\n",
      "\u001b[93m                         NOTE: Estimated landmask applied\u001b[0m\n",
      "\u001b[93m               EnsoUvcdatToolsLib AverageMeridional\u001b[0m\n",
      "\u001b[93m               EnsoUvcdatToolsLib AverageMeridional\u001b[0m\n",
      "\u001b[94m     ComputeCollection: metric = BiasSstLonRmse\u001b[0m\n",
      "\u001b[94m     ComputeMetric: oneVarRMSmetric, BiasSstLonRmse = ACCESS1-0_r1i1p1 and ERA-INT\u001b[0m\n",
      "\u001b[93m                         NOTE: Estimated landmask applied\u001b[0m\n",
      "\u001b[93m               EnsoUvcdatToolsLib AverageMeridional\u001b[0m\n",
      "\u001b[93m               EnsoUvcdatToolsLib AverageMeridional\u001b[0m\n",
      "\u001b[94m     ComputeCollection: metric = BiasTauxLonRmse\u001b[0m\n",
      "\u001b[94m     ComputeMetric: oneVarRMSmetric, BiasTauxLonRmse = ACCESS1-0_r1i1p1 and ERA-INT\u001b[0m\n",
      "\u001b[93m               EnsoUvcdatToolsLib AverageHorizontal\u001b[0m\n",
      "\u001b[93m                         NOTE: Estimated landmask applied\u001b[0m\n",
      "\u001b[93m               EnsoUvcdatToolsLib AverageHorizontal\u001b[0m\n",
      "\u001b[93m                         NOTE: Estimated landmask applied\u001b[0m\n",
      "\u001b[93m               EnsoUvcdatToolsLib AverageMeridional\u001b[0m\n",
      "\u001b[93m               EnsoUvcdatToolsLib AverageMeridional\u001b[0m\n",
      "\u001b[94m     ComputeCollection: metric = EnsoAmpl\u001b[0m\n",
      "\u001b[94m     ComputeMetric: oneVarmetric = ACCESS1-0_r1i1p1\u001b[0m\n",
      "\u001b[94m     ComputeMetric: oneVarmetric = ERA-INT\u001b[0m\n",
      "\u001b[93m                         NOTE: Estimated landmask applied\u001b[0m\n",
      "\u001b[94m     ComputeCollection: metric = EnsoDuration\u001b[0m\n",
      "\u001b[94m     ComputeMetric: oneVarmetric = ACCESS1-0_r1i1p1\u001b[0m\n",
      "\u001b[94m     ComputeMetric: oneVarmetric = ERA-INT\u001b[0m\n",
      "\u001b[93m                         NOTE: Estimated landmask applied\u001b[0m\n",
      "\u001b[94m     ComputeCollection: metric = EnsoSeasonality\u001b[0m\n",
      "\u001b[94m     ComputeMetric: oneVarmetric = ACCESS1-0_r1i1p1\u001b[0m\n",
      "\u001b[94m     ComputeMetric: oneVarmetric = ERA-INT\u001b[0m\n",
      "\u001b[93m                         NOTE: Estimated landmask applied\u001b[0m\n",
      "\u001b[94m     ComputeCollection: metric = EnsoSstDiversity_2\u001b[0m\n",
      "\u001b[94m     ComputeMetric: oneVarmetric = ACCESS1-0_r1i1p1\u001b[0m\n",
      "\u001b[93m               EnsoUvcdatToolsLib AverageMeridional\u001b[0m\n",
      "\u001b[94m     ComputeMetric: oneVarmetric = ERA-INT\u001b[0m\n",
      "\u001b[93m                         NOTE: Estimated landmask applied\u001b[0m\n",
      "\u001b[93m                         NOTE: Estimated landmask applied\u001b[0m\n",
      "\u001b[93m               EnsoUvcdatToolsLib AverageMeridional\u001b[0m\n",
      "\u001b[94m     ComputeCollection: metric = EnsoSstLonRmse\u001b[0m\n",
      "\u001b[94m     ComputeMetric: oneVarRMSmetric, EnsoSstLonRmse = ACCESS1-0_r1i1p1 and ERA-INT\u001b[0m\n",
      "\u001b[93m                         NOTE: Estimated landmask applied\u001b[0m\n",
      "\u001b[93m                         NOTE: Estimated landmask applied\u001b[0m\n",
      "\u001b[93m               EnsoUvcdatToolsLib AverageMeridional\u001b[0m\n",
      "\u001b[93m               EnsoUvcdatToolsLib AverageMeridional\u001b[0m\n",
      "\u001b[94m     ComputeCollection: metric = EnsoSstSkew\u001b[0m\n",
      "\u001b[94m     ComputeMetric: oneVarmetric = ACCESS1-0_r1i1p1\u001b[0m\n",
      "\u001b[94m     ComputeMetric: oneVarmetric = ERA-INT\u001b[0m\n",
      "\u001b[93m                         NOTE: Estimated landmask applied\u001b[0m\n",
      "\u001b[94m     ComputeCollection: metric = EnsoSstTsRmse\u001b[0m\n",
      "\u001b[94m     ComputeMetric: oneVarRMSmetric, EnsoSstTsRmse = ACCESS1-0_r1i1p1 and ERA-INT\u001b[0m\n",
      "\u001b[93m                         NOTE: Estimated landmask applied\u001b[0m\n",
      "\u001b[94m     ComputeCollection: metric = SeasonalPrLatRmse\u001b[0m\n",
      "\u001b[94m     ComputeMetric: oneVarRMSmetric, SeasonalPrLatRmse = ACCESS1-0_r1i1p1 and ERA-INT\u001b[0m\n",
      "\u001b[93m                         NOTE: Estimated landmask applied\u001b[0m\n",
      "\u001b[93m               EnsoUvcdatToolsLib AverageZonal\u001b[0m\n",
      "\u001b[93m               EnsoUvcdatToolsLib AverageZonal\u001b[0m\n",
      "\u001b[94m     ComputeMetric: oneVarRMSmetric, SeasonalPrLatRmse = ACCESS1-0_r1i1p1 and GPCP-2-3\u001b[0m\n",
      "\u001b[93m                         NOTE: Estimated landmask applied\u001b[0m\n",
      "\u001b[93m               EnsoUvcdatToolsLib AverageZonal\u001b[0m\n",
      "\u001b[93m               EnsoUvcdatToolsLib AverageZonal\u001b[0m\n",
      "\u001b[94m     ComputeCollection: metric = SeasonalPrLonRmse\u001b[0m\n",
      "\u001b[94m     ComputeMetric: oneVarRMSmetric, SeasonalPrLonRmse = ACCESS1-0_r1i1p1 and ERA-INT\u001b[0m\n",
      "\u001b[93m                         NOTE: Estimated landmask applied\u001b[0m\n",
      "\u001b[93m               EnsoUvcdatToolsLib AverageMeridional\u001b[0m\n",
      "\u001b[93m               EnsoUvcdatToolsLib AverageMeridional\u001b[0m\n",
      "\u001b[94m     ComputeMetric: oneVarRMSmetric, SeasonalPrLonRmse = ACCESS1-0_r1i1p1 and GPCP-2-3\u001b[0m\n",
      "\u001b[93m                         NOTE: Estimated landmask applied\u001b[0m\n",
      "\u001b[93m               EnsoUvcdatToolsLib AverageMeridional\u001b[0m\n",
      "\u001b[93m               EnsoUvcdatToolsLib AverageMeridional\u001b[0m\n",
      "\u001b[94m     ComputeCollection: metric = SeasonalSstLonRmse\u001b[0m\n",
      "\u001b[94m     ComputeMetric: oneVarRMSmetric, SeasonalSstLonRmse = ACCESS1-0_r1i1p1 and ERA-INT\u001b[0m\n",
      "\u001b[93m                         NOTE: Estimated landmask applied\u001b[0m\n",
      "\u001b[93m               EnsoUvcdatToolsLib AverageMeridional\u001b[0m\n",
      "\u001b[93m               EnsoUvcdatToolsLib AverageMeridional\u001b[0m\n",
      "\u001b[94m     ComputeCollection: metric = SeasonalTauxLonRmse\u001b[0m\n",
      "\u001b[94m     ComputeMetric: oneVarRMSmetric, SeasonalTauxLonRmse = ACCESS1-0_r1i1p1 and ERA-INT\u001b[0m\n",
      "\u001b[93m               EnsoUvcdatToolsLib AverageHorizontal\u001b[0m\n",
      "\u001b[93m                         NOTE: Estimated landmask applied\u001b[0m\n",
      "\u001b[93m               EnsoUvcdatToolsLib AverageHorizontal\u001b[0m\n",
      "\u001b[93m                         NOTE: Estimated landmask applied\u001b[0m\n",
      "\u001b[93m               EnsoUvcdatToolsLib AverageMeridional\u001b[0m\n",
      "\u001b[93m               EnsoUvcdatToolsLib AverageMeridional\u001b[0m\n",
      "PMPdriver: model loop end\n"
     ]
    },
    {
     "name": "stderr",
     "output_type": "stream",
     "text": [
      "/opt/anaconda3/envs/pmp_nightly_20210602/lib/python3.8/site-packages/cdms2/MV2.py:318: Warning: arguments order for compress function has changed\n",
      "it is now: MV2.copmress(array,condition), if your code seems to not react or act wrong to a call to compress, please check this\n",
      "  warnings.warn(\n",
      "INFO::2021-06-04 09:05::pcmdi_metrics:: Results saved to a json file: /Users/lee1043/Documents/Research/git/pcmdi_metrics/doc/jupyter/Demo/deom_output/basicTestEnso/cmip5_historical_ENSO_perf_basicTestEnso_ACCESS1-0_r1i1p1.json\n",
      "INFO::2021-06-04 09:05::pcmdi_metrics:: Results saved to a json file: /Users/lee1043/Documents/Research/git/pcmdi_metrics/doc/jupyter/Demo/deom_output/basicTestEnso/cmip5_historical_ENSO_perf_basicTestEnso_ACCESS1-0_r1i1p1_diveDown.json\n"
     ]
    },
    {
     "name": "stdout",
     "output_type": "stream",
     "text": [
      "CPU times: user 8.6 ms, sys: 7.91 ms, total: 16.5 ms\n",
      "Wall time: 3min 29s\n"
     ]
    }
   ],
   "source": [
    "%%time\n",
    "%%bash\n",
    "enso_driver.py -p basic_enso_param.py"
   ]
  },
  {
   "cell_type": "code",
   "execution_count": null,
   "id": "7e4cfc8c",
   "metadata": {},
   "outputs": [],
   "source": []
  }
 ],
 "metadata": {
  "kernelspec": {
   "display_name": "Python [conda env:pmp_nightly_20210602] *",
   "language": "python",
   "name": "conda-env-pmp_nightly_20210602-py"
  },
  "language_info": {
   "codemirror_mode": {
    "name": "ipython",
    "version": 3
   },
   "file_extension": ".py",
   "mimetype": "text/x-python",
   "name": "python",
   "nbconvert_exporter": "python",
   "pygments_lexer": "ipython3",
   "version": "3.8.10"
  }
 },
 "nbformat": 4,
 "nbformat_minor": 5
}
