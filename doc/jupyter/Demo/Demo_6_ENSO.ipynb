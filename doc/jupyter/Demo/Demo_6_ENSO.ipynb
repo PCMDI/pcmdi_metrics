{
 "cells": [
  {
   "cell_type": "markdown",
   "metadata": {},
   "source": [
    "# ENSO"
   ]
  },
  {
   "cell_type": "markdown",
   "metadata": {},
   "source": [
    "This notebook provides an overview of running the modes of variability module. More information can be found in the [README](https://github.com/PCMDI/pcmdi_metrics/tree/master/pcmdi_metrics/variability_mode). Example parameter files are located in the [PMP sample setups](https://github.com/PCMDI/pcmdi_metrics/tree/master/sample_setups/pcmdi_parameter_files/variability_modes). \n",
    "\n",
    "It is expected that the user has run the Demo_0_download_data notebook to obtain the sample data and generate parameter files. This first cell loads the demo directory choices made in Demo_0_download_data."
   ]
  },
  {
   "cell_type": "markdown",
   "metadata": {},
   "source": [
    "## Download demo data"
   ]
  },
  {
   "cell_type": "code",
   "execution_count": null,
   "metadata": {},
   "outputs": [],
   "source": [
    "# Lets get the file containing the data needed for this demo\n",
    "import requests\n",
    "r = requests.get(\"https://pcmdiweb.llnl.gov/pss/pmpdata/pmp_enso_tutorial_files.txt\")\n",
    "with open(\"enso_data_files.txt\",\"wb\") as f:\n",
    "    f.write(r.content)"
   ]
  },
  {
   "cell_type": "code",
   "execution_count": null,
   "metadata": {},
   "outputs": [],
   "source": [
    "# This is where you will be downloading the sample_data\n",
    "demo_data_directory = \"enso_data\"\n",
    "# this line is where your output will be stored\n",
    "demo_output_directory = \"enso_output\""
   ]
  },
  {
   "cell_type": "code",
   "execution_count": null,
   "metadata": {},
   "outputs": [],
   "source": [
    "# Let's download the files\n",
    "import cdat_info\n",
    "try:\n",
    "    cdat_info.download_sample_data_files(\"enso_data_files.txt\", demo_data_directory)\n",
    "    print(\"All files downloaded\")\n",
    "except:\n",
    "    print(\"Download failed\")"
   ]
  },
  {
   "cell_type": "code",
   "execution_count": null,
   "metadata": {},
   "outputs": [],
   "source": [
    "from download_sample_data import generate_parameter_files\n",
    "filenames=[\"basic_enso_param.py.in\"]\n",
    "generate_parameter_files(demo_data_directory, demo_output_directory, filenames=filenames)"
   ]
  },
  {
   "cell_type": "markdown",
   "metadata": {},
   "source": [
    "## Environment"
   ]
  },
  {
   "cell_type": "markdown",
   "metadata": {},
   "source": [
    "[ENSO Metrics package](https://github.com/CLIVAR-PRP/ENSO_metrics) installation needed"
   ]
  },
  {
   "cell_type": "code",
   "execution_count": null,
   "metadata": {
    "scrolled": true
   },
   "outputs": [],
   "source": [
    "\"\"\"\n",
    "git clone https://github.com/CLIVAR-PRP/ENSO_metrics.git\n",
    "cd ENSO_metrics\n",
    "python setup.py install\n",
    "\"\"\""
   ]
  },
  {
   "cell_type": "markdown",
   "metadata": {},
   "source": [
    "## Usage"
   ]
  },
  {
   "cell_type": "markdown",
   "metadata": {},
   "source": [
    "ENSO can be run on the command line or with using a parameter file"
   ]
  },
  {
   "cell_type": "markdown",
   "metadata": {},
   "source": [
    "For help, type:  \n",
    "```\n",
    "enso_driver.py --help\n",
    "```"
   ]
  },
  {
   "cell_type": "code",
   "execution_count": null,
   "metadata": {},
   "outputs": [],
   "source": [
    "%%bash\n",
    "enso_driver.py --help"
   ]
  },
  {
   "cell_type": "markdown",
   "metadata": {},
   "source": [
    "## Basic example"
   ]
  },
  {
   "cell_type": "code",
   "execution_count": 2,
   "metadata": {},
   "outputs": [
    {
     "name": "stdout",
     "output_type": "stream",
     "text": [
      "mip: cmip5\n",
      "exp: historical\n",
      "models: ['ACCESS1-0']\n",
      "realization:  r1i1p1\n",
      "mc_name: ENSO_perf\n",
      "outdir: enso_output/basicTestEnso\n",
      "netcdf_path: enso_output/basicTestEnso\n",
      "debug: False\n",
      "obs_cmor: True\n",
      "obs_cmor_path: enso_data/PCMDIobs2\n",
      "egg_pth: /Users/ordonez4/Library/Caches/Python-Eggs/pcmdi_metrics-v1.2.1_683_gaed8622-py3.8.egg-tmp/share/pmp\n",
      "output directory for graphics:enso_output/basicTestEnso\n",
      "output directory for diagnostic_results:enso_output/basicTestEnso\n",
      "output directory for metrics_results:enso_output/basicTestEnso\n",
      "list_variables: ['pr', 'sst', 'taux']\n",
      "list_obs: ['20CR', 'AVISO-1-0', 'CERES-EBAF-4-1', 'CMAP-V1902', 'ERA-20C', 'ERA-5', 'ERA-INT', 'GPCP-2-3', 'HadISST-1-1', 'REMSS-PRW-v07r01', 'TropFlux-1-0']\n",
      "PMPdriver: dict_obs readin end\n",
      "models: ['ACCESS1-0']\n",
      " ----- model:  ACCESS1-0  ---------------------\n",
      "PMPdriver: var loop start for model  ACCESS1-0\n",
      "realization: r1i1p1\n",
      " --- run:  r1i1p1  ---\n",
      " --- var:  pr  ---\n",
      "var_in_file: pr\n",
      "var, areacell_in_file, realm: pr areacella atmos\n",
      "path:  enso_data/CMIP5_demo_data/*_Amon_ACCESS1-0_historical_r1i1p1_185001-200512.nc\n",
      "file_list:  ['enso_data/CMIP5_demo_data/rlds_Amon_ACCESS1-0_historical_r1i1p1_185001-200512.nc', 'enso_data/CMIP5_demo_data/rsus_Amon_ACCESS1-0_historical_r1i1p1_185001-200512.nc', 'enso_data/CMIP5_demo_data/ts_Amon_ACCESS1-0_historical_r1i1p1_185001-200512.nc', 'enso_data/CMIP5_demo_data/hfls_Amon_ACCESS1-0_historical_r1i1p1_185001-200512.nc', 'enso_data/CMIP5_demo_data/tauu_Amon_ACCESS1-0_historical_r1i1p1_185001-200512.nc', 'enso_data/CMIP5_demo_data/pr_Amon_ACCESS1-0_historical_r1i1p1_185001-200512.nc', 'enso_data/CMIP5_demo_data/rlut_Amon_ACCESS1-0_historical_r1i1p1_185001-200512.nc', 'enso_data/CMIP5_demo_data/rsdt_Amon_ACCESS1-0_historical_r1i1p1_185001-200512.nc', 'enso_data/CMIP5_demo_data/rsds_Amon_ACCESS1-0_historical_r1i1p1_185001-200512.nc', 'enso_data/CMIP5_demo_data/hfss_Amon_ACCESS1-0_historical_r1i1p1_185001-200512.nc', 'enso_data/CMIP5_demo_data/rlus_Amon_ACCESS1-0_historical_r1i1p1_185001-200512.nc', 'enso_data/CMIP5_demo_data/psl_Amon_ACCESS1-0_historical_r1i1p1_185001-200512.nc', 'enso_data/CMIP5_demo_data/rsut_Amon_ACCESS1-0_historical_r1i1p1_185001-200512.nc']\n",
      "Multiple files detected in get_file function. file_list:  ['enso_data/CMIP5_demo_data/rlds_Amon_ACCESS1-0_historical_r1i1p1_185001-200512.nc', 'enso_data/CMIP5_demo_data/rsus_Amon_ACCESS1-0_historical_r1i1p1_185001-200512.nc', 'enso_data/CMIP5_demo_data/ts_Amon_ACCESS1-0_historical_r1i1p1_185001-200512.nc', 'enso_data/CMIP5_demo_data/hfls_Amon_ACCESS1-0_historical_r1i1p1_185001-200512.nc', 'enso_data/CMIP5_demo_data/tauu_Amon_ACCESS1-0_historical_r1i1p1_185001-200512.nc', 'enso_data/CMIP5_demo_data/pr_Amon_ACCESS1-0_historical_r1i1p1_185001-200512.nc', 'enso_data/CMIP5_demo_data/rlut_Amon_ACCESS1-0_historical_r1i1p1_185001-200512.nc', 'enso_data/CMIP5_demo_data/rsdt_Amon_ACCESS1-0_historical_r1i1p1_185001-200512.nc', 'enso_data/CMIP5_demo_data/rsds_Amon_ACCESS1-0_historical_r1i1p1_185001-200512.nc', 'enso_data/CMIP5_demo_data/hfss_Amon_ACCESS1-0_historical_r1i1p1_185001-200512.nc', 'enso_data/CMIP5_demo_data/rlus_Amon_ACCESS1-0_historical_r1i1p1_185001-200512.nc', 'enso_data/CMIP5_demo_data/psl_Amon_ACCESS1-0_historical_r1i1p1_185001-200512.nc', 'enso_data/CMIP5_demo_data/rsut_Amon_ACCESS1-0_historical_r1i1p1_185001-200512.nc']\n",
      "path:  enso_data/CMIP5_demo_data/sftlf_fx_ACCESS1-0_amip_r0i0p0.nc\n",
      "file_list:  ['enso_data/CMIP5_demo_data/sftlf_fx_ACCESS1-0_amip_r0i0p0.nc']\n",
      "path:  enso_data/CMIP5_demo_data/sftlf_fx_ACCESS1-0_amip_r0i0p0.nc\n",
      "file_list:  ['enso_data/CMIP5_demo_data/sftlf_fx_ACCESS1-0_amip_r0i0p0.nc']\n",
      "PMPdriver: var loop end\n",
      " --- var:  sst  ---\n",
      "var_in_file: ts\n",
      "var, areacell_in_file, realm: sst areacella atmos\n",
      "path:  enso_data/CMIP5_demo_data/*_Amon_ACCESS1-0_historical_r1i1p1_185001-200512.nc\n",
      "file_list:  ['enso_data/CMIP5_demo_data/rlds_Amon_ACCESS1-0_historical_r1i1p1_185001-200512.nc', 'enso_data/CMIP5_demo_data/rsus_Amon_ACCESS1-0_historical_r1i1p1_185001-200512.nc', 'enso_data/CMIP5_demo_data/ts_Amon_ACCESS1-0_historical_r1i1p1_185001-200512.nc', 'enso_data/CMIP5_demo_data/hfls_Amon_ACCESS1-0_historical_r1i1p1_185001-200512.nc', 'enso_data/CMIP5_demo_data/tauu_Amon_ACCESS1-0_historical_r1i1p1_185001-200512.nc', 'enso_data/CMIP5_demo_data/pr_Amon_ACCESS1-0_historical_r1i1p1_185001-200512.nc', 'enso_data/CMIP5_demo_data/rlut_Amon_ACCESS1-0_historical_r1i1p1_185001-200512.nc', 'enso_data/CMIP5_demo_data/rsdt_Amon_ACCESS1-0_historical_r1i1p1_185001-200512.nc', 'enso_data/CMIP5_demo_data/rsds_Amon_ACCESS1-0_historical_r1i1p1_185001-200512.nc', 'enso_data/CMIP5_demo_data/hfss_Amon_ACCESS1-0_historical_r1i1p1_185001-200512.nc', 'enso_data/CMIP5_demo_data/rlus_Amon_ACCESS1-0_historical_r1i1p1_185001-200512.nc', 'enso_data/CMIP5_demo_data/psl_Amon_ACCESS1-0_historical_r1i1p1_185001-200512.nc', 'enso_data/CMIP5_demo_data/rsut_Amon_ACCESS1-0_historical_r1i1p1_185001-200512.nc']\n",
      "Multiple files detected in get_file function. file_list:  ['enso_data/CMIP5_demo_data/rlds_Amon_ACCESS1-0_historical_r1i1p1_185001-200512.nc', 'enso_data/CMIP5_demo_data/rsus_Amon_ACCESS1-0_historical_r1i1p1_185001-200512.nc', 'enso_data/CMIP5_demo_data/ts_Amon_ACCESS1-0_historical_r1i1p1_185001-200512.nc', 'enso_data/CMIP5_demo_data/hfls_Amon_ACCESS1-0_historical_r1i1p1_185001-200512.nc', 'enso_data/CMIP5_demo_data/tauu_Amon_ACCESS1-0_historical_r1i1p1_185001-200512.nc', 'enso_data/CMIP5_demo_data/pr_Amon_ACCESS1-0_historical_r1i1p1_185001-200512.nc', 'enso_data/CMIP5_demo_data/rlut_Amon_ACCESS1-0_historical_r1i1p1_185001-200512.nc', 'enso_data/CMIP5_demo_data/rsdt_Amon_ACCESS1-0_historical_r1i1p1_185001-200512.nc', 'enso_data/CMIP5_demo_data/rsds_Amon_ACCESS1-0_historical_r1i1p1_185001-200512.nc', 'enso_data/CMIP5_demo_data/hfss_Amon_ACCESS1-0_historical_r1i1p1_185001-200512.nc', 'enso_data/CMIP5_demo_data/rlus_Amon_ACCESS1-0_historical_r1i1p1_185001-200512.nc', 'enso_data/CMIP5_demo_data/psl_Amon_ACCESS1-0_historical_r1i1p1_185001-200512.nc', 'enso_data/CMIP5_demo_data/rsut_Amon_ACCESS1-0_historical_r1i1p1_185001-200512.nc']\n",
      "path:  enso_data/CMIP5_demo_data/sftlf_fx_ACCESS1-0_amip_r0i0p0.nc\n",
      "file_list:  ['enso_data/CMIP5_demo_data/sftlf_fx_ACCESS1-0_amip_r0i0p0.nc']\n",
      "path:  enso_data/CMIP5_demo_data/sftlf_fx_ACCESS1-0_amip_r0i0p0.nc\n",
      "file_list:  ['enso_data/CMIP5_demo_data/sftlf_fx_ACCESS1-0_amip_r0i0p0.nc']\n",
      "PMPdriver: var loop end\n",
      " --- var:  taux  ---\n",
      "var_in_file: tauu\n",
      "var, areacell_in_file, realm: taux areacella atmos\n",
      "path:  enso_data/CMIP5_demo_data/*_Amon_ACCESS1-0_historical_r1i1p1_185001-200512.nc\n",
      "file_list:  ['enso_data/CMIP5_demo_data/rlds_Amon_ACCESS1-0_historical_r1i1p1_185001-200512.nc', 'enso_data/CMIP5_demo_data/rsus_Amon_ACCESS1-0_historical_r1i1p1_185001-200512.nc', 'enso_data/CMIP5_demo_data/ts_Amon_ACCESS1-0_historical_r1i1p1_185001-200512.nc', 'enso_data/CMIP5_demo_data/hfls_Amon_ACCESS1-0_historical_r1i1p1_185001-200512.nc', 'enso_data/CMIP5_demo_data/tauu_Amon_ACCESS1-0_historical_r1i1p1_185001-200512.nc', 'enso_data/CMIP5_demo_data/pr_Amon_ACCESS1-0_historical_r1i1p1_185001-200512.nc', 'enso_data/CMIP5_demo_data/rlut_Amon_ACCESS1-0_historical_r1i1p1_185001-200512.nc', 'enso_data/CMIP5_demo_data/rsdt_Amon_ACCESS1-0_historical_r1i1p1_185001-200512.nc', 'enso_data/CMIP5_demo_data/rsds_Amon_ACCESS1-0_historical_r1i1p1_185001-200512.nc', 'enso_data/CMIP5_demo_data/hfss_Amon_ACCESS1-0_historical_r1i1p1_185001-200512.nc', 'enso_data/CMIP5_demo_data/rlus_Amon_ACCESS1-0_historical_r1i1p1_185001-200512.nc', 'enso_data/CMIP5_demo_data/psl_Amon_ACCESS1-0_historical_r1i1p1_185001-200512.nc', 'enso_data/CMIP5_demo_data/rsut_Amon_ACCESS1-0_historical_r1i1p1_185001-200512.nc']\n",
      "Multiple files detected in get_file function. file_list:  ['enso_data/CMIP5_demo_data/rlds_Amon_ACCESS1-0_historical_r1i1p1_185001-200512.nc', 'enso_data/CMIP5_demo_data/rsus_Amon_ACCESS1-0_historical_r1i1p1_185001-200512.nc', 'enso_data/CMIP5_demo_data/ts_Amon_ACCESS1-0_historical_r1i1p1_185001-200512.nc', 'enso_data/CMIP5_demo_data/hfls_Amon_ACCESS1-0_historical_r1i1p1_185001-200512.nc', 'enso_data/CMIP5_demo_data/tauu_Amon_ACCESS1-0_historical_r1i1p1_185001-200512.nc', 'enso_data/CMIP5_demo_data/pr_Amon_ACCESS1-0_historical_r1i1p1_185001-200512.nc', 'enso_data/CMIP5_demo_data/rlut_Amon_ACCESS1-0_historical_r1i1p1_185001-200512.nc', 'enso_data/CMIP5_demo_data/rsdt_Amon_ACCESS1-0_historical_r1i1p1_185001-200512.nc', 'enso_data/CMIP5_demo_data/rsds_Amon_ACCESS1-0_historical_r1i1p1_185001-200512.nc', 'enso_data/CMIP5_demo_data/hfss_Amon_ACCESS1-0_historical_r1i1p1_185001-200512.nc', 'enso_data/CMIP5_demo_data/rlus_Amon_ACCESS1-0_historical_r1i1p1_185001-200512.nc', 'enso_data/CMIP5_demo_data/psl_Amon_ACCESS1-0_historical_r1i1p1_185001-200512.nc', 'enso_data/CMIP5_demo_data/rsut_Amon_ACCESS1-0_historical_r1i1p1_185001-200512.nc']\n",
      "path:  enso_data/CMIP5_demo_data/sftlf_fx_ACCESS1-0_amip_r0i0p0.nc\n",
      "file_list:  ['enso_data/CMIP5_demo_data/sftlf_fx_ACCESS1-0_amip_r0i0p0.nc']\n",
      "path:  enso_data/CMIP5_demo_data/sftlf_fx_ACCESS1-0_amip_r0i0p0.nc\n",
      "file_list:  ['enso_data/CMIP5_demo_data/sftlf_fx_ACCESS1-0_amip_r0i0p0.nc']\n",
      "PMPdriver: var loop end\n",
      "dictDatasets:\n",
      "{\n",
      "    \"model\": {\n",
      "        \"ACCESS1-0_r1i1p1\": {\n",
      "            \"pr\": {\n",
      "                \"areaname\": \"areacella\",\n",
      "                \"landmaskname\": \"sftlf\",\n",
      "                \"path + filename\": \"enso_data/CMIP5_demo_data/hfls_Amon_ACCESS1-0_historical_r1i1p1_185001-200512.nc\",\n",
      "                \"path + filename_area\": \"enso_data/CMIP5_demo_data/sftlf_fx_ACCESS1-0_amip_r0i0p0.nc\",\n",
      "                \"path + filename_landmask\": \"enso_data/CMIP5_demo_data/sftlf_fx_ACCESS1-0_amip_r0i0p0.nc\",\n",
      "                \"varname\": \"pr\"\n",
      "            },\n",
      "            \"sst\": {\n",
      "                \"areaname\": \"areacella\",\n",
      "                \"landmaskname\": \"sftlf\",\n",
      "                \"path + filename\": \"enso_data/CMIP5_demo_data/hfls_Amon_ACCESS1-0_historical_r1i1p1_185001-200512.nc\",\n",
      "                \"path + filename_area\": \"enso_data/CMIP5_demo_data/sftlf_fx_ACCESS1-0_amip_r0i0p0.nc\",\n",
      "                \"path + filename_landmask\": \"enso_data/CMIP5_demo_data/sftlf_fx_ACCESS1-0_amip_r0i0p0.nc\",\n",
      "                \"varname\": \"ts\"\n",
      "            },\n",
      "            \"taux\": {\n",
      "                \"areaname\": \"areacella\",\n",
      "                \"landmaskname\": \"sftlf\",\n",
      "                \"path + filename\": \"enso_data/CMIP5_demo_data/hfls_Amon_ACCESS1-0_historical_r1i1p1_185001-200512.nc\",\n",
      "                \"path + filename_area\": \"enso_data/CMIP5_demo_data/sftlf_fx_ACCESS1-0_amip_r0i0p0.nc\",\n",
      "                \"path + filename_landmask\": \"enso_data/CMIP5_demo_data/sftlf_fx_ACCESS1-0_amip_r0i0p0.nc\",\n",
      "                \"varname\": \"tauu\"\n",
      "            }\n",
      "        }\n",
      "    },\n",
      "    \"observations\": {\n",
      "        \"20CR\": {\n",
      "            \"sst\": {\n",
      "                \"areaname\": \"areacella\",\n",
      "                \"landmaskname\": \"sftlf\",\n",
      "                \"path + filename\": \"enso_data/PCMDIobs2/atmos/mon/ts/20CR/gn/v20200707/ts_mon_20CR_BE_gn_v20200707_187101-201212.nc\",\n",
      "                \"path + filename_area\": null,\n",
      "                \"path + filename_landmask\": null,\n",
      "                \"varname\": \"ts\"\n",
      "            }\n",
      "        },\n",
      "        \"CMAP-V1902\": {\n",
      "            \"pr\": {\n",
      "                \"areaname\": \"areacella\",\n",
      "                \"landmaskname\": \"sftlf\",\n",
      "                \"path + filename\": \"enso_data/PCMDIobs2/atmos/mon/pr/CMAP-V1902/gn/v20200707/pr_mon_CMAP-V1902_BE_gn_v20200707_197901-201901.nc\",\n",
      "                \"path + filename_area\": null,\n",
      "                \"path + filename_landmask\": null,\n",
      "                \"varname\": \"pr\"\n",
      "            }\n",
      "        },\n",
      "        \"ERA-20C\": {\n",
      "            \"sst\": {\n",
      "                \"areaname\": \"areacella\",\n",
      "                \"landmaskname\": \"sftlf\",\n",
      "                \"path + filename\": \"enso_data/PCMDIobs2/atmos/mon/ts/ERA-20C/gn/v20200707/ts_mon_ERA-20C_BE_gn_v20200707_190001-201012.nc\",\n",
      "                \"path + filename_area\": null,\n",
      "                \"path + filename_landmask\": null,\n",
      "                \"varname\": \"ts\"\n",
      "            }\n",
      "        },\n",
      "        \"ERA-5\": {\n",
      "            \"sst\": {\n",
      "                \"areaname\": \"areacella\",\n",
      "                \"landmaskname\": \"sftlf\",\n",
      "                \"path + filename\": \"enso_data/PCMDIobs2/atmos/mon/ts/ERA-5/gn/v20200707/ts_mon_ERA-5_BE_gn_v20200707_197901-201912.nc\",\n",
      "                \"path + filename_area\": null,\n",
      "                \"path + filename_landmask\": null,\n",
      "                \"varname\": \"ts\"\n",
      "            }\n",
      "        },\n",
      "        \"ERA-INT\": {\n",
      "            \"pr\": {\n",
      "                \"areaname\": \"areacella\",\n",
      "                \"landmaskname\": \"sftlf\",\n",
      "                \"path + filename\": \"enso_data/PCMDIobs2/atmos/mon/pr/ERA-INT/gn/v20200707/pr_mon_ERA-INT_BE_gn_v20200707_197901-201903.nc\",\n",
      "                \"path + filename_area\": null,\n",
      "                \"path + filename_landmask\": null,\n",
      "                \"varname\": \"pr\"\n",
      "            },\n",
      "            \"sst\": {\n",
      "                \"areaname\": \"areacella\",\n",
      "                \"landmaskname\": \"sftlf\",\n",
      "                \"path + filename\": \"enso_data/PCMDIobs2/atmos/mon/ts/ERA-INT/gn/v20200707/ts_mon_ERA-INT_BE_gn_v20200707_197901-201903.nc\",\n",
      "                \"path + filename_area\": null,\n",
      "                \"path + filename_landmask\": null,\n",
      "                \"varname\": \"ts\"\n",
      "            },\n",
      "            \"taux\": {\n",
      "                \"areaname\": \"areacella\",\n",
      "                \"landmaskname\": \"sftlf\",\n",
      "                \"path + filename\": \"enso_data/PCMDIobs2/atmos/mon/tauu/ERA-INT/gn/v20200707/tauu_mon_ERA-INT_BE_gn_v20200707_197901-201903.nc\",\n",
      "                \"path + filename_area\": null,\n",
      "                \"path + filename_landmask\": null,\n",
      "                \"varname\": \"tauu\"\n",
      "            }\n",
      "        },\n",
      "        \"GPCP-2-3\": {\n",
      "            \"pr\": {\n",
      "                \"areaname\": \"areacella\",\n",
      "                \"landmaskname\": \"sftlf\",\n",
      "                \"path + filename\": \"enso_data/PCMDIobs2/atmos/mon/pr/GPCP-2-3/gn/v20200707/pr_mon_GPCP-2-3_BE_gn_v20200707_197901-201907.nc\",\n",
      "                \"path + filename_area\": null,\n",
      "                \"path + filename_landmask\": null,\n",
      "                \"varname\": \"pr\"\n",
      "            }\n",
      "        },\n",
      "        \"HadISST-1-1\": {\n",
      "            \"sst\": {\n",
      "                \"areaname\": \"areacella\",\n",
      "                \"landmaskname\": \"sftlf\",\n",
      "                \"path + filename\": \"enso_data/PCMDIobs2/atmos/mon/ts/HadISST-1-1/gn/v20200707/ts_mon_HadISST-1-1_BE_gn_v20200707_187001-201907.nc\",\n",
      "                \"path + filename_area\": null,\n",
      "                \"path + filename_landmask\": null,\n",
      "                \"varname\": \"ts\"\n",
      "            }\n",
      "        },\n",
      "        \"TropFlux-1-0\": {\n",
      "            \"sst\": {\n",
      "                \"areaname\": \"areacella\",\n",
      "                \"landmaskname\": \"sftlf\",\n",
      "                \"path + filename\": \"enso_data/PCMDIobs2/atmos/mon/ts/TropFlux-1-0/gn/v20200707/ts_mon_TropFlux-1-0_BE_gn_v20200707_197901-201707.nc\",\n",
      "                \"path + filename_area\": null,\n",
      "                \"path + filename_landmask\": null,\n",
      "                \"varname\": \"ts\"\n",
      "            },\n",
      "            \"taux\": {\n",
      "                \"areaname\": \"areacella\",\n",
      "                \"landmaskname\": \"sftlf\",\n",
      "                \"path + filename\": \"enso_data/PCMDIobs2/atmos/mon/tauu/TropFlux-1-0/gn/v20200707/tauu_mon_TropFlux-1-0_BE_gn_v20200707_197901-201707.nc\",\n",
      "                \"path + filename_area\": null,\n",
      "                \"path + filename_landmask\": null,\n",
      "                \"varname\": \"tauu\"\n",
      "            }\n",
      "        }\n",
      "    }\n",
      "}\n",
      "\n",
      "### Compute the metric collection ###\n",
      "\n",
      "\u001b[94m     ComputeCollection: metric = BiasPrLatRmse\u001b[0m\n",
      "\u001b[94m     ComputeMetric: oneVarRMSmetric, BiasPrLatRmse = ACCESS1-0_r1i1p1 and CMAP-V1902\u001b[0m\n",
      "No such variable, pr\n",
      "\u001b[94m     ComputeCollection: metric = BiasPrLonRmse\u001b[0m\n",
      "\u001b[94m     ComputeMetric: oneVarRMSmetric, BiasPrLonRmse = ACCESS1-0_r1i1p1 and CMAP-V1902\u001b[0m\n",
      "No such variable, pr\n",
      "\u001b[94m     ComputeCollection: metric = BiasSstLonRmse\u001b[0m\n",
      "\u001b[94m     ComputeMetric: oneVarRMSmetric, BiasSstLonRmse = ACCESS1-0_r1i1p1 and 20CR\u001b[0m\n",
      "No such variable, ts\n",
      "\u001b[94m     ComputeCollection: metric = BiasTauxLonRmse\u001b[0m\n",
      "\u001b[94m     ComputeMetric: oneVarRMSmetric, BiasTauxLonRmse = ACCESS1-0_r1i1p1 and ERA-INT\u001b[0m\n",
      "No such variable, tauu\n",
      "\u001b[94m     ComputeCollection: metric = EnsoAmpl\u001b[0m\n",
      "\u001b[94m     ComputeMetric: oneVarmetric = ACCESS1-0_r1i1p1\u001b[0m\n",
      "No such variable, ts\n",
      "\u001b[94m     ComputeCollection: metric = EnsoDuration\u001b[0m\n",
      "\u001b[94m     ComputeMetric: oneVarmetric = ACCESS1-0_r1i1p1\u001b[0m\n",
      "No such variable, ts\n",
      "\u001b[94m     ComputeCollection: metric = EnsoSeasonality\u001b[0m\n",
      "\u001b[94m     ComputeMetric: oneVarmetric = ACCESS1-0_r1i1p1\u001b[0m\n",
      "No such variable, ts\n",
      "\u001b[94m     ComputeCollection: metric = EnsoSstDiversity_2\u001b[0m\n",
      "\u001b[94m     ComputeMetric: oneVarmetric = ACCESS1-0_r1i1p1\u001b[0m\n",
      "No such variable, ts\n",
      "\u001b[94m     ComputeCollection: metric = EnsoSstLonRmse\u001b[0m\n",
      "\u001b[94m     ComputeMetric: oneVarRMSmetric, EnsoSstLonRmse = ACCESS1-0_r1i1p1 and 20CR\u001b[0m\n",
      "No such variable, ts\n",
      "\u001b[94m     ComputeCollection: metric = EnsoSstSkew\u001b[0m\n",
      "\u001b[94m     ComputeMetric: oneVarmetric = ACCESS1-0_r1i1p1\u001b[0m\n",
      "No such variable, ts\n",
      "\u001b[94m     ComputeCollection: metric = EnsoSstTsRmse\u001b[0m\n",
      "\u001b[94m     ComputeMetric: oneVarRMSmetric, EnsoSstTsRmse = ACCESS1-0_r1i1p1 and 20CR\u001b[0m\n",
      "No such variable, ts\n",
      "\u001b[94m     ComputeCollection: metric = SeasonalPrLatRmse\u001b[0m\n",
      "\u001b[94m     ComputeMetric: oneVarRMSmetric, SeasonalPrLatRmse = ACCESS1-0_r1i1p1 and CMAP-V1902\u001b[0m\n",
      "No such variable, pr\n",
      "\u001b[94m     ComputeCollection: metric = SeasonalPrLonRmse\u001b[0m\n",
      "\u001b[94m     ComputeMetric: oneVarRMSmetric, SeasonalPrLonRmse = ACCESS1-0_r1i1p1 and CMAP-V1902\u001b[0m\n",
      "No such variable, pr\n",
      "\u001b[94m     ComputeCollection: metric = SeasonalSstLonRmse\u001b[0m\n",
      "\u001b[94m     ComputeMetric: oneVarRMSmetric, SeasonalSstLonRmse = ACCESS1-0_r1i1p1 and 20CR\u001b[0m\n",
      "No such variable, ts\n",
      "\u001b[94m     ComputeCollection: metric = SeasonalTauxLonRmse\u001b[0m\n",
      "\u001b[94m     ComputeMetric: oneVarRMSmetric, SeasonalTauxLonRmse = ACCESS1-0_r1i1p1 and ERA-INT\u001b[0m\n",
      "No such variable, tauu\n",
      "PMPdriver: model loop end\n"
     ]
    },
    {
     "name": "stderr",
     "output_type": "stream",
     "text": [
      "INFO::2021-05-26 14:41::pcmdi_metrics:: Results saved to a json file: /Users/ordonez4/Documents/git/pcmdi_metrics/doc/jupyter/Demo/enso_output/basicTestEnso/cmip5_historical_ENSO_perf_basicTestEnso_ACCESS1-0_r1i1p1.json\n",
      "INFO::2021-05-26 14:41::pcmdi_metrics:: Results saved to a json file: /Users/ordonez4/Documents/git/pcmdi_metrics/doc/jupyter/Demo/enso_output/basicTestEnso/cmip5_historical_ENSO_perf_basicTestEnso_ACCESS1-0_r1i1p1_diveDown.json\n"
     ]
    }
   ],
   "source": [
    "%%bash\n",
    "enso_driver.py -p basic_enso_param.py"
   ]
  },
  {
   "cell_type": "code",
   "execution_count": null,
   "metadata": {},
   "outputs": [],
   "source": []
  }
 ],
 "metadata": {
  "kernelspec": {
   "display_name": "Python 3",
   "language": "python",
   "name": "python3"
  },
  "language_info": {
   "codemirror_mode": {
    "name": "ipython",
    "version": 3
   },
   "file_extension": ".py",
   "mimetype": "text/x-python",
   "name": "python",
   "nbconvert_exporter": "python",
   "pygments_lexer": "ipython3",
   "version": "3.8.6"
  }
 },
 "nbformat": 4,
 "nbformat_minor": 5
}
