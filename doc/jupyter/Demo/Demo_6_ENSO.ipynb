{
 "cells": [
  {
   "cell_type": "markdown",
   "metadata": {},
   "source": [
    "# ENSO"
   ]
  },
  {
   "cell_type": "markdown",
   "metadata": {},
   "source": [
    "This notebook provides an overview of running the modes of variability module. More information can be found in the [README](https://github.com/PCMDI/pcmdi_metrics/tree/master/pcmdi_metrics/variability_mode). Example parameter files are located in the [PMP sample setups](https://github.com/PCMDI/pcmdi_metrics/tree/master/sample_setups/pcmdi_parameter_files/variability_modes). \n",
    "\n",
    "It is expected that the user has run the Demo_0_download_data notebook to obtain the sample data and generate parameter files. This first cell loads the demo directory choices made in Demo_0_download_data."
   ]
  },
  {
   "cell_type": "code",
   "execution_count": 1,
   "metadata": {},
   "outputs": [],
   "source": [
    "from user_choices import demo_data_directory, demo_output_directory"
   ]
  },
  {
   "cell_type": "markdown",
   "metadata": {},
   "source": [
    "## Environment"
   ]
  },
  {
   "cell_type": "markdown",
   "metadata": {},
   "source": [
    "[ENSO Metrics package](https://github.com/CLIVAR-PRP/ENSO_metrics) installation needed"
   ]
  },
  {
   "cell_type": "code",
   "execution_count": 2,
   "metadata": {
    "scrolled": true
   },
   "outputs": [
    {
     "data": {
      "text/plain": [
       "'\\ngit clone https://github.com/CLIVAR-PRP/ENSO_metrics.git\\ncd ENSO_metrics\\npython setup.py install\\n'"
      ]
     },
     "execution_count": 2,
     "metadata": {},
     "output_type": "execute_result"
    }
   ],
   "source": [
    "\"\"\"\n",
    "git clone https://github.com/CLIVAR-PRP/ENSO_metrics.git\n",
    "cd ENSO_metrics\n",
    "python setup.py install\n",
    "\"\"\""
   ]
  },
  {
   "cell_type": "markdown",
   "metadata": {},
   "source": [
    "## Usage"
   ]
  },
  {
   "cell_type": "markdown",
   "metadata": {},
   "source": [
    "ENSO can be run on the command line or with using a parameter file"
   ]
  },
  {
   "cell_type": "markdown",
   "metadata": {},
   "source": [
    "For help, type:  \n",
    "```\n",
    "enso_driver.py --help\n",
    "```"
   ]
  },
  {
   "cell_type": "code",
   "execution_count": 3,
   "metadata": {},
   "outputs": [
    {
     "name": "stdout",
     "output_type": "stream",
     "text": [
      "usage: enso_driver.py [-h] [--parameters PARAMETERS]\n",
      "                      [--diags OTHER_PARAMETERS [OTHER_PARAMETERS ...]]\n",
      "                      [--mip MIP] [--exp EXP] [--modpath MODPATH]\n",
      "                      [--modpath_lf MODPATH_LF]\n",
      "                      [--modnames MODNAMES [MODNAMES ...]] [-r REALIZATION]\n",
      "                      [--reference_data_path REFERENCE_DATA_PATH]\n",
      "                      [--reference_data_lf_path REFERENCE_DATA_LF_PATH]\n",
      "                      [--metricsCollection METRICSCOLLECTION]\n",
      "                      [--json_name JSON_NAME] [--netcdf_name NETCDF_NAME]\n",
      "                      [--results_dir RESULTS_DIR] [--case_id CASE_ID]\n",
      "                      [--obs_catalogue OBS_CATALOGUE]\n",
      "                      [--obs_cmor_path OBS_CMOR_PATH] [-d [DEBUG]]\n",
      "                      [--obs_cmor [OBS_CMOR]] [--nc_out [NC_OUT]]\n",
      "\n",
      "optional arguments:\n",
      "  -h, --help            show this help message and exit\n",
      "  --parameters PARAMETERS, -p PARAMETERS\n",
      "  --diags OTHER_PARAMETERS [OTHER_PARAMETERS ...]\n",
      "                        Path to other user-defined parameter file. (default:\n",
      "                        None)\n",
      "  --mip MIP             A WCRP MIP project such as CMIP3 and CMIP5 (default:\n",
      "                        cmip5)\n",
      "  --exp EXP             An experiment such as AMIP, historical or pi-contorl\n",
      "                        (default: historical)\n",
      "  --modpath MODPATH, --mp MODPATH\n",
      "                        Explicit path to model data (default: None)\n",
      "  --modpath_lf MODPATH_LF\n",
      "                        Directory path to model land fraction field (default:\n",
      "                        None)\n",
      "  --modnames MODNAMES [MODNAMES ...]\n",
      "                        List of models (default: None)\n",
      "  -r REALIZATION, --realization REALIZATION\n",
      "                        Consider all accessible realizations as idividual -\n",
      "                        r1i1p1: default, consider only 'r1i1p1' member Or,\n",
      "                        specify realization, e.g, r3i1p1' - *: consider all\n",
      "                        available realizations (default: r1i1p1)\n",
      "  --reference_data_path REFERENCE_DATA_PATH, --rdp REFERENCE_DATA_PATH\n",
      "                        The path/filename of reference (obs) data. (default:\n",
      "                        None)\n",
      "  --reference_data_lf_path REFERENCE_DATA_LF_PATH\n",
      "                        Data path to land fraction of reference dataset\n",
      "                        (default: None)\n",
      "  --metricsCollection METRICSCOLLECTION\n",
      "                        Metrics Collection e.g. ENSO_perf, ENSO_tel, or\n",
      "                        ENSO_proc (default: ENSO_perf)\n",
      "  --json_name JSON_NAME\n",
      "                        File name for output JSON (default: None)\n",
      "  --netcdf_name NETCDF_NAME\n",
      "                        File name for output NetCDF (default: None)\n",
      "  --results_dir RESULTS_DIR, --rd RESULTS_DIR\n",
      "                        The name of the folder where all runs will be stored.\n",
      "                        (default: None)\n",
      "  --case_id CASE_ID     version as date, e.g., v20191116 (yyyy-mm-dd)\n",
      "                        (default: v20210427)\n",
      "  --obs_catalogue OBS_CATALOGUE\n",
      "                        obs_catalogue JSON file for CMORized observation,\n",
      "                        default is None (default: None)\n",
      "  --obs_cmor_path OBS_CMOR_PATH\n",
      "                        Directory path for CMORized observation dataset,\n",
      "                        default is None (default: None)\n",
      "  -d [DEBUG], --debug [DEBUG]\n",
      "                        Option for debug: True / False (defualt) (default:\n",
      "                        False)\n",
      "  --obs_cmor [OBS_CMOR]\n",
      "                        Use CMORized reference database?: True / False\n",
      "                        (defualt) (default: False)\n",
      "  --nc_out [NC_OUT]     Option for generate netCDF file output: True (default)\n",
      "                        / False (default: True)\n"
     ]
    }
   ],
   "source": [
    "%%bash\n",
    "enso_driver.py --help"
   ]
  },
  {
   "cell_type": "markdown",
   "metadata": {},
   "source": [
    "## Basic example"
   ]
  }
 ],
 "metadata": {
  "kernelspec": {
   "display_name": "Python 3",
   "language": "python",
   "name": "python3"
  },
  "language_info": {
   "codemirror_mode": {
    "name": "ipython",
    "version": 3
   },
   "file_extension": ".py",
   "mimetype": "text/x-python",
   "name": "python",
   "nbconvert_exporter": "python",
   "pygments_lexer": "ipython3",
   "version": "3.8.6"
  }
 },
 "nbformat": 4,
 "nbformat_minor": 5
}
