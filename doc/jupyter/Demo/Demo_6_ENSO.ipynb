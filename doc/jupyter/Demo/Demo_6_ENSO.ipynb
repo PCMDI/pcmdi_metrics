{
 "cells": [
  {
   "cell_type": "markdown",
   "metadata": {},
   "source": [
    "# ENSO"
   ]
  },
  {
   "cell_type": "markdown",
   "metadata": {},
   "source": [
    "This notebook provides an overview of running the modes of variability module. More information can be found in the [README](https://github.com/PCMDI/pcmdi_metrics/tree/master/pcmdi_metrics/variability_mode). Example parameter files are located in the [PMP sample setups](https://github.com/PCMDI/pcmdi_metrics/tree/master/sample_setups/pcmdi_parameter_files/variability_modes). \n",
    "\n",
    "It is expected that the user has run the Demo_0_download_data notebook to obtain the sample data and generate parameter files. This first cell loads the demo directory choices made in Demo_0_download_data."
   ]
  },
  {
   "cell_type": "markdown",
   "metadata": {},
   "source": [
    "## Download demo data"
   ]
  },
  {
   "cell_type": "code",
   "execution_count": 1,
   "metadata": {},
   "outputs": [],
   "source": [
    "# Lets get the file containing the data needed for this demo\n",
    "import requests\n",
    "r = requests.get(\"https://pcmdiweb.llnl.gov/pss/pmpdata/pmp_enso_tutorial_files.txt\")\n",
    "with open(\"enso_data_files.txt\",\"wb\") as f:\n",
    "    f.write(r.content)"
   ]
  },
  {
   "cell_type": "code",
   "execution_count": 2,
   "metadata": {},
   "outputs": [],
   "source": [
    "# This is where you will be downloading the sample_data\n",
    "demo_data_directory = \"demo_data\"\n",
    "# this line is where your output will be stored\n",
    "demo_output_directory = \"deom_output\""
   ]
  },
  {
   "cell_type": "code",
   "execution_count": 18,
   "metadata": {},
   "outputs": [
    {
     "name": "stdout",
     "output_type": "stream",
     "text": [
      "MD5: enso_data_files.txt\n",
      "Downloading: 'PCMDIobs2/atmos/mon/rsds/ERA-INT/gn/v20200707/rsds_mon_ERA-INT_BE_gn_v20200707_197901-201903.nc' from 'https://pcmdiweb.llnl.gov/pss/pmpdata/' in: demo_data/PCMDIobs2/atmos/mon/rsds/ERA-INT/gn/v20200707/rsds_mon_ERA-INT_BE_gn_v20200707_197901-201903.nc\n",
      "Downloading: 'PCMDIobs2/atmos/mon/rsus/ERA-INT/gn/v20200707/rsus_mon_ERA-INT_BE_gn_v20200707_197901-201903.nc' from 'https://pcmdiweb.llnl.gov/pss/pmpdata/' in: demo_data/PCMDIobs2/atmos/mon/rsus/ERA-INT/gn/v20200707/rsus_mon_ERA-INT_BE_gn_v20200707_197901-201903.nc\n",
      "Downloading: 'PCMDIobs2/atmos/mon/sfcWind/ERA-INT/gn/v20200707/sfcWind_mon_ERA-INT_BE_gn_v20200707_197901-201903.nc' from 'https://pcmdiweb.llnl.gov/pss/pmpdata/' in: demo_data/PCMDIobs2/atmos/mon/sfcWind/ERA-INT/gn/v20200707/sfcWind_mon_ERA-INT_BE_gn_v20200707_197901-201903.nc\n",
      "Downloading: 'PCMDIobs2/atmos/mon/ta/ERA-INT/gn/v20200707/ta_mon_ERA-INT_BE_gn_v20200707_198901-201001.nc' from 'https://pcmdiweb.llnl.gov/pss/pmpdata/' in: demo_data/PCMDIobs2/atmos/mon/ta/ERA-INT/gn/v20200707/ta_mon_ERA-INT_BE_gn_v20200707_198901-201001.nc\n",
      "Downloading: 'PCMDIobs2/atmos/mon/tauu/ERA-INT/gn/v20200707/tauu_mon_ERA-INT_BE_gn_v20200707_197901-201903.nc' from 'https://pcmdiweb.llnl.gov/pss/pmpdata/' in: demo_data/PCMDIobs2/atmos/mon/tauu/ERA-INT/gn/v20200707/tauu_mon_ERA-INT_BE_gn_v20200707_197901-201903.nc\n",
      "Downloading: 'PCMDIobs2/atmos/mon/tauv/ERA-INT/gn/v20200707/tauv_mon_ERA-INT_BE_gn_v20200707_197901-201903.nc' from 'https://pcmdiweb.llnl.gov/pss/pmpdata/' in: demo_data/PCMDIobs2/atmos/mon/tauv/ERA-INT/gn/v20200707/tauv_mon_ERA-INT_BE_gn_v20200707_197901-201903.nc\n",
      "Downloading: 'PCMDIobs2/atmos/mon/ts/ERA-INT/gn/v20200707/ts_mon_ERA-INT_BE_gn_v20200707_197901-201903.nc' from 'https://pcmdiweb.llnl.gov/pss/pmpdata/' in: demo_data/PCMDIobs2/atmos/mon/ts/ERA-INT/gn/v20200707/ts_mon_ERA-INT_BE_gn_v20200707_197901-201903.nc\n",
      "Downloading: 'PCMDIobs2/atmos/mon/ua/ERA-INT/gn/v20200707/ua_mon_ERA-INT_BE_gn_v20200707_198901-201001.nc' from 'https://pcmdiweb.llnl.gov/pss/pmpdata/' in: demo_data/PCMDIobs2/atmos/mon/ua/ERA-INT/gn/v20200707/ua_mon_ERA-INT_BE_gn_v20200707_198901-201001.nc\n",
      "Downloading: 'PCMDIobs2/atmos/mon/uas/ERA-INT/gn/v20200707/uas_mon_ERA-INT_BE_gn_v20200707_197901-201903.nc' from 'https://pcmdiweb.llnl.gov/pss/pmpdata/' in: demo_data/PCMDIobs2/atmos/mon/uas/ERA-INT/gn/v20200707/uas_mon_ERA-INT_BE_gn_v20200707_197901-201903.nc\n",
      "Downloading: 'PCMDIobs2/atmos/mon/va/ERA-INT/gn/v20200707/va_mon_ERA-INT_BE_gn_v20200707_198901-201001.nc' from 'https://pcmdiweb.llnl.gov/pss/pmpdata/' in: demo_data/PCMDIobs2/atmos/mon/va/ERA-INT/gn/v20200707/va_mon_ERA-INT_BE_gn_v20200707_198901-201001.nc\n",
      "Downloading: 'PCMDIobs2/atmos/mon/vas/ERA-INT/gn/v20200707/vas_mon_ERA-INT_BE_gn_v20200707_197901-201903.nc' from 'https://pcmdiweb.llnl.gov/pss/pmpdata/' in: demo_data/PCMDIobs2/atmos/mon/vas/ERA-INT/gn/v20200707/vas_mon_ERA-INT_BE_gn_v20200707_197901-201903.nc\n",
      "Downloading: 'PCMDIobs2/atmos/mon/zg/ERA-INT/gn/v20200707/zg_mon_ERA-INT_BE_gn_v20200707_198901-201001.nc' from 'https://pcmdiweb.llnl.gov/pss/pmpdata/' in: demo_data/PCMDIobs2/atmos/mon/zg/ERA-INT/gn/v20200707/zg_mon_ERA-INT_BE_gn_v20200707_198901-201001.nc\n",
      "Downloading: 'PCMDIobs2/atmos/mon/hfls/TropFlux-1-0/gn/v20200707/hfls_mon_TropFlux-1-0_BE_gn_v20200707_197901-201707.nc' from 'https://pcmdiweb.llnl.gov/pss/pmpdata/' in: demo_data/PCMDIobs2/atmos/mon/hfls/TropFlux-1-0/gn/v20200707/hfls_mon_TropFlux-1-0_BE_gn_v20200707_197901-201707.nc\n",
      "Downloading: 'PCMDIobs2/atmos/mon/hfns/TropFlux-1-0/gn/v20200707/hfns_mon_TropFlux-1-0_BE_gn_v20200707_197901-201707.nc' from 'https://pcmdiweb.llnl.gov/pss/pmpdata/' in: demo_data/PCMDIobs2/atmos/mon/hfns/TropFlux-1-0/gn/v20200707/hfns_mon_TropFlux-1-0_BE_gn_v20200707_197901-201707.nc\n",
      "Downloading: 'PCMDIobs2/atmos/mon/hfss/TropFlux-1-0/gn/v20200707/hfss_mon_TropFlux-1-0_BE_gn_v20200707_197901-201707.nc' from 'https://pcmdiweb.llnl.gov/pss/pmpdata/' in: demo_data/PCMDIobs2/atmos/mon/hfss/TropFlux-1-0/gn/v20200707/hfss_mon_TropFlux-1-0_BE_gn_v20200707_197901-201707.nc\n",
      "Downloading: 'PCMDIobs2/atmos/mon/tas/TropFlux-1-0/gn/v20200707/tas_mon_TropFlux-1-0_BE_gn_v20200707_197901-201707.nc' from 'https://pcmdiweb.llnl.gov/pss/pmpdata/' in: demo_data/PCMDIobs2/atmos/mon/tas/TropFlux-1-0/gn/v20200707/tas_mon_TropFlux-1-0_BE_gn_v20200707_197901-201707.nc\n",
      "Downloading: 'PCMDIobs2/atmos/mon/tauu/TropFlux-1-0/gn/v20200707/tauu_mon_TropFlux-1-0_BE_gn_v20200707_197901-201707.nc' from 'https://pcmdiweb.llnl.gov/pss/pmpdata/' in: demo_data/PCMDIobs2/atmos/mon/tauu/TropFlux-1-0/gn/v20200707/tauu_mon_TropFlux-1-0_BE_gn_v20200707_197901-201707.nc\n",
      "Downloading: 'PCMDIobs2/atmos/mon/tauv/TropFlux-1-0/gn/v20200707/tauv_mon_TropFlux-1-0_BE_gn_v20200707_197901-201707.nc' from 'https://pcmdiweb.llnl.gov/pss/pmpdata/' in: demo_data/PCMDIobs2/atmos/mon/tauv/TropFlux-1-0/gn/v20200707/tauv_mon_TropFlux-1-0_BE_gn_v20200707_197901-201707.nc\n",
      "Downloading: 'PCMDIobs2/atmos/mon/ts/TropFlux-1-0/gn/v20200707/ts_mon_TropFlux-1-0_BE_gn_v20200707_197901-201707.nc' from 'https://pcmdiweb.llnl.gov/pss/pmpdata/' in: demo_data/PCMDIobs2/atmos/mon/ts/TropFlux-1-0/gn/v20200707/ts_mon_TropFlux-1-0_BE_gn_v20200707_197901-201707.nc\n",
      "Downloading: 'PCMDIobs2/atmos/mon/ts/20CR/gn/v20200707/ts_mon_20CR_BE_gn_v20200707_187101-201212.nc' from 'https://pcmdiweb.llnl.gov/pss/pmpdata/' in: demo_data/PCMDIobs2/atmos/mon/ts/20CR/gn/v20200707/ts_mon_20CR_BE_gn_v20200707_187101-201212.nc\n",
      "Downloading: 'PCMDIobs2/atmos/mon/ts/ERA-20C/gn/v20200707/ts_mon_ERA-20C_BE_gn_v20200707_190001-201012.nc' from 'https://pcmdiweb.llnl.gov/pss/pmpdata/' in: demo_data/PCMDIobs2/atmos/mon/ts/ERA-20C/gn/v20200707/ts_mon_ERA-20C_BE_gn_v20200707_190001-201012.nc\n",
      "Downloading: 'PCMDIobs2/atmos/mon/ts/ERA-5/gn/v20200707/ts_mon_ERA-5_BE_gn_v20200707_197901-201912.nc' from 'https://pcmdiweb.llnl.gov/pss/pmpdata/' in: demo_data/PCMDIobs2/atmos/mon/ts/ERA-5/gn/v20200707/ts_mon_ERA-5_BE_gn_v20200707_197901-201912.nc\n",
      "Downloading: 'PCMDIobs2/atmos/mon/ts/HadISST-1-1/gn/v20210423/ts_mon_HadISST-1-1_BE_gn_v20210423_187001-201907.nc' from 'https://pcmdiweb.llnl.gov/pss/pmpdata/' in: demo_data/PCMDIobs2/atmos/mon/ts/HadISST-1-1/gn/v20210423/ts_mon_HadISST-1-1_BE_gn_v20210423_187001-201907.nc\n",
      "Downloading: 'PCMDIobs2/atmos/mon/pr/CMAP-V1902/gn/v20200707/pr_mon_CMAP-V1902_BE_gn_v20200707_197901-201901.nc' from 'https://pcmdiweb.llnl.gov/pss/pmpdata/' in: demo_data/PCMDIobs2/atmos/mon/pr/CMAP-V1902/gn/v20200707/pr_mon_CMAP-V1902_BE_gn_v20200707_197901-201901.nc\n",
      "Downloading: 'PCMDIobs2/atmos/mon/pr/TRMM-3B43v-7/gn/v20200707/pr_mon_TRMM-3B43v-7_BE_gn_v20200707_199801-201712.nc' from 'https://pcmdiweb.llnl.gov/pss/pmpdata/' in: demo_data/PCMDIobs2/atmos/mon/pr/TRMM-3B43v-7/gn/v20200707/pr_mon_TRMM-3B43v-7_BE_gn_v20200707_199801-201712.nc\n",
      "Downloading: 'PCMDIobs2/ocean/mon/zos/AVISO-1-0/gn/v20210422/zos_mon_AVISO-1-0_BE_gn_v20210422_199301-201912.nc' from 'https://pcmdiweb.llnl.gov/pss/pmpdata/' in: demo_data/PCMDIobs2/ocean/mon/zos/AVISO-1-0/gn/v20210422/zos_mon_AVISO-1-0_BE_gn_v20210422_199301-201912.nc\n",
      "Downloading: 'CMIP5_demo_data/hfls_Amon_ACCESS1-0_historical_r1i1p1_185001-200512.nc' from 'https://pcmdiweb.llnl.gov/pss/pmpdata/' in: demo_data/CMIP5_demo_data/hfls_Amon_ACCESS1-0_historical_r1i1p1_185001-200512.nc\n",
      "Downloading: 'CMIP5_demo_data/hfss_Amon_ACCESS1-0_historical_r1i1p1_185001-200512.nc' from 'https://pcmdiweb.llnl.gov/pss/pmpdata/' in: demo_data/CMIP5_demo_data/hfss_Amon_ACCESS1-0_historical_r1i1p1_185001-200512.nc\n",
      "Downloading: 'CMIP5_demo_data/pr_Amon_ACCESS1-0_historical_r1i1p1_185001-200512.nc' from 'https://pcmdiweb.llnl.gov/pss/pmpdata/' in: demo_data/CMIP5_demo_data/pr_Amon_ACCESS1-0_historical_r1i1p1_185001-200512.nc\n",
      "Downloading: 'CMIP5_demo_data/rlds_Amon_ACCESS1-0_historical_r1i1p1_185001-200512.nc' from 'https://pcmdiweb.llnl.gov/pss/pmpdata/' in: demo_data/CMIP5_demo_data/rlds_Amon_ACCESS1-0_historical_r1i1p1_185001-200512.nc\n",
      "Downloading: 'CMIP5_demo_data/rlus_Amon_ACCESS1-0_historical_r1i1p1_185001-200512.nc' from 'https://pcmdiweb.llnl.gov/pss/pmpdata/' in: demo_data/CMIP5_demo_data/rlus_Amon_ACCESS1-0_historical_r1i1p1_185001-200512.nc\n",
      "Downloading: 'CMIP5_demo_data/rlut_Amon_ACCESS1-0_historical_r1i1p1_185001-200512.nc' from 'https://pcmdiweb.llnl.gov/pss/pmpdata/' in: demo_data/CMIP5_demo_data/rlut_Amon_ACCESS1-0_historical_r1i1p1_185001-200512.nc\n"
     ]
    },
    {
     "name": "stdout",
     "output_type": "stream",
     "text": [
      "Downloading: 'CMIP5_demo_data/rsds_Amon_ACCESS1-0_historical_r1i1p1_185001-200512.nc' from 'https://pcmdiweb.llnl.gov/pss/pmpdata/' in: demo_data/CMIP5_demo_data/rsds_Amon_ACCESS1-0_historical_r1i1p1_185001-200512.nc\n",
      "Downloading: 'CMIP5_demo_data/rsdt_Amon_ACCESS1-0_historical_r1i1p1_185001-200512.nc' from 'https://pcmdiweb.llnl.gov/pss/pmpdata/' in: demo_data/CMIP5_demo_data/rsdt_Amon_ACCESS1-0_historical_r1i1p1_185001-200512.nc\n",
      "Downloading: 'CMIP5_demo_data/rsus_Amon_ACCESS1-0_historical_r1i1p1_185001-200512.nc' from 'https://pcmdiweb.llnl.gov/pss/pmpdata/' in: demo_data/CMIP5_demo_data/rsus_Amon_ACCESS1-0_historical_r1i1p1_185001-200512.nc\n",
      "Downloading: 'CMIP5_demo_data/rsut_Amon_ACCESS1-0_historical_r1i1p1_185001-200512.nc' from 'https://pcmdiweb.llnl.gov/pss/pmpdata/' in: demo_data/CMIP5_demo_data/rsut_Amon_ACCESS1-0_historical_r1i1p1_185001-200512.nc\n",
      "Downloading: 'CMIP5_demo_data/tauu_Amon_ACCESS1-0_historical_r1i1p1_185001-200512.nc' from 'https://pcmdiweb.llnl.gov/pss/pmpdata/' in: demo_data/CMIP5_demo_data/tauu_Amon_ACCESS1-0_historical_r1i1p1_185001-200512.nc\n",
      "Downloading: 'CMIP5_demo_data/zos_Omon_ACCESS1-0_historical_r1i1p1_185001-200512.nc' from 'https://pcmdiweb.llnl.gov/pss/pmpdata/' in: demo_data/CMIP5_demo_data/zos_Omon_ACCESS1-0_historical_r1i1p1_185001-200512.nc\n",
      "All files downloaded\n"
     ]
    }
   ],
   "source": [
    "# Let's download the files\n",
    "import cdat_info\n",
    "try:\n",
    "    cdat_info.download_sample_data_files(\"enso_data_files.txt\", demo_data_directory)\n",
    "    print(\"All files downloaded\")\n",
    "except:\n",
    "    print(\"Download failed\")"
   ]
  },
  {
   "cell_type": "code",
   "execution_count": null,
   "metadata": {},
   "outputs": [],
   "source": [
    "from download_sample_data import generate_parameter_files\n",
    "filenames=[\"basic_enso_param.py.in\"]\n",
    "generate_parameter_files(demo_data_directory, demo_output_directory, filenames=filenames)"
   ]
  },
  {
   "cell_type": "markdown",
   "metadata": {},
   "source": [
    "## Environment"
   ]
  },
  {
   "cell_type": "markdown",
   "metadata": {},
   "source": [
    "[ENSO Metrics package](https://github.com/CLIVAR-PRP/ENSO_metrics) installation needed"
   ]
  },
  {
   "cell_type": "code",
   "execution_count": null,
   "metadata": {
    "scrolled": true
   },
   "outputs": [],
   "source": [
    "\"\"\"\n",
    "git clone https://github.com/CLIVAR-PRP/ENSO_metrics.git\n",
    "cd ENSO_metrics\n",
    "python setup.py install\n",
    "\"\"\""
   ]
  },
  {
   "cell_type": "markdown",
   "metadata": {},
   "source": [
    "## Usage"
   ]
  },
  {
   "cell_type": "markdown",
   "metadata": {},
   "source": [
    "ENSO can be run on the command line or with using a parameter file"
   ]
  },
  {
   "cell_type": "markdown",
   "metadata": {},
   "source": [
    "For help, type:  \n",
    "```\n",
    "enso_driver.py --help\n",
    "```"
   ]
  },
  {
   "cell_type": "code",
   "execution_count": null,
   "metadata": {},
   "outputs": [],
   "source": [
    "%%bash\n",
    "enso_driver.py --help"
   ]
  },
  {
   "cell_type": "markdown",
   "metadata": {},
   "source": [
    "## Basic example"
   ]
  },
  {
   "cell_type": "code",
   "execution_count": null,
   "metadata": {},
   "outputs": [],
   "source": [
    "%%bash\n",
    "enso_driver.py -p basic_enso_param.py"
   ]
  },
  {
   "cell_type": "code",
   "execution_count": null,
   "metadata": {},
   "outputs": [],
   "source": []
  }
 ],
 "metadata": {
  "kernelspec": {
   "display_name": "Python 3",
   "language": "python",
   "name": "python3"
  },
  "language_info": {
   "codemirror_mode": {
    "name": "ipython",
    "version": 3
   },
   "file_extension": ".py",
   "mimetype": "text/x-python",
   "name": "python",
   "nbconvert_exporter": "python",
   "pygments_lexer": "ipython3",
   "version": "3.8.6"
  }
 },
 "nbformat": 4,
 "nbformat_minor": 5
}
