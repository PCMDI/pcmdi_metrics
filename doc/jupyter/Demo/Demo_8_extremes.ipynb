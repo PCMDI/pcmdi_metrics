{
 "cells": [
  {
   "cell_type": "markdown",
   "id": "f7a56918",
   "metadata": {},
   "source": [
    "# Extremes Metrics\n",
    "\n",
    "This notebook shows users how to run the PMP Extremes metrics. \n",
    "\n",
    "This notebook should be run in an environment with python, jupyterlab, pcmdi metrics package, and cdat installed. It is expected that you have downloaded the sample data as demonstrated in the download notebook.\n",
    "\n",
    "The following cell reads in the choices you made during the download data step:"
   ]
  },
  {
   "cell_type": "code",
   "execution_count": 1,
   "id": "42b45684",
   "metadata": {},
   "outputs": [],
   "source": [
    "from user_choices import demo_data_directory, demo_output_directory"
   ]
  },
  {
   "cell_type": "markdown",
   "id": "12c07ae2",
   "metadata": {},
   "source": [
    "## Environment Preparation\n",
    "\n",
    "This driver requires the installation of climextRemes, which is not part of the standard PMP installation. To install this climextRemes, uncomment and run the following cell:"
   ]
  },
  {
   "cell_type": "code",
   "execution_count": 2,
   "id": "a20a3ec2",
   "metadata": {},
   "outputs": [
    {
     "data": {
      "text/plain": [
       "'\\nimport sys\\n!conda install --yes --prefix {sys.prefix} -c cascade climextremes\\n'"
      ]
     },
     "execution_count": 2,
     "metadata": {},
     "output_type": "execute_result"
    }
   ],
   "source": [
    "\"\"\"\n",
    "import sys\n",
    "!conda install --yes --prefix {sys.prefix} -c cascade climextremes\n",
    "\"\"\""
   ]
  },
  {
   "cell_type": "markdown",
   "id": "e090f07d",
   "metadata": {},
   "source": [
    "## Basic Use\n",
    "\n",
    "The PMP Extremes driver is controlled via a parameter file. The parameter file for this demo is shown here:"
   ]
  },
  {
   "cell_type": "code",
   "execution_count": 3,
   "id": "59484660",
   "metadata": {},
   "outputs": [
    {
     "name": "stdout",
     "output_type": "stream",
     "text": [
      "case_id = \"extremes_ex1\"\n",
      "vars = ['pr']\n",
      "test_data_set = ['GISS-E2-H']\n",
      "realization = ['r6i1p1']\n",
      "test_data_path = '$INPUT_DIR$/CMIP5_demo_timeseries/historical/atmos/day/pr/'\n",
      "filename_template = '%(variable)_day_%(model)_historical_%(realization)_20000101-20051231.nc'\n",
      "sftlf_filename_template = 'demo_data/CMIP5_demo_data/cmip5.historical.%(model).sftlf.nc'\n",
      "\n",
      "metrics_output_path = \"demo_output\"\n",
      "\n",
      "dec_mode=\"JFD\"\n",
      "annual_strict = True\n",
      "drop_incomplete_djf = True\n",
      "nc_out=False\n",
      "regrid=False\n",
      "plots=False\n",
      "generate_sftlf = False\n"
     ]
    }
   ],
   "source": [
    "with open(\"basic_extremes_param.py\") as f:\n",
    "    print(f.read())"
   ]
  },
  {
   "cell_type": "markdown",
   "id": "f54dbc23",
   "metadata": {},
   "source": [
    "To run the extremes driver, use the following command in the terminal. This will generate a metrics file based on the models, observations, and other criteria in `basic_param.py`\n",
    "```\n",
    "pmp_extremes_driver.py -p basic_extremes_param.py\n",
    "```  \n",
    "In the next cell, bash cell magic is used to run this command as a subprocess:"
   ]
  },
  {
   "cell_type": "code",
   "execution_count": 4,
   "id": "8adaf0fb",
   "metadata": {},
   "outputs": [
    {
     "name": "stderr",
     "output_type": "stream",
     "text": [
      "Traceback (most recent call last):\n",
      "  File \"/home/ordonez4/miniconda3/envs/pcmdi_metrics_dev/bin/pmp_extremes_driver.py\", line 16, in <module>\n",
      "    from pcmdi_metrics.extremes.lib import (\n",
      "ModuleNotFoundError: No module named 'pcmdi_metrics.extremes.lib'\n"
     ]
    },
    {
     "ename": "CalledProcessError",
     "evalue": "Command 'b'pmp_extremes_driver.py  -p basic_extremes_param.py\\n'' returned non-zero exit status 1.",
     "output_type": "error",
     "traceback": [
      "\u001b[0;31m---------------------------------------------------------------------------\u001b[0m",
      "\u001b[0;31mCalledProcessError\u001b[0m                        Traceback (most recent call last)",
      "Cell \u001b[0;32mIn[4], line 1\u001b[0m\n\u001b[0;32m----> 1\u001b[0m \u001b[43mget_ipython\u001b[49m\u001b[43m(\u001b[49m\u001b[43m)\u001b[49m\u001b[38;5;241;43m.\u001b[39;49m\u001b[43mrun_cell_magic\u001b[49m\u001b[43m(\u001b[49m\u001b[38;5;124;43m'\u001b[39;49m\u001b[38;5;124;43mbash\u001b[39;49m\u001b[38;5;124;43m'\u001b[39;49m\u001b[43m,\u001b[49m\u001b[43m \u001b[49m\u001b[38;5;124;43m'\u001b[39;49m\u001b[38;5;124;43m'\u001b[39;49m\u001b[43m,\u001b[49m\u001b[43m \u001b[49m\u001b[38;5;124;43m'\u001b[39;49m\u001b[38;5;124;43mpmp_extremes_driver.py  -p basic_extremes_param.py\u001b[39;49m\u001b[38;5;130;43;01m\\n\u001b[39;49;00m\u001b[38;5;124;43m'\u001b[39;49m\u001b[43m)\u001b[49m\n",
      "File \u001b[0;32m~/miniconda3/envs/pcmdi_metrics_dev/lib/python3.9/site-packages/IPython/core/interactiveshell.py:2478\u001b[0m, in \u001b[0;36mInteractiveShell.run_cell_magic\u001b[0;34m(self, magic_name, line, cell)\u001b[0m\n\u001b[1;32m   2476\u001b[0m \u001b[38;5;28;01mwith\u001b[39;00m \u001b[38;5;28mself\u001b[39m\u001b[38;5;241m.\u001b[39mbuiltin_trap:\n\u001b[1;32m   2477\u001b[0m     args \u001b[38;5;241m=\u001b[39m (magic_arg_s, cell)\n\u001b[0;32m-> 2478\u001b[0m     result \u001b[38;5;241m=\u001b[39m \u001b[43mfn\u001b[49m\u001b[43m(\u001b[49m\u001b[38;5;241;43m*\u001b[39;49m\u001b[43margs\u001b[49m\u001b[43m,\u001b[49m\u001b[43m \u001b[49m\u001b[38;5;241;43m*\u001b[39;49m\u001b[38;5;241;43m*\u001b[39;49m\u001b[43mkwargs\u001b[49m\u001b[43m)\u001b[49m\n\u001b[1;32m   2480\u001b[0m \u001b[38;5;66;03m# The code below prevents the output from being displayed\u001b[39;00m\n\u001b[1;32m   2481\u001b[0m \u001b[38;5;66;03m# when using magics with decodator @output_can_be_silenced\u001b[39;00m\n\u001b[1;32m   2482\u001b[0m \u001b[38;5;66;03m# when the last Python token in the expression is a ';'.\u001b[39;00m\n\u001b[1;32m   2483\u001b[0m \u001b[38;5;28;01mif\u001b[39;00m \u001b[38;5;28mgetattr\u001b[39m(fn, magic\u001b[38;5;241m.\u001b[39mMAGIC_OUTPUT_CAN_BE_SILENCED, \u001b[38;5;28;01mFalse\u001b[39;00m):\n",
      "File \u001b[0;32m~/miniconda3/envs/pcmdi_metrics_dev/lib/python3.9/site-packages/IPython/core/magics/script.py:154\u001b[0m, in \u001b[0;36mScriptMagics._make_script_magic.<locals>.named_script_magic\u001b[0;34m(line, cell)\u001b[0m\n\u001b[1;32m    152\u001b[0m \u001b[38;5;28;01melse\u001b[39;00m:\n\u001b[1;32m    153\u001b[0m     line \u001b[38;5;241m=\u001b[39m script\n\u001b[0;32m--> 154\u001b[0m \u001b[38;5;28;01mreturn\u001b[39;00m \u001b[38;5;28;43mself\u001b[39;49m\u001b[38;5;241;43m.\u001b[39;49m\u001b[43mshebang\u001b[49m\u001b[43m(\u001b[49m\u001b[43mline\u001b[49m\u001b[43m,\u001b[49m\u001b[43m \u001b[49m\u001b[43mcell\u001b[49m\u001b[43m)\u001b[49m\n",
      "File \u001b[0;32m~/miniconda3/envs/pcmdi_metrics_dev/lib/python3.9/site-packages/IPython/core/magics/script.py:314\u001b[0m, in \u001b[0;36mScriptMagics.shebang\u001b[0;34m(self, line, cell)\u001b[0m\n\u001b[1;32m    309\u001b[0m \u001b[38;5;28;01mif\u001b[39;00m args\u001b[38;5;241m.\u001b[39mraise_error \u001b[38;5;129;01mand\u001b[39;00m p\u001b[38;5;241m.\u001b[39mreturncode \u001b[38;5;241m!=\u001b[39m \u001b[38;5;241m0\u001b[39m:\n\u001b[1;32m    310\u001b[0m     \u001b[38;5;66;03m# If we get here and p.returncode is still None, we must have\u001b[39;00m\n\u001b[1;32m    311\u001b[0m     \u001b[38;5;66;03m# killed it but not yet seen its return code. We don't wait for it,\u001b[39;00m\n\u001b[1;32m    312\u001b[0m     \u001b[38;5;66;03m# in case it's stuck in uninterruptible sleep. -9 = SIGKILL\u001b[39;00m\n\u001b[1;32m    313\u001b[0m     rc \u001b[38;5;241m=\u001b[39m p\u001b[38;5;241m.\u001b[39mreturncode \u001b[38;5;129;01mor\u001b[39;00m \u001b[38;5;241m-\u001b[39m\u001b[38;5;241m9\u001b[39m\n\u001b[0;32m--> 314\u001b[0m     \u001b[38;5;28;01mraise\u001b[39;00m CalledProcessError(rc, cell)\n",
      "\u001b[0;31mCalledProcessError\u001b[0m: Command 'b'pmp_extremes_driver.py  -p basic_extremes_param.py\\n'' returned non-zero exit status 1."
     ]
    }
   ],
   "source": [
    "%%bash\n",
    "pmp_extremes_driver.py  -p basic_extremes_param.py"
   ]
  },
  {
   "cell_type": "markdown",
   "id": "99f3942e",
   "metadata": {},
   "source": [
    "Running the mean climate driver produces an output json file in the demo output directory. The metrics are stored in the \"RESULTS\" object of the json. Since only one model was provided as input, the only metrics generated are the mean and standard deviation."
   ]
  },
  {
   "cell_type": "code",
   "execution_count": null,
   "id": "3bd1bba7",
   "metadata": {},
   "outputs": [],
   "source": [
    "import json\n",
    "import os\n",
    "output_path = os.path.join(demo_output_directory,\"\")\n",
    "with open(output_path) as f:\n",
    "    metric = json.load(f)[\"RESULTS\"]\n",
    "print(json.dumps(metric, indent=2))"
   ]
  },
  {
   "cell_type": "markdown",
   "id": "54bbb78e",
   "metadata": {},
   "source": [
    "## Customizing parameters in the extremes driver\n",
    "\n",
    "It is possible to override the parameter file from the command line. Use `pmp_extremes_driver.py --help` to see all the flag options.  "
   ]
  },
  {
   "cell_type": "markdown",
   "id": "d6a22f0f",
   "metadata": {},
   "source": [
    "### Reference data\n",
    "\n",
    "A reference data set (e.g. observations or a control run) can be provided to generate additional metrics. Each test data set will be compared to this reference. \n",
    "\n",
    "These are the parameters that control the reference data settings:  \n",
    "\n",
    "--reference_data_path:      The file path for the reference data set.  \n",
    "--reference_data_set:       A short name for the reference data set.  \n",
    "--reference_sftlf_template: The file path for the reference land/sea mask (optional if --generate_sftlf = True)  \n",
    "\n",
    "An example of using reference data is shown next:"
   ]
  },
  {
   "cell_type": "code",
   "execution_count": null,
   "id": "0b619de5",
   "metadata": {},
   "outputs": [],
   "source": [
    "%%bash\n",
    "pmp_extremes_driver.py  -p basic_extremes_param.py \\\\\n",
    "--case_id extremes_ex2\n",
    "--reference_data_path demo_data/obs4MIPs_PCMDI_daily/NASA-JPL/GPCP-1-3/day/pr/gn/latest/pr_day_GPCP-1-3_PCMDI_gn_19961002-20170101.nc  \\\\\n",
    "--reference_data_set GPCP-1-3 \\\\\n",
    "--reference_sftlf_template demo_data/misc_demo_data/fx/sftlf.GPCP-IP.1x1.nc"
   ]
  },
  {
   "cell_type": "markdown",
   "id": "6019f0eb",
   "metadata": {},
   "source": [
    "In this case, the results JSON contains more statistics."
   ]
  },
  {
   "cell_type": "code",
   "execution_count": null,
   "id": "22886f3e",
   "metadata": {},
   "outputs": [],
   "source": [
    "import json\n",
    "import os\n",
    "output_path = os.path.join(demo_output_directory,\"extremes_ex2\")\n",
    "with open(output_path) as f:\n",
    "    metric = json.load(f)[\"RESULTS\"]\n",
    "print(json.dumps(metric, indent=2))"
   ]
  },
  {
   "cell_type": "markdown",
   "id": "9d024265",
   "metadata": {},
   "source": [
    "### Saving additional output"
   ]
  },
  {
   "cell_type": "markdown",
   "id": "fcf1f210",
   "metadata": {},
   "source": [
    "Along with the JSON file of metrics, this driver can also produce a set of diagnostic plots and save the block extrema data as netcdf files.   \n",
    "\n",
    "To save the netcdf files, use the flag \"--nc_out\" on the command line or nc_out = True in the parameter file.  \n",
    "To generate plots, use the flag \"--plots\" on the command line or plots = True in the parameter file.\n",
    "\n",
    "The diagnostics plots will always display a world map. There is no option to customize the plots.\n",
    "\n",
    "The next cell demonstrates these flags."
   ]
  },
  {
   "cell_type": "code",
   "execution_count": null,
   "id": "a14ccb13",
   "metadata": {},
   "outputs": [],
   "source": [
    "%%bash\n",
    "pmp_extremes_driver.py  -p basic_extremes_param.py --case_id \"extremes_ex3\" --nc_out --plots"
   ]
  },
  {
   "cell_type": "markdown",
   "id": "d75ded77",
   "metadata": {},
   "source": [
    "The plots and netcdf files can be found in the output directory."
   ]
  },
  {
   "cell_type": "code",
   "execution_count": null,
   "id": "d871e429",
   "metadata": {},
   "outputs": [],
   "source": [
    "from IPython.display import Image\n",
    "from IPython.core.display import HTML \n",
    "\n",
    "Image(filename = demo_output_directory + \"\")"
   ]
  },
  {
   "cell_type": "markdown",
   "id": "4246dc30",
   "metadata": {},
   "source": [
    "### Land/Sea Masking"
   ]
  },
  {
   "cell_type": "markdown",
   "id": "e0d8b08b",
   "metadata": {},
   "source": [
    "By default, the extremes driver calculates block extrema over land areas (grid cells where land fraction is over 50%), excluding Antarctica. This requires a land/sea mask.\n",
    "\n",
    "Users can provide a land/sea mask file template using the flag \"--sftlf_filename_template\". The placeholders %(model) and %(realization) can be used in places of the model name and realization when there are multiple land/sea mask files. In the demo parameter file, this looks like:\n",
    "```\n",
    "sftlf_filename_template = 'demo_data/CMIP5_demo_data/cmip5.historical.%(model).sftlf.nc'\n",
    "```\n",
    "Alternatively, the land/sea mask can be estimated on-the-fly using the setting \"--generate_sftlf\":"
   ]
  },
  {
   "cell_type": "code",
   "execution_count": null,
   "id": "c214cd75",
   "metadata": {},
   "outputs": [],
   "source": [
    "%%bash\n",
    "pmp_extremes_driver.py  -p basic_extremes_param.py --case_id \"extremes_ex4\" --generate_sftlf"
   ]
  },
  {
   "cell_type": "markdown",
   "id": "543b0373",
   "metadata": {},
   "source": [
    "### Regional metrics"
   ]
  },
  {
   "cell_type": "markdown",
   "id": "a6dcd691",
   "metadata": {},
   "source": [
    "Users can define a custom region over which to calculate the extremes metrics. There are two way to do this.\n",
    "\n",
    "#### Coordinate method\n",
    "\n",
    "The first method is to provide coordinate pairs that define a contiguous region. This region does not have to be rectangular, but it cannot have holes. The following example provides lat/lon pairs that roughly outline the state of California, USA. The region name flag \"--region_name\" is optional in this case.\n",
    "\n"
   ]
  },
  {
   "cell_type": "code",
   "execution_count": null,
   "id": "36771ecb",
   "metadata": {},
   "outputs": [],
   "source": [
    "%%bash\n",
    "pmp_extremes_driver.py  -p basic_extremes_param.py \\\\\n",
    "--case_id \"extremes_ex5\" \\\\\n",
    "--region_name \"California\" \\\\\n",
    "--coords [[42.53,-125.73],[42.53,-119.59],[39.15,-119.59],[35.02,-113.89],[32.43,-113.89],[32.34,-117.47],[34.03,-121.26],[40.28,-125.49]]"
   ]
  },
  {
   "cell_type": "markdown",
   "id": "54cedea7",
   "metadata": {},
   "source": [
    "#### Shapefile method\n",
    "The second method is to provide a shapefile containing the region of interest. The region of interest must be completely defined by a single, uniquely identifiable feature in the shapefile. For example, if the region of interest is the fifty states of the USA, there must be a single feature in the shapefile that contains all the land areas of all fifty states. The region name flag is required in this case.\n",
    "\n",
    "--shp_path is the path of the shapefile containing your region  \n",
    "--region_name is the name of your region, which can be found under the shapefile attribute given by \"--attribute\"\n",
    "\n",
    "This example shows how to get metrics for a region called \"CANADA\" under the \"COUNTRY\" attribute in a shapefile called \"my_shapefile.shp\":  \n",
    "```\n",
    "pmp_extremes_driver.py -p basic_extremes_param.py --shp_path my_shapefile.shp --attribute \"COUNTRY\" --region_name \"CANADA\"\n",
    "```"
   ]
  },
  {
   "cell_type": "markdown",
   "id": "54feec95",
   "metadata": {},
   "source": [
    "### Other options\n",
    "\n",
    "TODO: Add links\n",
    "The full suite of options is described in the README file for the extremes metrics."
   ]
  },
  {
   "cell_type": "code",
   "execution_count": null,
   "id": "dfd8bc3d",
   "metadata": {},
   "outputs": [],
   "source": []
  }
 ],
 "metadata": {
  "kernelspec": {
   "display_name": "Python [conda env:pcmdi_metrics_dev] *",
   "language": "python",
   "name": "conda-env-pcmdi_metrics_dev-py"
  },
  "language_info": {
   "codemirror_mode": {
    "name": "ipython",
    "version": 3
   },
   "file_extension": ".py",
   "mimetype": "text/x-python",
   "name": "python",
   "nbconvert_exporter": "python",
   "pygments_lexer": "ipython3",
   "version": "3.9.16"
  }
 },
 "nbformat": 4,
 "nbformat_minor": 5
}
