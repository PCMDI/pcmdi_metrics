{
 "cells": [
  {
   "cell_type": "markdown",
   "metadata": {},
   "source": [
    "# Precipitation Variability Across Timescales"
   ]
  },
  {
   "cell_type": "markdown",
   "metadata": {},
   "source": [
    "This notebook demonstrates how to use the precipitation variability metrics driver and calc_ratio script to obtain the precipitation variability metric.\n",
    "\n",
    "Our metric is based on the simulated-to-observed ratio of spectral power because the spectral power is substantially sensitive to the processing choices for power spectra analysis (e.g., window length, overlap length, and windowing function). By using the ratio, the metric is not greatly affected by the different processing choices, helping the robustness of analysis results.\n",
    "\n",
    "This notebook should be run in an environment with python, jupyterlab, pcmdi metrics package, and cdat installed. It is expected that you have downloaded the sample data as demonstrated in [the download notebook](Demo_0_download_data.ipynb).  \n",
    "\n",
    "The following cell reads in the choices you made during the download data step:"
   ]
  },
  {
   "cell_type": "code",
   "execution_count": 1,
   "metadata": {},
   "outputs": [],
   "source": [
    "from user_choices import demo_data_directory, demo_output_directory"
   ]
  },
  {
   "cell_type": "markdown",
   "metadata": {},
   "source": [
    "## Basic Use"
   ]
  },
  {
   "cell_type": "markdown",
   "metadata": {},
   "source": [
    "### Help\n",
    "Use the `--help` flag for assistance with the precip variability driver:"
   ]
  },
  {
   "cell_type": "code",
   "execution_count": 2,
   "metadata": {},
   "outputs": [
    {
     "name": "stdout",
     "output_type": "stream",
     "text": [
      "usage: variability_across_timescales_PS_driver.py [-h]\n",
      "                                                  [--parameters PARAMETERS]\n",
      "                                                  [--diags OTHER_PARAMETERS [OTHER_PARAMETERS ...]]\n",
      "                                                  [--mip MIP] [--exp EXP]\n",
      "                                                  [--mod MOD] [--var VAR]\n",
      "                                                  [--frq FRQ]\n",
      "                                                  [--modpath MODPATH]\n",
      "                                                  [--results_dir RESULTS_DIR]\n",
      "                                                  [--case_id CASE_ID]\n",
      "                                                  [--prd PRD [PRD ...]]\n",
      "                                                  [--fac FAC]\n",
      "                                                  [--nperseg NPERSEG]\n",
      "                                                  [--noverlap NOVERLAP]\n",
      "                                                  [--ref REF] [--cmec]\n",
      "                                                  [--no_cmec]\n",
      "\n",
      "optional arguments:\n",
      "  -h, --help            show this help message and exit\n",
      "  --parameters PARAMETERS, -p PARAMETERS\n",
      "  --diags OTHER_PARAMETERS [OTHER_PARAMETERS ...], -d OTHER_PARAMETERS [OTHER_PARAMETERS ...]\n",
      "                        Path to other user-defined parameter file. (default:\n",
      "                        None)\n",
      "  --mip MIP             cmip5, cmip6 or other mip (default: None)\n",
      "  --exp EXP             amip, cmip or others (default: None)\n",
      "  --mod MOD             model (default: None)\n",
      "  --var VAR             pr or other variable (default: None)\n",
      "  --frq FRQ             day, 3hr or other frequency (default: None)\n",
      "  --modpath MODPATH     data directory path (default: None)\n",
      "  --results_dir RESULTS_DIR\n",
      "                        results directory path (default: None)\n",
      "  --case_id CASE_ID     case_id with date (default: None)\n",
      "  --prd PRD [PRD ...]   start- and end-year for analysis (e.g., 1985 2004)\n",
      "                        (default: None)\n",
      "  --fac FAC             factor to make unit of [mm/day] (default: None)\n",
      "  --nperseg NPERSEG     length of segment in power spectra (default: None)\n",
      "  --noverlap NOVERLAP   length of overlap between segments in power spectra\n",
      "                        (default: None)\n",
      "  --ref REF             reference data path (default: None)\n",
      "  --cmec                Use to save CMEC format metrics JSON (default: False)\n",
      "  --no_cmec             Do not save CMEC format metrics JSON (default: False)\n"
     ]
    },
    {
     "name": "stderr",
     "output_type": "stream",
     "text": [
      "/home/ahn6/anaconda3/envs/pmp_v20220110/lib/python3.9/site-packages/pkg_resources/__init__.py:116: PkgResourcesDeprecationWarning: v3.0-46-ge6f562d is an invalid version and will not be supported in a future release\n",
      "  warnings.warn(\n",
      "/home/ahn6/anaconda3/envs/pmp_v20220110/lib/python3.9/site-packages/pkg_resources/__init__.py:116: PkgResourcesDeprecationWarning: v1.2.1-1163-g66b2186 is an invalid version and will not be supported in a future release\n",
      "  warnings.warn(\n",
      "/home/ahn6/anaconda3/envs/pmp_v20220110/lib/python3.9/site-packages/pkg_resources/__init__.py:116: PkgResourcesDeprecationWarning: v1.2.1-1165-g43e256e is an invalid version and will not be supported in a future release\n",
      "  warnings.warn(\n",
      "/home/ahn6/anaconda3/envs/pmp_v20220110/lib/python3.9/site-packages/pkg_resources/__init__.py:116: PkgResourcesDeprecationWarning: v1.2.1-640-gc4401ed is an invalid version and will not be supported in a future release\n",
      "  warnings.warn(\n",
      "/home/ahn6/anaconda3/envs/pmp_v20220110/lib/python3.9/site-packages/pkg_resources/__init__.py:116: PkgResourcesDeprecationWarning: v2.4.0-23-g4fa5682 is an invalid version and will not be supported in a future release\n",
      "  warnings.warn(\n",
      "/home/ahn6/anaconda3/envs/pmp_v20220110/lib/python3.9/site-packages/pkg_resources/__init__.py:116: PkgResourcesDeprecationWarning: v2.5.1-10-g93c30ce is an invalid version and will not be supported in a future release\n",
      "  warnings.warn(\n"
     ]
    }
   ],
   "source": [
    "%%bash\n",
    "variability_across_timescales_PS_driver.py --help"
   ]
  },
  {
   "cell_type": "markdown",
   "metadata": {},
   "source": [
    "### Parameter file\n",
    "Settings can be specified in a parameter file or on the command line. The basic case demonstrated here uses a parameter file, which is printed below.  \n",
    "\n",
    "Note that this driver should only be used to run **one** model or dataset at a time.  \n",
    "\n",
    "The `mod` variable can either be set to a particular file name, as shown here, or to a model name (i.e. \"GISS-E2-H\")."
   ]
  },
  {
   "cell_type": "code",
   "execution_count": 3,
   "metadata": {},
   "outputs": [
    {
     "name": "stdout",
     "output_type": "stream",
     "text": [
      "mip = \"cmip5\"\n",
      "exp = \"historical\"\n",
      "mod = \"pr_day_GISS-E2-H_historical_r6i1p1_*.nc\"\n",
      "var = \"pr\"\n",
      "frq = \"day\"\n",
      "modpath = 'demo_data/CMIP5_demo_timeseries/historical/atmos/day/pr/'\n",
      "results_dir = 'demo_output/precip_variability/GISS-E2-H/'\n",
      "prd = [2000,2005]  # analysis period\n",
      "fac = 86400  # factor to make unit of [mm/day]\n",
      "\n",
      "# length of segment in power spectra (~10 years)\n",
      "# shortened to 2 years for demo purposes\n",
      "nperseg = 2 * 365\n",
      "# length of overlap between segments in power spectra (~5 years)\n",
      "# shortened to 1 year for demo purposes\n",
      "noverlap = 1 * 365\n",
      "\n",
      "# flag for cmec formatted JSON\n",
      "cmec = False\n",
      "\n"
     ]
    }
   ],
   "source": [
    "# print parameter file\n",
    "with open(\"basic_precip_variability_param.py\") as f:\n",
    "    print(f.read())"
   ]
  },
  {
   "cell_type": "markdown",
   "metadata": {},
   "source": [
    "### Running the driver\n",
    "The parameter file is passed to the driver using the `-p` flag, similar to other PMP metrics. The basic command is:  \n",
    "`variability_across_timescales_PS_driver.py -p parameter_file_name.py`\n",
    "\n",
    "The next cell uses the command line syntax to execute the driver as a subprocess."
   ]
  },
  {
   "cell_type": "code",
   "execution_count": 4,
   "metadata": {
    "scrolled": true
   },
   "outputs": [
    {
     "name": "stdout",
     "output_type": "stream",
     "text": [
      "demo_data/CMIP5_demo_timeseries/historical/atmos/day/pr/\n",
      "pr_day_GISS-E2-H_historical_r6i1p1_*.nc\n",
      "[2000, 2005]\n",
      "730 365\n",
      "demo_output/precip_variability/GISS-E2-H/\n",
      "demo_output/precip_variability/GISS-E2-H/\n",
      "demo_output/precip_variability/GISS-E2-H/\n",
      "GISS-E2-H.r6i1p1\n",
      "['demo_data/CMIP5_demo_timeseries/historical/atmos/day/pr/pr_day_GISS-E2-H_historical_r6i1p1_20000101-20051231.nc']\n",
      "GISS-E2-H.r6i1p1 365_day\n",
      "syr, eyr: 2000 2005\n",
      "2000\n",
      "Complete regridding from (365, 90, 144) to (365, 90, 180)\n",
      "2000 (365, 90, 180)\n",
      "2001\n",
      "Complete regridding from (365, 90, 144) to (365, 90, 180)\n",
      "2001 (730, 90, 180)\n",
      "2002\n",
      "Complete regridding from (365, 90, 144) to (365, 90, 180)\n",
      "2002 (1095, 90, 180)\n",
      "2003\n",
      "Complete regridding from (365, 90, 144) to (365, 90, 180)\n",
      "2003 (1460, 90, 180)\n",
      "2004\n",
      "Complete regridding from (365, 90, 144) to (365, 90, 180)\n",
      "2004 (1825, 90, 180)\n",
      "2005\n",
      "Complete regridding from (365, 90, 144) to (365, 90, 180)\n",
      "2005 (2190, 90, 180)\n",
      "Complete calculating climatology and anomaly for calendar of 365_day\n",
      "Complete power spectra (segment:  730  nps: 5.0 )\n",
      "Complete domain and frequency average of spectral power\n",
      "Complete power spectra (segment:  730  nps: 5.0 )\n",
      "Complete domain and frequency average of spectral power\n"
     ]
    },
    {
     "name": "stderr",
     "output_type": "stream",
     "text": [
      "/home/ahn6/anaconda3/envs/pmp_v20220110/lib/python3.9/site-packages/pkg_resources/__init__.py:116: PkgResourcesDeprecationWarning: v3.0-46-ge6f562d is an invalid version and will not be supported in a future release\n",
      "  warnings.warn(\n",
      "/home/ahn6/anaconda3/envs/pmp_v20220110/lib/python3.9/site-packages/pkg_resources/__init__.py:116: PkgResourcesDeprecationWarning: v1.2.1-1163-g66b2186 is an invalid version and will not be supported in a future release\n",
      "  warnings.warn(\n",
      "/home/ahn6/anaconda3/envs/pmp_v20220110/lib/python3.9/site-packages/pkg_resources/__init__.py:116: PkgResourcesDeprecationWarning: v1.2.1-1165-g43e256e is an invalid version and will not be supported in a future release\n",
      "  warnings.warn(\n",
      "/home/ahn6/anaconda3/envs/pmp_v20220110/lib/python3.9/site-packages/pkg_resources/__init__.py:116: PkgResourcesDeprecationWarning: v1.2.1-640-gc4401ed is an invalid version and will not be supported in a future release\n",
      "  warnings.warn(\n",
      "/home/ahn6/anaconda3/envs/pmp_v20220110/lib/python3.9/site-packages/pkg_resources/__init__.py:116: PkgResourcesDeprecationWarning: v2.4.0-23-g4fa5682 is an invalid version and will not be supported in a future release\n",
      "  warnings.warn(\n",
      "/home/ahn6/anaconda3/envs/pmp_v20220110/lib/python3.9/site-packages/pkg_resources/__init__.py:116: PkgResourcesDeprecationWarning: v2.5.1-10-g93c30ce is an invalid version and will not be supported in a future release\n",
      "  warnings.warn(\n",
      "INFO::2023-02-23 11:51::pcmdi_metrics:: Results saved to a json file: /home/ahn6/PCMDI/pcmdi_metrics/branch/900_msa_precip_variability_demo/pcmdi_metrics/doc/jupyter/Demo/demo_output/precip_variability/GISS-E2-H/PS_pr.day_regrid.180x90_area.freq.mean_GISS-E2-H.r6i1p1.json\n",
      "2023-02-23 11:51:11,427 [INFO]: base.py(write:237) >> Results saved to a json file: /home/ahn6/PCMDI/pcmdi_metrics/branch/900_msa_precip_variability_demo/pcmdi_metrics/doc/jupyter/Demo/demo_output/precip_variability/GISS-E2-H/PS_pr.day_regrid.180x90_area.freq.mean_GISS-E2-H.r6i1p1.json\n"
     ]
    }
   ],
   "source": [
    "%%bash\n",
    "variability_across_timescales_PS_driver.py -p basic_precip_variability_param.py"
   ]
  },
  {
   "cell_type": "markdown",
   "metadata": {},
   "source": [
    "### Results\n",
    "Running the precipitation variability driver produces three output files, found in the demo output directory:  \n",
    "\n",
    "Spatial pattern of spectral power (forced variability) (netCDF)   \n",
    "Spatial pattern of spectral power (unforced variability) (netCDF)  \n",
    "Average of spectral power (forced and unforced) (JSON)  "
   ]
  },
  {
   "cell_type": "code",
   "execution_count": 5,
   "metadata": {},
   "outputs": [
    {
     "name": "stdout",
     "output_type": "stream",
     "text": [
      "PS_pr.day_regrid.180x90_area.freq.mean_GISS-E2-H.r6i1p1.json\n",
      "PS_pr.day_regrid.180x90_GISS-E2-H.r6i1p1.nc\n",
      "PS_pr.day_regrid.180x90_GISS-E2-H.r6i1p1_unforced.nc\n"
     ]
    }
   ],
   "source": [
    "!ls {demo_output_directory + \"/precip_variability/GISS-E2-H\"}"
   ]
  },
  {
   "cell_type": "markdown",
   "metadata": {},
   "source": [
    "The next cell displays the metrics from the JSON file."
   ]
  },
  {
   "cell_type": "code",
   "execution_count": 6,
   "metadata": {},
   "outputs": [
    {
     "name": "stdout",
     "output_type": "stream",
     "text": [
      "{\n",
      "  \"GISS-E2-H.r6i1p1\": {\n",
      "    \"forced\": {\n",
      "      \"Land_30N50N\": {\n",
      "        \"annual\": 1.154266721510137,\n",
      "        \"semi-annual\": 0.3692551744241903\n",
      "      },\n",
      "      \"Land_30S30N\": {\n",
      "        \"annual\": 6.8655960795131294,\n",
      "        \"semi-annual\": 1.1969126049181855\n",
      "      },\n",
      "      \"Land_50S30S\": {\n",
      "        \"annual\": 0.7829928891110198,\n",
      "        \"semi-annual\": 0.33398811326967975\n",
      "      },\n",
      "      \"Land_50S50N\": {\n",
      "        \"annual\": 4.803117924524398,\n",
      "        \"semi-annual\": 0.8989181591887316\n",
      "      },\n",
      "      \"Ocean_30N50N\": {\n",
      "        \"annual\": 1.4467988289024762,\n",
      "        \"semi-annual\": 0.37232162338162866\n",
      "      },\n",
      "      \"Ocean_30S30N\": {\n",
      "        \"annual\": 4.568654517465613,\n",
      "        \"semi-annual\": 1.5044899979603008\n",
      "      },\n",
      "      \"Ocean_50S30S\": {\n",
      "        \"annual\": 0.5918242629787758,\n",
      "        \"semi-annual\": 0.1927211439124904\n",
      "      },\n",
      "      \"Ocean_50S50N\": {\n",
      "        \"annual\": 3.3099973296409195,\n",
      "        \"semi-annual\": 1.0764366904440072\n",
      "      },\n",
      "      \"Total_30N50N\": {\n",
      "        \"annual\": 1.3110986682307972,\n",
      "        \"semi-annual\": 0.3708991551953958\n",
      "      },\n",
      "      \"Total_30S30N\": {\n",
      "        \"annual\": 5.155704413930364,\n",
      "        \"semi-annual\": 1.4258796929688142\n",
      "      },\n",
      "      \"Total_50S30S\": {\n",
      "        \"annual\": 0.6055533541116551,\n",
      "        \"semi-annual\": 0.20286646501255923\n",
      "      },\n",
      "      \"Total_50S50N\": {\n",
      "        \"annual\": 3.6979701926949535,\n",
      "        \"semi-annual\": 1.030310226813203\n",
      "      }\n",
      "    },\n",
      "    \"unforced\": {\n",
      "      \"Land_30N50N\": {\n",
      "        \"interannual\": 0.11027519561502575,\n",
      "        \"seasonal-annual\": 0.15034540027412407,\n",
      "        \"sub-seasonal\": 0.13605316533174094,\n",
      "        \"synoptic\": 0.06277267344693233\n",
      "      },\n",
      "      \"Land_30S30N\": {\n",
      "        \"interannual\": 0.31262787817502063,\n",
      "        \"seasonal-annual\": 0.30924523792899317,\n",
      "        \"sub-seasonal\": 0.243897137677461,\n",
      "        \"synoptic\": 0.07552274806731542\n",
      "      },\n",
      "      \"Land_50S30S\": {\n",
      "        \"interannual\": 0.1527755501819138,\n",
      "        \"seasonal-annual\": 0.2041066189679213,\n",
      "        \"sub-seasonal\": 0.17203311677473293,\n",
      "        \"synoptic\": 0.07133658627473073\n",
      "      },\n",
      "      \"Land_50S50N\": {\n",
      "        \"interannual\": 0.24222527413177844,\n",
      "        \"seasonal-annual\": 0.25493923345176356,\n",
      "        \"sub-seasonal\": 0.20701576396034696,\n",
      "        \"synoptic\": 0.07136923241812429\n",
      "      },\n",
      "      \"Ocean_30N50N\": {\n",
      "        \"interannual\": 0.13240454583620145,\n",
      "        \"seasonal-annual\": 0.17549307553001822,\n",
      "        \"sub-seasonal\": 0.15428702961801613,\n",
      "        \"synoptic\": 0.09824822890957895\n",
      "      },\n",
      "      \"Ocean_30S30N\": {\n",
      "        \"interannual\": 0.6531055721473543,\n",
      "        \"seasonal-annual\": 0.6376662281993245,\n",
      "        \"sub-seasonal\": 0.43458496427824367,\n",
      "        \"synoptic\": 0.11441802205292609\n",
      "      },\n",
      "      \"Ocean_50S30S\": {\n",
      "        \"interannual\": 0.09839333071364982,\n",
      "        \"seasonal-annual\": 0.13364245158376373,\n",
      "        \"sub-seasonal\": 0.12036603745194574,\n",
      "        \"synoptic\": 0.06906461136148313\n",
      "      },\n",
      "      \"Ocean_50S50N\": {\n",
      "        \"interannual\": 0.46681841351291453,\n",
      "        \"seasonal-annual\": 0.4697785382523058,\n",
      "        \"sub-seasonal\": 0.3309051790489744,\n",
      "        \"synoptic\": 0.10250804393167526\n",
      "      },\n",
      "      \"Total_30N50N\": {\n",
      "        \"interannual\": 0.12213915511604374,\n",
      "        \"seasonal-annual\": 0.1638275404092277,\n",
      "        \"sub-seasonal\": 0.14582868179640485,\n",
      "        \"synoptic\": 0.08179178377228893\n",
      "      },\n",
      "      \"Total_30S30N\": {\n",
      "        \"interannual\": 0.5660866430211011,\n",
      "        \"seasonal-annual\": 0.5537287386607875,\n",
      "        \"sub-seasonal\": 0.38584917112064354,\n",
      "        \"synoptic\": 0.10447720904161961\n",
      "      },\n",
      "      \"Total_50S30S\": {\n",
      "        \"interannual\": 0.10229887976839695,\n",
      "        \"seasonal-annual\": 0.13870295233219931,\n",
      "        \"sub-seasonal\": 0.12407659422553256,\n",
      "        \"synoptic\": 0.06922777699836948\n",
      "      },\n",
      "      \"Total_50S50N\": {\n",
      "        \"interannual\": 0.4084600708535113,\n",
      "        \"seasonal-annual\": 0.4139546346334961,\n",
      "        \"sub-seasonal\": 0.29871371960574444,\n",
      "        \"synoptic\": 0.09441692664589409\n",
      "      }\n",
      "    }\n",
      "  }\n",
      "}\n"
     ]
    }
   ],
   "source": [
    "import json\n",
    "import os\n",
    "output_path = os.path.join(demo_output_directory,\"precip_variability/GISS-E2-H/PS_pr.day_regrid.180x90_area.freq.mean_GISS-E2-H.r6i1p1.json\")\n",
    "with open(output_path) as f:\n",
    "    metric = json.load(f)[\"RESULTS\"]\n",
    "print(json.dumps(metric, indent=2))"
   ]
  },
  {
   "cell_type": "markdown",
   "metadata": {},
   "source": [
    "## Command line usage with Obs data"
   ]
  },
  {
   "cell_type": "markdown",
   "metadata": {},
   "source": [
    "To calculate the precipitation variability spectral power ratio, we also need results for a reference dataset. This example shows how to call the `variability_across_timescales_PS_driver` using a combination of the parameter file and command line arguments with daily observational data. The command line arguments will overwrite values that are in the parameter file.  \n",
    "\n",
    "The `modpath` and `results_dir` values are set first in a separate cell to easily combine the `demo_data_directory` and `demo_output_directory` variables with other strings. The new variables are then passed to the shell command in the second cell."
   ]
  },
  {
   "cell_type": "code",
   "execution_count": 7,
   "metadata": {},
   "outputs": [],
   "source": [
    "modpath = demo_data_directory + '/obs4MIPs_PCMDI_daily/NASA-JPL/GPCP-1-3/day/pr/gn/latest/'\n",
    "results_dir = demo_output_directory + '/precip_variability/GPCP-1-3/'"
   ]
  },
  {
   "cell_type": "code",
   "execution_count": 8,
   "metadata": {},
   "outputs": [
    {
     "name": "stdout",
     "output_type": "stream",
     "text": [
      "demo_data/obs4MIPs_PCMDI_daily/NASA-JPL/GPCP-1-3/day/pr/gn/latest/\n",
      "pr_day_GPCP-1-3_PCMDI_gn_19961002-20170101.nc\n",
      "[1997, 2016]\n",
      "730 365\n",
      "demo_output/precip_variability/GPCP-1-3/\n",
      "demo_output/precip_variability/GPCP-1-3/\n",
      "demo_output/precip_variability/GPCP-1-3/\n",
      "GPCP-1-3\n",
      "['demo_data/obs4MIPs_PCMDI_daily/NASA-JPL/GPCP-1-3/day/pr/gn/latest/pr_day_GPCP-1-3_PCMDI_gn_19961002-20170101.nc']\n",
      "GPCP-1-3 gregorian\n",
      "syr, eyr: 1997 2016\n",
      "1997\n",
      "Complete regridding from (365, 180, 360) to (365, 90, 180)\n",
      "1997 (365, 90, 180)\n",
      "1998\n",
      "Complete regridding from (365, 180, 360) to (365, 90, 180)\n",
      "1998 (730, 90, 180)\n",
      "1999\n",
      "Complete regridding from (365, 180, 360) to (365, 90, 180)\n",
      "1999 (1095, 90, 180)\n",
      "2000\n",
      "Complete regridding from (366, 180, 360) to (366, 90, 180)\n",
      "2000 (1461, 90, 180)\n",
      "2001\n",
      "Complete regridding from (365, 180, 360) to (365, 90, 180)\n",
      "2001 (1826, 90, 180)\n",
      "2002\n",
      "Complete regridding from (365, 180, 360) to (365, 90, 180)\n",
      "2002 (2191, 90, 180)\n",
      "2003\n",
      "Complete regridding from (365, 180, 360) to (365, 90, 180)\n",
      "2003 (2556, 90, 180)\n",
      "2004\n",
      "Complete regridding from (366, 180, 360) to (366, 90, 180)\n",
      "2004 (2922, 90, 180)\n",
      "2005\n",
      "Complete regridding from (365, 180, 360) to (365, 90, 180)\n",
      "2005 (3287, 90, 180)\n",
      "2006\n",
      "Complete regridding from (365, 180, 360) to (365, 90, 180)\n",
      "2006 (3652, 90, 180)\n",
      "2007\n",
      "Complete regridding from (365, 180, 360) to (365, 90, 180)\n",
      "2007 (4017, 90, 180)\n",
      "2008\n",
      "Complete regridding from (366, 180, 360) to (366, 90, 180)\n",
      "2008 (4383, 90, 180)\n",
      "2009\n",
      "Complete regridding from (365, 180, 360) to (365, 90, 180)\n",
      "2009 (4748, 90, 180)\n",
      "2010\n",
      "Complete regridding from (365, 180, 360) to (365, 90, 180)\n",
      "2010 (5113, 90, 180)\n",
      "2011\n",
      "Complete regridding from (365, 180, 360) to (365, 90, 180)\n",
      "2011 (5478, 90, 180)\n",
      "2012\n",
      "Complete regridding from (366, 180, 360) to (366, 90, 180)\n",
      "2012 (5844, 90, 180)\n",
      "2013\n",
      "Complete regridding from (365, 180, 360) to (365, 90, 180)\n",
      "2013 (6209, 90, 180)\n",
      "2014\n",
      "Complete regridding from (365, 180, 360) to (365, 90, 180)\n",
      "2014 (6574, 90, 180)\n",
      "2015\n",
      "Complete regridding from (365, 180, 360) to (365, 90, 180)\n",
      "2015 (6939, 90, 180)\n",
      "2016\n",
      "Complete regridding from (366, 180, 360) to (366, 90, 180)\n",
      "2016 (7305, 90, 180)\n",
      "Complete calculating climatology and anomaly for calendar of gregorian\n",
      "Complete power spectra (segment:  730  nps: 19.0 )\n",
      "Complete domain and frequency average of spectral power\n",
      "Complete power spectra (segment:  730  nps: 19.0 )\n",
      "Complete domain and frequency average of spectral power\n"
     ]
    },
    {
     "name": "stderr",
     "output_type": "stream",
     "text": [
      "/home/ahn6/anaconda3/envs/pmp_v20220110/lib/python3.9/site-packages/pkg_resources/__init__.py:116: PkgResourcesDeprecationWarning: v3.0-46-ge6f562d is an invalid version and will not be supported in a future release\n",
      "  warnings.warn(\n",
      "/home/ahn6/anaconda3/envs/pmp_v20220110/lib/python3.9/site-packages/pkg_resources/__init__.py:116: PkgResourcesDeprecationWarning: v1.2.1-1163-g66b2186 is an invalid version and will not be supported in a future release\n",
      "  warnings.warn(\n",
      "/home/ahn6/anaconda3/envs/pmp_v20220110/lib/python3.9/site-packages/pkg_resources/__init__.py:116: PkgResourcesDeprecationWarning: v1.2.1-1165-g43e256e is an invalid version and will not be supported in a future release\n",
      "  warnings.warn(\n",
      "/home/ahn6/anaconda3/envs/pmp_v20220110/lib/python3.9/site-packages/pkg_resources/__init__.py:116: PkgResourcesDeprecationWarning: v1.2.1-640-gc4401ed is an invalid version and will not be supported in a future release\n",
      "  warnings.warn(\n",
      "/home/ahn6/anaconda3/envs/pmp_v20220110/lib/python3.9/site-packages/pkg_resources/__init__.py:116: PkgResourcesDeprecationWarning: v2.4.0-23-g4fa5682 is an invalid version and will not be supported in a future release\n",
      "  warnings.warn(\n",
      "/home/ahn6/anaconda3/envs/pmp_v20220110/lib/python3.9/site-packages/pkg_resources/__init__.py:116: PkgResourcesDeprecationWarning: v2.5.1-10-g93c30ce is an invalid version and will not be supported in a future release\n",
      "  warnings.warn(\n",
      "INFO::2023-02-23 11:58::pcmdi_metrics:: Results saved to a json file: /home/ahn6/PCMDI/pcmdi_metrics/branch/900_msa_precip_variability_demo/pcmdi_metrics/doc/jupyter/Demo/demo_output/precip_variability/GPCP-1-3/PS_pr.day_regrid.180x90_area.freq.mean_GPCP-1-3.json\n",
      "2023-02-23 11:58:48,155 [INFO]: base.py(write:237) >> Results saved to a json file: /home/ahn6/PCMDI/pcmdi_metrics/branch/900_msa_precip_variability_demo/pcmdi_metrics/doc/jupyter/Demo/demo_output/precip_variability/GPCP-1-3/PS_pr.day_regrid.180x90_area.freq.mean_GPCP-1-3.json\n"
     ]
    }
   ],
   "source": [
    "%%bash -s \"$modpath\" \"$results_dir\"\n",
    "variability_across_timescales_PS_driver.py -p basic_precip_variability_param.py \\\n",
    "--mip 'obs' \\\n",
    "--mod 'pr_day_GPCP-1-3_PCMDI_gn_19961002-20170101.nc' \\\n",
    "--modpath $1 \\\n",
    "--results_dir $2 \\\n",
    "--prd 1997 2016"
   ]
  },
  {
   "cell_type": "markdown",
   "metadata": {
    "tags": []
   },
   "source": [
    "## Precipitation Variability Metric"
   ]
  },
  {
   "cell_type": "markdown",
   "metadata": {},
   "source": [
    "The precipitation variability metric can be generated after model and observational spectral averages are made. \n",
    "\n",
    "A script called \"calc_ratio.py\" is provided in the precip_variability codebase. This script can be called with three arguments to generate the ratio.  \n",
    "`ref`: path to obs results JSON  \n",
    "`modpath`: directory containing model results JSONS (not CMEC formatted JSONs)  \n",
    "`results_dir`: directory for calc_ratio.py results\n",
    "\n",
    "This script can be accessed via the PMP repo, which is how it is run here. It does not come with the PMP conda installation."
   ]
  },
  {
   "cell_type": "code",
   "execution_count": 9,
   "metadata": {},
   "outputs": [
    {
     "name": "stdout",
     "output_type": "stream",
     "text": [
      "reference:  demo_output/precip_variability/GPCP-1-3/PS_pr.day_regrid.180x90_area.freq.mean_GPCP-1-3.json\n",
      "modpath:  demo_output/precip_variability/GISS-E2-H/\n",
      "outdir:  demo_output/precip_variability/ratio/\n",
      "['demo_output/precip_variability/GISS-E2-H/PS_pr.day_regrid.180x90_area.freq.mean_GISS-E2-H.r6i1p1.json']\n",
      "Complete  GISS-E2-H.r6i1p1\n",
      "Complete all\n"
     ]
    }
   ],
   "source": [
    "%%bash -s \"$demo_output_directory\"\n",
    "python ../../../pcmdi_metrics/precip_variability/scripts_pcmdi/calc_ratio.py \\\n",
    "--ref $1/precip_variability/GPCP-1-3/PS_pr.day_regrid.180x90_area.freq.mean_GPCP-1-3.json \\\n",
    "--modpath $1/precip_variability/GISS-E2-H/ \\\n",
    "--results_dir $1/precip_variability/ratio/"
   ]
  },
  {
   "cell_type": "markdown",
   "metadata": {},
   "source": [
    "This outputs one JSON file in the `results_dir` folder. The results in this file are shown below."
   ]
  },
  {
   "cell_type": "code",
   "execution_count": 10,
   "metadata": {},
   "outputs": [
    {
     "name": "stdout",
     "output_type": "stream",
     "text": [
      "{\n",
      "  \"GISS-E2-H.r6i1p1\": {\n",
      "    \"forced\": {\n",
      "      \"Land_30N50N\": {\n",
      "        \"annual\": 1.6223030227997506,\n",
      "        \"semi-annual\": 1.873331686130227\n",
      "      },\n",
      "      \"Land_30S30N\": {\n",
      "        \"annual\": 1.3409912459551663,\n",
      "        \"semi-annual\": 1.3385919476532728\n",
      "      },\n",
      "      \"Land_50S30S\": {\n",
      "        \"annual\": 1.1582631259388922,\n",
      "        \"semi-annual\": 1.903328778893799\n",
      "      },\n",
      "      \"Land_50S50N\": {\n",
      "        \"annual\": 1.3568447816315299,\n",
      "        \"semi-annual\": 1.3967541356262723\n",
      "      },\n",
      "      \"Ocean_30N50N\": {\n",
      "        \"annual\": 1.0571429112202069,\n",
      "        \"semi-annual\": 0.8535214354376027\n",
      "      },\n",
      "      \"Ocean_30S30N\": {\n",
      "        \"annual\": 1.4932022320513534,\n",
      "        \"semi-annual\": 1.817141396507603\n",
      "      },\n",
      "      \"Ocean_50S30S\": {\n",
      "        \"annual\": 1.4346150163209932,\n",
      "        \"semi-annual\": 1.053929465464535\n",
      "      },\n",
      "      \"Ocean_50S50N\": {\n",
      "        \"annual\": 1.4578241823817903,\n",
      "        \"semi-annual\": 1.6866782169880241\n",
      "      },\n",
      "      \"Total_30N50N\": {\n",
      "        \"annual\": 1.2324909366302752,\n",
      "        \"semi-annual\": 1.1401718517572574\n",
      "      },\n",
      "      \"Total_30S30N\": {\n",
      "        \"annual\": 1.4376639123073875,\n",
      "        \"semi-annual\": 1.6876985330852605\n",
      "      },\n",
      "      \"Total_50S30S\": {\n",
      "        \"annual\": 1.4035190474483104,\n",
      "        \"semi-annual\": 1.1126375229893537\n",
      "      },\n",
      "      \"Total_50S50N\": {\n",
      "        \"annual\": 1.4221050736833434,\n",
      "        \"semi-annual\": 1.6108754775087752\n",
      "      }\n",
      "    },\n",
      "    \"unforced\": {\n",
      "      \"Land_30N50N\": {\n",
      "        \"interannual\": 1.3925193177807649,\n",
      "        \"seasonal-annual\": 1.4578033501404122,\n",
      "        \"sub-seasonal\": 1.2833073189255852,\n",
      "        \"synoptic\": 0.9599889206339726\n",
      "      },\n",
      "      \"Land_30S30N\": {\n",
      "        \"interannual\": 1.5881700737299942,\n",
      "        \"seasonal-annual\": 1.3863862394635518,\n",
      "        \"sub-seasonal\": 1.0245268449368474,\n",
      "        \"synoptic\": 0.6287695564515763\n",
      "      },\n",
      "      \"Land_50S30S\": {\n",
      "        \"interannual\": 1.2117987802714973,\n",
      "        \"seasonal-annual\": 1.439080108544409,\n",
      "        \"sub-seasonal\": 1.0621359559625092,\n",
      "        \"synoptic\": 0.6461197014112282\n",
      "      },\n",
      "      \"Land_50S50N\": {\n",
      "        \"interannual\": 1.543064523906278,\n",
      "        \"seasonal-annual\": 1.400904149842401,\n",
      "        \"sub-seasonal\": 1.0699981481996261,\n",
      "        \"synoptic\": 0.6950528347881917\n",
      "      },\n",
      "      \"Ocean_30N50N\": {\n",
      "        \"interannual\": 0.7064700849633351,\n",
      "        \"seasonal-annual\": 0.6481146462601631,\n",
      "        \"sub-seasonal\": 0.6149584603478464,\n",
      "        \"synoptic\": 0.6871119360750948\n",
      "      },\n",
      "      \"Ocean_30S30N\": {\n",
      "        \"interannual\": 1.249329338868364,\n",
      "        \"seasonal-annual\": 1.5507541726899665,\n",
      "        \"sub-seasonal\": 1.1807618126643655,\n",
      "        \"synoptic\": 1.0941063854826194\n",
      "      },\n",
      "      \"Ocean_50S30S\": {\n",
      "        \"interannual\": 0.8611006199438214,\n",
      "        \"seasonal-annual\": 0.8486520728964435,\n",
      "        \"sub-seasonal\": 0.7681080333270882,\n",
      "        \"synoptic\": 0.6800227284451652\n",
      "      },\n",
      "      \"Ocean_50S50N\": {\n",
      "        \"interannual\": 1.1919874028769966,\n",
      "        \"seasonal-annual\": 1.3887066381499753,\n",
      "        \"sub-seasonal\": 1.0768347202958415,\n",
      "        \"synoptic\": 0.9425899855273115\n",
      "      },\n",
      "      \"Total_30N50N\": {\n",
      "        \"interannual\": 0.8901421815356266,\n",
      "        \"seasonal-annual\": 0.8488114296330028,\n",
      "        \"sub-seasonal\": 0.7938998372292919,\n",
      "        \"synoptic\": 0.764474619537189\n",
      "      },\n",
      "      \"Total_30S30N\": {\n",
      "        \"interannual\": 1.2881197802160176,\n",
      "        \"seasonal-annual\": 1.5249482736415583,\n",
      "        \"sub-seasonal\": 1.1523720464576683,\n",
      "        \"synoptic\": 0.96250506817075\n",
      "      },\n",
      "      \"Total_50S30S\": {\n",
      "        \"interannual\": 0.8886847211435605,\n",
      "        \"seasonal-annual\": 0.8871164946123411,\n",
      "        \"sub-seasonal\": 0.7898809941461293,\n",
      "        \"synoptic\": 0.6773923219536804\n",
      "      },\n",
      "      \"Total_50S50N\": {\n",
      "        \"interannual\": 1.235295139394142,\n",
      "        \"seasonal-annual\": 1.390644261053773,\n",
      "        \"sub-seasonal\": 1.0755971788907195,\n",
      "        \"synoptic\": 0.8809660578685686\n",
      "      }\n",
      "    }\n",
      "  }\n",
      "}\n"
     ]
    }
   ],
   "source": [
    "output_path = os.path.join(demo_output_directory,\"precip_variability/ratio/PS_pr.day_regrid.180x90_area.freq.mean_GISS-E2-H.r6i1p1.json\")\n",
    "with open(output_path) as f:\n",
    "    metric = json.load(f)[\"RESULTS\"]\n",
    "print(json.dumps(metric, indent=2))"
   ]
  },
  {
   "cell_type": "markdown",
   "metadata": {},
   "source": [
    "## Regional metrics"
   ]
  },
  {
   "cell_type": "markdown",
   "metadata": {},
   "source": [
    "The precipitation variability metrics have a set of default regions, but users can instead define a single spatial region to compute metrics over. There are two ways to do this.\n",
    "\n",
    "1. Use the `regions_specs` parameter to define a latitude/longitude box.  \n",
    "Parameter file example:\n",
    "```\n",
    "regions_specs={\"CONUS\": {\"domain\": {\"latitude\": (24.7, 49.4), \"longitude\": (235.22, 293.08)}}}\n",
    "```\n",
    "\n",
    "2. Use a shapefile to define a region. Users must provide the path to the shapefile along with the attribute/feature pair that defines the region.  \n",
    "Parameter file example:\n",
    "```\n",
    "region_file=\"CONUS.shp\" # Shapefile path\n",
    "attr=\"NAME\"             # An attribute in the shapefile\n",
    "feature=\"CONUS\"         # A unique feature name that can be \n",
    "                        # found under the \"attr\" attribute\n",
    "```"
   ]
  },
  {
   "cell_type": "markdown",
   "metadata": {},
   "source": [
    "First, we generate a simple shapefile for use in this example. The shapefile contains one feature, a box that defines the CONUS region."
   ]
  },
  {
   "cell_type": "code",
   "execution_count": null,
   "metadata": {},
   "outputs": [],
   "source": [
    "from shapely import Polygon\n",
    "import geo pandas as gpd\n",
    "import pandas as pd\n",
    "\n",
    "coords = ((233.,22.),(233.,50.),(294.,50.),(294.,22))\n",
    "df = pd.DataFrame({\"Region\": [\"CONUS\"], \"Coords\": [Polygon(coords)]})\n",
    "gdf = gpd.GeoDataFrame(df, geometry=\"Coords\", crs=\"EPSG:4326\")\n",
    "gdf.to_file(demo_output_directory+'/shp/CONUS.shp')"
   ]
  },
  {
   "cell_type": "markdown",
   "metadata": {},
   "source": [
    "Add the information for this shapefile to the variability_across_timescales_PS_driver.py run command."
   ]
  },
  {
   "cell_type": "code",
   "execution_count": null,
   "metadata": {},
   "outputs": [],
   "source": [
    "%%bash -s \"$demo_output_directory\"\n",
    "variability_across_timescales_PS_driver.py -p basic_precip_variability_param.py \\\n",
    "--region_file $1/shp/CONUS.shp \\\n",
    "--attr 'Region' \\\n",
    "--feature 'CONUS' \\\n",
    "--results_dir $1/precip_variability/region_ex"
   ]
  },
  {
   "cell_type": "markdown",
   "metadata": {},
   "source": [
    "The metrics output will look different than the default example. Metrics will only be produced for a single region that we defined in this shapefile."
   ]
  },
  {
   "cell_type": "code",
   "execution_count": null,
   "metadata": {},
   "outputs": [],
   "source": [
    "output_path = os.path.join(demo_output_directory,\"precip_variability/region_ex/PS_pr.day_regrid.180x90_area.freq.mean_GISS-E2-H.r6i1p1.json\")\n",
    "with open(output_path) as f:\n",
    "    metric = json.load(f)[\"RESULTS\"]\n",
    "print(json.dumps(metric, indent=2))"
   ]
  }
 ],
 "metadata": {
  "kernelspec": {
   "display_name": "pmp_pv_dev",
   "language": "python",
   "name": "pmp_pv_dev"
  },
  "language_info": {
   "codemirror_mode": {
    "name": "ipython",
    "version": 3
   },
   "file_extension": ".py",
   "mimetype": "text/x-python",
   "name": "python",
   "nbconvert_exporter": "python",
   "pygments_lexer": "ipython3",
   "version": "3.10.12"
  }
 },
 "nbformat": 4,
 "nbformat_minor": 4
}
