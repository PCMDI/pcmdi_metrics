{
 "cells": [
  {
   "cell_type": "markdown",
   "metadata": {},
   "source": [
    "# Precipitation Variability Across Timescales"
   ]
  },
  {
   "cell_type": "markdown",
   "metadata": {},
   "source": [
    "This notebook demonstrates how to use the precipitation variability metrics driver and calc_ratio script to obtain the precipitation variability metric.\n",
    "\n",
    "Our metric is based on the simulated-to-observed ratio of spectral power because the spectral power is substantially sensitive to the processing choices for power spectra analysis (e.g., window length, overlap length, and windowing function). By using the ratio, the metric is not greatly affected by the different processing choices, helping the robustness of analysis results.\n",
    "\n",
    "This notebook should be run in an environment with python, jupyterlab, pcmdi metrics package, and cdat installed. It is expected that you have downloaded the sample data as demonstrated in [the download notebook](Demo_0_download_data.ipynb).  \n",
    "\n",
    "The following cell reads in the choices you made during the download data step:"
   ]
  },
  {
   "cell_type": "code",
   "execution_count": 1,
   "metadata": {},
   "outputs": [],
   "source": [
    "from user_choices import demo_data_directory, demo_output_directory"
   ]
  },
  {
   "cell_type": "markdown",
   "metadata": {},
   "source": [
    "## Basic Use"
   ]
  },
  {
   "cell_type": "markdown",
   "metadata": {},
   "source": [
    "### Help\n",
    "Use the `--help` flag for assistance with the precip variability driver:"
   ]
  },
  {
   "cell_type": "code",
   "execution_count": 2,
   "metadata": {},
   "outputs": [
    {
     "name": "stdout",
     "output_type": "stream",
     "text": [
      "usage: variability_across_timescales_PS_driver.py [-h]\n",
      "                                                  [--parameters PARAMETERS]\n",
      "                                                  [--diags OTHER_PARAMETERS [OTHER_PARAMETERS ...]]\n",
      "                                                  [--mip MIP] [--mod MOD]\n",
      "                                                  [--var VAR] [--frq FRQ]\n",
      "                                                  [--modpath MODPATH]\n",
      "                                                  [--results_dir RESULTS_DIR]\n",
      "                                                  [--case_id CASE_ID]\n",
      "                                                  [--prd PRD [PRD ...]]\n",
      "                                                  [--fac FAC]\n",
      "                                                  [--nperseg NPERSEG]\n",
      "                                                  [--noverlap NOVERLAP]\n",
      "                                                  [--ref REF] [--cmec]\n",
      "                                                  [--no_cmec]\n",
      "\n",
      "optional arguments:\n",
      "  -h, --help            show this help message and exit\n",
      "  --parameters PARAMETERS, -p PARAMETERS\n",
      "  --diags OTHER_PARAMETERS [OTHER_PARAMETERS ...], -d OTHER_PARAMETERS [OTHER_PARAMETERS ...]\n",
      "                        Path to other user-defined parameter file. (default:\n",
      "                        None)\n",
      "  --mip MIP             cmip5, cmip6 or other mip (default: None)\n",
      "  --mod MOD             model (default: None)\n",
      "  --var VAR             pr or other variable (default: None)\n",
      "  --frq FRQ             day, 3hr or other frequency (default: None)\n",
      "  --modpath MODPATH     data directory path (default: None)\n",
      "  --results_dir RESULTS_DIR\n",
      "                        results directory path (default: None)\n",
      "  --case_id CASE_ID     case_id with date (default: None)\n",
      "  --prd PRD [PRD ...]   list of start- and end-year for analysis (default:\n",
      "                        None)\n",
      "  --fac FAC             factor to make unit of [mm/day] (default: None)\n",
      "  --nperseg NPERSEG     length of segment in power spectra (default: None)\n",
      "  --noverlap NOVERLAP   length of overlap between segments in power spectra\n",
      "                        (default: None)\n",
      "  --ref REF             reference data path (default: None)\n",
      "  --cmec                Use to save CMEC format metrics JSON (default: False)\n",
      "  --no_cmec             Do not save CMEC format metrics JSON (default: False)\n"
     ]
    }
   ],
   "source": [
    "%%bash\n",
    "variability_across_timescales_PS_driver.py --help"
   ]
  },
  {
   "cell_type": "markdown",
   "metadata": {},
   "source": [
    "### Parameter file\n",
    "Settings can be specified in a parameter file or on the command line. The basic case demonstrated here uses a parameter file, which is printed below.  \n",
    "\n",
    "Note that this driver should only be used to run **one** model or dataset at a time.  \n",
    "\n",
    "The `mod` variable can either be set to a particular file name, as shown here, or to a model name (i.e. \"GISS-E2-H\")."
   ]
  },
  {
   "cell_type": "code",
   "execution_count": 3,
   "metadata": {},
   "outputs": [
    {
     "name": "stdout",
     "output_type": "stream",
     "text": [
      "mip = \"cmip5\"\n",
      "exp = \"historical\"\n",
      "mod = \"pr.day.GISS-E2-H.historical.r6i1p1.20000101-20051231.xml\"\n",
      "var = \"pr\"\n",
      "frq = \"day\"\n",
      "modpath = 'demo_data//CMIP5_demo_timeseries/historical/atmos/day/pr/'\n",
      "results_dir = 'demo_output/precip_variability/GISS-E2-H/'\n",
      "prd = [2000,2005]  # analysis period\n",
      "fac = 86400  # factor to make unit of [mm/day]\n",
      "\n",
      "# length of segment in power spectra (~10 years)\n",
      "# shortened to 2 years for demo purposes\n",
      "nperseg = 2 * 365\n",
      "# length of overlap between segments in power spectra (~5 years)\n",
      "# shortened to 1 year for demo purposes\n",
      "noverlap = 1 * 365\n",
      "\n",
      "# flag for cmec formatted JSON\n",
      "cmec = False\n"
     ]
    }
   ],
   "source": [
    "# print parameter file\n",
    "with open(\"basic_precip_variability_param.py\") as f:\n",
    "    print(f.read())"
   ]
  },
  {
   "cell_type": "markdown",
   "metadata": {},
   "source": [
    "### Model file\n",
    "\n",
    "The precipitation variability metrics driver requires that model and observation file names follow this template:\n",
    "`variable.frequency.model.experiment.realization.dates.extension`\n",
    "\n",
    "Our sample model precipitation does not follow that format, so the next cell generates an XML file with a compliant name to use with the driver."
   ]
  },
  {
   "cell_type": "code",
   "execution_count": 4,
   "metadata": {},
   "outputs": [
    {
     "name": "stdout",
     "output_type": "stream",
     "text": [
      "Finding common directory ...\n",
      "Common directory: \n",
      "Scanning files ...\n",
      "pr_day_GISS-E2-H_historical_r6i1p1_20000101-20051231.nc\n",
      "Setting reference time units to days since 2000-1-1\n",
      "pr.day.GISS-E2-H.historical.r6i1p1.20000101-20051231.xml written\n"
     ]
    }
   ],
   "source": [
    "%%bash -s \"$demo_data_directory\"\n",
    "cd $1/CMIP5_demo_timeseries/historical/atmos/day/pr/\n",
    "cdscan -x  pr.day.GISS-E2-H.historical.r6i1p1.20000101-20051231.xml *.nc"
   ]
  },
  {
   "cell_type": "markdown",
   "metadata": {},
   "source": [
    "### Running the driver\n",
    "The parameter file is passed to the driver using the `-p` flag, similar to other PMP metrics. The basic command is:  \n",
    "`variability_across_timescales_PS_driver.py -p parameter_file_name.py`\n",
    "\n",
    "The next cell uses the command line syntax to execute the driver as a subprocess."
   ]
  },
  {
   "cell_type": "code",
   "execution_count": 5,
   "metadata": {
    "scrolled": true
   },
   "outputs": [
    {
     "name": "stdout",
     "output_type": "stream",
     "text": [
      "demo_data//CMIP5_demo_timeseries/historical/atmos/day/pr/\n",
      "pr.day.GISS-E2-H.historical.r6i1p1.20000101-20051231.xml\n",
      "[2000, 2005]\n",
      "730 365\n",
      "demo_output/precip_variability/GISS-E2-H/\n",
      "demo_output/precip_variability/GISS-E2-H/\n",
      "demo_output/precip_variability/GISS-E2-H/\n",
      "# of data: 1\n",
      "['GISS-E2-H.historical']\n",
      "GISS-E2-H.historical noleap\n",
      "Complete regridding from (365, 90, 144) to (365, 90, 180)\n",
      "2000 (365, 90, 180)\n",
      "Complete regridding from (365, 90, 144) to (365, 90, 180)\n",
      "2001 (730, 90, 180)\n",
      "Complete regridding from (365, 90, 144) to (365, 90, 180)\n",
      "2002 (1095, 90, 180)\n",
      "Complete regridding from (365, 90, 144) to (365, 90, 180)\n",
      "2003 (1460, 90, 180)\n",
      "Complete regridding from (365, 90, 144) to (365, 90, 180)\n",
      "2004 (1825, 90, 180)\n",
      "Complete regridding from (365, 90, 144) to (365, 90, 180)\n",
      "2005 (2190, 90, 180)\n",
      "Complete calculating climatology and anomaly for calendar of noleap\n",
      "Complete power spectra (segment:  730  nps: 5.0 )\n",
      "Complete domain and frequency average of spectral power\n",
      "Complete power spectra (segment:  730  nps: 5.0 )\n",
      "Complete domain and frequency average of spectral power\n"
     ]
    },
    {
     "name": "stderr",
     "output_type": "stream",
     "text": [
      "INFO::2021-07-21 15:59::pcmdi_metrics:: Results saved to a json file: /Users/ordonez4/Documents/git/pcmdi_metrics/doc/jupyter/Demo/demo_output/precip_variability/GISS-E2-H/PS_pr.day_regrid.180x90_area.freq.mean_GISS-E2-H.historical.json\n"
     ]
    }
   ],
   "source": [
    "%%bash\n",
    "variability_across_timescales_PS_driver.py -p basic_precip_variability_param.py"
   ]
  },
  {
   "cell_type": "markdown",
   "metadata": {},
   "source": [
    "The following cell cleans up the data directory by removing the xml we made with the compatible name."
   ]
  },
  {
   "cell_type": "code",
   "execution_count": 6,
   "metadata": {},
   "outputs": [],
   "source": [
    "%%bash -s \"$demo_data_directory\"\n",
    "rm $1/CMIP5_demo_timeseries/historical/atmos/day/pr/pr.day.GISS-E2-H.historical.r6i1p1.20000101-20051231.xml"
   ]
  },
  {
   "cell_type": "markdown",
   "metadata": {},
   "source": [
    "### Results\n",
    "Running the precipitation variability driver produces three output files, found in the demo output directory:  \n",
    "\n",
    "Spatial pattern of spectral power (forced variability) (netCDF)   \n",
    "Spatial pattern of spectral power (unforced variability) (netCDF)  \n",
    "Average of spectral power (forced and unforced) (JSON)  "
   ]
  },
  {
   "cell_type": "code",
   "execution_count": 7,
   "metadata": {},
   "outputs": [
    {
     "name": "stdout",
     "output_type": "stream",
     "text": [
      "PS_pr.day_regrid.180x90_GISS-E2-H.historical.nc\r\n",
      "PS_pr.day_regrid.180x90_GISS-E2-H.historical_unforced.nc\r\n",
      "PS_pr.day_regrid.180x90_area.freq.mean_GISS-E2-H.historical.json\r\n"
     ]
    }
   ],
   "source": [
    "!ls {demo_output_directory + \"/precip_variability/GISS-E2-H\"}"
   ]
  },
  {
   "cell_type": "markdown",
   "metadata": {},
   "source": [
    "The next cell displays the metrics from the JSON file."
   ]
  },
  {
   "cell_type": "code",
   "execution_count": 8,
   "metadata": {},
   "outputs": [
    {
     "name": "stdout",
     "output_type": "stream",
     "text": [
      "{\n",
      "  \"GISS-E2-H.historical\": {\n",
      "    \"forced\": {\n",
      "      \"Land_30N50N\": {\n",
      "        \"annual\": 1.1549259632229734,\n",
      "        \"semi-annual\": 0.36957929725177013\n",
      "      },\n",
      "      \"Land_30S30N\": {\n",
      "        \"annual\": 6.86718228695229,\n",
      "        \"semi-annual\": 1.1973130839359392\n",
      "      },\n",
      "      \"Land_50S30S\": {\n",
      "        \"annual\": 0.7833102360471571,\n",
      "        \"semi-annual\": 0.33415474921186816\n",
      "      },\n",
      "      \"Land_50S50N\": {\n",
      "        \"annual\": 4.804355868733513,\n",
      "        \"semi-annual\": 0.8992837441868183\n",
      "      },\n",
      "      \"Ocean_30N50N\": {\n",
      "        \"annual\": 1.4471891957606835,\n",
      "        \"semi-annual\": 0.37248020655592934\n",
      "      },\n",
      "      \"Ocean_30S30N\": {\n",
      "        \"annual\": 4.5690821869910465,\n",
      "        \"semi-annual\": 1.5047969231749088\n",
      "      },\n",
      "      \"Ocean_50S30S\": {\n",
      "        \"annual\": 0.5919548020770604,\n",
      "        \"semi-annual\": 0.19280887596650872\n",
      "      },\n",
      "      \"Ocean_50S50N\": {\n",
      "        \"annual\": 3.310355604111882,\n",
      "        \"semi-annual\": 1.0766772258953867\n",
      "      },\n",
      "      \"Total_30N50N\": {\n",
      "        \"annual\": 1.3116137610936311,\n",
      "        \"semi-annual\": 0.3711345291115723\n",
      "      },\n",
      "      \"Total_30S30N\": {\n",
      "        \"annual\": 5.156428181351084,\n",
      "        \"semi-annual\": 1.4262105285655093\n",
      "      },\n",
      "      \"Total_50S30S\": {\n",
      "        \"annual\": 0.6056973091238508,\n",
      "        \"semi-annual\": 0.2029598636798371\n",
      "      },\n",
      "      \"Total_50S50N\": {\n",
      "        \"annual\": 3.6985570407909423,\n",
      "        \"semi-annual\": 1.0305832551729601\n",
      "      }\n",
      "    },\n",
      "    \"unforced\": {\n",
      "      \"Land_30N50N\": {\n",
      "        \"interannual\": 0.11037168355762557,\n",
      "        \"seasonal-annual\": 0.15049389585608147,\n",
      "        \"sub-seasonal\": 0.13618359698071195,\n",
      "        \"synoptic\": 0.06283897471189703\n",
      "      },\n",
      "      \"Land_30S30N\": {\n",
      "        \"interannual\": 0.3127340873170094,\n",
      "        \"seasonal-annual\": 0.3093813878584019,\n",
      "        \"sub-seasonal\": 0.24402021514695113,\n",
      "        \"synoptic\": 0.07556756458932479\n",
      "      },\n",
      "      \"Land_50S30S\": {\n",
      "        \"interannual\": 0.15285943106444652,\n",
      "        \"seasonal-annual\": 0.2042415774272861,\n",
      "        \"sub-seasonal\": 0.17215553403046988,\n",
      "        \"synoptic\": 0.07140970548940218\n",
      "      },\n",
      "      \"Land_50S50N\": {\n",
      "        \"interannual\": 0.2423273980128482,\n",
      "        \"seasonal-annual\": 0.255079153428167,\n",
      "        \"sub-seasonal\": 0.207141089585722,\n",
      "        \"synoptic\": 0.07142206771250155\n",
      "      },\n",
      "      \"Ocean_30N50N\": {\n",
      "        \"interannual\": 0.13248471790190733,\n",
      "        \"seasonal-annual\": 0.1755941165992767,\n",
      "        \"sub-seasonal\": 0.1543880079090644,\n",
      "        \"synoptic\": 0.09832347398393944\n",
      "      },\n",
      "      \"Ocean_30S30N\": {\n",
      "        \"interannual\": 0.6532431992538731,\n",
      "        \"seasonal-annual\": 0.6378416071074303,\n",
      "        \"sub-seasonal\": 0.43471544075372687,\n",
      "        \"synoptic\": 0.11446675705154576\n",
      "      },\n",
      "      \"Ocean_50S30S\": {\n",
      "        \"interannual\": 0.0984395842657924,\n",
      "        \"seasonal-annual\": 0.13370931295241142,\n",
      "        \"sub-seasonal\": 0.12043392875811716,\n",
      "        \"synoptic\": 0.06911852119910653\n",
      "      },\n",
      "      \"Ocean_50S50N\": {\n",
      "        \"interannual\": 0.4669289164957085,\n",
      "        \"seasonal-annual\": 0.4699209362687964,\n",
      "        \"sub-seasonal\": 0.33101831673214926,\n",
      "        \"synoptic\": 0.10256124019704373\n",
      "      },\n",
      "      \"Total_30N50N\": {\n",
      "        \"interannual\": 0.12222689581117746,\n",
      "        \"seasonal-annual\": 0.1639505947373245,\n",
      "        \"sub-seasonal\": 0.14594332294804885,\n",
      "        \"synoptic\": 0.08186287998113694\n",
      "      },\n",
      "      \"Total_30S30N\": {\n",
      "        \"interannual\": 0.5662162403574418,\n",
      "        \"seasonal-annual\": 0.5538940914679719,\n",
      "        \"sub-seasonal\": 0.38597775656598726,\n",
      "        \"synoptic\": 0.10452494256012691\n",
      "      },\n",
      "      \"Total_50S30S\": {\n",
      "        \"interannual\": 0.10234783558951817,\n",
      "        \"seasonal-annual\": 0.13877470420606933,\n",
      "        \"sub-seasonal\": 0.12414840140297392,\n",
      "        \"synoptic\": 0.0692830663891836\n",
      "      },\n",
      "      \"Total_50S50N\": {\n",
      "        \"interannual\": 0.40856839660823213,\n",
      "        \"seasonal-annual\": 0.41409638875538207,\n",
      "        \"sub-seasonal\": 0.2988300242071537,\n",
      "        \"synoptic\": 0.09447002911646342\n",
      "      }\n",
      "    }\n",
      "  }\n",
      "}\n"
     ]
    }
   ],
   "source": [
    "import json\n",
    "import os\n",
    "output_path = os.path.join(demo_output_directory,\"precip_variability/GISS-E2-H/PS_pr.day_regrid.180x90_area.freq.mean_GISS-E2-H.historical.json\")\n",
    "with open(output_path) as f:\n",
    "    metric = json.load(f)[\"RESULTS\"]\n",
    "print(json.dumps(metric, indent=2))"
   ]
  },
  {
   "cell_type": "markdown",
   "metadata": {},
   "source": [
    "## Command line usage with Obs data"
   ]
  },
  {
   "cell_type": "markdown",
   "metadata": {},
   "source": [
    "To calculate the precipitation variability spectral power ratio, we also need results for a reference dataset. This example shows how to call the `variability_across_timescales_PS_driver` using a combination of the parameter file and command line arguments with daily observational data. The command line arguments will overwrite values that are in the parameter file.  \n",
    "\n",
    "The `modpath` and `results_dir` values are set first in a separate cell to easily combine the `demo_data_directory` and `demo_output_directory` variables with other strings. The new variables are then passed to the shell command in the second cell."
   ]
  },
  {
   "cell_type": "code",
   "execution_count": 9,
   "metadata": {},
   "outputs": [],
   "source": [
    "modpath = demo_data_directory + '/PCMDIobs2/atmos/day/pr/GPCP-IP/gn/v20200719/'\n",
    "results_dir = demo_output_directory + '/precip_variability/GPCP-IP/'"
   ]
  },
  {
   "cell_type": "code",
   "execution_count": 10,
   "metadata": {},
   "outputs": [
    {
     "name": "stdout",
     "output_type": "stream",
     "text": [
      "demo_data/PCMDIobs2/atmos/day/pr/GPCP-IP/gn/v20200719/\n",
      "pr.day.GPCP-IP.BE.gn.v20200719.1998-1999.xml\n",
      "[1998, 1999]\n",
      "730 365\n",
      "demo_output/precip_variability/GPCP-IP/\n",
      "demo_output/precip_variability/GPCP-IP/\n",
      "demo_output/precip_variability/GPCP-IP/\n",
      "# of data: 1\n",
      "['GPCP-IP']\n",
      "GPCP-IP gregorian\n",
      "Complete regridding from (365, 180, 360) to (365, 90, 180)\n",
      "1998 (365, 90, 180)\n",
      "Complete regridding from (365, 180, 360) to (365, 90, 180)\n",
      "1999 (730, 90, 180)\n",
      "Complete calculating climatology and anomaly for calendar of gregorian\n",
      "Complete power spectra (segment:  730  nps: 1.0 )\n",
      "Complete domain and frequency average of spectral power\n",
      "Complete power spectra (segment:  730  nps: 1.0 )\n",
      "Complete domain and frequency average of spectral power\n"
     ]
    },
    {
     "name": "stderr",
     "output_type": "stream",
     "text": [
      "/Users/ordonez4/miniconda3/envs/test_pcmdi/lib/python3.8/site-packages/pcmdi_metrics-v1.2.1_766_gf5058a32-py3.8.egg/pcmdi_metrics/precip_variability/lib/lib_variability_across_timescales.py:229: UserWarning: Warning: converting a masked element to nan.\n",
      "INFO::2021-07-21 16:01::pcmdi_metrics:: Results saved to a json file: /Users/ordonez4/Documents/git/pcmdi_metrics/doc/jupyter/Demo/demo_output/precip_variability/GPCP-IP/PS_pr.day_regrid.180x90_area.freq.mean_GPCP-IP.json\n"
     ]
    }
   ],
   "source": [
    "%%bash -s \"$modpath\" \"$results_dir\"\n",
    "variability_across_timescales_PS_driver.py -p basic_precip_variability_param.py \\\n",
    "--mip 'obs' \\\n",
    "--mod 'pr.day.GPCP-IP.BE.gn.v20200719.1998-1999.xml' \\\n",
    "--modpath $1 \\\n",
    "--results_dir $2 \\\n",
    "--prd 1998 1999"
   ]
  },
  {
   "cell_type": "markdown",
   "metadata": {},
   "source": [
    "## Precipitation Variability Metric"
   ]
  },
  {
   "cell_type": "markdown",
   "metadata": {},
   "source": [
    "The precipitation variability metric can be generated after model and observational spectral averages are made. \n",
    "\n",
    "A script called \"calc_ratio.py\" is provided in the precip_variability codebase. This script can be called with three arguments to generate the ratio.  \n",
    "`ref`: path to obs results JSON  \n",
    "`modpath`: directory containing model results JSONS (not CMEC formatted JSONs)  \n",
    "`results_dir`: directory for calc_ratio.py results\n",
    "\n",
    "This script can be accessed via the PMP repo, which is how it is run here. It does not come with the PMP conda installation."
   ]
  },
  {
   "cell_type": "code",
   "execution_count": 11,
   "metadata": {},
   "outputs": [
    {
     "name": "stdout",
     "output_type": "stream",
     "text": [
      "reference:  demo_output/precip_variability/GPCP-IP/PS_pr.day_regrid.180x90_area.freq.mean_GPCP-IP.json\n",
      "modpath:  demo_output/precip_variability/GISS-E2-H/\n",
      "outdir:  demo_output/precip_variability/ratio/\n",
      "['demo_output/precip_variability/GISS-E2-H/PS_pr.day_regrid.180x90_area.freq.mean_GISS-E2-H.historical.json']\n",
      "Complete  GISS-E2-H.historical\n",
      "Complete all\n"
     ]
    }
   ],
   "source": [
    "%%bash -s \"$demo_output_directory\"\n",
    "python ../../../pcmdi_metrics/precip_variability/scripts_pcmdi/calc_ratio.py \\\n",
    "--ref $1/precip_variability/GPCP-IP/PS_pr.day_regrid.180x90_area.freq.mean_GPCP-IP.json \\\n",
    "--modpath $1/precip_variability/GISS-E2-H/ \\\n",
    "--results_dir $1/precip_variability/ratio/"
   ]
  },
  {
   "cell_type": "markdown",
   "metadata": {},
   "source": [
    "This outputs one JSON file in the `results_dir` folder. The results in this file are shown below."
   ]
  },
  {
   "cell_type": "code",
   "execution_count": 12,
   "metadata": {},
   "outputs": [
    {
     "name": "stdout",
     "output_type": "stream",
     "text": [
      "{\n",
      "  \"GISS-E2-H.historical\": {\n",
      "    \"forced\": {\n",
      "      \"Land_30N50N\": {\n",
      "        \"annual\": 1.1500194464027775,\n",
      "        \"semi-annual\": 1.553216653910303\n",
      "      },\n",
      "      \"Land_30S30N\": {\n",
      "        \"annual\": 1.295541384665899,\n",
      "        \"semi-annual\": 1.488996362077941\n",
      "      },\n",
      "      \"Land_50S30S\": {\n",
      "        \"annual\": 1.5143757307185535,\n",
      "        \"semi-annual\": 2.4937185698342192\n",
      "      },\n",
      "      \"Land_50S50N\": {\n",
      "        \"annual\": 1.1618572684631605,\n",
      "        \"semi-annual\": 1.3870817424737694\n",
      "      },\n",
      "      \"Ocean_30N50N\": {\n",
      "        \"annual\": 0.9198764990934699,\n",
      "        \"semi-annual\": 0.7395557740837525\n",
      "      },\n",
      "      \"Ocean_30S30N\": {\n",
      "        \"annual\": 1.5119666276458792,\n",
      "        \"semi-annual\": 1.886140600092445\n",
      "      },\n",
      "      \"Ocean_50S30S\": {\n",
      "        \"annual\": 1.46247816502199,\n",
      "        \"semi-annual\": 1.0417004965116758\n",
      "      },\n",
      "      \"Ocean_50S50N\": {\n",
      "        \"annual\": 1.4584271041573642,\n",
      "        \"semi-annual\": 1.7161187315455917\n",
      "      },\n",
      "      \"Total_30N50N\": {\n",
      "        \"annual\": 0.9806701388850977,\n",
      "        \"semi-annual\": 0.8172733524768129\n",
      "      },\n",
      "      \"Total_30S30N\": {\n",
      "        \"annual\": 1.4306207028678923,\n",
      "        \"semi-annual\": 1.7840444290717543\n",
      "      },\n",
      "      \"Total_50S30S\": {\n",
      "        \"annual\": 1.4671478820431825,\n",
      "        \"semi-annual\": 1.1187215074209802\n",
      "      },\n",
      "      \"Total_50S50N\": {\n",
      "        \"annual\": 1.3471012077948104,\n",
      "        \"semi-annual\": 1.5998634743646838\n",
      "      }\n",
      "    },\n",
      "    \"unforced\": {\n",
      "      \"Land_30N50N\": {\n",
      "        \"interannual\": 1.8458827215093863,\n",
      "        \"seasonal-annual\": 2.1282948830460047,\n",
      "        \"sub-seasonal\": 1.9505372197748696,\n",
      "        \"synoptic\": 1.26468426674563\n",
      "      },\n",
      "      \"Land_30S30N\": {\n",
      "        \"interannual\": 2.162045542500218,\n",
      "        \"seasonal-annual\": 2.584286025758596,\n",
      "        \"sub-seasonal\": 2.0210119936842577,\n",
      "        \"synoptic\": 1.055324918837901\n",
      "      },\n",
      "      \"Land_50S30S\": {\n",
      "        \"interannual\": 1.9466338527402869,\n",
      "        \"seasonal-annual\": 2.7083080593439415,\n",
      "        \"sub-seasonal\": 1.8478921752794857,\n",
      "        \"synoptic\": 1.1045086616027882\n",
      "      },\n",
      "      \"Land_50S50N\": {\n",
      "        \"interannual\": 1.9671845232993688,\n",
      "        \"seasonal-annual\": 2.384246317109056,\n",
      "        \"sub-seasonal\": 1.9086700877465341,\n",
      "        \"synoptic\": 1.0721067212220556\n",
      "      },\n",
      "      \"Ocean_30N50N\": {\n",
      "        \"interannual\": 1.2691438208469918,\n",
      "        \"seasonal-annual\": 0.9102797221768115,\n",
      "        \"sub-seasonal\": 0.8347186356844017,\n",
      "        \"synoptic\": 0.6908948819953867\n",
      "      },\n",
      "      \"Ocean_30S30N\": {\n",
      "        \"interannual\": 0.9608921929476645,\n",
      "        \"seasonal-annual\": 2.342822130835983,\n",
      "        \"sub-seasonal\": 1.7766668754878565,\n",
      "        \"synoptic\": 1.1813134867489927\n",
      "      },\n",
      "      \"Ocean_50S30S\": {\n",
      "        \"interannual\": 1.0632693754361602,\n",
      "        \"seasonal-annual\": 1.4653545107475463,\n",
      "        \"sub-seasonal\": 0.9322752388798184,\n",
      "        \"synoptic\": 0.7072277075527627\n",
      "      },\n",
      "      \"Ocean_50S50N\": {\n",
      "        \"interannual\": 0.9736354120528117,\n",
      "        \"seasonal-annual\": 2.1086234523495273,\n",
      "        \"sub-seasonal\": 1.5612760073574945,\n",
      "        \"synoptic\": 0.9977580395568121\n",
      "      },\n",
      "      \"Total_30N50N\": {\n",
      "        \"interannual\": 1.298217720622904,\n",
      "        \"seasonal-annual\": 1.0508016839489036,\n",
      "        \"sub-seasonal\": 1.0935064909788266,\n",
      "        \"synoptic\": 0.8454596689549634\n",
      "      },\n",
      "      \"Total_30S30N\": {\n",
      "        \"interannual\": 1.0426624414038632,\n",
      "        \"seasonal-annual\": 2.3744941127089025,\n",
      "        \"sub-seasonal\": 1.8120664043698589,\n",
      "        \"synoptic\": 1.1558173308208946\n",
      "      },\n",
      "      \"Total_50S30S\": {\n",
      "        \"interannual\": 1.1176705414802233,\n",
      "        \"seasonal-annual\": 1.5400601767611493,\n",
      "        \"sub-seasonal\": 0.9806661032878284,\n",
      "        \"synoptic\": 0.726572445585134\n",
      "      },\n",
      "      \"Total_50S50N\": {\n",
      "        \"interannual\": 1.0051989935025247,\n",
      "        \"seasonal-annual\": 2.095338454748893,\n",
      "        \"sub-seasonal\": 1.5928022918907059,\n",
      "        \"synoptic\": 1.0257376233156916\n",
      "      }\n",
      "    }\n",
      "  }\n",
      "}\n"
     ]
    }
   ],
   "source": [
    "output_path = os.path.join(demo_output_directory,\"precip_variability/ratio/PS_pr.day_regrid.180x90_area.freq.mean_GISS-E2-H.historical.json\")\n",
    "with open(output_path) as f:\n",
    "    metric = json.load(f)[\"RESULTS\"]\n",
    "print(json.dumps(metric, indent=2))"
   ]
  },
  {
   "cell_type": "code",
   "execution_count": null,
   "metadata": {},
   "outputs": [],
   "source": []
  }
 ],
 "metadata": {
  "kernelspec": {
   "display_name": "Python 3",
   "language": "python",
   "name": "python3"
  },
  "language_info": {
   "codemirror_mode": {
    "name": "ipython",
    "version": 3
   },
   "file_extension": ".py",
   "mimetype": "text/x-python",
   "name": "python",
   "nbconvert_exporter": "python",
   "pygments_lexer": "ipython3",
   "version": "3.8.6"
  }
 },
 "nbformat": 4,
 "nbformat_minor": 4
}
