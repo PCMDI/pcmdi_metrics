{
 "cells": [
  {
   "cell_type": "markdown",
   "metadata": {},
   "source": [
    "# 7. Precipitation Variability Across Timescales"
   ]
  },
  {
   "cell_type": "markdown",
   "metadata": {},
   "source": [
    "This notebook demonstrates how to use the precipitation variability metrics driver and calc_ratio script to obtain the precipitation variability metric.\n",
    "\n",
    "Our metric is based on the simulated-to-observed ratio of spectral power because the spectral power is substantially sensitive to the processing choices for power spectra analysis (e.g., window length, overlap length, and windowing function). By using the ratio, the metric is not greatly affected by the different processing choices, helping the robustness of analysis results.\n",
    "\n",
    "This notebook should be run in an environment with python, jupyterlab, pcmdi metrics package, and cdat installed. It is expected that you have downloaded the sample data as demonstrated in [the download notebook](Demo_0_download_data.ipynb).  \n",
    "\n",
    "The following cell reads in the choices you made during the download data step:"
   ]
  },
  {
   "cell_type": "code",
   "execution_count": 1,
   "metadata": {},
   "outputs": [],
   "source": [
    "from user_choices import demo_data_directory, demo_output_directory"
   ]
  },
  {
   "cell_type": "markdown",
   "metadata": {},
   "source": [
    "## Basic Use"
   ]
  },
  {
   "cell_type": "markdown",
   "metadata": {},
   "source": [
    "### Help\n",
    "Use the `--help` flag for assistance with the precip variability driver:"
   ]
  },
  {
   "cell_type": "code",
   "execution_count": 2,
   "metadata": {},
   "outputs": [
    {
     "name": "stdout",
     "output_type": "stream",
     "text": [
      "usage: variability_across_timescales_PS_driver.py [-h]\n",
      "                                                  [--parameters PARAMETERS]\n",
      "                                                  [--diags OTHER_PARAMETERS [OTHER_PARAMETERS ...]]\n",
      "                                                  [--mip MIP] [--exp EXP]\n",
      "                                                  [--mod MOD] [--var VAR]\n",
      "                                                  [--frq FRQ]\n",
      "                                                  [--modpath MODPATH]\n",
      "                                                  [--results_dir RESULTS_DIR]\n",
      "                                                  [--case_id CASE_ID]\n",
      "                                                  [--prd PRD [PRD ...]]\n",
      "                                                  [--fac FAC]\n",
      "                                                  [--nperseg NPERSEG]\n",
      "                                                  [--noverlap NOVERLAP]\n",
      "                                                  [--ref REF] [--res RES]\n",
      "                                                  [--regions_specs REGIONS_SPECS]\n",
      "                                                  [--cmec] [--no_cmec]\n",
      "                                                  [--region_file REGION_FILE]\n",
      "                                                  [--feature FEATURE]\n",
      "                                                  [--attr ATTR]\n",
      "\n",
      "options:\n",
      "  -h, --help            show this help message and exit\n",
      "  --parameters PARAMETERS, -p PARAMETERS\n",
      "  --diags OTHER_PARAMETERS [OTHER_PARAMETERS ...], -d OTHER_PARAMETERS [OTHER_PARAMETERS ...]\n",
      "                        Path to other user-defined parameter file. (default:\n",
      "                        None)\n",
      "  --mip MIP             cmip5, cmip6 or other mip (default: None)\n",
      "  --exp EXP             amip, cmip or others (default: None)\n",
      "  --mod MOD             model (default: None)\n",
      "  --var VAR             pr or other variable (default: None)\n",
      "  --frq FRQ             day, 3hr or other frequency (default: None)\n",
      "  --modpath MODPATH     data directory path (default: None)\n",
      "  --results_dir RESULTS_DIR\n",
      "                        results directory path (default: None)\n",
      "  --case_id CASE_ID     case_id with date (default: None)\n",
      "  --prd PRD [PRD ...]   start- and end-year for analysis (e.g., 1985 2004)\n",
      "                        (default: None)\n",
      "  --fac FAC             factor to make unit of [mm/day] (default: None)\n",
      "  --nperseg NPERSEG     length of segment in power spectra (default: None)\n",
      "  --noverlap NOVERLAP   length of overlap between segments in power spectra\n",
      "                        (default: None)\n",
      "  --ref REF             reference data path (default: None)\n",
      "  --res RES             Horizontal resolution [degree] for interpolation (lon,\n",
      "                        lat) (default: 2)\n",
      "  --regions_specs REGIONS_SPECS\n",
      "                        Provide a single custom region (default: None)\n",
      "  --cmec                Use to save CMEC format metrics JSON (default: False)\n",
      "  --no_cmec             Do not save CMEC format metrics JSON (default: False)\n",
      "  --region_file REGION_FILE\n",
      "                        File containing vector region of interest. (default:\n",
      "                        None)\n",
      "  --feature FEATURE     Feature in vectorized region. (default: None)\n",
      "  --attr ATTR           Attribute containing feature in vectorized region.\n",
      "                        (default: None)\n"
     ]
    },
    {
     "name": "stderr",
     "output_type": "stream",
     "text": [
      "[WARNING] yaksa: 10 leaked handle pool objects\n"
     ]
    }
   ],
   "source": [
    "%%bash\n",
    "variability_across_timescales_PS_driver.py --help"
   ]
  },
  {
   "cell_type": "markdown",
   "metadata": {},
   "source": [
    "### Parameter file\n",
    "Settings can be specified in a parameter file or on the command line. The basic case demonstrated here uses a parameter file, which is printed below.  \n",
    "\n",
    "Note that this driver should only be used to run **one** model or dataset at a time.  \n",
    "\n",
    "The `mod` variable can either be set to a particular file name, as shown here, or to a model name (i.e. \"GISS-E2-H\")."
   ]
  },
  {
   "cell_type": "code",
   "execution_count": 3,
   "metadata": {},
   "outputs": [
    {
     "name": "stdout",
     "output_type": "stream",
     "text": [
      "mip = \"cmip5\"\n",
      "exp = \"historical\"\n",
      "mod = \"pr_day_GISS-E2-H_historical_r6i1p1_*.nc\"\n",
      "var = \"pr\"\n",
      "frq = \"day\"\n",
      "modpath = 'demo_data_tmp/CMIP5_demo_timeseries/historical/atmos/day/pr/'\n",
      "results_dir = 'demo_output_tmp/precip_variability/GISS-E2-H/'\n",
      "prd = [2000,2005]  # analysis period\n",
      "fac = 86400  # factor to make unit of [mm/day]\n",
      "\n",
      "# length of segment in power spectra (~10 years)\n",
      "# shortened to 2 years for demo purposes\n",
      "nperseg = 2 * 365\n",
      "# length of overlap between segments in power spectra (~5 years)\n",
      "# shortened to 1 year for demo purposes\n",
      "noverlap = 1 * 365\n",
      "\n",
      "# flag for cmec formatted JSON\n",
      "cmec = False\n",
      "\n"
     ]
    }
   ],
   "source": [
    "# print parameter file\n",
    "with open(\"basic_precip_variability_param.py\") as f:\n",
    "    print(f.read())"
   ]
  },
  {
   "cell_type": "markdown",
   "metadata": {},
   "source": [
    "### Running the driver\n",
    "The parameter file is passed to the driver using the `-p` flag, similar to other PMP metrics. The basic command is:  \n",
    "`variability_across_timescales_PS_driver.py -p parameter_file_name.py`\n",
    "\n",
    "The next cell uses the command line syntax to execute the driver as a subprocess."
   ]
  },
  {
   "cell_type": "code",
   "execution_count": 4,
   "metadata": {
    "scrolled": true
   },
   "outputs": [
    {
     "name": "stderr",
     "output_type": "stream",
     "text": [
      "INFO::2024-09-18 15:56::pcmdi_metrics:: Results saved to a json file: /home/ordonez4/git/pcmdi_metrics/doc/jupyter/Demo/demo_output_tmp/precip_variability/GISS-E2-H/PS_pr.day_regrid.180x90_area.freq.mean_GISS-E2-H.r6i1p1.json\n",
      "2024-09-18 15:56:49,164 [INFO]: base.py(write:422) >> Results saved to a json file: /home/ordonez4/git/pcmdi_metrics/doc/jupyter/Demo/demo_output_tmp/precip_variability/GISS-E2-H/PS_pr.day_regrid.180x90_area.freq.mean_GISS-E2-H.r6i1p1.json\n",
      "2024-09-18 15:56:49,164 [INFO]: base.py(write:422) >> Results saved to a json file: /home/ordonez4/git/pcmdi_metrics/doc/jupyter/Demo/demo_output_tmp/precip_variability/GISS-E2-H/PS_pr.day_regrid.180x90_area.freq.mean_GISS-E2-H.r6i1p1.json\n"
     ]
    },
    {
     "name": "stdout",
     "output_type": "stream",
     "text": [
      "demo_data_tmp/CMIP5_demo_timeseries/historical/atmos/day/pr/\n",
      "pr_day_GISS-E2-H_historical_r6i1p1_*.nc\n",
      "[2000, 2005]\n",
      "730 365\n",
      "2\n",
      "demo_output_tmp/precip_variability/GISS-E2-H/\n",
      "demo_output_tmp/precip_variability/GISS-E2-H/\n",
      "demo_output_tmp/precip_variability/GISS-E2-H/\n",
      "['demo_data_tmp/CMIP5_demo_timeseries/historical/atmos/day/pr/pr_day_GISS-E2-H_historical_r6i1p1_20000101-20051231.nc']\n",
      "GISS-E2-H.r6i1p1\n",
      "['demo_data_tmp/CMIP5_demo_timeseries/historical/atmos/day/pr/pr_day_GISS-E2-H_historical_r6i1p1_20000101-20051231.nc']\n",
      "GISS-E2-H.r6i1p1 365_day\n",
      "2000 2005\n",
      "Complete regridding from (2190, 90, 144) to (2190, 90, 180)\n",
      "Complete calculating climatology and anomaly for calendar of 365_day\n",
      "Complete power spectra (segment:  730  nps: 5.0 )\n",
      "Complete domain and frequency average of spectral power\n",
      "Complete power spectra (segment:  730  nps: 5.0 )\n",
      "Complete domain and frequency average of spectral power\n"
     ]
    },
    {
     "name": "stderr",
     "output_type": "stream",
     "text": [
      "[WARNING] yaksa: 10 leaked handle pool objects\n"
     ]
    }
   ],
   "source": [
    "%%bash\n",
    "variability_across_timescales_PS_driver.py -p basic_precip_variability_param.py"
   ]
  },
  {
   "cell_type": "markdown",
   "metadata": {},
   "source": [
    "### Results\n",
    "Running the precipitation variability driver produces three output files, found in the demo output directory:  \n",
    "\n",
    "Spatial pattern of spectral power (forced variability) (netCDF)   \n",
    "Spatial pattern of spectral power (unforced variability) (netCDF)  \n",
    "Average of spectral power (forced and unforced) (JSON)  "
   ]
  },
  {
   "cell_type": "code",
   "execution_count": 5,
   "metadata": {},
   "outputs": [
    {
     "name": "stdout",
     "output_type": "stream",
     "text": [
      "PS_pr.day_regrid.180x90_area.freq.mean_GISS-E2-H.r6i1p1.json\r\n",
      "PS_pr.day_regrid.180x90_GISS-E2-H.r6i1p1.nc\r\n",
      "PS_pr.day_regrid.180x90_GISS-E2-H.r6i1p1_unforced.nc\r\n"
     ]
    }
   ],
   "source": [
    "!ls {demo_output_directory + \"/precip_variability/GISS-E2-H\"}"
   ]
  },
  {
   "cell_type": "markdown",
   "metadata": {},
   "source": [
    "The next cell displays the metrics from the JSON file."
   ]
  },
  {
   "cell_type": "code",
   "execution_count": 6,
   "metadata": {},
   "outputs": [
    {
     "name": "stdout",
     "output_type": "stream",
     "text": [
      "{\n",
      "  \"GISS-E2-H.r6i1p1\": {\n",
      "    \"forced\": {\n",
      "      \"Land_30N50N\": {\n",
      "        \"annual\": 1.153948602189096,\n",
      "        \"semi-annual\": 0.3675381067314767\n",
      "      },\n",
      "      \"Land_30S30N\": {\n",
      "        \"annual\": 6.8509958100746555,\n",
      "        \"semi-annual\": 1.1945015595812805\n",
      "      },\n",
      "      \"Land_50S30S\": {\n",
      "        \"annual\": 0.8090939740005696,\n",
      "        \"semi-annual\": 0.34297346148163804\n",
      "      },\n",
      "      \"Land_50S50N\": {\n",
      "        \"annual\": 4.793570167683052,\n",
      "        \"semi-annual\": 0.8971106124805638\n",
      "      },\n",
      "      \"Ocean_30N50N\": {\n",
      "        \"annual\": 1.450126151318265,\n",
      "        \"semi-annual\": 0.3738726067518909\n",
      "      },\n",
      "      \"Ocean_30S30N\": {\n",
      "        \"annual\": 4.561426422605001,\n",
      "        \"semi-annual\": 1.5069884231014545\n",
      "      },\n",
      "      \"Ocean_50S30S\": {\n",
      "        \"annual\": 0.5890515819402276,\n",
      "        \"semi-annual\": 0.19150748548003316\n",
      "      },\n",
      "      \"Ocean_50S50N\": {\n",
      "        \"annual\": 3.3050864193776026,\n",
      "        \"semi-annual\": 1.0780758057454556\n",
      "      },\n",
      "      \"Total_30N50N\": {\n",
      "        \"annual\": 1.3110986682307972,\n",
      "        \"semi-annual\": 0.3708991551953958\n",
      "      },\n",
      "      \"Total_30S30N\": {\n",
      "        \"annual\": 5.155704413930364,\n",
      "        \"semi-annual\": 1.4258796929688142\n",
      "      },\n",
      "      \"Total_50S30S\": {\n",
      "        \"annual\": 0.6055533541116551,\n",
      "        \"semi-annual\": 0.20286646501255923\n",
      "      },\n",
      "      \"Total_50S50N\": {\n",
      "        \"annual\": 3.6979701926949535,\n",
      "        \"semi-annual\": 1.030310226813203\n",
      "      }\n",
      "    },\n",
      "    \"unforced\": {\n",
      "      \"Land_30N50N\": {\n",
      "        \"interannual\": 0.11025112312631524,\n",
      "        \"seasonal-annual\": 0.1502570664470804,\n",
      "        \"sub-seasonal\": 0.13618888930844514,\n",
      "        \"synoptic\": 0.06327297649960462\n",
      "      },\n",
      "      \"Land_30S30N\": {\n",
      "        \"interannual\": 0.31535297942347246,\n",
      "        \"seasonal-annual\": 0.31179854291318526,\n",
      "        \"sub-seasonal\": 0.2477967897126997,\n",
      "        \"synoptic\": 0.076484979080103\n",
      "      },\n",
      "      \"Land_50S30S\": {\n",
      "        \"interannual\": 0.16178541870984994,\n",
      "        \"seasonal-annual\": 0.21589364787265297,\n",
      "        \"sub-seasonal\": 0.1847557860658534,\n",
      "        \"synoptic\": 0.07524240453524904\n",
      "      },\n",
      "      \"Land_50S50N\": {\n",
      "        \"interannual\": 0.24443780233759468,\n",
      "        \"seasonal-annual\": 0.25718039033896883,\n",
      "        \"sub-seasonal\": 0.2102202999468355,\n",
      "        \"synoptic\": 0.07234360585017287\n",
      "      },\n",
      "      \"Ocean_30N50N\": {\n",
      "        \"interannual\": 0.13265625643216272,\n",
      "        \"seasonal-annual\": 0.1758330640897642,\n",
      "        \"sub-seasonal\": 0.15435681112427357,\n",
      "        \"synoptic\": 0.0981749977902816\n",
      "      },\n",
      "      \"Ocean_30S30N\": {\n",
      "        \"interannual\": 0.6539803811119562,\n",
      "        \"seasonal-annual\": 0.6385364543707663,\n",
      "        \"sub-seasonal\": 0.43424291163472306,\n",
      "        \"synoptic\": 0.11428977945404156\n",
      "      },\n",
      "      \"Ocean_50S30S\": {\n",
      "        \"interannual\": 0.09747609150424397,\n",
      "        \"seasonal-annual\": 0.13244482423836793,\n",
      "        \"sub-seasonal\": 0.11915711328928573,\n",
      "        \"synoptic\": 0.06874014945078849\n",
      "      },\n",
      "      \"Ocean_50S50N\": {\n",
      "        \"interannual\": 0.467278699215871,\n",
      "        \"seasonal-annual\": 0.4701741107777076,\n",
      "        \"sub-seasonal\": 0.33044759093021675,\n",
      "        \"synoptic\": 0.10233245216785025\n",
      "      },\n",
      "      \"Total_30N50N\": {\n",
      "        \"interannual\": 0.12213915511604374,\n",
      "        \"seasonal-annual\": 0.1638275404092277,\n",
      "        \"sub-seasonal\": 0.14582868179640485,\n",
      "        \"synoptic\": 0.08179178377228893\n",
      "      },\n",
      "      \"Total_30S30N\": {\n",
      "        \"interannual\": 0.5660866430211011,\n",
      "        \"seasonal-annual\": 0.5537287386607875,\n",
      "        \"sub-seasonal\": 0.38584917112064354,\n",
      "        \"synoptic\": 0.10447720904161961\n",
      "      },\n",
      "      \"Total_50S30S\": {\n",
      "        \"interannual\": 0.10229887976839695,\n",
      "        \"seasonal-annual\": 0.13870295233219931,\n",
      "        \"sub-seasonal\": 0.12407659422553256,\n",
      "        \"synoptic\": 0.06922777699836948\n",
      "      },\n",
      "      \"Total_50S50N\": {\n",
      "        \"interannual\": 0.4084600708535113,\n",
      "        \"seasonal-annual\": 0.4139546346334961,\n",
      "        \"sub-seasonal\": 0.29871371960574444,\n",
      "        \"synoptic\": 0.09441692664589409\n",
      "      }\n",
      "    }\n",
      "  }\n",
      "}\n"
     ]
    }
   ],
   "source": [
    "import json\n",
    "import os\n",
    "output_path = os.path.join(demo_output_directory,\"precip_variability/GISS-E2-H/PS_pr.day_regrid.180x90_area.freq.mean_GISS-E2-H.r6i1p1.json\")\n",
    "with open(output_path) as f:\n",
    "    metric = json.load(f)[\"RESULTS\"]\n",
    "print(json.dumps(metric, indent=2))"
   ]
  },
  {
   "cell_type": "markdown",
   "metadata": {},
   "source": [
    "## Command line usage with Obs data"
   ]
  },
  {
   "cell_type": "markdown",
   "metadata": {},
   "source": [
    "To calculate the precipitation variability spectral power ratio, we also need results for a reference dataset. This example shows how to call the `variability_across_timescales_PS_driver` using a combination of the parameter file and command line arguments with daily observational data. The command line arguments will overwrite values that are in the parameter file.  \n",
    "\n",
    "The `modpath` and `results_dir` values are set first in a separate cell to easily combine the `demo_data_directory` and `demo_output_directory` variables with other strings. The new variables are then passed to the shell command in the second cell."
   ]
  },
  {
   "cell_type": "code",
   "execution_count": 7,
   "metadata": {},
   "outputs": [],
   "source": [
    "modpath = demo_data_directory + '/obs4MIPs_PCMDI_daily/NASA-JPL/GPCP-1-3/day/pr/gn/latest/'\n",
    "results_dir = demo_output_directory + '/precip_variability/GPCP-1-3/'"
   ]
  },
  {
   "cell_type": "code",
   "execution_count": 8,
   "metadata": {},
   "outputs": [
    {
     "name": "stderr",
     "output_type": "stream",
     "text": [
      "INFO::2024-09-18 16:08::pcmdi_metrics:: Results saved to a json file: /home/ordonez4/git/pcmdi_metrics/doc/jupyter/Demo/demo_output_tmp/precip_variability/GPCP-1-3/PS_pr.day_regrid.180x90_area.freq.mean_GPCP-1-3.json\n",
      "2024-09-18 16:08:28,962 [INFO]: base.py(write:422) >> Results saved to a json file: /home/ordonez4/git/pcmdi_metrics/doc/jupyter/Demo/demo_output_tmp/precip_variability/GPCP-1-3/PS_pr.day_regrid.180x90_area.freq.mean_GPCP-1-3.json\n",
      "2024-09-18 16:08:28,962 [INFO]: base.py(write:422) >> Results saved to a json file: /home/ordonez4/git/pcmdi_metrics/doc/jupyter/Demo/demo_output_tmp/precip_variability/GPCP-1-3/PS_pr.day_regrid.180x90_area.freq.mean_GPCP-1-3.json\n"
     ]
    },
    {
     "name": "stdout",
     "output_type": "stream",
     "text": [
      "demo_data_tmp/obs4MIPs_PCMDI_daily/NASA-JPL/GPCP-1-3/day/pr/gn/latest/\n",
      "pr_day_GPCP-1-3_PCMDI_gn_19961002-20170101.nc\n",
      "[1997, 2016]\n",
      "730 365\n",
      "2\n",
      "demo_output_tmp/precip_variability/GPCP-1-3/\n",
      "demo_output_tmp/precip_variability/GPCP-1-3/\n",
      "demo_output_tmp/precip_variability/GPCP-1-3/\n",
      "['demo_data_tmp/obs4MIPs_PCMDI_daily/NASA-JPL/GPCP-1-3/day/pr/gn/latest/pr_day_GPCP-1-3_PCMDI_gn_19961002-20170101.nc']\n",
      "GPCP-1-3\n",
      "['demo_data_tmp/obs4MIPs_PCMDI_daily/NASA-JPL/GPCP-1-3/day/pr/gn/latest/pr_day_GPCP-1-3_PCMDI_gn_19961002-20170101.nc']\n",
      "GPCP-1-3 gregorian\n",
      "1997 2016\n",
      "Complete regridding from (7305, 180, 360) to (7305, 90, 180)\n",
      "Complete calculating climatology and anomaly for calendar of gregorian\n",
      "Complete power spectra (segment:  730  nps: 19.0 )\n",
      "Complete domain and frequency average of spectral power\n",
      "Complete power spectra (segment:  730  nps: 19.0 )\n",
      "Complete domain and frequency average of spectral power\n"
     ]
    },
    {
     "name": "stderr",
     "output_type": "stream",
     "text": [
      "[WARNING] yaksa: 10 leaked handle pool objects\n"
     ]
    }
   ],
   "source": [
    "%%bash -s \"$modpath\" \"$results_dir\"\n",
    "variability_across_timescales_PS_driver.py -p basic_precip_variability_param.py \\\n",
    "--mip 'obs' \\\n",
    "--mod 'pr_day_GPCP-1-3_PCMDI_gn_19961002-20170101.nc' \\\n",
    "--modpath $1 \\\n",
    "--results_dir $2 \\\n",
    "--prd 1997 2016"
   ]
  },
  {
   "cell_type": "markdown",
   "metadata": {
    "tags": []
   },
   "source": [
    "## Precipitation Variability Metric"
   ]
  },
  {
   "cell_type": "markdown",
   "metadata": {},
   "source": [
    "The precipitation variability metric can be generated after model and observational spectral averages are made. \n",
    "\n",
    "A script called \"calc_ratio.py\" is provided in the precip_variability codebase. This script can be called with three arguments to generate the ratio.  \n",
    "`ref`: path to obs results JSON  \n",
    "`modpath`: directory containing model results JSONS (not CMEC formatted JSONs)  \n",
    "`results_dir`: directory for calc_ratio.py results\n",
    "\n",
    "This script can be accessed via the PMP repo, which is how it is run here. It does not come with the PMP conda installation."
   ]
  },
  {
   "cell_type": "code",
   "execution_count": 9,
   "metadata": {},
   "outputs": [
    {
     "name": "stdout",
     "output_type": "stream",
     "text": [
      "reference:  demo_output_tmp/precip_variability/GPCP-1-3/PS_pr.day_regrid.180x90_area.freq.mean_GPCP-1-3.json\n",
      "modpath:  demo_output_tmp/precip_variability/GISS-E2-H/\n",
      "outdir:  demo_output_tmp/precip_variability/ratio/\n",
      "['demo_output_tmp/precip_variability/GISS-E2-H/PS_pr.day_regrid.180x90_area.freq.mean_GISS-E2-H.r6i1p1.json']\n",
      "Complete  GISS-E2-H.r6i1p1\n",
      "Complete all\n"
     ]
    },
    {
     "name": "stderr",
     "output_type": "stream",
     "text": [
      "[WARNING] yaksa: 10 leaked handle pool objects\n"
     ]
    }
   ],
   "source": [
    "%%bash -s \"$demo_output_directory\"\n",
    "python ../../../pcmdi_metrics/precip_variability/scripts_pcmdi/calc_ratio.py \\\n",
    "--ref $1/precip_variability/GPCP-1-3/PS_pr.day_regrid.180x90_area.freq.mean_GPCP-1-3.json \\\n",
    "--modpath $1/precip_variability/GISS-E2-H/ \\\n",
    "--results_dir $1/precip_variability/ratio/"
   ]
  },
  {
   "cell_type": "markdown",
   "metadata": {},
   "source": [
    "This outputs one JSON file in the `results_dir` folder. The results in this file are shown below."
   ]
  },
  {
   "cell_type": "code",
   "execution_count": 10,
   "metadata": {},
   "outputs": [
    {
     "name": "stdout",
     "output_type": "stream",
     "text": [
      "{\n",
      "  \"GISS-E2-H.r6i1p1\": {\n",
      "    \"forced\": {\n",
      "      \"Land_30N50N\": {\n",
      "        \"annual\": 1.6279984575673894,\n",
      "        \"semi-annual\": 1.867057373601494\n",
      "      },\n",
      "      \"Land_30S30N\": {\n",
      "        \"annual\": 1.3338114720532706,\n",
      "        \"semi-annual\": 1.333350181560781\n",
      "      },\n",
      "      \"Land_50S30S\": {\n",
      "        \"annual\": 1.164227264547647,\n",
      "        \"semi-annual\": 1.9246852085563568\n",
      "      },\n",
      "      \"Land_50S50N\": {\n",
      "        \"annual\": 1.3503132388688357,\n",
      "        \"semi-annual\": 1.391749566706111\n",
      "      },\n",
      "      \"Ocean_30N50N\": {\n",
      "        \"annual\": 1.0524861972773814,\n",
      "        \"semi-annual\": 0.8517712548298377\n",
      "      },\n",
      "      \"Ocean_30S30N\": {\n",
      "        \"annual\": 1.499118828822202,\n",
      "        \"semi-annual\": 1.8222593026548162\n",
      "      },\n",
      "      \"Ocean_50S30S\": {\n",
      "        \"annual\": 1.4363958284724372,\n",
      "        \"semi-annual\": 1.0484119422307991\n",
      "      },\n",
      "      \"Ocean_50S50N\": {\n",
      "        \"annual\": 1.4625476582104198,\n",
      "        \"semi-annual\": 1.6902905191733497\n",
      "      },\n",
      "      \"Total_30N50N\": {\n",
      "        \"annual\": 1.2324909366302752,\n",
      "        \"semi-annual\": 1.1401718517572574\n",
      "      },\n",
      "      \"Total_30S30N\": {\n",
      "        \"annual\": 1.4376639123073875,\n",
      "        \"semi-annual\": 1.6876985330852605\n",
      "      },\n",
      "      \"Total_50S30S\": {\n",
      "        \"annual\": 1.4035190474483104,\n",
      "        \"semi-annual\": 1.1126375229893537\n",
      "      },\n",
      "      \"Total_50S50N\": {\n",
      "        \"annual\": 1.4221050736833434,\n",
      "        \"semi-annual\": 1.6108754775087752\n",
      "      }\n",
      "    },\n",
      "    \"unforced\": {\n",
      "      \"Land_30N50N\": {\n",
      "        \"interannual\": 1.3879961062215058,\n",
      "        \"seasonal-annual\": 1.4543733420466998,\n",
      "        \"sub-seasonal\": 1.2722446114532955,\n",
      "        \"synoptic\": 0.9550314725762122\n",
      "      },\n",
      "      \"Land_30S30N\": {\n",
      "        \"interannual\": 1.568479703495435,\n",
      "        \"seasonal-annual\": 1.3855140760562272,\n",
      "        \"sub-seasonal\": 1.0320215218679585,\n",
      "        \"synoptic\": 0.6344408069821\n",
      "      },\n",
      "      \"Land_50S30S\": {\n",
      "        \"interannual\": 1.273480429665751,\n",
      "        \"seasonal-annual\": 1.4835739537712782,\n",
      "        \"sub-seasonal\": 1.1166071488025653,\n",
      "        \"synoptic\": 0.6682326701057775\n",
      "      },\n",
      "      \"Land_50S50N\": {\n",
      "        \"interannual\": 1.5292151952175095,\n",
      "        \"seasonal-annual\": 1.4013209418868053,\n",
      "        \"sub-seasonal\": 1.076210914944252,\n",
      "        \"synoptic\": 0.6996958985943696\n",
      "      },\n",
      "      \"Ocean_30N50N\": {\n",
      "        \"interannual\": 0.7043783826080335,\n",
      "        \"seasonal-annual\": 0.6455934192259553,\n",
      "        \"sub-seasonal\": 0.6137724411737419,\n",
      "        \"synoptic\": 0.6863874501625437\n",
      "      },\n",
      "      \"Ocean_30S30N\": {\n",
      "        \"interannual\": 1.250341415643576,\n",
      "        \"seasonal-annual\": 1.5516779450827425,\n",
      "        \"sub-seasonal\": 1.1798960241814673,\n",
      "        \"synoptic\": 1.0953812575228667\n",
      "      },\n",
      "      \"Ocean_50S30S\": {\n",
      "        \"interannual\": 0.8539632674914027,\n",
      "        \"seasonal-annual\": 0.8423603608480983,\n",
      "        \"sub-seasonal\": 0.7618579649944118,\n",
      "        \"synoptic\": 0.6782173179198747\n",
      "      },\n",
      "      \"Ocean_50S50N\": {\n",
      "        \"interannual\": 1.192306567530281,\n",
      "        \"seasonal-annual\": 1.388569073500126,\n",
      "        \"sub-seasonal\": 1.075457264771947,\n",
      "        \"synoptic\": 0.9428927883322024\n",
      "      },\n",
      "      \"Total_30N50N\": {\n",
      "        \"interannual\": 0.8901421815356266,\n",
      "        \"seasonal-annual\": 0.8488114296330028,\n",
      "        \"sub-seasonal\": 0.7938998372292919,\n",
      "        \"synoptic\": 0.764474619537189\n",
      "      },\n",
      "      \"Total_30S30N\": {\n",
      "        \"interannual\": 1.2881197802160176,\n",
      "        \"seasonal-annual\": 1.5249482736415583,\n",
      "        \"sub-seasonal\": 1.1523720464576683,\n",
      "        \"synoptic\": 0.96250506817075\n",
      "      },\n",
      "      \"Total_50S30S\": {\n",
      "        \"interannual\": 0.8886847211435605,\n",
      "        \"seasonal-annual\": 0.8871164946123411,\n",
      "        \"sub-seasonal\": 0.7898809941461293,\n",
      "        \"synoptic\": 0.6773923219536804\n",
      "      },\n",
      "      \"Total_50S50N\": {\n",
      "        \"interannual\": 1.235295139394142,\n",
      "        \"seasonal-annual\": 1.390644261053773,\n",
      "        \"sub-seasonal\": 1.0755971788907195,\n",
      "        \"synoptic\": 0.8809660578685686\n",
      "      }\n",
      "    }\n",
      "  }\n",
      "}\n"
     ]
    }
   ],
   "source": [
    "output_path = os.path.join(demo_output_directory,\"precip_variability/ratio/PS_pr.day_regrid.180x90_area.freq.mean_GISS-E2-H.r6i1p1.json\")\n",
    "with open(output_path) as f:\n",
    "    metric = json.load(f)[\"RESULTS\"]\n",
    "print(json.dumps(metric, indent=2))"
   ]
  },
  {
   "cell_type": "markdown",
   "metadata": {},
   "source": [
    "## Regional metrics"
   ]
  },
  {
   "cell_type": "markdown",
   "metadata": {},
   "source": [
    "The precipitation variability metrics have a set of default regions. However, users can instead define a single spatial region to compute metrics over. There are two ways to do this.\n",
    "\n",
    "1. Use the `regions_specs` parameter to define a latitude/longitude box.  \n",
    "Parameter file example:\n",
    "```\n",
    "regions_specs={\"CONUS\": {\"domain\": {\"latitude\": (24.7, 49.4), \"longitude\": (235.22, 293.08)}}}\n",
    "```\n",
    "\n",
    "2. Use a shapefile to define a region. Users must provide the path to the shapefile along with the attribute/feature pair that defines the region.  \n",
    "Parameter file example:\n",
    "```\n",
    "region_file=\"CONUS.shp\" # Shapefile path\n",
    "attr=\"NAME\"             # An attribute in the shapefile\n",
    "feature=\"CONUS\"         # A unique feature name that can be \n",
    "                        # found under the \"attr\" attribute\n",
    "```\n",
    "\n",
    "Both options can be used at the same time. In that case, the area defined by regions_specs is applied first and can be used to trim down very large, high resolution datasets. Then the metrics are computed for the area defined by the shapefile region."
   ]
  },
  {
   "cell_type": "markdown",
   "metadata": {},
   "source": [
    "### Region example\n",
    "First, we generate a simple shapefile for use in this demo. The shapefile contains one feature, a box that defines the CONUS region."
   ]
  },
  {
   "cell_type": "code",
   "execution_count": 13,
   "metadata": {},
   "outputs": [],
   "source": [
    "from shapely import Polygon\n",
    "import geopandas as gpd\n",
    "import pandas as pd\n",
    "\n",
    "# Define region box\n",
    "coords = ((233.,22.),(233.,50.),(294.,50.),(294.,22))\n",
    "\n",
    "# Add to pandas dataframe, then convert to geopandas dataframe\n",
    "df = pd.DataFrame({\"Region\": [\"CONUS\"], \"Coords\": [Polygon(coords)]})\n",
    "gdf = gpd.GeoDataFrame(df, geometry=\"Coords\", crs=\"EPSG:4326\")\n",
    "\n",
    "# Create the output location\n",
    "if not os.path.exists(demo_output_directory+\"/shp\"):\n",
    "    os.mkdir(demo_output_directory+\"/shp\")\n",
    "gdf.to_file(demo_output_directory+'/shp/CONUS.shp')"
   ]
  },
  {
   "cell_type": "markdown",
   "metadata": {},
   "source": [
    "Add the information for this shapefile to the variability_across_timescales_PS_driver.py run command."
   ]
  },
  {
   "cell_type": "code",
   "execution_count": 14,
   "metadata": {},
   "outputs": [
    {
     "name": "stderr",
     "output_type": "stream",
     "text": [
      "/home/ordonez4/miniconda3/envs/pmp_dev/lib/python3.10/site-packages/pcmdi_metrics/precip_variability/lib/lib_variability_across_timescales.py:313: RuntimeWarning: Mean of empty slice\n",
      "  clim = np.nanmean(dseg, axis=0)\n",
      "INFO::2024-09-18 16:11::pcmdi_metrics:: Results saved to a json file: /home/ordonez4/git/pcmdi_metrics/doc/jupyter/Demo/demo_output_tmp/precip_variability/region_ex/PS_pr.day_regrid.180x90_area.freq.mean_GISS-E2-H.r6i1p1.json\n",
      "2024-09-18 16:11:40,113 [INFO]: base.py(write:422) >> Results saved to a json file: /home/ordonez4/git/pcmdi_metrics/doc/jupyter/Demo/demo_output_tmp/precip_variability/region_ex/PS_pr.day_regrid.180x90_area.freq.mean_GISS-E2-H.r6i1p1.json\n",
      "2024-09-18 16:11:40,113 [INFO]: base.py(write:422) >> Results saved to a json file: /home/ordonez4/git/pcmdi_metrics/doc/jupyter/Demo/demo_output_tmp/precip_variability/region_ex/PS_pr.day_regrid.180x90_area.freq.mean_GISS-E2-H.r6i1p1.json\n"
     ]
    },
    {
     "name": "stdout",
     "output_type": "stream",
     "text": [
      "demo_data_tmp/CMIP5_demo_timeseries/historical/atmos/day/pr/\n",
      "pr_day_GISS-E2-H_historical_r6i1p1_*.nc\n",
      "[2000, 2005]\n",
      "730 365\n",
      "2\n",
      "demo_output_tmp/precip_variability/region_ex\n",
      "demo_output_tmp/precip_variability/region_ex\n",
      "demo_output_tmp/precip_variability/region_ex\n",
      "['demo_data_tmp/CMIP5_demo_timeseries/historical/atmos/day/pr/pr_day_GISS-E2-H_historical_r6i1p1_20000101-20051231.nc']\n",
      "GISS-E2-H.r6i1p1\n",
      "['demo_data_tmp/CMIP5_demo_timeseries/historical/atmos/day/pr/pr_day_GISS-E2-H_historical_r6i1p1_20000101-20051231.nc']\n",
      "GISS-E2-H.r6i1p1 365_day\n",
      "2000 2005\n",
      "Complete regridding from (2190, 90, 144) to (2190, 90, 180)\n",
      "Cropping from shapefile\n",
      "Reading region from file.\n",
      "Complete calculating climatology and anomaly for calendar of 365_day\n",
      "Complete power spectra (segment:  730  nps: 5.0 )\n",
      "Complete domain and frequency average of spectral power\n",
      "Complete power spectra (segment:  730  nps: 5.0 )\n",
      "Complete domain and frequency average of spectral power\n"
     ]
    },
    {
     "name": "stderr",
     "output_type": "stream",
     "text": [
      "[WARNING] yaksa: 10 leaked handle pool objects\n"
     ]
    }
   ],
   "source": [
    "%%bash -s \"$demo_output_directory\"\n",
    "variability_across_timescales_PS_driver.py -p basic_precip_variability_param.py \\\n",
    "--region_file $1/shp/CONUS.shp \\\n",
    "--attr 'Region' \\\n",
    "--feature 'CONUS' \\\n",
    "--results_dir $1/precip_variability/region_ex"
   ]
  },
  {
   "cell_type": "markdown",
   "metadata": {},
   "source": [
    "The metrics output will look different than the default example. Metrics will only be produced for a single region that we defined in this shapefile."
   ]
  },
  {
   "cell_type": "code",
   "execution_count": 15,
   "metadata": {},
   "outputs": [
    {
     "name": "stdout",
     "output_type": "stream",
     "text": [
      "{\n",
      "  \"GISS-E2-H.r6i1p1\": {\n",
      "    \"forced\": {\n",
      "      \"CONUS\": {\n",
      "        \"annual\": 1.2011870574080201,\n",
      "        \"semi-annual\": 0.380975826207154\n",
      "      }\n",
      "    },\n",
      "    \"unforced\": {\n",
      "      \"CONUS\": {\n",
      "        \"interannual\": 0.1521909521737256,\n",
      "        \"seasonal-annual\": 0.20428410514869913,\n",
      "        \"sub-seasonal\": 0.20652699240276465,\n",
      "        \"synoptic\": 0.10360220715481439\n",
      "      }\n",
      "    }\n",
      "  }\n",
      "}\n"
     ]
    }
   ],
   "source": [
    "output_path = os.path.join(demo_output_directory,\"precip_variability/region_ex/PS_pr.day_regrid.180x90_area.freq.mean_GISS-E2-H.r6i1p1.json\")\n",
    "with open(output_path) as f:\n",
    "    metric = json.load(f)[\"RESULTS\"]\n",
    "print(json.dumps(metric, indent=2))"
   ]
  },
  {
   "cell_type": "code",
   "execution_count": null,
   "metadata": {},
   "outputs": [],
   "source": []
  }
 ],
 "metadata": {
  "kernelspec": {
   "display_name": "Python [conda env:pmp_dev] *",
   "language": "python",
   "name": "conda-env-pmp_dev-py"
  },
  "language_info": {
   "codemirror_mode": {
    "name": "ipython",
    "version": 3
   },
   "file_extension": ".py",
   "mimetype": "text/x-python",
   "name": "python",
   "nbconvert_exporter": "python",
   "pygments_lexer": "ipython3",
   "version": "3.10.12"
  }
 },
 "nbformat": 4,
 "nbformat_minor": 4
}
