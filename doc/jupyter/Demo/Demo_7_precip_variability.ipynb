{
 "cells": [
  {
   "cell_type": "markdown",
   "metadata": {},
   "source": [
    "# Precipitation Variability Across Timescales"
   ]
  },
  {
   "cell_type": "markdown",
   "metadata": {},
   "source": [
    "This notebook demonstrates how to use the precipitation variability metrics driver and calc_ratio script to obtain the precipitation variability metric.\n",
    "\n",
    "Our metric is based on the simulated-to-observed ratio of spectral power because the spectral power is substantially sensitive to the processing choices for power spectra analysis (e.g., window length, overlap length, and windowing function). By using the ratio, the metric is not greatly affected by the different processing choices, helping the robustness of analysis results.\n",
    "\n",
    "This notebook should be run in an environment with python, jupyterlab, pcmdi metrics package, and cdat installed. It is expected that you have downloaded the sample data as demonstrated in [the download notebook](Demo_0_download_data.ipynb).  \n",
    "\n",
    "The following cell reads in the choices you made during the download data step:"
   ]
  },
  {
   "cell_type": "code",
   "execution_count": 1,
   "metadata": {},
   "outputs": [],
   "source": [
    "from user_choices import demo_data_directory, demo_output_directory"
   ]
  },
  {
   "cell_type": "markdown",
   "metadata": {},
   "source": [
    "## Basic Use"
   ]
  },
  {
   "cell_type": "markdown",
   "metadata": {},
   "source": [
    "### Help\n",
    "Use the `--help` flag for assistance with the precip variability driver:"
   ]
  },
  {
   "cell_type": "code",
   "execution_count": 2,
   "metadata": {},
   "outputs": [
    {
     "name": "stdout",
     "output_type": "stream",
     "text": [
      "usage: variability_across_timescales_PS_driver.py [-h]\n",
      "                                                  [--parameters PARAMETERS]\n",
      "                                                  [--diags OTHER_PARAMETERS [OTHER_PARAMETERS ...]]\n",
      "                                                  [--mip MIP] [--mod MOD]\n",
      "                                                  [--var VAR] [--frq FRQ]\n",
      "                                                  [--modpath MODPATH]\n",
      "                                                  [--results_dir RESULTS_DIR]\n",
      "                                                  [--case_id CASE_ID]\n",
      "                                                  [--prd PRD [PRD ...]]\n",
      "                                                  [--fac FAC]\n",
      "                                                  [--nperseg NPERSEG]\n",
      "                                                  [--noverlap NOVERLAP]\n",
      "                                                  [--ref REF] [--cmec]\n",
      "                                                  [--no_cmec]\n",
      "\n",
      "optional arguments:\n",
      "  -h, --help            show this help message and exit\n",
      "  --parameters PARAMETERS, -p PARAMETERS\n",
      "  --diags OTHER_PARAMETERS [OTHER_PARAMETERS ...], -d OTHER_PARAMETERS [OTHER_PARAMETERS ...]\n",
      "                        Path to other user-defined parameter file. (default:\n",
      "                        None)\n",
      "  --mip MIP             cmip5, cmip6 or other mip (default: None)\n",
      "  --mod MOD             model (default: None)\n",
      "  --var VAR             pr or other variable (default: None)\n",
      "  --frq FRQ             day, 3hr or other frequency (default: None)\n",
      "  --modpath MODPATH     data directory path (default: None)\n",
      "  --results_dir RESULTS_DIR\n",
      "                        results directory path (default: None)\n",
      "  --case_id CASE_ID     case_id with date (default: None)\n",
      "  --prd PRD [PRD ...]   start- and end-year for analysis (e.g., 1985 2004)\n",
      "                        (default: None)\n",
      "  --fac FAC             factor to make unit of [mm/day] (default: None)\n",
      "  --nperseg NPERSEG     length of segment in power spectra (default: None)\n",
      "  --noverlap NOVERLAP   length of overlap between segments in power spectra\n",
      "                        (default: None)\n",
      "  --ref REF             reference data path (default: None)\n",
      "  --cmec                Use to save CMEC format metrics JSON (default: False)\n",
      "  --no_cmec             Do not save CMEC format metrics JSON (default: False)\n"
     ]
    }
   ],
   "source": [
    "%%bash\n",
    "variability_across_timescales_PS_driver.py --help"
   ]
  },
  {
   "cell_type": "markdown",
   "metadata": {},
   "source": [
    "### Parameter file\n",
    "Settings can be specified in a parameter file or on the command line. The basic case demonstrated here uses a parameter file, which is printed below.  \n",
    "\n",
    "Note that this driver should only be used to run **one** model or dataset at a time.  \n",
    "\n",
    "The `mod` variable can either be set to a particular file name, as shown here, or to a model name (i.e. \"GISS-E2-H\")."
   ]
  },
  {
   "cell_type": "code",
   "execution_count": 3,
   "metadata": {},
   "outputs": [
    {
     "name": "stdout",
     "output_type": "stream",
     "text": [
      "mip = \"cmip5\"\n",
      "exp = \"historical\"\n",
      "mod = \"pr.day.GISS-E2-H.historical.r6i1p1.20000101-20051231.xml\"\n",
      "var = \"pr\"\n",
      "frq = \"day\"\n",
      "modpath = 'demo_data/CMIP5_demo_timeseries/historical/atmos/day/pr/'\n",
      "results_dir = 'demo_output/precip_variability/GISS-E2-H/'\n",
      "prd = [2000,2005]  # analysis period\n",
      "fac = 86400  # factor to make unit of [mm/day]\n",
      "\n",
      "# length of segment in power spectra (~10 years)\n",
      "# shortened to 2 years for demo purposes\n",
      "nperseg = 2 * 365\n",
      "# length of overlap between segments in power spectra (~5 years)\n",
      "# shortened to 1 year for demo purposes\n",
      "noverlap = 1 * 365\n",
      "\n",
      "# flag for cmec formatted JSON\n",
      "cmec = False\n"
     ]
    }
   ],
   "source": [
    "# print parameter file\n",
    "with open(\"basic_precip_variability_param.py\") as f:\n",
    "    print(f.read())"
   ]
  },
  {
   "cell_type": "markdown",
   "metadata": {},
   "source": [
    "### Model file\n",
    "\n",
    "The precipitation variability metrics driver requires that model and observation file names follow this template:\n",
    "`variable.frequency.model.experiment.realization.dates.extension`\n",
    "\n",
    "Our sample model precipitation does not follow that format, so the next cell generates an XML file with a compliant name to use with the driver."
   ]
  },
  {
   "cell_type": "code",
   "execution_count": 4,
   "metadata": {},
   "outputs": [
    {
     "name": "stdout",
     "output_type": "stream",
     "text": [
      "Finding common directory ...\n",
      "Common directory: \n",
      "Scanning files ...\n",
      "pr_day_GISS-E2-H_historical_r6i1p1_20000101-20051231.nc\n",
      "Setting reference time units to days since 2000-1-1\n",
      "pr.day.GISS-E2-H.historical.r6i1p1.20000101-20051231.xml written\n"
     ]
    },
    {
     "name": "stderr",
     "output_type": "stream",
     "text": [
      "/Users/ordonez4/miniconda3/envs/pcmdi_metrics/bin/cdscan:1723: DeprecationWarning: `np.float` is a deprecated alias for the builtin `float`. To silence this warning, use `float` by itself. Doing this will not modify any behavior and is safe. If you specifically wanted the numpy scalar type, use `np.float64` here.\n",
      "Deprecated in NumPy 1.20; for more details and guidance: https://numpy.org/devdocs/release/1.20.0-notes.html#deprecations\n",
      "  if tcode in [numpy.float32, numpy.float, numpy.int16,\n",
      "/Users/ordonez4/miniconda3/envs/pcmdi_metrics/bin/cdscan:1724: DeprecationWarning: `np.int` is a deprecated alias for the builtin `int`. To silence this warning, use `int` by itself. Doing this will not modify any behavior and is safe. When replacing `np.int`, you may wish to use e.g. `np.int64` or `np.int32` to specify the precision. If you wish to review your current use, check the release note link for additional information.\n",
      "Deprecated in NumPy 1.20; for more details and guidance: https://numpy.org/devdocs/release/1.20.0-notes.html#deprecations\n",
      "  numpy.int32, numpy.int, numpy.intc, numpy.int8]:\n",
      "/Users/ordonez4/miniconda3/envs/pcmdi_metrics/bin/cdscan:1787: DeprecationWarning: `np.float` is a deprecated alias for the builtin `float`. To silence this warning, use `float` by itself. Doing this will not modify any behavior and is safe. If you specifically wanted the numpy scalar type, use `np.float64` here.\n",
      "Deprecated in NumPy 1.20; for more details and guidance: https://numpy.org/devdocs/release/1.20.0-notes.html#deprecations\n",
      "  if tcode in [numpy.float32, numpy.float, numpy.int16,\n",
      "/Users/ordonez4/miniconda3/envs/pcmdi_metrics/bin/cdscan:1788: DeprecationWarning: `np.int` is a deprecated alias for the builtin `int`. To silence this warning, use `int` by itself. Doing this will not modify any behavior and is safe. When replacing `np.int`, you may wish to use e.g. `np.int64` or `np.int32` to specify the precision. If you wish to review your current use, check the release note link for additional information.\n",
      "Deprecated in NumPy 1.20; for more details and guidance: https://numpy.org/devdocs/release/1.20.0-notes.html#deprecations\n",
      "  numpy.int32, numpy.int, numpy.intc, numpy.int8]:\n"
     ]
    }
   ],
   "source": [
    "%%bash -s \"$demo_data_directory\"\n",
    "cd $1/CMIP5_demo_timeseries/historical/atmos/day/pr/\n",
    "cdscan -x  pr.day.GISS-E2-H.historical.r6i1p1.20000101-20051231.xml *.nc"
   ]
  },
  {
   "cell_type": "markdown",
   "metadata": {},
   "source": [
    "### Running the driver\n",
    "The parameter file is passed to the driver using the `-p` flag, similar to other PMP metrics. The basic command is:  \n",
    "`variability_across_timescales_PS_driver.py -p parameter_file_name.py`\n",
    "\n",
    "The next cell uses the command line syntax to execute the driver as a subprocess."
   ]
  },
  {
   "cell_type": "code",
   "execution_count": 5,
   "metadata": {
    "scrolled": true
   },
   "outputs": [
    {
     "name": "stdout",
     "output_type": "stream",
     "text": [
      "demo_data/CMIP5_demo_timeseries/historical/atmos/day/pr/\n",
      "pr.day.GISS-E2-H.historical.r6i1p1.20000101-20051231.xml\n",
      "[2000, 2005]\n",
      "730 365\n",
      "demo_output/precip_variability/GISS-E2-H/\n",
      "demo_output/precip_variability/GISS-E2-H/\n",
      "demo_output/precip_variability/GISS-E2-H/\n",
      "# of data: 1\n",
      "['GISS-E2-H.historical']\n",
      "GISS-E2-H.historical noleap\n",
      "Complete regridding from (365, 90, 144) to (365, 90, 180)\n",
      "2000 (365, 90, 180)\n",
      "Complete regridding from (365, 90, 144) to (365, 90, 180)\n",
      "2001 (730, 90, 180)\n",
      "Complete regridding from (365, 90, 144) to (365, 90, 180)\n",
      "2002 (1095, 90, 180)\n",
      "Complete regridding from (365, 90, 144) to (365, 90, 180)\n",
      "2003 (1460, 90, 180)\n",
      "Complete regridding from (365, 90, 144) to (365, 90, 180)\n",
      "2004 (1825, 90, 180)\n",
      "Complete regridding from (365, 90, 144) to (365, 90, 180)\n",
      "2005 (2190, 90, 180)\n",
      "Complete calculating climatology and anomaly for calendar of noleap\n",
      "Complete power spectra (segment:  730  nps: 5.0 )\n",
      "Complete domain and frequency average of spectral power\n",
      "Complete power spectra (segment:  730  nps: 5.0 )\n",
      "Complete domain and frequency average of spectral power\n"
     ]
    },
    {
     "name": "stderr",
     "output_type": "stream",
     "text": [
      "INFO::2021-11-30 10:31::pcmdi_metrics:: Results saved to a json file: /Users/ordonez4/Documents/git/pcmdi_metrics/doc/jupyter/Demo/demo_output/precip_variability/GISS-E2-H/PS_pr.day_regrid.180x90_area.freq.mean_GISS-E2-H.historical.json\n"
     ]
    }
   ],
   "source": [
    "%%bash\n",
    "variability_across_timescales_PS_driver.py -p basic_precip_variability_param.py"
   ]
  },
  {
   "cell_type": "markdown",
   "metadata": {},
   "source": [
    "The following cell cleans up the data directory by removing the xml we made with the compatible name."
   ]
  },
  {
   "cell_type": "code",
   "execution_count": 6,
   "metadata": {},
   "outputs": [],
   "source": [
    "%%bash -s \"$demo_data_directory\"\n",
    "rm $1/CMIP5_demo_timeseries/historical/atmos/day/pr/pr.day.GISS-E2-H.historical.r6i1p1.20000101-20051231.xml"
   ]
  },
  {
   "cell_type": "markdown",
   "metadata": {},
   "source": [
    "### Results\n",
    "Running the precipitation variability driver produces three output files, found in the demo output directory:  \n",
    "\n",
    "Spatial pattern of spectral power (forced variability) (netCDF)   \n",
    "Spatial pattern of spectral power (unforced variability) (netCDF)  \n",
    "Average of spectral power (forced and unforced) (JSON)  "
   ]
  },
  {
   "cell_type": "code",
   "execution_count": 7,
   "metadata": {},
   "outputs": [
    {
     "name": "stdout",
     "output_type": "stream",
     "text": [
      "PS_pr.day_regrid.180x90_GISS-E2-H.historical.nc\r\n",
      "PS_pr.day_regrid.180x90_GISS-E2-H.historical_unforced.nc\r\n",
      "PS_pr.day_regrid.180x90_area.freq.mean_GISS-E2-H.historical.json\r\n"
     ]
    }
   ],
   "source": [
    "!ls {demo_output_directory + \"/precip_variability/GISS-E2-H\"}"
   ]
  },
  {
   "cell_type": "markdown",
   "metadata": {},
   "source": [
    "The next cell displays the metrics from the JSON file."
   ]
  },
  {
   "cell_type": "code",
   "execution_count": 8,
   "metadata": {},
   "outputs": [
    {
     "name": "stdout",
     "output_type": "stream",
     "text": [
      "{\n",
      "  \"GISS-E2-H.historical\": {\n",
      "    \"forced\": {\n",
      "      \"Land_30N50N\": {\n",
      "        \"annual\": 1.1549259632229734,\n",
      "        \"semi-annual\": 0.36957929725177013\n",
      "      },\n",
      "      \"Land_30S30N\": {\n",
      "        \"annual\": 6.86718228695229,\n",
      "        \"semi-annual\": 1.1973130839359392\n",
      "      },\n",
      "      \"Land_50S30S\": {\n",
      "        \"annual\": 0.7833102360471571,\n",
      "        \"semi-annual\": 0.33415474921186816\n",
      "      },\n",
      "      \"Land_50S50N\": {\n",
      "        \"annual\": 4.804355868733513,\n",
      "        \"semi-annual\": 0.8992837441868183\n",
      "      },\n",
      "      \"Ocean_30N50N\": {\n",
      "        \"annual\": 1.4471891957606835,\n",
      "        \"semi-annual\": 0.37248020655592934\n",
      "      },\n",
      "      \"Ocean_30S30N\": {\n",
      "        \"annual\": 4.5690821869910465,\n",
      "        \"semi-annual\": 1.5047969231749088\n",
      "      },\n",
      "      \"Ocean_50S30S\": {\n",
      "        \"annual\": 0.5919548020770604,\n",
      "        \"semi-annual\": 0.19280887596650872\n",
      "      },\n",
      "      \"Ocean_50S50N\": {\n",
      "        \"annual\": 3.310355604111882,\n",
      "        \"semi-annual\": 1.0766772258953867\n",
      "      },\n",
      "      \"Total_30N50N\": {\n",
      "        \"annual\": 1.3116137610936311,\n",
      "        \"semi-annual\": 0.3711345291115723\n",
      "      },\n",
      "      \"Total_30S30N\": {\n",
      "        \"annual\": 5.156428181351084,\n",
      "        \"semi-annual\": 1.4262105285655093\n",
      "      },\n",
      "      \"Total_50S30S\": {\n",
      "        \"annual\": 0.6056973091238508,\n",
      "        \"semi-annual\": 0.2029598636798371\n",
      "      },\n",
      "      \"Total_50S50N\": {\n",
      "        \"annual\": 3.6985570407909423,\n",
      "        \"semi-annual\": 1.0305832551729601\n",
      "      }\n",
      "    },\n",
      "    \"unforced\": {\n",
      "      \"Land_30N50N\": {\n",
      "        \"interannual\": 0.11037168355762557,\n",
      "        \"seasonal-annual\": 0.15049389585608147,\n",
      "        \"sub-seasonal\": 0.13618359698071195,\n",
      "        \"synoptic\": 0.06283897471189703\n",
      "      },\n",
      "      \"Land_30S30N\": {\n",
      "        \"interannual\": 0.3127340873170094,\n",
      "        \"seasonal-annual\": 0.3093813878584019,\n",
      "        \"sub-seasonal\": 0.24402021514695113,\n",
      "        \"synoptic\": 0.07556756458932479\n",
      "      },\n",
      "      \"Land_50S30S\": {\n",
      "        \"interannual\": 0.15285943106444652,\n",
      "        \"seasonal-annual\": 0.2042415774272861,\n",
      "        \"sub-seasonal\": 0.17215553403046988,\n",
      "        \"synoptic\": 0.07140970548940218\n",
      "      },\n",
      "      \"Land_50S50N\": {\n",
      "        \"interannual\": 0.2423273980128482,\n",
      "        \"seasonal-annual\": 0.255079153428167,\n",
      "        \"sub-seasonal\": 0.207141089585722,\n",
      "        \"synoptic\": 0.07142206771250155\n",
      "      },\n",
      "      \"Ocean_30N50N\": {\n",
      "        \"interannual\": 0.13248471790190733,\n",
      "        \"seasonal-annual\": 0.1755941165992767,\n",
      "        \"sub-seasonal\": 0.1543880079090644,\n",
      "        \"synoptic\": 0.09832347398393944\n",
      "      },\n",
      "      \"Ocean_30S30N\": {\n",
      "        \"interannual\": 0.6532431992538731,\n",
      "        \"seasonal-annual\": 0.6378416071074303,\n",
      "        \"sub-seasonal\": 0.43471544075372687,\n",
      "        \"synoptic\": 0.11446675705154576\n",
      "      },\n",
      "      \"Ocean_50S30S\": {\n",
      "        \"interannual\": 0.0984395842657924,\n",
      "        \"seasonal-annual\": 0.13370931295241142,\n",
      "        \"sub-seasonal\": 0.12043392875811716,\n",
      "        \"synoptic\": 0.06911852119910653\n",
      "      },\n",
      "      \"Ocean_50S50N\": {\n",
      "        \"interannual\": 0.4669289164957085,\n",
      "        \"seasonal-annual\": 0.4699209362687964,\n",
      "        \"sub-seasonal\": 0.33101831673214926,\n",
      "        \"synoptic\": 0.10256124019704373\n",
      "      },\n",
      "      \"Total_30N50N\": {\n",
      "        \"interannual\": 0.12222689581117746,\n",
      "        \"seasonal-annual\": 0.1639505947373245,\n",
      "        \"sub-seasonal\": 0.14594332294804885,\n",
      "        \"synoptic\": 0.08186287998113694\n",
      "      },\n",
      "      \"Total_30S30N\": {\n",
      "        \"interannual\": 0.5662162403574418,\n",
      "        \"seasonal-annual\": 0.5538940914679719,\n",
      "        \"sub-seasonal\": 0.38597775656598726,\n",
      "        \"synoptic\": 0.10452494256012691\n",
      "      },\n",
      "      \"Total_50S30S\": {\n",
      "        \"interannual\": 0.10234783558951817,\n",
      "        \"seasonal-annual\": 0.13877470420606933,\n",
      "        \"sub-seasonal\": 0.12414840140297392,\n",
      "        \"synoptic\": 0.0692830663891836\n",
      "      },\n",
      "      \"Total_50S50N\": {\n",
      "        \"interannual\": 0.40856839660823213,\n",
      "        \"seasonal-annual\": 0.41409638875538207,\n",
      "        \"sub-seasonal\": 0.2988300242071537,\n",
      "        \"synoptic\": 0.09447002911646342\n",
      "      }\n",
      "    }\n",
      "  }\n",
      "}\n"
     ]
    }
   ],
   "source": [
    "import json\n",
    "import os\n",
    "output_path = os.path.join(demo_output_directory,\"precip_variability/GISS-E2-H/PS_pr.day_regrid.180x90_area.freq.mean_GISS-E2-H.historical.json\")\n",
    "with open(output_path) as f:\n",
    "    metric = json.load(f)[\"RESULTS\"]\n",
    "print(json.dumps(metric, indent=2))"
   ]
  },
  {
   "cell_type": "markdown",
   "metadata": {},
   "source": [
    "## Command line usage with Obs data"
   ]
  },
  {
   "cell_type": "markdown",
   "metadata": {},
   "source": [
    "To calculate the precipitation variability spectral power ratio, we also need results for a reference dataset. This example shows how to call the `variability_across_timescales_PS_driver` using a combination of the parameter file and command line arguments with daily observational data. The command line arguments will overwrite values that are in the parameter file.  \n",
    "\n",
    "The `modpath` and `results_dir` values are set first in a separate cell to easily combine the `demo_data_directory` and `demo_output_directory` variables with other strings. The new variables are then passed to the shell command in the second cell."
   ]
  },
  {
   "cell_type": "code",
   "execution_count": 9,
   "metadata": {},
   "outputs": [],
   "source": [
    "modpath = demo_data_directory + '/obs4MIPs_PCMDI_daily/NASA-JPL/GPCP-1-3/day/pr/gn/latest/'\n",
    "results_dir = demo_output_directory + '/precip_variability/GPCP-1-3/'"
   ]
  },
  {
   "cell_type": "code",
   "execution_count": 10,
   "metadata": {},
   "outputs": [
    {
     "name": "stdout",
     "output_type": "stream",
     "text": [
      "Finding common directory ...\n",
      "Common directory: \n",
      "Scanning files ...\n",
      "pr_day_GPCP-1-3_PCMDI_gn_19961002-20170101.nc\n",
      "Setting reference time units to days since 1996-1-1 00:00:00\n",
      "pr.day.GPCP-1-3.PCMDI.gn.19961002-20170101.xml written\n"
     ]
    },
    {
     "name": "stderr",
     "output_type": "stream",
     "text": [
      "/Users/ordonez4/miniconda3/envs/pcmdi_metrics/bin/cdscan:1723: DeprecationWarning: `np.float` is a deprecated alias for the builtin `float`. To silence this warning, use `float` by itself. Doing this will not modify any behavior and is safe. If you specifically wanted the numpy scalar type, use `np.float64` here.\n",
      "Deprecated in NumPy 1.20; for more details and guidance: https://numpy.org/devdocs/release/1.20.0-notes.html#deprecations\n",
      "  if tcode in [numpy.float32, numpy.float, numpy.int16,\n",
      "/Users/ordonez4/miniconda3/envs/pcmdi_metrics/bin/cdscan:1724: DeprecationWarning: `np.int` is a deprecated alias for the builtin `int`. To silence this warning, use `int` by itself. Doing this will not modify any behavior and is safe. When replacing `np.int`, you may wish to use e.g. `np.int64` or `np.int32` to specify the precision. If you wish to review your current use, check the release note link for additional information.\n",
      "Deprecated in NumPy 1.20; for more details and guidance: https://numpy.org/devdocs/release/1.20.0-notes.html#deprecations\n",
      "  numpy.int32, numpy.int, numpy.intc, numpy.int8]:\n",
      "/Users/ordonez4/miniconda3/envs/pcmdi_metrics/bin/cdscan:1787: DeprecationWarning: `np.float` is a deprecated alias for the builtin `float`. To silence this warning, use `float` by itself. Doing this will not modify any behavior and is safe. If you specifically wanted the numpy scalar type, use `np.float64` here.\n",
      "Deprecated in NumPy 1.20; for more details and guidance: https://numpy.org/devdocs/release/1.20.0-notes.html#deprecations\n",
      "  if tcode in [numpy.float32, numpy.float, numpy.int16,\n",
      "/Users/ordonez4/miniconda3/envs/pcmdi_metrics/bin/cdscan:1788: DeprecationWarning: `np.int` is a deprecated alias for the builtin `int`. To silence this warning, use `int` by itself. Doing this will not modify any behavior and is safe. When replacing `np.int`, you may wish to use e.g. `np.int64` or `np.int32` to specify the precision. If you wish to review your current use, check the release note link for additional information.\n",
      "Deprecated in NumPy 1.20; for more details and guidance: https://numpy.org/devdocs/release/1.20.0-notes.html#deprecations\n",
      "  numpy.int32, numpy.int, numpy.intc, numpy.int8]:\n"
     ]
    }
   ],
   "source": [
    "%%bash -s \"$modpath\"\n",
    "cd $1\n",
    "cdscan -x  pr.day.GPCP-1-3.PCMDI.gn.19961002-20170101.xml *.nc"
   ]
  },
  {
   "cell_type": "code",
   "execution_count": 11,
   "metadata": {},
   "outputs": [
    {
     "name": "stdout",
     "output_type": "stream",
     "text": [
      "demo_data/obs4MIPs_PCMDI_daily/NASA-JPL/GPCP-1-3/day/pr/gn/latest/\n",
      "pr.day.GPCP-1-3.PCMDI.gn.19961002-20170101.xml\n",
      "[1997, 2016]\n",
      "730 365\n",
      "demo_output/precip_variability/GPCP-1-3/\n",
      "demo_output/precip_variability/GPCP-1-3/\n",
      "demo_output/precip_variability/GPCP-1-3/\n",
      "# of data: 1\n",
      "['GPCP-1-3']\n",
      "GPCP-1-3 gregorian\n",
      "Complete regridding from (365, 180, 360) to (365, 90, 180)\n",
      "1997 (365, 90, 180)\n",
      "Complete regridding from (365, 180, 360) to (365, 90, 180)\n",
      "1998 (730, 90, 180)\n",
      "Complete regridding from (365, 180, 360) to (365, 90, 180)\n",
      "1999 (1095, 90, 180)\n",
      "Complete regridding from (366, 180, 360) to (366, 90, 180)\n",
      "2000 (1461, 90, 180)\n",
      "Complete regridding from (365, 180, 360) to (365, 90, 180)\n",
      "2001 (1826, 90, 180)\n",
      "Complete regridding from (365, 180, 360) to (365, 90, 180)\n",
      "2002 (2191, 90, 180)\n",
      "Complete regridding from (365, 180, 360) to (365, 90, 180)\n",
      "2003 (2556, 90, 180)\n",
      "Complete regridding from (366, 180, 360) to (366, 90, 180)\n",
      "2004 (2922, 90, 180)\n",
      "Complete regridding from (365, 180, 360) to (365, 90, 180)\n",
      "2005 (3287, 90, 180)\n",
      "Complete regridding from (365, 180, 360) to (365, 90, 180)\n",
      "2006 (3652, 90, 180)\n",
      "Complete regridding from (365, 180, 360) to (365, 90, 180)\n",
      "2007 (4017, 90, 180)\n",
      "Complete regridding from (366, 180, 360) to (366, 90, 180)\n",
      "2008 (4383, 90, 180)\n",
      "Complete regridding from (365, 180, 360) to (365, 90, 180)\n",
      "2009 (4748, 90, 180)\n",
      "Complete regridding from (365, 180, 360) to (365, 90, 180)\n",
      "2010 (5113, 90, 180)\n",
      "Complete regridding from (365, 180, 360) to (365, 90, 180)\n",
      "2011 (5478, 90, 180)\n",
      "Complete regridding from (366, 180, 360) to (366, 90, 180)\n",
      "2012 (5844, 90, 180)\n",
      "Complete regridding from (365, 180, 360) to (365, 90, 180)\n",
      "2013 (6209, 90, 180)\n",
      "Complete regridding from (365, 180, 360) to (365, 90, 180)\n",
      "2014 (6574, 90, 180)\n",
      "Complete regridding from (365, 180, 360) to (365, 90, 180)\n",
      "2015 (6939, 90, 180)\n",
      "Complete regridding from (366, 180, 360) to (366, 90, 180)\n",
      "2016 (7305, 90, 180)\n",
      "Complete calculating climatology and anomaly for calendar of gregorian\n",
      "Complete power spectra (segment:  730  nps: 19.0 )\n",
      "Complete domain and frequency average of spectral power\n",
      "Complete power spectra (segment:  730  nps: 19.0 )\n",
      "Complete domain and frequency average of spectral power\n"
     ]
    },
    {
     "name": "stderr",
     "output_type": "stream",
     "text": [
      "INFO::2021-11-30 10:35::pcmdi_metrics:: Results saved to a json file: /Users/ordonez4/Documents/git/pcmdi_metrics/doc/jupyter/Demo/demo_output/precip_variability/GPCP-1-3/PS_pr.day_regrid.180x90_area.freq.mean_GPCP-1-3.json\n"
     ]
    }
   ],
   "source": [
    "%%bash -s \"$modpath\" \"$results_dir\"\n",
    "variability_across_timescales_PS_driver.py -p basic_precip_variability_param.py \\\n",
    "--mip 'obs' \\\n",
    "--mod 'pr.day.GPCP-1-3.PCMDI.gn.19961002-20170101.xml' \\\n",
    "--modpath $1 \\\n",
    "--results_dir $2 \\\n",
    "--prd 1997 2016"
   ]
  },
  {
   "cell_type": "markdown",
   "metadata": {},
   "source": [
    "## Precipitation Variability Metric"
   ]
  },
  {
   "cell_type": "markdown",
   "metadata": {},
   "source": [
    "The precipitation variability metric can be generated after model and observational spectral averages are made. \n",
    "\n",
    "A script called \"calc_ratio.py\" is provided in the precip_variability codebase. This script can be called with three arguments to generate the ratio.  \n",
    "`ref`: path to obs results JSON  \n",
    "`modpath`: directory containing model results JSONS (not CMEC formatted JSONs)  \n",
    "`results_dir`: directory for calc_ratio.py results\n",
    "\n",
    "This script can be accessed via the PMP repo, which is how it is run here. It does not come with the PMP conda installation."
   ]
  },
  {
   "cell_type": "code",
   "execution_count": 12,
   "metadata": {},
   "outputs": [
    {
     "name": "stdout",
     "output_type": "stream",
     "text": [
      "reference:  demo_output/precip_variability/GPCP-1-3/PS_pr.day_regrid.180x90_area.freq.mean_GPCP-1-3.json\n",
      "modpath:  demo_output/precip_variability/GISS-E2-H/\n",
      "outdir:  demo_output/precip_variability/ratio/\n",
      "['demo_output/precip_variability/GISS-E2-H/PS_pr.day_regrid.180x90_area.freq.mean_GISS-E2-H.historical.json']\n",
      "Complete  GISS-E2-H.historical\n",
      "Complete all\n"
     ]
    }
   ],
   "source": [
    "%%bash -s \"$demo_output_directory\"\n",
    "python ../../../pcmdi_metrics/precip_variability/scripts_pcmdi/calc_ratio.py \\\n",
    "--ref $1/precip_variability/GPCP-1-3/PS_pr.day_regrid.180x90_area.freq.mean_GPCP-1-3.json \\\n",
    "--modpath $1/precip_variability/GISS-E2-H/ \\\n",
    "--results_dir $1/precip_variability/ratio/"
   ]
  },
  {
   "cell_type": "markdown",
   "metadata": {},
   "source": [
    "This outputs one JSON file in the `results_dir` folder. The results in this file are shown below."
   ]
  },
  {
   "cell_type": "code",
   "execution_count": 13,
   "metadata": {},
   "outputs": [
    {
     "name": "stdout",
     "output_type": "stream",
     "text": [
      "{\n",
      "  \"GISS-E2-H.historical\": {\n",
      "    \"forced\": {\n",
      "      \"Land_30N50N\": {\n",
      "        \"annual\": 1.6124542957296946,\n",
      "        \"semi-annual\": 1.8589041961449762\n",
      "      },\n",
      "      \"Land_30S30N\": {\n",
      "        \"annual\": 1.3253700284450902,\n",
      "        \"semi-annual\": 1.3169619125111038\n",
      "      },\n",
      "      \"Land_50S30S\": {\n",
      "        \"annual\": 1.1245228077572873,\n",
      "        \"semi-annual\": 1.8004459942424138\n",
      "      },\n",
      "      \"Land_50S50N\": {\n",
      "        \"annual\": 1.3412919398025762,\n",
      "        \"semi-annual\": 1.3746017303921525\n",
      "      },\n",
      "      \"Ocean_30N50N\": {\n",
      "        \"annual\": 1.0544874323691726,\n",
      "        \"semi-annual\": 0.8546133291608629\n",
      "      },\n",
      "      \"Ocean_30S30N\": {\n",
      "        \"annual\": 1.4864098919431723,\n",
      "        \"semi-annual\": 1.8103837689309497\n",
      "      },\n",
      "      \"Ocean_50S30S\": {\n",
      "        \"annual\": 1.434718945466502,\n",
      "        \"semi-annual\": 1.0529794693372332\n",
      "      },\n",
      "      \"Ocean_50S50N\": {\n",
      "        \"annual\": 1.451677545589986,\n",
      "        \"semi-annual\": 1.6813976482142703\n",
      "      },\n",
      "      \"Total_30N50N\": {\n",
      "        \"annual\": 1.2280667464963733,\n",
      "        \"semi-annual\": 1.1388255981965971\n",
      "      },\n",
      "      \"Total_30S30N\": {\n",
      "        \"annual\": 1.427377580108025,\n",
      "        \"semi-annual\": 1.6756783731405698\n",
      "      },\n",
      "      \"Total_50S30S\": {\n",
      "        \"annual\": 1.3988802669062472,\n",
      "        \"semi-annual\": 1.1073362609324828\n",
      "      },\n",
      "      \"Total_50S50N\": {\n",
      "        \"annual\": 1.412442934415349,\n",
      "        \"semi-annual\": 1.6004090620717777\n",
      "      }\n",
      "    },\n",
      "    \"unforced\": {\n",
      "      \"Land_30N50N\": {\n",
      "        \"interannual\": 1.3794465137232341,\n",
      "        \"seasonal-annual\": 1.4447227779381746,\n",
      "        \"sub-seasonal\": 1.2614704072165257,\n",
      "        \"synoptic\": 0.9376289005454912\n",
      "      },\n",
      "      \"Land_30S30N\": {\n",
      "        \"interannual\": 1.5593968764523738,\n",
      "        \"seasonal-annual\": 1.3617311701950159,\n",
      "        \"sub-seasonal\": 1.0011907610791764,\n",
      "        \"synoptic\": 0.6142893846009135\n",
      "      },\n",
      "      \"Land_50S30S\": {\n",
      "        \"interannual\": 1.154423591979066,\n",
      "        \"seasonal-annual\": 1.4041329175685946,\n",
      "        \"sub-seasonal\": 1.0243721653291202,\n",
      "        \"synoptic\": 0.621340849689054\n",
      "      },\n",
      "      \"Land_50S50N\": {\n",
      "        \"interannual\": 1.5153904017444781,\n",
      "        \"seasonal-annual\": 1.3778061960939543,\n",
      "        \"sub-seasonal\": 1.0461273791451355,\n",
      "        \"synoptic\": 0.6784747472734198\n",
      "      },\n",
      "      \"Ocean_30N50N\": {\n",
      "        \"interannual\": 0.7077833089524449,\n",
      "        \"seasonal-annual\": 0.650709435694879,\n",
      "        \"sub-seasonal\": 0.6145305989775245,\n",
      "        \"synoptic\": 0.684149387966677\n",
      "      },\n",
      "      \"Ocean_30S30N\": {\n",
      "        \"interannual\": 1.2466722142769249,\n",
      "        \"seasonal-annual\": 1.5444361170965377,\n",
      "        \"sub-seasonal\": 1.173225706552268,\n",
      "        \"synoptic\": 1.085836462254943\n",
      "      },\n",
      "      \"Ocean_50S30S\": {\n",
      "        \"interannual\": 0.8612815943993758,\n",
      "        \"seasonal-annual\": 0.8480886213389203,\n",
      "        \"sub-seasonal\": 0.7668480897374248,\n",
      "        \"synoptic\": 0.6782484498748763\n",
      "      },\n",
      "      \"Ocean_50S50N\": {\n",
      "        \"interannual\": 1.1898970017736168,\n",
      "        \"seasonal-annual\": 1.3846150741002792,\n",
      "        \"sub-seasonal\": 1.0711274586032082,\n",
      "        \"synoptic\": 0.9368833507569604\n",
      "      },\n",
      "      \"Total_30N50N\": {\n",
      "        \"interannual\": 0.8891300140413763,\n",
      "        \"seasonal-annual\": 0.8495141076529107,\n",
      "        \"sub-seasonal\": 0.789875345982089,\n",
      "        \"synoptic\": 0.7570229163951963\n",
      "      },\n",
      "      \"Total_30S30N\": {\n",
      "        \"interannual\": 1.2829923538719843,\n",
      "        \"seasonal-annual\": 1.5154104817304168,\n",
      "        \"sub-seasonal\": 1.1415317517303392,\n",
      "        \"synoptic\": 0.9509549167800267\n",
      "      },\n",
      "      \"Total_50S30S\": {\n",
      "        \"interannual\": 0.8853967185656048,\n",
      "        \"seasonal-annual\": 0.8851371310938744,\n",
      "        \"sub-seasonal\": 0.786539909712747,\n",
      "        \"synoptic\": 0.673681248781238\n",
      "      },\n",
      "      \"Total_50S50N\": {\n",
      "        \"interannual\": 1.2306341700518828,\n",
      "        \"seasonal-annual\": 1.3835207320717373,\n",
      "        \"sub-seasonal\": 1.06653673517283,\n",
      "        \"synoptic\": 0.8716652918887344\n",
      "      }\n",
      "    }\n",
      "  }\n",
      "}\n"
     ]
    }
   ],
   "source": [
    "output_path = os.path.join(demo_output_directory,\"precip_variability/ratio/PS_pr.day_regrid.180x90_area.freq.mean_GISS-E2-H.historical.json\")\n",
    "with open(output_path) as f:\n",
    "    metric = json.load(f)[\"RESULTS\"]\n",
    "print(json.dumps(metric, indent=2))"
   ]
  },
  {
   "cell_type": "code",
   "execution_count": null,
   "metadata": {},
   "outputs": [],
   "source": []
  }
 ],
 "metadata": {
  "kernelspec": {
   "display_name": "Python 3 (ipykernel)",
   "language": "python",
   "name": "python3"
  },
  "language_info": {
   "codemirror_mode": {
    "name": "ipython",
    "version": 3
   },
   "file_extension": ".py",
   "mimetype": "text/x-python",
   "name": "python",
   "nbconvert_exporter": "python",
   "pygments_lexer": "ipython3",
   "version": "3.9.7"
  }
 },
 "nbformat": 4,
 "nbformat_minor": 4
}
