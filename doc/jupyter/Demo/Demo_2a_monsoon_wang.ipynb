{
 "cells": [
  {
   "cell_type": "markdown",
   "metadata": {},
   "source": [
    "# 2A. Monsoon (Wang)\n",
    "\n",
    "This notebook demonstrates how to use the PCDMI Monsoon (Wang) driver.\n",
    "\n",
    "It is expected that you have downloaded the sample data as demonstrated in [the download notebook](Demo_0_download_data.ipynb)\n",
    "\n",
    "The following cell reads in the choices you made during the download data step."
   ]
  },
  {
   "cell_type": "code",
   "execution_count": 1,
   "metadata": {},
   "outputs": [],
   "source": [
    "from user_choices import demo_data_directory, demo_output_directory"
   ]
  },
  {
   "cell_type": "markdown",
   "metadata": {},
   "source": [
    "## Basic Example"
   ]
  },
  {
   "cell_type": "markdown",
   "metadata": {},
   "source": [
    "The Monsoon (Wang) driver is simple and does not require many settings. These are the required parameters:  \n",
    "```  \n",
    "modnames   \n",
    "test_data_path  \n",
    "reference_data_path   \n",
    "results_dir  \n",
    "```  \n",
    "\n",
    "For a full look at the driver options available, use `mpindex_compute.py --help` in the command line.\n",
    "\n",
    "Important note about `threshold`: The default threshold for the threat score is 2.5 mm/day, but the Monsoon (Wang) driver assumes that the precipitation inputs are in units of kg m-2 s-1 and adjust the threshold value accordingly. **If your precipitation data uses units of mm/day, set `threshold = 2.5`.**"
   ]
  },
  {
   "cell_type": "markdown",
   "metadata": {},
   "source": [
    "First, display the parameter file used for this example:"
   ]
  },
  {
   "cell_type": "code",
   "execution_count": 2,
   "metadata": {},
   "outputs": [
    {
     "name": "stdout",
     "output_type": "stream",
     "text": [
      "import os\n",
      "\n",
      "#\n",
      "#  OPTIONS ARE SET BY USER IN THIS FILE AS INDICATED BELOW BY:\n",
      "#\n",
      "#\n",
      "\n",
      "# LIST OF MODEL VERSIONS TO BE TESTED\n",
      "modnames = ['CanCM4']\n",
      "\n",
      "# ROOT PATH FOR MODELS CLIMATOLOGIES\n",
      "test_data_path = 'demo_data/CMIP5_demo_clims/cmip5.historical.%(model).r1i1p1.mon.pr.198101-200512.AC.v20200426.nc'\n",
      "\n",
      "# ROOT PATH FOR OBSERVATIONS\n",
      "reference_data_path = 'demo_data/obs4MIPs_PCMDI_monthly/NOAA-NCEI/GPCP-2-3/mon/pr/gn/v20210727/pr_mon_GPCP-2-3_PCMDI_gn_197901-201907.nc'\n",
      "\n",
      "# DIRECTORY WHERE TO PUT RESULTS\n",
      "results_dir = 'demo_output/monsoon_wang'\n",
      "\n",
      "# Threshold\n",
      "threshold = 2.5 / 86400\n",
      "\n"
     ]
    }
   ],
   "source": [
    "with open(\"basic_monsoon_wang_param.py\") as f:\n",
    "    print(f.read())"
   ]
  },
  {
   "cell_type": "markdown",
   "metadata": {},
   "source": [
    "The following command is used to run the Monsoon (Wang) metrics driver via the command line. Bash cell magic is used to run this command as a subprocess in the next cell.\n",
    "```\n",
    "mpindex_compute.py -p basic_monsoon_wang_param.py\n",
    "```"
   ]
  },
  {
   "cell_type": "code",
   "execution_count": 3,
   "metadata": {},
   "outputs": [
    {
     "name": "stdout",
     "output_type": "stream",
     "text": [
      "******************************************************************************************\n",
      "demo_data/CMIP5_demo_clims/cmip5.historical.CanCM4.r1i1p1.mon.pr.198101-200512.AC.v20200426.nc\n"
     ]
    },
    {
     "name": "stderr",
     "output_type": "stream",
     "text": [
      "/Users/lee1043/mambaforge/envs/pmp_devel_20230223/lib/python3.9/site-packages/cdms2/avariable.py:1289: Warning: \n",
      "avariable.regrid: regridTool = 'esmf' but your version does not\n",
      "seems to be built with esmf, will switch to regridTool = 'libcf'\n",
      "                  \n",
      "  warnings.warn(message, Warning)\n",
      "INFO::2023-12-18 12:39::pcmdi_metrics:: Results saved to a json file: /Users/lee1043/Documents/Research/git/pcmdi_metrics_20230620_pcmdi/pcmdi_metrics/doc/jupyter/Demo/demo_output/monsoon_wang/monsoon_wang.json\n",
      "2023-12-18 12:39:49,908 [INFO]: base.py(write:250) >> Results saved to a json file: /Users/lee1043/Documents/Research/git/pcmdi_metrics_20230620_pcmdi/pcmdi_metrics/doc/jupyter/Demo/demo_output/monsoon_wang/monsoon_wang.json\n",
      "2023-12-18 12:39:49,908 [INFO]: base.py(write:250) >> Results saved to a json file: /Users/lee1043/Documents/Research/git/pcmdi_metrics_20230620_pcmdi/pcmdi_metrics/doc/jupyter/Demo/demo_output/monsoon_wang/monsoon_wang.json\n"
     ]
    }
   ],
   "source": [
    "%%bash\n",
    "mpindex_compute.py -p basic_monsoon_wang_param.py"
   ]
  },
  {
   "cell_type": "markdown",
   "metadata": {},
   "source": [
    "The metrics are saved to monsoon_wang.json, opened below."
   ]
  },
  {
   "cell_type": "code",
   "execution_count": 4,
   "metadata": {},
   "outputs": [
    {
     "name": "stdout",
     "output_type": "stream",
     "text": [
      "{\n",
      "  \"CanCM4\": {\n",
      "    \"AllMW\": {\n",
      "      \"cor\": \"0.754\",\n",
      "      \"rmsn\": \"0.691\",\n",
      "      \"threat_score\": \"0.479\"\n",
      "    },\n",
      "    \"AllM\": {\n",
      "      \"cor\": \"0.757\",\n",
      "      \"rmsn\": \"0.689\",\n",
      "      \"threat_score\": \"0.479\"\n",
      "    },\n",
      "    \"NAMM\": {\n",
      "      \"cor\": \"0.791\",\n",
      "      \"rmsn\": \"0.650\",\n",
      "      \"threat_score\": \"0.474\"\n",
      "    },\n",
      "    \"SAMM\": {\n",
      "      \"cor\": \"0.770\",\n",
      "      \"rmsn\": \"0.695\",\n",
      "      \"threat_score\": \"0.456\"\n",
      "    },\n",
      "    \"NAFM\": {\n",
      "      \"cor\": \"0.776\",\n",
      "      \"rmsn\": \"0.646\",\n",
      "      \"threat_score\": \"0.411\"\n",
      "    },\n",
      "    \"SAFM\": {\n",
      "      \"cor\": \"0.780\",\n",
      "      \"rmsn\": \"0.674\",\n",
      "      \"threat_score\": \"0.645\"\n",
      "    },\n",
      "    \"ASM\": {\n",
      "      \"cor\": \"0.726\",\n",
      "      \"rmsn\": \"0.713\",\n",
      "      \"threat_score\": \"0.405\"\n",
      "    },\n",
      "    \"AUSM\": {\n",
      "      \"cor\": \"0.835\",\n",
      "      \"rmsn\": \"0.578\",\n",
      "      \"threat_score\": \"0.523\"\n",
      "    }\n",
      "  }\n",
      "}\n"
     ]
    }
   ],
   "source": [
    "import json\n",
    "import os\n",
    "with open(os.path.join(demo_output_directory,\"monsoon_wang/monsoon_wang.json\")) as f:\n",
    "    metric = json.load(f)[\"RESULTS\"]\n",
    "print(json.dumps(metric, indent=2))"
   ]
  },
  {
   "cell_type": "markdown",
   "metadata": {},
   "source": [
    "### Command line options"
   ]
  },
  {
   "cell_type": "markdown",
   "metadata": {},
   "source": [
    "The following example shows how to use the command line to specify one model, increase the threshold to 3 mm/day (for data in kg m-2 s-1), change the name of the output json (`outnj`), and specify the model experiment and MIP:"
   ]
  },
  {
   "cell_type": "code",
   "execution_count": 5,
   "metadata": {},
   "outputs": [
    {
     "name": "stdout",
     "output_type": "stream",
     "text": [
      "******************************************************************************************\n",
      "demo_data/CMIP5_demo_clims/cmip5.historical.CanCM4.r1i1p1.mon.pr.198101-200512.AC.v20200426.nc\n"
     ]
    },
    {
     "name": "stderr",
     "output_type": "stream",
     "text": [
      "/Users/lee1043/mambaforge/envs/pmp_devel_20230223/lib/python3.9/site-packages/cdms2/avariable.py:1289: Warning: \n",
      "avariable.regrid: regridTool = 'esmf' but your version does not\n",
      "seems to be built with esmf, will switch to regridTool = 'libcf'\n",
      "                  \n",
      "  warnings.warn(message, Warning)\n",
      "INFO::2023-12-18 12:40::pcmdi_metrics:: Results saved to a json file: /Users/lee1043/Documents/Research/git/pcmdi_metrics_20230620_pcmdi/pcmdi_metrics/doc/jupyter/Demo/demo_output/monsoon_wang/monsoon_wang_ex2.json\n",
      "2023-12-18 12:40:38,357 [INFO]: base.py(write:250) >> Results saved to a json file: /Users/lee1043/Documents/Research/git/pcmdi_metrics_20230620_pcmdi/pcmdi_metrics/doc/jupyter/Demo/demo_output/monsoon_wang/monsoon_wang_ex2.json\n",
      "2023-12-18 12:40:38,357 [INFO]: base.py(write:250) >> Results saved to a json file: /Users/lee1043/Documents/Research/git/pcmdi_metrics_20230620_pcmdi/pcmdi_metrics/doc/jupyter/Demo/demo_output/monsoon_wang/monsoon_wang_ex2.json\n"
     ]
    }
   ],
   "source": [
    "%%bash\n",
    "mpindex_compute.py -p basic_monsoon_wang_param.py \\\n",
    "--modnames \"['CanCM4']\" \\\n",
    "--outnj \"monsoon_wang_ex2\" \\\n",
    "--experiment historical \\\n",
    "--MIP cmip5 \\\n",
    "--threshold 0.00003472222"
   ]
  },
  {
   "cell_type": "markdown",
   "metadata": {},
   "source": [
    "Opening the new results file, you will find that the threat_scores have changed slightly as a result of changing the threshold."
   ]
  },
  {
   "cell_type": "code",
   "execution_count": 6,
   "metadata": {},
   "outputs": [
    {
     "name": "stdout",
     "output_type": "stream",
     "text": [
      "{\n",
      "  \"CanCM4\": {\n",
      "    \"AllMW\": {\n",
      "      \"cor\": \"0.754\",\n",
      "      \"rmsn\": \"0.691\",\n",
      "      \"threat_score\": \"0.457\"\n",
      "    },\n",
      "    \"AllM\": {\n",
      "      \"cor\": \"0.757\",\n",
      "      \"rmsn\": \"0.689\",\n",
      "      \"threat_score\": \"0.457\"\n",
      "    },\n",
      "    \"NAMM\": {\n",
      "      \"cor\": \"0.791\",\n",
      "      \"rmsn\": \"0.650\",\n",
      "      \"threat_score\": \"0.473\"\n",
      "    },\n",
      "    \"SAMM\": {\n",
      "      \"cor\": \"0.770\",\n",
      "      \"rmsn\": \"0.695\",\n",
      "      \"threat_score\": \"0.458\"\n",
      "    },\n",
      "    \"NAFM\": {\n",
      "      \"cor\": \"0.776\",\n",
      "      \"rmsn\": \"0.646\",\n",
      "      \"threat_score\": \"0.387\"\n",
      "    },\n",
      "    \"SAFM\": {\n",
      "      \"cor\": \"0.780\",\n",
      "      \"rmsn\": \"0.674\",\n",
      "      \"threat_score\": \"0.667\"\n",
      "    },\n",
      "    \"ASM\": {\n",
      "      \"cor\": \"0.726\",\n",
      "      \"rmsn\": \"0.713\",\n",
      "      \"threat_score\": \"0.368\"\n",
      "    },\n",
      "    \"AUSM\": {\n",
      "      \"cor\": \"0.835\",\n",
      "      \"rmsn\": \"0.578\",\n",
      "      \"threat_score\": \"0.435\"\n",
      "    }\n",
      "  }\n",
      "}\n"
     ]
    }
   ],
   "source": [
    "with open(os.path.join(demo_output_directory,\"monsoon_wang/monsoon_wang_ex2.json\")) as f:\n",
    "    metric = json.load(f)[\"RESULTS\"]\n",
    "print(json.dumps(metric, indent=2))"
   ]
  },
  {
   "cell_type": "code",
   "execution_count": null,
   "metadata": {},
   "outputs": [],
   "source": []
  }
 ],
 "metadata": {
  "kernelspec": {
   "display_name": "Python 3 (ipykernel)",
   "language": "python",
   "name": "python3"
  },
  "language_info": {
   "codemirror_mode": {
    "name": "ipython",
    "version": 3
   },
   "file_extension": ".py",
   "mimetype": "text/x-python",
   "name": "python",
   "nbconvert_exporter": "python",
   "pygments_lexer": "ipython3",
   "version": "3.9.7"
  },
  "selected_variables": [],
  "vcdat_file_path": "",
  "vcdat_loaded_variables": [],
  "vcdat_variable_info": {}
 },
 "nbformat": 4,
 "nbformat_minor": 4
}
