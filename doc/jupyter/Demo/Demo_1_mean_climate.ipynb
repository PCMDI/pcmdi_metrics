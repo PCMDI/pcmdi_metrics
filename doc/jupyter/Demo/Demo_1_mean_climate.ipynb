{
 "cells": [
  {
   "cell_type": "markdown",
   "metadata": {},
   "source": [
    "# Mean Climate Driver\n",
    "\n",
    "This notebook aims at inroducing new users on how to use the PCDMI mean climate driver.\n",
    "\n",
    "It is expected that you have downloaded the sample data as demonstrated in [the download notebook](Demo_0_download_data.ipynb)\n",
    "\n",
    "Please edit the path in the following cell to reflect the location on your system where you downloaded the data"
   ]
  },
  {
   "cell_type": "code",
   "execution_count": 17,
   "metadata": {},
   "outputs": [],
   "source": [
    "# This is where you downloaded the sample_data\n",
    "demo_data_directory = \"demo_data\"\n",
    "# this line is where your output will be stored\n",
    "demo_output_directory = \"demo_output\""
   ]
  },
  {
   "cell_type": "code",
   "execution_count": 21,
   "metadata": {},
   "outputs": [
    {
     "name": "stdout",
     "output_type": "stream",
     "text": [
      "Preparing parameter file: basic_param.py\n"
     ]
    }
   ],
   "source": [
    "# this prepares the various parameter files used in this demo notebooks to reflect where you downloaded the data\n",
    "import glob\n",
    "\n",
    "# Dictionary for template_files substitutions \n",
    "sub_dict = {\n",
    "    \"INPUT_DIR\": demo_data_directory,\n",
    "    \"OUTPUT_DIR\": demo_output_directory\n",
    "}\n",
    "for name in glob.glob(\"*.in\"):\n",
    "    with open(name) as template_file:\n",
    "        print(\"Preparing parameter file: {}\".format(name[:-3]))\n",
    "        template = template_file.read()\n",
    "        for key in sub_dict:\n",
    "            template = template.replace(\"${}$\".format(key), sub_dict[key])\n",
    "        with open(name[:-3], \"w\") as param_file:\n",
    "            param_file.write(template)"
   ]
  },
  {
   "cell_type": "markdown",
   "metadata": {},
   "source": [
    "The PCMDI Median Driver is driven via parameter files reflecting your study and environment\n",
    "in his bare minimum"
   ]
  },
  {
   "cell_type": "code",
   "execution_count": 19,
   "metadata": {},
   "outputs": [
    {
     "name": "stdout",
     "output_type": "stream",
     "text": [
      "import os\n",
      "\n",
      "#\n",
      "#  OPTIONS ARE SET BY USER IN THIS FILE AS INDICATED BELOW BY:\n",
      "#\n",
      "#\n",
      "\n",
      "# RUN IDENTIFICATION\n",
      "# DEFINES A SUBDIRECTORY TO METRICS OUTPUT RESULTS SO MULTIPLE CASES CAN\n",
      "# BE COMPARED\n",
      "case_id = 'basicTest'\n",
      "\n",
      "# LIST OF MODEL VERSIONS TO BE TESTED - WHICH ARE EXPECTED TO BE PART OF\n",
      "# CLIMATOLOGY FILENAME\n",
      "test_data_set = ['ACCESS1-0', 'CSIRO-Mk3-6-0']\n",
      "\n",
      "\n",
      "# VARIABLES TO USE\n",
      "vars = ['rlut']\n",
      "\n",
      "\n",
      "# Observations to use at the moment \"default\" or \"alternate\"\n",
      "reference_data_set = ['all']\n",
      "#ext = '.nc'\n",
      "\n",
      "# INTERPOLATION OPTIONS\n",
      "target_grid = '2.5x2.5'  # OPTIONS: '2.5x2.5' or an actual cdms2 grid object\n",
      "regrid_tool = 'regrid2'  # 'regrid2' # OPTIONS: 'regrid2','esmf'\n",
      "# OPTIONS: 'linear','conservative', only if tool is esmf\n",
      "regrid_method = 'linear'\n",
      "regrid_tool_ocn = 'esmf'    # OPTIONS: \"regrid2\",\"esmf\"\n",
      "# OPTIONS: 'linear','conservative', only if tool is esmf\n",
      "regrid_method_ocn = 'linear'\n",
      "\n",
      "# Templates for climatology files\n",
      "# %(param) will subsitute param with values in this file\n",
      "filename_template = \"CMIP5.historical.r1i1p1.mon.%(variable)_198101-200512.AC.v20190225.nc\"\n",
      "\n",
      "# filename template for landsea masks ('sftlf')\n",
      "sftlf_filename_template = \"sftlf_%(model_version).nc\"\n",
      "generate_sftlf = True # if land surface type mask cannot be found, generate one\n",
      "\n",
      "\n",
      "pth = os.path.dirname(__file__)\n",
      "# ROOT PATH FOR MODELS CLIMATOLOGIES\n",
      "test_data_path = 'demo_data/example_data/atm/mo/rlut/ac/'\n",
      "# ROOT PATH FOR OBSERVATIONS\n",
      "# Note that atm/mo/%(variable)/ac will be added to this\n",
      "reference_data_path = 'demo_data/pmpobs_v1.0'\n",
      "\n",
      "# DIRECTORY WHERE TO PUT RESULTS\n",
      "metrics_output_path = os.path.join(\n",
      "    'demo_output',\n",
      "    \"%(case_id)\")\n",
      "\n",
      "\n"
     ]
    }
   ],
   "source": [
    "with open(\"basic_param.py\") as f:\n",
    "    print(f.read())"
   ]
  },
  {
   "cell_type": "markdown",
   "metadata": {},
   "source": [
    "Now to run this simply call the mean climate driver\n",
    "```\n",
    "mean_climate_driver.py -p basic_param.py\n",
    "```"
   ]
  },
  {
   "cell_type": "code",
   "execution_count": 9,
   "metadata": {},
   "outputs": [
    {
     "data": {
      "text/plain": [
       "1"
      ]
     },
     "execution_count": 9,
     "metadata": {},
     "output_type": "execute_result"
    }
   ],
   "source": [
    "import subprocess\n",
    "subprocess.call(\"mean_climate_driver.py -p basic_param.py\".split())"
   ]
  },
  {
   "cell_type": "code",
   "execution_count": null,
   "metadata": {},
   "outputs": [],
   "source": []
  }
 ],
 "metadata": {
  "kernelspec": {
   "display_name": "Python 3",
   "language": "python",
   "name": "python3"
  },
  "language_info": {
   "codemirror_mode": {
    "name": "ipython",
    "version": 3
   },
   "file_extension": ".py",
   "mimetype": "text/x-python",
   "name": "python",
   "nbconvert_exporter": "python",
   "pygments_lexer": "ipython3",
   "version": "3.6.7"
  }
 },
 "nbformat": 4,
 "nbformat_minor": 2
}
