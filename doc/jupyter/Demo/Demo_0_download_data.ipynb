{
 "cells": [
  {
   "cell_type": "markdown",
   "metadata": {},
   "source": [
    "# Download Data and Prepare Demos\n",
    "\n",
    "This Notebook sets up the data for the other demos. It is recommended that you run this and other demos in a conda environment with **cdat** and **pcmdi_metrics** installed."
   ]
  },
  {
   "cell_type": "code",
   "execution_count": 6,
   "metadata": {},
   "outputs": [],
   "source": [
    "# Lets get the file containing the data needed for this demo\n",
    "import requests\n",
    "r = requests.get(\"https://pcmdiweb.llnl.gov/pss/pmpdata/pmp_tutorial_files.txt\")\n",
    "with open(\"data_files.txt\",\"wb\") as f:\n",
    "    f.write(r.content)"
   ]
  },
  {
   "cell_type": "markdown",
   "metadata": {},
   "source": [
    "Now let's retrieve these sample files locally. Please edit the following to match a good location on your system:\n",
    "\n",
    "`demo_data_directory` is a path where you would like to download our demo data  \n",
    "`demo_output_directory` is a path where you would like the demos output to be dumped.  \n",
    "  \n",
    "The last cell in this notebook automatically sets up the parameter files for the other demos to use your chosen demo_data and demo_output directories."
   ]
  },
  {
   "cell_type": "code",
   "execution_count": 7,
   "metadata": {},
   "outputs": [],
   "source": [
    "# This is where you will be downloading the sample_data\n",
    "demo_data_directory = \"demo_data\"\n",
    "# this line is where your output will be stored\n",
    "demo_output_directory = \"demo_output\""
   ]
  },
  {
   "cell_type": "code",
   "execution_count": 8,
   "metadata": {},
   "outputs": [],
   "source": [
    "# Let's download the files\n",
    "import cdat_info\n",
    "cdat_info.download_sample_data_files(\"data_files.txt\", demo_data_directory)"
   ]
  },
  {
   "cell_type": "code",
   "execution_count": 9,
   "metadata": {},
   "outputs": [
    {
     "name": "stdout",
     "output_type": "stream",
     "text": [
      "Preparing parameter file: basic_diurnal_composite.py\n",
      "Preparing parameter file: basic_param.py\n",
      "Preparing parameter file: clim_calc_cmip_inparam.py\n",
      "Preparing parameter file: basic_diurnal_compute_daily_mean.py\n",
      "Preparing parameter file: basic_diurnal_std_daily_mean.py\n",
      "Preparing parameter file: basic_monsoon_wang_param.py\n",
      "Preparing parameter file: basic_diurnal_fourier.py\n",
      "Preparing parameter file: basic_diurnal_std_hourly_mean.py\n",
      "Preparing parameter file: basic_diurnal_fourierAllGrid.py\n",
      "Saving User Choices\n"
     ]
    }
   ],
   "source": [
    "# This prepares the various parameter files used in the demo notebooks to reflect where you downloaded the data\n",
    "import glob\n",
    "\n",
    "# Dictionary for template_files substitutions \n",
    "sub_dict = {\n",
    "    \"INPUT_DIR\": demo_data_directory,\n",
    "    \"OUTPUT_DIR\": demo_output_directory\n",
    "}\n",
    "for name in glob.glob(\"*.in\"):\n",
    "    with open(name) as template_file:\n",
    "        print(\"Preparing parameter file: {}\".format(name[:-3]))\n",
    "        template = template_file.read()\n",
    "        for key in sub_dict:\n",
    "            template = template.replace(\"${}$\".format(key), sub_dict[key])\n",
    "        with open(name[:-3], \"w\") as param_file:\n",
    "            param_file.write(template)\n",
    "\n",
    "print(\"Saving User Choices\")       \n",
    "with open(\"user_choices.py\", \"w\") as f:\n",
    "    print(\"demo_data_directory = '{}'\".format(demo_data_directory), file=f)\n",
    "    print(\"demo_output_directory = '{}'\".format(demo_output_directory), file=f)"
   ]
  },
  {
   "cell_type": "markdown",
   "metadata": {},
   "source": [
    "You're done!\n",
    "Please proceed to the next tutorial"
   ]
  },
  {
   "cell_type": "code",
   "execution_count": null,
   "metadata": {},
   "outputs": [],
   "source": []
  }
 ],
 "metadata": {
  "kernelspec": {
   "display_name": "Python 3",
   "language": "python",
   "name": "python3"
  },
  "language_info": {
   "codemirror_mode": {
    "name": "ipython",
    "version": 3
   },
   "file_extension": ".py",
   "mimetype": "text/x-python",
   "name": "python",
   "nbconvert_exporter": "python",
   "pygments_lexer": "ipython3",
   "version": "3.8.6"
  },
  "selected_variables": [],
  "vcdat_file_path": "",
  "vcdat_loaded_variables": [],
  "vcdat_variable_info": {}
 },
 "nbformat": 4,
 "nbformat_minor": 4
}
