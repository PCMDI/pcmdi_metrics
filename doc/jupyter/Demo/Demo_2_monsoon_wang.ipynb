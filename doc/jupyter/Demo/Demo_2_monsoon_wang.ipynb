{
 "cells": [
  {
   "cell_type": "markdown",
   "metadata": {},
   "source": [
    "# Monsoon Wang\n",
    "\n",
    "This notebook aims at inroducing new users on how to use the PCDMI monsoon Wang driver.\n",
    "\n",
    "It is expected that you have downloaded the sample data as demonstrated in [the download notebook](Demo_0_download_data.ipynb)\n",
    "\n",
    "The following cell reads in the choices you made during the download data step"
   ]
  },
  {
   "cell_type": "markdown",
   "metadata": {},
   "source": [
    "The PCMDI Median Driver is driven via parameter files reflecting your study and environment\n",
    "in his bare minimum"
   ]
  },
  {
   "cell_type": "code",
   "execution_count": 1,
   "metadata": {},
   "outputs": [],
   "source": [
    "from user_choices import demo_data_directory, demo_output_directory"
   ]
  },
  {
   "cell_type": "code",
   "execution_count": 2,
   "metadata": {},
   "outputs": [
    {
     "name": "stdout",
     "output_type": "stream",
     "text": [
      "import os\n",
      "\n",
      "#\n",
      "#  OPTIONS ARE SET BY USER IN THIS FILE AS INDICATED BELOW BY:\n",
      "#\n",
      "#\n",
      "\n",
      "# LIST OF MODEL VERSIONS TO BE TESTED\n",
      "modnames = ['CNRM-CERFACS.CNRM-CM5-2',' NSF-DOE-NCAR.CESM1-WACCM']\n",
      "\n",
      "pth = os.path.dirname(__file__)\n",
      "# ROOT PATH FOR MODELS CLIMATOLOGIES\n",
      "#test_data_path = '../../../tests/monsoon/data/pr_1961_1999_MRI-CGCM3_regrid_MODS.nc'\n",
      "test_data_path = 'demo_data/example_data/atm/mo/pr/CMIP5.CMIP.historical.%(model).r1i1p1.mon.pr.atmos.glb-2d-gu.v%(version).0000000.0.nc'\n",
      "# ROOT PATH FOR OBSERVATIONS\n",
      "# Note that atm/mo/%(variable)/ac will be added to this\n",
      "#reference_data_path = '../../../tests/monsoon/obs/pr_gpcp_79_07_mseas.nc'\n",
      "reference_data_path = 'demo_data/PCMDIobs2.0/atmos/mon/pr/GPCP-2-3/gn/v20190301/pr_mon_GPCP-2-3_BE_gn_197901-201803.nc'\n",
      "\n",
      "# DIRECTORY WHERE TO PUT RESULTS\n",
      "results_dir = 'demo_output/monsoon_wang'\n",
      "\n",
      "# Version for each model\n",
      "version = ['20130401', '20130314']\n",
      "\n",
      "# Threshold\n",
      "threshold = 2.5\n"
     ]
    }
   ],
   "source": [
    "with open(\"basic_monsoon_wang_param.py\") as f:\n",
    "    print(f.read())"
   ]
  },
  {
   "cell_type": "markdown",
   "metadata": {},
   "source": [
    "Now to run this simply call the mean climate driver\n",
    "```\n",
    "mpindex_compute.py -p basic_monsoon_wang_param.py\n",
    "```"
   ]
  },
  {
   "cell_type": "code",
   "execution_count": 3,
   "metadata": {},
   "outputs": [
    {
     "data": {
      "text/plain": [
       "CompletedProcess(args=['mpindex_compute.py', '-p', 'basic_monsoon_wang_param.py'], returncode=0)"
      ]
     },
     "execution_count": 3,
     "metadata": {},
     "output_type": "execute_result"
    }
   ],
   "source": [
    "from subprocess import run, PIPE\n",
    "run(\"mpindex_compute.py -p basic_monsoon_wang_param.py\".split())"
   ]
  },
  {
   "cell_type": "code",
   "execution_count": 4,
   "metadata": {},
   "outputs": [
    {
     "name": "stdout",
     "output_type": "stream",
     "text": [
      "JSON OUTPUT:\n",
      "{\n",
      "    \"DISCLAIMER\": \"USER-NOTICE: The results in this file were produced with the PMP v1.1 (https://github.com/PCMDI/pcmdi_metrics). They are for research purposes only. They are subject to ongoing quality control and change as the PMP software advances, interpolation methods are modified, observational data sets are updated, problems with model data are corrected, etc. Use of these results for research (presentation, publications, etc.) should reference: Gleckler, P. J., C. Doutriaux, P. J. Durack, K. E. Taylor, Y. Zhang, and D. N. Williams, E. Mason, and J. Servonnat (2016), A more powerful reality test for climate models, Eos, 97, doi:10.1029/2016EO051663. If any problems are uncovered in using these results please contact the PMP development team at pcmdi-metrics@llnl.gov\\n\",\n",
      "    \"REFERENCE\": \"The statistics in this file are based on Wang, B., Kim, HJ., Kikuchi, K. et al. Clim Dyn (2011) 37: 941. doi:10.1007/s00382-010-0877-0\",\n",
      "    \"RESULTS\": {\n",
      "        \"CNRM-CERFACS.CNRM-CM5-2\": {\n",
      "            \"AllMW\": {\n",
      "                \"cor\": \"0.681\",\n",
      "                \"rmsn\": \"0.788\",\n",
      "                \"threat_score\": \"100000000000000000000.000\"\n",
      "            },\n",
      "            \"AllM\": {\n",
      "                \"cor\": \"0.685\",\n",
      "                \"rmsn\": \"0.785\",\n",
      "                \"threat_score\": \"100000000000000000000.000\"\n",
      "            },\n",
      "            \"NAMM\": {\n",
      "                \"cor\": \"0.785\",\n",
      "                \"rmsn\": \"0.629\",\n",
      "                \"threat_score\": \"100000000000000000000.000\"\n",
      "            },\n",
      "            \"SAMM\": {\n",
      "                \"cor\": \"0.618\",\n",
      "                \"rmsn\": \"0.941\",\n",
      "                \"threat_score\": \"100000000000000000000.000\"\n",
      "            },\n",
      "            \"NAFM\": {\n",
      "                \"cor\": \"0.759\",\n",
      "                \"rmsn\": \"0.666\",\n",
      "                \"threat_score\": \"100000000000000000000.000\"\n",
      "            },\n",
      "            \"SAFM\": {\n",
      "                \"cor\": \"0.723\",\n",
      "                \"rmsn\": \"0.762\",\n",
      "                \"threat_score\": \"100000000000000000000.000\"\n",
      "            },\n",
      "            \"ASM\": {\n",
      "                \"cor\": \"0.737\",\n",
      "                \"rmsn\": \"0.720\",\n",
      "                \"threat_score\": \"100000000000000000000.000\"\n",
      "            },\n",
      "            \"AUSM\": {\n",
      "                \"cor\": \"0.745\",\n",
      "                \"rmsn\": \"0.753\",\n",
      "                \"threat_score\": \"100000000000000000000.000\"\n",
      "            }\n",
      "        }\n",
      "    },\n",
      "    \"json_version\": 3.0,\n",
      "    \"json_structure\": [\n",
      "        \"model\",\n",
      "        \"domain\",\n",
      "        \"statistic\"\n",
      "    ],\n",
      "    \"provenance\": {\n",
      "        \"platform\": {\n",
      "            \"OS\": \"Linux\",\n",
      "            \"Version\": \"4.15.0-50-generic\",\n",
      "            \"Name\": \"drdoom\"\n",
      "        },\n",
      "        \"userId\": \"doutriaux1\",\n",
      "        \"osAccess\": false,\n",
      "        \"commandLine\": \"/home/doutriaux1/miniconda3/envs/jupyter-vcdat/bin/mpindex_compute.py -p basic_monsoon_wang_param.py\",\n",
      "        \"date\": \"2019-07-10 08:22:23\",\n",
      "        \"conda\": {},\n",
      "        \"packages\": {},\n",
      "        \"openGL\": {\n",
      "            \"GLX\": {\n",
      "                \"server\": {},\n",
      "                \"client\": {}\n",
      "            }\n",
      "        }\n",
      "    }\n",
      "}\n"
     ]
    }
   ],
   "source": [
    "import os\n",
    "with open(os.path.join(demo_output_directory,\"monsoon_wang/monsoon_wang.json\")) as f:\n",
    "    print(\"JSON OUTPUT:\\n{}\".format(f.read()))"
   ]
  },
  {
   "cell_type": "code",
   "execution_count": null,
   "metadata": {},
   "outputs": [],
   "source": []
  }
 ],
 "metadata": {
  "kernelspec": {
   "display_name": "Python 3",
   "language": "python",
   "name": "python3"
  },
  "language_info": {
   "codemirror_mode": {
    "name": "ipython",
    "version": 3
   },
   "file_extension": ".py",
   "mimetype": "text/x-python",
   "name": "python",
   "nbconvert_exporter": "python",
   "pygments_lexer": "ipython3",
   "version": "3.7.3"
  },
  "selected_variables": [],
  "vcdat_file_path": "",
  "vcdat_loaded_variables": [],
  "vcdat_variable_info": {}
 },
 "nbformat": 4,
 "nbformat_minor": 4
}
