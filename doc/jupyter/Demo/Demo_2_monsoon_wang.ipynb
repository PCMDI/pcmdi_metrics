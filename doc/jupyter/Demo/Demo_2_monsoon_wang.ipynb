{
 "cells": [
  {
   "cell_type": "markdown",
   "metadata": {},
   "source": [
    "# Monsoon (Wang)\n",
    "\n",
    "This notebook demonstrates how to use the PCDMI Monsoon (Wang) driver.\n",
    "\n",
    "It is expected that you have downloaded the sample data as demonstrated in [the download notebook](Demo_0_download_data.ipynb)\n",
    "\n",
    "The following cell reads in the choices you made during the download data step."
   ]
  },
  {
   "cell_type": "code",
   "execution_count": 1,
   "metadata": {},
   "outputs": [],
   "source": [
    "from user_choices import demo_data_directory, demo_output_directory"
   ]
  },
  {
   "cell_type": "markdown",
   "metadata": {},
   "source": [
    "## Basic Example"
   ]
  },
  {
   "cell_type": "markdown",
   "metadata": {},
   "source": [
    "First, display the parameter file used for this example:"
   ]
  },
  {
   "cell_type": "code",
   "execution_count": 2,
   "metadata": {},
   "outputs": [
    {
     "name": "stdout",
     "output_type": "stream",
     "text": [
      "import os\n",
      "\n",
      "#\n",
      "#  OPTIONS ARE SET BY USER IN THIS FILE AS INDICATED BELOW BY:\n",
      "#\n",
      "#\n",
      "\n",
      "# LIST OF MODEL VERSIONS TO BE TESTED\n",
      "modnames = ['ACCESS1-0','CanCM4']\n",
      "\n",
      "# ROOT PATH FOR MODELS CLIMATOLOGIES\n",
      "test_data_path = 'demo_data/CMIP5_demo_clims/cmip5.historical.%(model).r1i1p1.mon.pr.198101-200512.AC.v20200426.nc'\n",
      "# ROOT PATH FOR OBSERVATIONS\n",
      "reference_data_path = 'demo_data/PCMDIobs2/atmos/mon/pr/GPCP-2-3/gn/v20200707/pr_mon_GPCP-2-3_BE_gn_v20200707_197901-201907.nc'\n",
      "\n",
      "# DIRECTORY WHERE TO PUT RESULTS\n",
      "results_dir = 'demo_output/monsoon_wang'\n"
     ]
    }
   ],
   "source": [
    "with open(\"basic_monsoon_wang_param.py\") as f:\n",
    "    print(f.read())"
   ]
  },
  {
   "cell_type": "markdown",
   "metadata": {},
   "source": [
    "The following command is used to run the Monsoon (Wang) metrics driver via the command line. Bash cell magic is used to run this command as a subprocess in the next cell.\n",
    "```\n",
    "mpindex_compute.py -p basic_monsoon_wang_param.py\n",
    "```"
   ]
  },
  {
   "cell_type": "code",
   "execution_count": 3,
   "metadata": {},
   "outputs": [
    {
     "name": "stdout",
     "output_type": "stream",
     "text": [
      "Deprecation warning: please use 'import pcmdi_metrics.driver.pmp_parser.PMPParser'\n",
      "******************************************************************************************\n",
      "demo_data/CMIP5_demo_clims/cmip5.historical.ACCESS1-0.r1i1p1.mon.pr.198101-200512.AC.v20200426.nc\n",
      "\n",
      "WARNING: Edge bounds are the same. The results of conservative regridding will not conserve.\n",
      "coordMin =  -90.00, boundMin =  -90.00, coordMax =   90.00, boundMax =   90.00\n",
      "              \n",
      "\n",
      "WARNING: Edge bounds are the same. The results of conservative regridding will not conserve.\n",
      "coordMin =  -90.00, boundMin =  -90.00, coordMax =   90.00, boundMax =   90.00\n",
      "              \n",
      "******************************************************************************************\n",
      "demo_data/CMIP5_demo_clims/cmip5.historical.CanCM4.r1i1p1.mon.pr.198101-200512.AC.v20200426.nc\n"
     ]
    },
    {
     "name": "stderr",
     "output_type": "stream",
     "text": [
      "INFO::2021-02-17 15:41::pcmdi_metrics:: Results saved to a json file: /Users/ordonez4/Documents/git/pcmdi_metrics/doc/jupyter/Demo/demo_output/monsoon_wang/monsoon_wang.json\n"
     ]
    }
   ],
   "source": [
    "%%bash\n",
    "mpindex_compute.py -p basic_monsoon_wang_param.py"
   ]
  },
  {
   "cell_type": "code",
   "execution_count": 4,
   "metadata": {},
   "outputs": [
    {
     "name": "stdout",
     "output_type": "stream",
     "text": [
      "JSON OUTPUT:\n",
      "{\n",
      "    \"provenance\": {\n",
      "        \"platform\": {\n",
      "            \"OS\": \"Darwin\",\n",
      "            \"Version\": \"19.6.0\",\n",
      "            \"Name\": \"ml-9635737.llnl.gov\"\n",
      "        },\n",
      "        \"userId\": \"ordonez4\",\n",
      "        \"osAccess\": false,\n",
      "        \"commandLine\": \"/Users/ordonez4/miniconda3/envs/test_pcmdi/bin/mpindex_compute.py -p basic_monsoon_wang_param.py\",\n",
      "        \"date\": \"2021-02-17 15:41:18\",\n",
      "        \"conda\": {\n",
      "            \"Version\": \"4.9.2\",\n",
      "            \"buildVersion\": \"not installed\",\n",
      "            \"PythonVersion\": \"3.7.7.final.0\",\n",
      "            \"Platform\": \"osx-64\"\n",
      "        },\n",
      "        \"packages\": {\n",
      "            \"cdat_info\": \"8.2.1\",\n",
      "            \"cdms\": \"3.1.5\",\n",
      "            \"cdp\": \"1.6.0\",\n",
      "            \"cdtime\": \"3.1.4\",\n",
      "            \"cdutil\": \"8.2.1\",\n",
      "            \"esmf\": \"8.0.1\",\n",
      "            \"esmpy\": \"8.0.1\",\n",
      "            \"genutil\": \"8.2.1\",\n",
      "            \"python\": \"3.8.6\",\n",
      "            \"blas\": \"0.3.10\",\n",
      "            \"lapack\": \"3.8.0\",\n",
      "            \"numpy\": \"1.19.2\",\n",
      "            \"vcs\": \"8.2.1\",\n",
      "            \"vtk\": \"8.2.0.8.2.1\",\n",
      "            \"clapack\": null,\n",
      "            \"mesalib\": null,\n",
      "            \"uvcdat\": null,\n",
      "            \"matplotlib\": \"3.3.2\",\n",
      "            \"scipy\": \"1.5.3\",\n",
      "            \"PMP\": \"v1.2.1-466-g6b9524f\",\n",
      "            \"PMPObs\": \"See 'References' key below, for detailed obs provenance information.\"\n",
      "        },\n",
      "        \"openGL\": {\n",
      "            \"vendor\": \"ATI Technologies Inc.\",\n",
      "            \"renderer\": \"AMD Radeon Pro 560X OpenGL Engine\",\n",
      "            \"version\": \"2.1 ATI-3.10.19\",\n",
      "            \"shading language version\": \"1.20\",\n",
      "            \"GLX\": {\n",
      "                \"server\": {\n",
      "                    \"vendor\": \"SGI\",\n",
      "                    \"version\": \"1.4\"\n",
      "                },\n",
      "                \"client\": {\n",
      "                    \"vendor\": \"Mesa Project and SGI\",\n",
      "                    \"version\": \"1.4\"\n",
      "                },\n",
      "                \"version\": \"1.4\"\n",
      "            }\n",
      "        },\n",
      "        \"history\": \"from user_choices import demo_data_directory, demo_output_directory\\nwith open(\\\"basic_monsoon_wang_param.py\\\") as f:\\n    print(f.read())\\n%%bash\\nmpindex_compute.py -p basic_monsoon_wang_param.py\\n\"\n",
      "    },\n",
      "    \"DISCLAIMER\": \"USER-NOTICE: The results in this file were produced with the PMP v1.1 (https://github.com/PCMDI/pcmdi_metrics). They are for research purposes only. They are subject to ongoing quality control and change as the PMP software advances, interpolation methods are modified, observational data sets are updated, problems with model data are corrected, etc. Use of these results for research (presentation, publications, etc.) should reference: Gleckler, P. J., C. Doutriaux, P. J. Durack, K. E. Taylor, Y. Zhang, and D. N. Williams, E. Mason, and J. Servonnat (2016), A more powerful reality test for climate models, Eos, 97, doi:10.1029/2016EO051663. If any problems are uncovered in using these results please contact the PMP development team at pcmdi-metrics@llnl.gov\\n\",\n",
      "    \"REFERENCE\": \"The statistics in this file are based on Wang, B., Kim, HJ., Kikuchi, K. et al. Clim Dyn (2011) 37: 941. doi:10.1007/s00382-010-0877-0\",\n",
      "    \"RESULTS\": {\n",
      "        \"ACCESS1-0\": {\n",
      "            \"AllMW\": {\n",
      "                \"cor\": \"0.801\",\n",
      "                \"rmsn\": \"0.614\",\n",
      "                \"threat_score\": \"0.534\"\n",
      "            },\n",
      "            \"AllM\": {\n",
      "                \"cor\": \"0.804\",\n",
      "                \"rmsn\": \"0.612\",\n",
      "                \"threat_score\": \"0.534\"\n",
      "            },\n",
      "            \"NAMM\": {\n",
      "                \"cor\": \"0.851\",\n",
      "                \"rmsn\": \"0.534\",\n",
      "                \"threat_score\": \"0.565\"\n",
      "            },\n",
      "            \"SAMM\": {\n",
      "                \"cor\": \"0.812\",\n",
      "                \"rmsn\": \"0.602\",\n",
      "                \"threat_score\": \"0.637\"\n",
      "            },\n",
      "            \"NAFM\": {\n",
      "                \"cor\": \"0.835\",\n",
      "                \"rmsn\": \"0.556\",\n",
      "                \"threat_score\": \"0.504\"\n",
      "            },\n",
      "            \"SAFM\": {\n",
      "                \"cor\": \"0.825\",\n",
      "                \"rmsn\": \"0.620\",\n",
      "                \"threat_score\": \"0.615\"\n",
      "            },\n",
      "            \"ASM\": {\n",
      "                \"cor\": \"0.819\",\n",
      "                \"rmsn\": \"0.585\",\n",
      "                \"threat_score\": \"0.494\"\n",
      "            },\n",
      "            \"AUSM\": {\n",
      "                \"cor\": \"0.850\",\n",
      "                \"rmsn\": \"0.573\",\n",
      "                \"threat_score\": \"0.507\"\n",
      "            }\n",
      "        },\n",
      "        \"CanCM4\": {\n",
      "            \"AllMW\": {\n",
      "                \"cor\": \"0.754\",\n",
      "                \"rmsn\": \"0.692\",\n",
      "                \"threat_score\": \"0.477\"\n",
      "            },\n",
      "            \"AllM\": {\n",
      "                \"cor\": \"0.757\",\n",
      "                \"rmsn\": \"0.691\",\n",
      "                \"threat_score\": \"0.477\"\n",
      "            },\n",
      "            \"NAMM\": {\n",
      "                \"cor\": \"0.788\",\n",
      "                \"rmsn\": \"0.656\",\n",
      "                \"threat_score\": \"0.474\"\n",
      "            },\n",
      "            \"SAMM\": {\n",
      "                \"cor\": \"0.770\",\n",
      "                \"rmsn\": \"0.698\",\n",
      "                \"threat_score\": \"0.459\"\n",
      "            },\n",
      "            \"NAFM\": {\n",
      "                \"cor\": \"0.775\",\n",
      "                \"rmsn\": \"0.649\",\n",
      "                \"threat_score\": \"0.409\"\n",
      "            },\n",
      "            \"SAFM\": {\n",
      "                \"cor\": \"0.782\",\n",
      "                \"rmsn\": \"0.673\",\n",
      "                \"threat_score\": \"0.645\"\n",
      "            },\n",
      "            \"ASM\": {\n",
      "                \"cor\": \"0.724\",\n",
      "                \"rmsn\": \"0.715\",\n",
      "                \"threat_score\": \"0.403\"\n",
      "            },\n",
      "            \"AUSM\": {\n",
      "                \"cor\": \"0.835\",\n",
      "                \"rmsn\": \"0.580\",\n",
      "                \"threat_score\": \"0.523\"\n",
      "            }\n",
      "        }\n",
      "    },\n",
      "    \"json_version\": 3.0,\n",
      "    \"json_structure\": [\n",
      "        \"model\",\n",
      "        \"domain\",\n",
      "        \"statistic\"\n",
      "    ],\n",
      "    \"YAML\": \"name: test_pcmdi\\nchannels:\\n  - pcmdi/label/nightly\\n  - cdat/label/v8.2.1\\n  - conda-forge\\n  - defaults\\ndependencies:\\n  - alabaster=0.7.12=py_0\\n  - appnope=0.1.0=py38h32f6830_1002\\n  - argon2-cffi=20.1.0=py38h4d0b108_2\\n  - async_generator=1.10=py_0\\n  - attrs=20.2.0=pyh9f0ad1d_0\\n  - babel=2.8.0=py_0\\n  - backcall=0.2.0=pyh9f0ad1d_0\\n  - backports=1.0=py_2\\n  - backports.functools_lru_cache=1.6.1=py_0\\n  - bleach=3.2.1=pyh9f0ad1d_0\\n  - bokeh=2.2.3=py38h32f6830_0\\n  - boost-cpp=1.70.0=hef959ae_3\\n  - brotlipy=0.7.0=py38h94c058a_1001\\n  - bzip2=1.0.8=haf1e3a3_3\\n  - c-ares=1.16.1=haf1e3a3_3\\n  - ca-certificates=2020.12.5=h033912b_0\\n  - cdat=8.2.1=0\\n  - cdat_info=8.2.1=pyh9f0ad1d_1\\n  - cdp=1.6.0=py_0\\n  - cdtime=3.1.4=py38hce8e687_2\\n  - cdutil=8.2.1=pyh9f0ad1d_0\\n  - certifi=2020.12.5=py38h50d1736_0\\n  - cffi=1.14.3=py38h9edaa1b_1\\n  - chardet=3.0.4=py38h5347e94_1008\\n  - cia=0.0.6=0\\n  - click=7.1.2=pyh9f0ad1d_0\\n  - cloudpickle=1.6.0=py_0\\n  - cryptography=3.2.1=py38h5c1d3f9_0\\n  - curl=7.71.1=hcb81553_8\\n  - cycler=0.10.0=py_2\\n  - cytoolz=0.11.0=py38h4d0b108_1\\n  - dask=2.30.0=py_0\\n  - dask-core=2.30.0=py_0\\n  - dbus=1.13.6=h0c50699_1\\n  - decorator=4.4.2=py_0\\n  - defusedxml=0.6.0=py_0\\n  - distarray=2.12.2=py_1\\n  - distributed=2.30.1=py38h50d1736_0\\n  - docutils=0.16=py38_1\\n  - dv3d=8.2.1=pyh9f0ad1d_0\\n  - entrypoints=0.3=py38h32f6830_1002\\n  - eofs=1.4.0=py_0\\n  - esmf=8.0.1=nompi_h5f50040_1\\n  - esmpy=8.0.1=nompi_py38h5410a82_2\\n  - expat=2.2.9=hb1e8313_2\\n  - ffmpeg=4.2.3=hd0c0d6a_0\\n  - flake8=3.8.4=py_0\\n  - freetype=2.10.4=h3f75d11_0\\n  - fsspec=0.8.4=py_0\\n  - future=0.18.2=py38h32f6830_2\\n  - g2clib=1.6.0=h4e57d6e_9\\n  - genutil=8.2.1=py38h174b24a_1\\n  - gettext=0.19.8.1=haf92f58_1004\\n  - ghostscript=9.53.3=hb1e8313_1\\n  - glib=2.66.2=h4961a3e_0\\n  - gmp=6.2.0=h2e338ed_4\\n  - gnutls=3.6.13=hc269f14_0\\n  - hdf4=4.2.13=h84186c3_1003\\n  - hdf5=1.10.6=nompi_hc457bb4_1110\\n  - heapdict=1.0.1=py_0\\n  - icu=67.1=hb1e8313_0\\n  - idna=2.10=pyh9f0ad1d_0\\n  - imagesize=1.2.0=py_0\\n  - importlib-metadata=2.0.0=py_1\\n  - importlib_metadata=2.0.0=1\\n  - ipykernel=5.3.4=py38h1cdfbd6_1\\n  - ipython=7.19.0=py38h9bb44b7_0\\n  - ipython_genutils=0.2.0=py_1\\n  - ipywidgets=7.5.1=pyh9f0ad1d_1\\n  - jasper=1.900.1=h636a363_1006\\n  - jedi=0.17.2=py38h32f6830_1\\n  - jinja2=2.11.2=pyh9f0ad1d_0\\n  - jpeg=9d=hbcb3906_0\\n  - json5=0.9.5=pyh9f0ad1d_0\\n  - jsoncpp=1.8.4=ha1b3eb9_1002\\n  - jsonschema=3.2.0=py_2\\n  - jupyter=1.0.0=py_2\\n  - jupyter_client=6.1.7=py_0\\n  - jupyter_console=6.2.0=py_0\\n  - jupyter_core=4.6.3=py38h32f6830_2\\n  - jupyterlab=2.2.9=py_0\\n  - jupyterlab_pygments=0.1.2=pyh9f0ad1d_0\\n  - jupyterlab_server=1.2.0=py_0\\n  - kiwisolver=1.3.1=py38h9250c2b_0\\n  - krb5=1.17.1=h75d18d8_3\\n  - lame=3.100=h1de35cc_1001\\n  - lazy-object-proxy=1.5.1=py38h4d0b108_1\\n  - lcms2=2.11=h11f7e16_1\\n  - libblas=3.8.0=17_openblas\\n  - libcblas=3.8.0=17_openblas\\n  - libcdms=3.1.2=h4ce5ef6_113\\n  - libcf=1.0.3=py38hbd402a7_109\\n  - libclang=10.0.1=default_hf57f61e_1\\n  - libcurl=7.71.1=h9bf37e3_8\\n  - libcxx=11.0.0=h439d374_0\\n  - libdrs=3.1.2=h7fe0f22_113\\n  - libdrs_f=3.1.2=h2e894aa_111\\n  - libedit=3.1.20191231=h0678c8f_2\\n  - libev=4.33=haf1e3a3_1\\n  - libffi=3.2.1=hb1e8313_1007\\n  - libgfortran=4.0.0=h50e675f_13\\n  - libgfortran4=7.5.0=h50e675f_13\\n  - libglib=2.66.2=h2fc9090_0\\n  - libiconv=1.16=haf1e3a3_0\\n  - liblapack=3.8.0=17_openblas\\n  - libllvm10=10.0.1=h009f743_3\\n  - libnetcdf=4.7.4=nompi_h4844aed_106\\n  - libnghttp2=1.41.0=h7580e61_2\\n  - libopenblas=0.3.10=openmp_h63d9170_5\\n  - libpng=1.6.37=h7cec526_2\\n  - libpq=12.3=haa216e0_2\\n  - libsodium=1.0.18=haf1e3a3_1\\n  - libssh2=1.9.0=h8a08a2b_5\\n  - libtiff=4.1.0=hca7d577_6\\n  - libuuid=2.32.1=h1de35cc_1000\\n  - libwebp-base=1.1.0=hbcb3906_3\\n  - libxml2=2.9.10=h2c6e4a5_2\\n  - llvm-openmp=11.0.0=h73239a0_1\\n  - locket=0.2.0=py_2\\n  - lz4-c=1.9.2=hb1e8313_3\\n  - markupsafe=1.1.1=py38h94c058a_2\\n  - matplotlib=3.3.2=py38h32f6830_1\\n  - matplotlib-base=3.3.2=py38had0acaf_1\\n  - mccabe=0.6.1=py_1\\n  - mistune=0.8.4=py38h4d0b108_1002\\n  - msgpack-python=1.0.0=py38h02bb52f_2\\n  - mysql-common=8.0.21=2\\n  - mysql-libs=8.0.21=hfb8f7af_2\\n  - nb_conda=2.2.1=py38h32f6830_4\\n  - nb_conda_kernels=2.3.0=py38h32f6830_3\\n  - nbclient=0.5.1=py_0\\n  - nbconvert=6.0.7=py38h32f6830_2\\n  - nbformat=5.0.8=py_0\\n  - ncurses=6.2=h2e338ed_3\\n  - nest-asyncio=1.4.2=pyhd8ed1ab_0\\n  - netcdf-fortran=4.5.3=nompi_haced683_101\\n  - nettle=3.4.1=h3efe00b_1002\\n  - nose=1.3.7=py_1006\\n  - notebook=6.1.4=py38h32f6830_1\\n  - nspr=4.29=hb1e8313_1\\n  - nss=3.47=hc0980d9_0\\n  - numpy=1.19.2=py38ha98150c_1\\n  - olefile=0.46=pyh9f0ad1d_1\\n  - openblas=0.3.10=openmp_h3f95352_5\\n  - openh264=2.1.1=hd174df1_0\\n  - openssl=1.1.1i=h35c211d_0\\n  - output_viewer=1.3.1=py_1\\n  - packaging=20.4=pyh9f0ad1d_0\\n  - pandas=1.1.4=py38hcf432d8_0\\n  - pandoc=2.11.0.4=h22f3db7_0\\n  - pandocfilters=1.4.2=py_1\\n  - parso=0.7.1=pyh9f0ad1d_0\\n  - partd=1.1.0=py_0\\n  - pathlib=1.0.1=py38_2\\n  - pcmdi_metrics=1.2.2020.10.31.04.09.g04689b5=pyh9656e83_0\\n  - pcre=8.44=hb1e8313_0\\n  - pexpect=4.8.0=pyh9f0ad1d_2\\n  - pickleshare=0.7.5=py_1003\\n  - pillow=8.0.1=py38hef457fe_0\\n  - pip=20.2.4=py_0\\n  - proj4=6.1.1=hca663eb_1\\n  - prometheus_client=0.8.0=pyh9f0ad1d_0\\n  - prompt-toolkit=3.0.8=py_0\\n  - prompt_toolkit=3.0.8=0\\n  - psutil=5.7.3=py38h94c058a_0\\n  - ptyprocess=0.6.0=py_1001\\n  - pycodestyle=2.6.0=pyh9f0ad1d_0\\n  - pycparser=2.20=pyh9f0ad1d_2\\n  - pyflakes=2.2.0=pyh9f0ad1d_0\\n  - pygments=2.7.2=py_0\\n  - pyopenssl=19.1.0=py_1\\n  - pyparsing=2.4.7=pyh9f0ad1d_0\\n  - pyqt=5.12.3=py38hca2ab18_4\\n  - pyrsistent=0.17.3=py38h4d0b108_1\\n  - pysocks=1.7.1=py38h5347e94_2\\n  - python=3.8.6=hcfdab8c_0_cpython\\n  - python-dateutil=2.8.1=py_0\\n  - python_abi=3.8=1_cp38\\n  - pytz=2020.4=pyhd8ed1ab_0\\n  - pyyaml=5.3.1=py38h94c058a_1\\n  - pyzmq=19.0.2=py38h2c785a9_2\\n  - qt=5.12.9=h717870c_0\\n  - qtconsole=4.7.7=pyh9f0ad1d_0\\n  - qtpy=1.9.0=py_0\\n  - readline=8.0=h0678c8f_2\\n  - requests=2.24.0=pyh9f0ad1d_0\\n  - scipy=1.5.3=py38h352ea5d_0\\n  - send2trash=1.5.0=py_0\\n  - setuptools=49.6.0=py38h5347e94_2\\n  - six=1.15.0=pyh9f0ad1d_0\\n  - snowballstemmer=2.0.0=py_0\\n  - sortedcontainers=2.2.2=pyh9f0ad1d_0\\n  - sphinx=3.2.1=py_0\\n  - sphinx_rtd_theme=0.4.3=py_0\\n  - sphinxcontrib-applehelp=1.0.2=py_0\\n  - sphinxcontrib-devhelp=1.0.2=py_0\\n  - sphinxcontrib-htmlhelp=1.0.3=py_0\\n  - sphinxcontrib-jsmath=1.0.1=py_0\\n  - sphinxcontrib-qthelp=1.0.3=py_0\\n  - sphinxcontrib-serializinghtml=1.1.4=py_0\\n  - sqlite=3.33.0=h960bd1c_1\\n  - tbb=2019.9=ha1b3eb9_1\\n  - tbb-devel=2019.9=ha1b3eb9_1\\n  - tblib=1.6.0=py_0\\n  - terminado=0.9.1=py38h32f6830_1\\n  - testpath=0.4.4=py_0\\n  - testsrunner=8.2.1.rc1=pyh9f0ad1d_0\\n  - tk=8.6.10=hb0a8c7a_1\\n  - toolz=0.11.1=py_0\\n  - tornado=6.1=py38h7e3306e_0\\n  - traitlets=5.0.5=py_0\\n  - typing_extensions=3.7.4.3=py_0\\n  - udunits2=2.2.27.6=h776b7f1_1001\\n  - urllib3=1.25.11=py_0\\n  - vcs=8.2.1=pyh9f0ad1d_0\\n  - vcsaddons=8.2.1=py38h4d0b108_0\\n  - vtk-cdat=8.2.0.8.2.1=py38h1623a20_0\\n  - wcwidth=0.2.5=pyh9f0ad1d_2\\n  - webencodings=0.5.1=py_1\\n  - wheel=0.35.1=pyh9f0ad1d_0\\n  - widgetsnbextension=3.5.1=py38h32f6830_4\\n  - wk=8.2.1=pyh9f0ad1d_0\\n  - x264=1!152.20180806=h1de35cc_0\\n  - xarray=0.16.1=py_0\\n  - xz=5.2.5=haf1e3a3_1\\n  - yaml=0.2.5=haf1e3a3_0\\n  - zeromq=4.3.3=hb1e8313_2\\n  - zict=2.0.0=py_0\\n  - zipp=3.4.0=py_0\\n  - zlib=1.2.11=h7795811_1010\\n  - zstd=1.4.5=h289c70a_2\\n  - pip:\\n    - cdms2==3.1.5\\n    - pyqt5-sip==4.19.18\\n    - pyqtchart==5.12\\n    - pyqtwebengine==5.12.1\\n    - regrid2==3.1.5\\nprefix: /Users/ordonez4/miniconda3/envs/test_pcmdi\\n\"\n",
      "}\n"
     ]
    }
   ],
   "source": [
    "import os\n",
    "with open(os.path.join(demo_output_directory,\"monsoon_wang/monsoon_wang.json\")) as f:\n",
    "    print(\"JSON OUTPUT:\\n{}\".format(f.read()))"
   ]
  },
  {
   "cell_type": "markdown",
   "metadata": {},
   "source": [
    "### Command line options"
   ]
  },
  {
   "cell_type": "markdown",
   "metadata": {},
   "source": [
    "The Monsoon (Wang) driver is simple and does not require many settings. These are the required parameters:  \n",
    "```  \n",
    "modnames   \n",
    "test_data_path  \n",
    "reference_data_path   \n",
    "results_dir  \n",
    "```  \n",
    "\n",
    "For a full look at the driver options available, use `mpindex_compute.py --help` in the command line.\n",
    "\n",
    "Important note about `threshold`: The default threshold for the threat score is 2.5 mm/day, but the Monsoon (Wang) driver assumes that the precipitation inputs are in units of kg m-2 s-1 and adjust the threshold value accordingly. **If your precipitation data uses units of mm/day, set `threshold = 2.5`.**"
   ]
  },
  {
   "cell_type": "markdown",
   "metadata": {},
   "source": [
    "The following example shows how to use the command line to specify one model, increase the threshold to 3 mm/day (for data in kg m-2 s-1), change the name of the output json (`outnj`), and specify the model experiment and MIP:"
   ]
  },
  {
   "cell_type": "code",
   "execution_count": 5,
   "metadata": {},
   "outputs": [
    {
     "name": "stdout",
     "output_type": "stream",
     "text": [
      "Deprecation warning: please use 'import pcmdi_metrics.driver.pmp_parser.PMPParser'\n",
      "******************************************************************************************\n",
      "demo_data/CMIP5_demo_clims/cmip5.historical.ACCESS1-0.r1i1p1.mon.pr.198101-200512.AC.v20200426.nc\n",
      "\n",
      "WARNING: Edge bounds are the same. The results of conservative regridding will not conserve.\n",
      "coordMin =  -90.00, boundMin =  -90.00, coordMax =   90.00, boundMax =   90.00\n",
      "              \n",
      "\n",
      "WARNING: Edge bounds are the same. The results of conservative regridding will not conserve.\n",
      "coordMin =  -90.00, boundMin =  -90.00, coordMax =   90.00, boundMax =   90.00\n",
      "              \n"
     ]
    },
    {
     "name": "stderr",
     "output_type": "stream",
     "text": [
      "INFO::2021-02-17 15:41::pcmdi_metrics:: Results saved to a json file: /Users/ordonez4/Documents/git/pcmdi_metrics/doc/jupyter/Demo/demo_output/monsoon_wang/monsoon_wang_ex2.json\n"
     ]
    }
   ],
   "source": [
    "%%bash\n",
    "mpindex_compute.py -p basic_monsoon_wang_param.py \\\n",
    "--modnames \"['ACCESS1-0']\" \\\n",
    "--outnj \"monsoon_wang_ex2\" \\\n",
    "--experiment historical \\\n",
    "--MIP cmip5 \\\n",
    "--threshold 0.00003472222"
   ]
  },
  {
   "cell_type": "markdown",
   "metadata": {},
   "source": [
    "Opening the new results file, you will find that the threat_scores have changed slightly as a result of changing the threshold."
   ]
  },
  {
   "cell_type": "code",
   "execution_count": 6,
   "metadata": {},
   "outputs": [
    {
     "name": "stdout",
     "output_type": "stream",
     "text": [
      "JSON OUTPUT:\n",
      "{\n",
      "    \"provenance\": {\n",
      "        \"platform\": {\n",
      "            \"OS\": \"Darwin\",\n",
      "            \"Version\": \"19.6.0\",\n",
      "            \"Name\": \"ml-9635737.llnl.gov\"\n",
      "        },\n",
      "        \"userId\": \"ordonez4\",\n",
      "        \"osAccess\": false,\n",
      "        \"commandLine\": \"/Users/ordonez4/miniconda3/envs/test_pcmdi/bin/mpindex_compute.py -p basic_monsoon_wang_param.py --modnames ['ACCESS1-0'] --outnj monsoon_wang_ex2 --experiment historical --MIP cmip5 --threshold 0.00003472222\",\n",
      "        \"date\": \"2021-02-17 15:41:29\",\n",
      "        \"conda\": {\n",
      "            \"Version\": \"4.9.2\",\n",
      "            \"buildVersion\": \"not installed\",\n",
      "            \"PythonVersion\": \"3.7.7.final.0\",\n",
      "            \"Platform\": \"osx-64\"\n",
      "        },\n",
      "        \"packages\": {\n",
      "            \"cdat_info\": \"8.2.1\",\n",
      "            \"cdms\": \"3.1.5\",\n",
      "            \"cdp\": \"1.6.0\",\n",
      "            \"cdtime\": \"3.1.4\",\n",
      "            \"cdutil\": \"8.2.1\",\n",
      "            \"esmf\": \"8.0.1\",\n",
      "            \"esmpy\": \"8.0.1\",\n",
      "            \"genutil\": \"8.2.1\",\n",
      "            \"python\": \"3.8.6\",\n",
      "            \"blas\": \"0.3.10\",\n",
      "            \"lapack\": \"3.8.0\",\n",
      "            \"numpy\": \"1.19.2\",\n",
      "            \"vcs\": \"8.2.1\",\n",
      "            \"vtk\": \"8.2.0.8.2.1\",\n",
      "            \"clapack\": null,\n",
      "            \"mesalib\": null,\n",
      "            \"uvcdat\": null,\n",
      "            \"matplotlib\": \"3.3.2\",\n",
      "            \"scipy\": \"1.5.3\",\n",
      "            \"PMP\": \"v1.2.1-466-g6b9524f\",\n",
      "            \"PMPObs\": \"See 'References' key below, for detailed obs provenance information.\"\n",
      "        },\n",
      "        \"openGL\": {\n",
      "            \"vendor\": \"ATI Technologies Inc.\",\n",
      "            \"renderer\": \"AMD Radeon Pro 560X OpenGL Engine\",\n",
      "            \"version\": \"2.1 ATI-3.10.19\",\n",
      "            \"shading language version\": \"1.20\",\n",
      "            \"GLX\": {\n",
      "                \"server\": {\n",
      "                    \"vendor\": \"SGI\",\n",
      "                    \"version\": \"1.4\"\n",
      "                },\n",
      "                \"client\": {\n",
      "                    \"vendor\": \"Mesa Project and SGI\",\n",
      "                    \"version\": \"1.4\"\n",
      "                },\n",
      "                \"version\": \"1.4\"\n",
      "            }\n",
      "        },\n",
      "        \"history\": \"from user_choices import demo_data_directory, demo_output_directory\\nwith open(\\\"basic_monsoon_wang_param.py\\\") as f:\\n    print(f.read())\\n%%bash\\nmpindex_compute.py -p basic_monsoon_wang_param.py\\nimport os\\nwith open(os.path.join(demo_output_directory,\\\"monsoon_wang/monsoon_wang.json\\\")) as f:\\n    print(\\\"JSON OUTPUT:\\\\n{}\\\".format(f.read()))\\n%%bash\\nmpindex_compute.py -p basic_monsoon_wang_param.py \\\\\\n--modnames \\\"['ACCESS1-0']\\\" \\\\\\n--outnj \\\"monsoon_wang_ex2\\\" \\\\\\n--experiment historical \\\\\\n--MIP cmip5 \\\\\\n--threshold 0.00003472222\\n\"\n",
      "    },\n",
      "    \"DISCLAIMER\": \"USER-NOTICE: The results in this file were produced with the PMP v1.1 (https://github.com/PCMDI/pcmdi_metrics). They are for research purposes only. They are subject to ongoing quality control and change as the PMP software advances, interpolation methods are modified, observational data sets are updated, problems with model data are corrected, etc. Use of these results for research (presentation, publications, etc.) should reference: Gleckler, P. J., C. Doutriaux, P. J. Durack, K. E. Taylor, Y. Zhang, and D. N. Williams, E. Mason, and J. Servonnat (2016), A more powerful reality test for climate models, Eos, 97, doi:10.1029/2016EO051663. If any problems are uncovered in using these results please contact the PMP development team at pcmdi-metrics@llnl.gov\\n\",\n",
      "    \"REFERENCE\": \"The statistics in this file are based on Wang, B., Kim, HJ., Kikuchi, K. et al. Clim Dyn (2011) 37: 941. doi:10.1007/s00382-010-0877-0\",\n",
      "    \"RESULTS\": {\n",
      "        \"ACCESS1-0\": {\n",
      "            \"AllMW\": {\n",
      "                \"cor\": \"0.801\",\n",
      "                \"rmsn\": \"0.614\",\n",
      "                \"threat_score\": \"0.506\"\n",
      "            },\n",
      "            \"AllM\": {\n",
      "                \"cor\": \"0.804\",\n",
      "                \"rmsn\": \"0.612\",\n",
      "                \"threat_score\": \"0.506\"\n",
      "            },\n",
      "            \"NAMM\": {\n",
      "                \"cor\": \"0.851\",\n",
      "                \"rmsn\": \"0.534\",\n",
      "                \"threat_score\": \"0.517\"\n",
      "            },\n",
      "            \"SAMM\": {\n",
      "                \"cor\": \"0.812\",\n",
      "                \"rmsn\": \"0.602\",\n",
      "                \"threat_score\": \"0.623\"\n",
      "            },\n",
      "            \"NAFM\": {\n",
      "                \"cor\": \"0.835\",\n",
      "                \"rmsn\": \"0.556\",\n",
      "                \"threat_score\": \"0.491\"\n",
      "            },\n",
      "            \"SAFM\": {\n",
      "                \"cor\": \"0.825\",\n",
      "                \"rmsn\": \"0.620\",\n",
      "                \"threat_score\": \"0.623\"\n",
      "            },\n",
      "            \"ASM\": {\n",
      "                \"cor\": \"0.819\",\n",
      "                \"rmsn\": \"0.585\",\n",
      "                \"threat_score\": \"0.493\"\n",
      "            },\n",
      "            \"AUSM\": {\n",
      "                \"cor\": \"0.850\",\n",
      "                \"rmsn\": \"0.573\",\n",
      "                \"threat_score\": \"0.459\"\n",
      "            }\n",
      "        }\n",
      "    },\n",
      "    \"json_version\": 3.0,\n",
      "    \"json_structure\": [\n",
      "        \"model\",\n",
      "        \"domain\",\n",
      "        \"statistic\"\n",
      "    ],\n",
      "    \"YAML\": \"name: test_pcmdi\\nchannels:\\n  - pcmdi/label/nightly\\n  - cdat/label/v8.2.1\\n  - conda-forge\\n  - defaults\\ndependencies:\\n  - alabaster=0.7.12=py_0\\n  - appnope=0.1.0=py38h32f6830_1002\\n  - argon2-cffi=20.1.0=py38h4d0b108_2\\n  - async_generator=1.10=py_0\\n  - attrs=20.2.0=pyh9f0ad1d_0\\n  - babel=2.8.0=py_0\\n  - backcall=0.2.0=pyh9f0ad1d_0\\n  - backports=1.0=py_2\\n  - backports.functools_lru_cache=1.6.1=py_0\\n  - bleach=3.2.1=pyh9f0ad1d_0\\n  - bokeh=2.2.3=py38h32f6830_0\\n  - boost-cpp=1.70.0=hef959ae_3\\n  - brotlipy=0.7.0=py38h94c058a_1001\\n  - bzip2=1.0.8=haf1e3a3_3\\n  - c-ares=1.16.1=haf1e3a3_3\\n  - ca-certificates=2020.12.5=h033912b_0\\n  - cdat=8.2.1=0\\n  - cdat_info=8.2.1=pyh9f0ad1d_1\\n  - cdp=1.6.0=py_0\\n  - cdtime=3.1.4=py38hce8e687_2\\n  - cdutil=8.2.1=pyh9f0ad1d_0\\n  - certifi=2020.12.5=py38h50d1736_0\\n  - cffi=1.14.3=py38h9edaa1b_1\\n  - chardet=3.0.4=py38h5347e94_1008\\n  - cia=0.0.6=0\\n  - click=7.1.2=pyh9f0ad1d_0\\n  - cloudpickle=1.6.0=py_0\\n  - cryptography=3.2.1=py38h5c1d3f9_0\\n  - curl=7.71.1=hcb81553_8\\n  - cycler=0.10.0=py_2\\n  - cytoolz=0.11.0=py38h4d0b108_1\\n  - dask=2.30.0=py_0\\n  - dask-core=2.30.0=py_0\\n  - dbus=1.13.6=h0c50699_1\\n  - decorator=4.4.2=py_0\\n  - defusedxml=0.6.0=py_0\\n  - distarray=2.12.2=py_1\\n  - distributed=2.30.1=py38h50d1736_0\\n  - docutils=0.16=py38_1\\n  - dv3d=8.2.1=pyh9f0ad1d_0\\n  - entrypoints=0.3=py38h32f6830_1002\\n  - eofs=1.4.0=py_0\\n  - esmf=8.0.1=nompi_h5f50040_1\\n  - esmpy=8.0.1=nompi_py38h5410a82_2\\n  - expat=2.2.9=hb1e8313_2\\n  - ffmpeg=4.2.3=hd0c0d6a_0\\n  - flake8=3.8.4=py_0\\n  - freetype=2.10.4=h3f75d11_0\\n  - fsspec=0.8.4=py_0\\n  - future=0.18.2=py38h32f6830_2\\n  - g2clib=1.6.0=h4e57d6e_9\\n  - genutil=8.2.1=py38h174b24a_1\\n  - gettext=0.19.8.1=haf92f58_1004\\n  - ghostscript=9.53.3=hb1e8313_1\\n  - glib=2.66.2=h4961a3e_0\\n  - gmp=6.2.0=h2e338ed_4\\n  - gnutls=3.6.13=hc269f14_0\\n  - hdf4=4.2.13=h84186c3_1003\\n  - hdf5=1.10.6=nompi_hc457bb4_1110\\n  - heapdict=1.0.1=py_0\\n  - icu=67.1=hb1e8313_0\\n  - idna=2.10=pyh9f0ad1d_0\\n  - imagesize=1.2.0=py_0\\n  - importlib-metadata=2.0.0=py_1\\n  - importlib_metadata=2.0.0=1\\n  - ipykernel=5.3.4=py38h1cdfbd6_1\\n  - ipython=7.19.0=py38h9bb44b7_0\\n  - ipython_genutils=0.2.0=py_1\\n  - ipywidgets=7.5.1=pyh9f0ad1d_1\\n  - jasper=1.900.1=h636a363_1006\\n  - jedi=0.17.2=py38h32f6830_1\\n  - jinja2=2.11.2=pyh9f0ad1d_0\\n  - jpeg=9d=hbcb3906_0\\n  - json5=0.9.5=pyh9f0ad1d_0\\n  - jsoncpp=1.8.4=ha1b3eb9_1002\\n  - jsonschema=3.2.0=py_2\\n  - jupyter=1.0.0=py_2\\n  - jupyter_client=6.1.7=py_0\\n  - jupyter_console=6.2.0=py_0\\n  - jupyter_core=4.6.3=py38h32f6830_2\\n  - jupyterlab=2.2.9=py_0\\n  - jupyterlab_pygments=0.1.2=pyh9f0ad1d_0\\n  - jupyterlab_server=1.2.0=py_0\\n  - kiwisolver=1.3.1=py38h9250c2b_0\\n  - krb5=1.17.1=h75d18d8_3\\n  - lame=3.100=h1de35cc_1001\\n  - lazy-object-proxy=1.5.1=py38h4d0b108_1\\n  - lcms2=2.11=h11f7e16_1\\n  - libblas=3.8.0=17_openblas\\n  - libcblas=3.8.0=17_openblas\\n  - libcdms=3.1.2=h4ce5ef6_113\\n  - libcf=1.0.3=py38hbd402a7_109\\n  - libclang=10.0.1=default_hf57f61e_1\\n  - libcurl=7.71.1=h9bf37e3_8\\n  - libcxx=11.0.0=h439d374_0\\n  - libdrs=3.1.2=h7fe0f22_113\\n  - libdrs_f=3.1.2=h2e894aa_111\\n  - libedit=3.1.20191231=h0678c8f_2\\n  - libev=4.33=haf1e3a3_1\\n  - libffi=3.2.1=hb1e8313_1007\\n  - libgfortran=4.0.0=h50e675f_13\\n  - libgfortran4=7.5.0=h50e675f_13\\n  - libglib=2.66.2=h2fc9090_0\\n  - libiconv=1.16=haf1e3a3_0\\n  - liblapack=3.8.0=17_openblas\\n  - libllvm10=10.0.1=h009f743_3\\n  - libnetcdf=4.7.4=nompi_h4844aed_106\\n  - libnghttp2=1.41.0=h7580e61_2\\n  - libopenblas=0.3.10=openmp_h63d9170_5\\n  - libpng=1.6.37=h7cec526_2\\n  - libpq=12.3=haa216e0_2\\n  - libsodium=1.0.18=haf1e3a3_1\\n  - libssh2=1.9.0=h8a08a2b_5\\n  - libtiff=4.1.0=hca7d577_6\\n  - libuuid=2.32.1=h1de35cc_1000\\n  - libwebp-base=1.1.0=hbcb3906_3\\n  - libxml2=2.9.10=h2c6e4a5_2\\n  - llvm-openmp=11.0.0=h73239a0_1\\n  - locket=0.2.0=py_2\\n  - lz4-c=1.9.2=hb1e8313_3\\n  - markupsafe=1.1.1=py38h94c058a_2\\n  - matplotlib=3.3.2=py38h32f6830_1\\n  - matplotlib-base=3.3.2=py38had0acaf_1\\n  - mccabe=0.6.1=py_1\\n  - mistune=0.8.4=py38h4d0b108_1002\\n  - msgpack-python=1.0.0=py38h02bb52f_2\\n  - mysql-common=8.0.21=2\\n  - mysql-libs=8.0.21=hfb8f7af_2\\n  - nb_conda=2.2.1=py38h32f6830_4\\n  - nb_conda_kernels=2.3.0=py38h32f6830_3\\n  - nbclient=0.5.1=py_0\\n  - nbconvert=6.0.7=py38h32f6830_2\\n  - nbformat=5.0.8=py_0\\n  - ncurses=6.2=h2e338ed_3\\n  - nest-asyncio=1.4.2=pyhd8ed1ab_0\\n  - netcdf-fortran=4.5.3=nompi_haced683_101\\n  - nettle=3.4.1=h3efe00b_1002\\n  - nose=1.3.7=py_1006\\n  - notebook=6.1.4=py38h32f6830_1\\n  - nspr=4.29=hb1e8313_1\\n  - nss=3.47=hc0980d9_0\\n  - numpy=1.19.2=py38ha98150c_1\\n  - olefile=0.46=pyh9f0ad1d_1\\n  - openblas=0.3.10=openmp_h3f95352_5\\n  - openh264=2.1.1=hd174df1_0\\n  - openssl=1.1.1i=h35c211d_0\\n  - output_viewer=1.3.1=py_1\\n  - packaging=20.4=pyh9f0ad1d_0\\n  - pandas=1.1.4=py38hcf432d8_0\\n  - pandoc=2.11.0.4=h22f3db7_0\\n  - pandocfilters=1.4.2=py_1\\n  - parso=0.7.1=pyh9f0ad1d_0\\n  - partd=1.1.0=py_0\\n  - pathlib=1.0.1=py38_2\\n  - pcmdi_metrics=1.2.2020.10.31.04.09.g04689b5=pyh9656e83_0\\n  - pcre=8.44=hb1e8313_0\\n  - pexpect=4.8.0=pyh9f0ad1d_2\\n  - pickleshare=0.7.5=py_1003\\n  - pillow=8.0.1=py38hef457fe_0\\n  - pip=20.2.4=py_0\\n  - proj4=6.1.1=hca663eb_1\\n  - prometheus_client=0.8.0=pyh9f0ad1d_0\\n  - prompt-toolkit=3.0.8=py_0\\n  - prompt_toolkit=3.0.8=0\\n  - psutil=5.7.3=py38h94c058a_0\\n  - ptyprocess=0.6.0=py_1001\\n  - pycodestyle=2.6.0=pyh9f0ad1d_0\\n  - pycparser=2.20=pyh9f0ad1d_2\\n  - pyflakes=2.2.0=pyh9f0ad1d_0\\n  - pygments=2.7.2=py_0\\n  - pyopenssl=19.1.0=py_1\\n  - pyparsing=2.4.7=pyh9f0ad1d_0\\n  - pyqt=5.12.3=py38hca2ab18_4\\n  - pyrsistent=0.17.3=py38h4d0b108_1\\n  - pysocks=1.7.1=py38h5347e94_2\\n  - python=3.8.6=hcfdab8c_0_cpython\\n  - python-dateutil=2.8.1=py_0\\n  - python_abi=3.8=1_cp38\\n  - pytz=2020.4=pyhd8ed1ab_0\\n  - pyyaml=5.3.1=py38h94c058a_1\\n  - pyzmq=19.0.2=py38h2c785a9_2\\n  - qt=5.12.9=h717870c_0\\n  - qtconsole=4.7.7=pyh9f0ad1d_0\\n  - qtpy=1.9.0=py_0\\n  - readline=8.0=h0678c8f_2\\n  - requests=2.24.0=pyh9f0ad1d_0\\n  - scipy=1.5.3=py38h352ea5d_0\\n  - send2trash=1.5.0=py_0\\n  - setuptools=49.6.0=py38h5347e94_2\\n  - six=1.15.0=pyh9f0ad1d_0\\n  - snowballstemmer=2.0.0=py_0\\n  - sortedcontainers=2.2.2=pyh9f0ad1d_0\\n  - sphinx=3.2.1=py_0\\n  - sphinx_rtd_theme=0.4.3=py_0\\n  - sphinxcontrib-applehelp=1.0.2=py_0\\n  - sphinxcontrib-devhelp=1.0.2=py_0\\n  - sphinxcontrib-htmlhelp=1.0.3=py_0\\n  - sphinxcontrib-jsmath=1.0.1=py_0\\n  - sphinxcontrib-qthelp=1.0.3=py_0\\n  - sphinxcontrib-serializinghtml=1.1.4=py_0\\n  - sqlite=3.33.0=h960bd1c_1\\n  - tbb=2019.9=ha1b3eb9_1\\n  - tbb-devel=2019.9=ha1b3eb9_1\\n  - tblib=1.6.0=py_0\\n  - terminado=0.9.1=py38h32f6830_1\\n  - testpath=0.4.4=py_0\\n  - testsrunner=8.2.1.rc1=pyh9f0ad1d_0\\n  - tk=8.6.10=hb0a8c7a_1\\n  - toolz=0.11.1=py_0\\n  - tornado=6.1=py38h7e3306e_0\\n  - traitlets=5.0.5=py_0\\n  - typing_extensions=3.7.4.3=py_0\\n  - udunits2=2.2.27.6=h776b7f1_1001\\n  - urllib3=1.25.11=py_0\\n  - vcs=8.2.1=pyh9f0ad1d_0\\n  - vcsaddons=8.2.1=py38h4d0b108_0\\n  - vtk-cdat=8.2.0.8.2.1=py38h1623a20_0\\n  - wcwidth=0.2.5=pyh9f0ad1d_2\\n  - webencodings=0.5.1=py_1\\n  - wheel=0.35.1=pyh9f0ad1d_0\\n  - widgetsnbextension=3.5.1=py38h32f6830_4\\n  - wk=8.2.1=pyh9f0ad1d_0\\n  - x264=1!152.20180806=h1de35cc_0\\n  - xarray=0.16.1=py_0\\n  - xz=5.2.5=haf1e3a3_1\\n  - yaml=0.2.5=haf1e3a3_0\\n  - zeromq=4.3.3=hb1e8313_2\\n  - zict=2.0.0=py_0\\n  - zipp=3.4.0=py_0\\n  - zlib=1.2.11=h7795811_1010\\n  - zstd=1.4.5=h289c70a_2\\n  - pip:\\n    - cdms2==3.1.5\\n    - pyqt5-sip==4.19.18\\n    - pyqtchart==5.12\\n    - pyqtwebengine==5.12.1\\n    - regrid2==3.1.5\\nprefix: /Users/ordonez4/miniconda3/envs/test_pcmdi\\n\"\n",
      "}\n"
     ]
    }
   ],
   "source": [
    "with open(os.path.join(demo_output_directory,\"monsoon_wang/monsoon_wang_ex2.json\")) as f:\n",
    "    print(\"JSON OUTPUT:\\n{}\".format(f.read()))"
   ]
  },
  {
   "cell_type": "code",
   "execution_count": null,
   "metadata": {},
   "outputs": [],
   "source": []
  }
 ],
 "metadata": {
  "kernelspec": {
   "display_name": "Python 3",
   "language": "python",
   "name": "python3"
  },
  "language_info": {
   "codemirror_mode": {
    "name": "ipython",
    "version": 3
   },
   "file_extension": ".py",
   "mimetype": "text/x-python",
   "name": "python",
   "nbconvert_exporter": "python",
   "pygments_lexer": "ipython3",
   "version": "3.8.6"
  },
  "selected_variables": [],
  "vcdat_file_path": "",
  "vcdat_loaded_variables": [],
  "vcdat_variable_info": {}
 },
 "nbformat": 4,
 "nbformat_minor": 4
}
