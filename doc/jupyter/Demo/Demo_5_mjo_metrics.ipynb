{
 "cells": [
  {
   "cell_type": "markdown",
   "metadata": {},
   "source": [
    "### Madden-Julian Oscillation (MJO) Metrics\n",
    "\n",
    "More information about these metrics can be found on the [README](https://github.com/PCMDI/pcmdi_metrics/tree/master/pcmdi_metrics/mjo)."
   ]
  },
  {
   "cell_type": "code",
   "execution_count": 1,
   "metadata": {},
   "outputs": [],
   "source": [
    "from user_choices import demo_data_directory, demo_output_directory"
   ]
  },
  {
   "cell_type": "code",
   "execution_count": 2,
   "metadata": {},
   "outputs": [],
   "source": [
    "with open(\"basic_mjo_param.py\") as f:\n",
    "    print(f.read())"
   ]
  },
  {
   "cell_type": "code",
   "execution_count": 7,
   "metadata": {},
   "outputs": [
    {
     "name": "stdout",
     "output_type": "stream",
     "text": [
      "includeOBS: True\n",
      "models: ['ACCESS1-0', 'CanCM4']\n",
      "realization:  r1i1p1\n",
      "demo_output/mjo\n",
      "demo_output/mjo\n",
      "demo_output/mjo\n",
      "CMEC: False\n",
      "debug:  False\n",
      "parallel: False\n",
      " -----  obs  ---------------------\n",
      " ---  GPCP-2-3  ---\n",
      "demo_data/PCMDIobs2_clims/atmos/pr/GPCP-2-3/pr_mon_GPCP-2-3_BE_gn_197901-201907.v20200421.AC.nc\n",
      "2000\n",
      "warning: failed for  obs GPCP-2-3 2000-11-1 12:0:0.0 is not in list\n",
      " -----  ACCESS1-0  ---------------------\n",
      " -----  CanCM4  ---------------------\n"
     ]
    }
   ],
   "source": [
    "%%bash\n",
    "mjo_metrics_driver.py -p basic_mjo_param.py"
   ]
  },
  {
   "cell_type": "code",
   "execution_count": null,
   "metadata": {},
   "outputs": [],
   "source": []
  }
 ],
 "metadata": {
  "kernelspec": {
   "display_name": "Python 3",
   "language": "python",
   "name": "python3"
  },
  "language_info": {
   "codemirror_mode": {
    "name": "ipython",
    "version": 3
   },
   "file_extension": ".py",
   "mimetype": "text/x-python",
   "name": "python",
   "nbconvert_exporter": "python",
   "pygments_lexer": "ipython3",
   "version": "3.8.6"
  }
 },
 "nbformat": 4,
 "nbformat_minor": 4
}
