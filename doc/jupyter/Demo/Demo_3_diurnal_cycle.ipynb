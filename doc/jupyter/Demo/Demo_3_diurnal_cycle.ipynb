{
 "cells": [
  {
   "cell_type": "markdown",
   "metadata": {},
   "source": [
    "# Diurnal Cycle\n",
    "\n",
    "This notebook aims at inroducing new users on how to use the PCDMI diurnal cycle drivers.\n",
    "\n",
    "This [diagram](../../Diurnal%20Cycle%20Diagram.pdf) shows how various drivers are linked together\n",
    "\n",
    "It is expected that you have downloaded the sample data as demonstrated in [the download notebook](Demo_0_download_data.ipynb)\n",
    "\n",
    "Please edit the path in the following cell to reflect the location on your system where you downloaded the data\n",
    "\n",
    "For this tutorial we will be using 3 years worth of 3 hourly data resmapled to a 5x5 grid"
   ]
  },
  {
   "cell_type": "code",
   "execution_count": 1,
   "metadata": {},
   "outputs": [],
   "source": [
    "from user_choices import demo_data_directory, demo_output_directory"
   ]
  },
  {
   "cell_type": "markdown",
   "metadata": {},
   "source": [
    "Like all other drivers in the PCMDI Metrics Package, dirunal cycles rely on parameter input files\n",
    "\n",
    "Our first driver starts from cmip5 data and compute the daily means\n"
   ]
  },
  {
   "cell_type": "code",
   "execution_count": 2,
   "metadata": {},
   "outputs": [
    {
     "name": "stdout",
     "output_type": "stream",
     "text": [
      "# output directory\n",
      "results_dir = 'demo_output/diurnal/nc'\n",
      "\n",
      "# input directory\n",
      "modpath = 'demo_data/example_data/atm/3hr/pr/'\n",
      "\n",
      "# filenames template\n",
      "filename_template = 'pr_3hr_%(model)_%(experiment)_%(realization)_5x5_1997-1999.nc'\n",
      "\n",
      "# model to use\n",
      "model = 'IPSL-CM5A-LR'\n",
      "experiment = 'historical'\n",
      "realization = 'r1i1p1'\n",
      "\n",
      "# Month to use\n",
      "month = 7\n",
      "\n",
      "# Period\n",
      "firstyear = 1997 # included\n",
      "lastyear = 1999  # included\n",
      "\n",
      "# Number of workers\n",
      "num_workers = 4\n",
      "\n"
     ]
    }
   ],
   "source": [
    "with open(\"basic_diurnal_compute_daily_mean.py\") as f:\n",
    "    print(f.read())"
   ]
  },
  {
   "cell_type": "markdown",
   "metadata": {},
   "source": [
    "Now to run this simply call the driver\n",
    "```\n",
    "computeStdOfDailyMeans.py -p basic_diurnal_compute_daily_mean.py\n",
    "```"
   ]
  },
  {
   "cell_type": "code",
   "execution_count": 3,
   "metadata": {},
   "outputs": [
    {
     "data": {
      "text/plain": [
       "CompletedProcess(args=['computeStdOfDailyMeans.py', '-p', 'basic_diurnal_compute_daily_mean.py'], returncode=0)"
      ]
     },
     "execution_count": 3,
     "metadata": {},
     "output_type": "execute_result"
    }
   ],
   "source": [
    "from subprocess import run\n",
    "run(\"computeStdOfDailyMeans.py -p basic_diurnal_compute_daily_mean.py\".split())"
   ]
  },
  {
   "cell_type": "markdown",
   "metadata": {},
   "source": [
    "This generates a netcdf file `pr_IPSL-CM5A-LR_Jul_1997-1999_std_of_dailymeans.nc` which contains the daily standard deviation at each cell\n",
    "\n",
    "Looking at our diagram the next driver to run is the one computing the mean of the standard deviation from daily means over a region of interest."
   ]
  },
  {
   "cell_type": "code",
   "execution_count": 4,
   "metadata": {},
   "outputs": [
    {
     "name": "stdout",
     "output_type": "stream",
     "text": [
      "# output directory\n",
      "results_dir = 'demo_output/diurnal/json'\n",
      "\n",
      "# input directory which is actually the output of previous driver\n",
      "modpath = 'demo_output/diurnal/nc'\n",
      "\n",
      "# filenames template\n",
      "filename_template = 'pr_%(model)_Jul_%(firstyear)-%(lastyear)_std_of_dailymeans.nc'\n",
      "\n",
      "# model to use\n",
      "model = 'IPSL-CM5A-LR'\n",
      "experiment = 'historical'\n",
      "realization = 'r1i1p1'\n",
      "\n",
      "# Month to use\n",
      "month = 7\n",
      "\n",
      "# Period\n",
      "firstyear = 1997 # included\n",
      "lastyear = 1999  # included\n",
      "\n",
      "# Latitudes/longitudes to use\n",
      "lat1 = -50.\n",
      "lat2 = 50.\n",
      "lon1 = 0.\n",
      "lon2 = 360.\n",
      "\n",
      "# Name\n",
      "region_name = \"TRMM\"\n",
      "\n",
      "# Number of workers\n",
      "num_workers = 4\n",
      "\n"
     ]
    }
   ],
   "source": [
    "with open(\"basic_diurnal_std_daily_mean.py\") as f:\n",
    "    print(f.read())"
   ]
  },
  {
   "cell_type": "markdown",
   "metadata": {},
   "source": [
    "Now to run this simply call the driver\n",
    "```\n",
    "std_of_dailymeans.py -p basic_diurnal_std_daily_mean.py\n",
    "```"
   ]
  },
  {
   "cell_type": "code",
   "execution_count": 5,
   "metadata": {},
   "outputs": [
    {
     "data": {
      "text/plain": [
       "CompletedProcess(args=['std_of_dailymeans.py', '-p', 'basic_diurnal_std_daily_mean.py'], returncode=0)"
      ]
     },
     "execution_count": 5,
     "metadata": {},
     "output_type": "execute_result"
    }
   ],
   "source": [
    "from subprocess import run\n",
    "run(\"std_of_dailymeans.py -p basic_diurnal_std_daily_mean.py\".split())"
   ]
  },
  {
   "cell_type": "markdown",
   "metadata": {},
   "source": [
    "This generates a json file: `pr_Jul_1997_1999_std_of_dailymeans.json`\n",
    "\n",
    "You coul also append a new region to this json file by overwritting some of our parameters from the command line:"
   ]
  },
  {
   "cell_type": "code",
   "execution_count": 6,
   "metadata": {},
   "outputs": [
    {
     "data": {
      "text/plain": [
       "CompletedProcess(args=['std_of_dailymeans.py', '-p', 'basic_diurnal_std_daily_mean.py', '--region_name=TROPICS', '--lat1=-30.', '--lat2=30.', '--lon1=0.', '--lon2=360', '--append'], returncode=0)"
      ]
     },
     "execution_count": 6,
     "metadata": {},
     "output_type": "execute_result"
    }
   ],
   "source": [
    "run(\"std_of_dailymeans.py -p basic_diurnal_std_daily_mean.py --region_name=TROPICS --lat1=-30. --lat2=30. --lon1=0. --lon2=360 --append\".split())"
   ]
  },
  {
   "cell_type": "markdown",
   "metadata": {},
   "source": [
    "Looking again at our diagram we can now start again from the original 3 hourly data, and run the *composite* script"
   ]
  },
  {
   "cell_type": "code",
   "execution_count": 7,
   "metadata": {},
   "outputs": [
    {
     "name": "stdout",
     "output_type": "stream",
     "text": [
      "# output directory\n",
      "results_dir = 'demo_output/diurnal/nc'\n",
      "\n",
      "# input directory\n",
      "modpath = 'demo_data/example_data/atm/3hr/pr/'\n",
      "\n",
      "# filenames template\n",
      "filename_template = 'pr_3hr_%(model)_%(experiment)_%(realization)_5x5_1997-1999.nc'\n",
      "\n",
      "# model to use\n",
      "model = 'IPSL-CM5A-LR'\n",
      "experiment = 'historical'\n",
      "realization = 'r1i1p1'\n",
      "\n",
      "# Month to use\n",
      "month = 7\n",
      "\n",
      "# Period\n",
      "firstyear = 1997 # included\n",
      "lastyear = 1999  # included\n",
      "\n",
      "# Number of workers\n",
      "num_workers = 4\n",
      "\n"
     ]
    }
   ],
   "source": [
    "with open(\"basic_diurnal_composite.py\") as f:\n",
    "    print(f.read())"
   ]
  },
  {
   "cell_type": "code",
   "execution_count": 8,
   "metadata": {},
   "outputs": [
    {
     "data": {
      "text/plain": [
       "CompletedProcess(args=['compositeDiurnalStatistics.py', '-p', 'basic_diurnal_composite.py'], returncode=0)"
      ]
     },
     "execution_count": 8,
     "metadata": {},
     "output_type": "execute_result"
    }
   ],
   "source": [
    "run(\"compositeDiurnalStatistics.py -p basic_diurnal_composite.py\".split())"
   ]
  },
  {
   "cell_type": "markdown",
   "metadata": {},
   "source": [
    "This produces 3 output files:\n",
    "```\n",
    "pr_IPSL-CM5A-LR_Jul_1997-1999_diurnal_avg.nc\n",
    "pr_IPSL-CM5A-LR_Jul_1997-1999_diurnal_std.nc\n",
    "pr_IPSL-CM5A-LR_LocalSolarTimes.nc\n",
    "```\n",
    "\n",
    "Containing respectively ???, ??? and ???\n",
    "\n",
    "We can now generate ASCII files for composite diurnal cycle (w/\terror\tbars) at selected grid points using the `fourierDiurnalGridpoints.py` script."
   ]
  },
  {
   "cell_type": "code",
   "execution_count": 9,
   "metadata": {},
   "outputs": [
    {
     "data": {
      "text/plain": [
       "CompletedProcess(args=['fourierDiurnalGridpoints.py', '-p', 'basic_diurnal_fourier.py'], returncode=0)"
      ]
     },
     "execution_count": 9,
     "metadata": {},
     "output_type": "execute_result"
    }
   ],
   "source": [
    "run(\"fourierDiurnalGridpoints.py -p basic_diurnal_fourier.py\".split())"
   ]
  },
  {
   "cell_type": "markdown",
   "metadata": {},
   "source": [
    "This produces an ascii file: `pr_Jul_1997-1999_fourierDiurnalGridPoints.asc` \n",
    "\n",
    "Starting again from the composite results our diagram suggests we now compute the std of hourly values"
   ]
  },
  {
   "cell_type": "code",
   "execution_count": 11,
   "metadata": {},
   "outputs": [
    {
     "name": "stdout",
     "output_type": "stream",
     "text": [
      "# output directory\n",
      "results_dir = 'demo_output/diurnal/json'\n",
      "\n",
      "# input directory which is actually the output of previous driver\n",
      "modpath = 'demo_output/diurnal/nc'\n",
      "\n",
      "# filenames template\n",
      "# filename_template = 'pr_%(model)_Jul_%(firstyear)-%(lastyear)_std_of_dailymeans.nc'\n",
      "\n",
      "# model to use\n",
      "model = 'IPSL-CM5A-LR'\n",
      "experiment = 'historical'\n",
      "realization = 'r1i1p1'\n",
      "\n",
      "# Month to use\n",
      "month = 7\n",
      "\n",
      "# Period\n",
      "firstyear = 1997 # included\n",
      "lastyear = 1999  # included\n",
      "\n",
      "# Latitudes/longitudes to use\n",
      "lat1 = -50.\n",
      "lat2 = 50.\n",
      "lon1 = 0.\n",
      "lon2 = 360.\n",
      "\n",
      "# Name\n",
      "#region_name = \"TRMM\"\n",
      "\n",
      "# Number of workers\n",
      "num_workers = 4\n",
      "\n"
     ]
    }
   ],
   "source": [
    "with open(\"basic_diurnal_std_hourly_mean.py\") as f:\n",
    "    print(f.read())"
   ]
  },
  {
   "cell_type": "code",
   "execution_count": 12,
   "metadata": {},
   "outputs": [
    {
     "data": {
      "text/plain": [
       "CompletedProcess(args=['std_of_hourlyvalues.py', '-p', 'basic_diurnal_std_hourly_mean.py'], returncode=0)"
      ]
     },
     "execution_count": 12,
     "metadata": {},
     "output_type": "execute_result"
    }
   ],
   "source": [
    "run(\"std_of_hourlyvalues.py -p basic_diurnal_std_hourly_mean.py\".split())"
   ]
  },
  {
   "cell_type": "markdown",
   "metadata": {},
   "source": [
    "This generated the following file:\n",
    "    `pr_Jul_1997-1999_std_of_hourlymeans.json`\n",
    "    \n",
    "This file is used in Trenberth\tet\tal.\t(2017)\n",
    "Day_to_day\n",
    "“intermittency”\tof\t\n",
    "hourly values\n",
    "(>>variance\tof\tdaily\t\n",
    "means)\n",
    "Gives\t“error\tbars”\ton\t\n",
    "mean\tdiurnal\tcycle\n",
    "\n",
    "\n",
    "Going back to the results of *composite* we can now run: `std_of_meandiurnalcycle.py` which can use the same input parameter file"
   ]
  },
  {
   "cell_type": "code",
   "execution_count": 19,
   "metadata": {},
   "outputs": [
    {
     "name": "stdout",
     "output_type": "stream",
     "text": [
      "# output directory\n",
      "results_dir = 'demo_output/diurnal/json'\n",
      "\n",
      "# input directory which is actually the output of previous driver\n",
      "modpath = 'demo_output/diurnal/nc'\n",
      "\n",
      "# model to use\n",
      "model = 'IPSL-CM5A-LR'\n",
      "experiment = 'historical'\n",
      "realization = 'r1i1p1'\n",
      "\n",
      "# Month to use\n",
      "month = 7\n",
      "\n",
      "# Period\n",
      "firstyear = 1997 # included\n",
      "lastyear = 1999  # included\n",
      "\n",
      "# Latitudes/longitudes to use\n",
      "lat1 = -50.\n",
      "lat2 = 50.\n",
      "lon1 = 0.\n",
      "lon2 = 360.\n",
      "\n",
      "# Number of workers\n",
      "num_workers = 4\n",
      "\n"
     ]
    }
   ],
   "source": [
    "with open(\"basic_diurnal_std_hourly_mean.py\") as f:\n",
    "    print(f.read())"
   ]
  },
  {
   "cell_type": "code",
   "execution_count": 14,
   "metadata": {},
   "outputs": [
    {
     "data": {
      "text/plain": [
       "CompletedProcess(args=['std_of_meandiurnalcycle.py', '-p', 'basic_diurnal_std_hourly_mean.py'], returncode=0)"
      ]
     },
     "execution_count": 14,
     "metadata": {},
     "output_type": "execute_result"
    }
   ],
   "source": [
    "run(\"std_of_meandiurnalcycle.py -p basic_diurnal_std_hourly_mean.py\".split())"
   ]
  },
  {
   "cell_type": "markdown",
   "metadata": {},
   "source": [
    "This generates the following file: `pr_Jul_1997-1999_std_of_meandiurnalcyc.json`\n",
    "\n",
    "Again starting from the *composite* results let's do the fourier analysis."
   ]
  },
  {
   "cell_type": "code",
   "execution_count": 23,
   "metadata": {},
   "outputs": [
    {
     "name": "stdout",
     "output_type": "stream",
     "text": [
      "# output directory\n",
      "results_dir = 'demo_output/diurnal/nc'\n",
      "\n",
      "# input directory which is actually the output of previous driver\n",
      "modpath = 'demo_output/diurnal/nc'\n",
      "\n",
      "# model to use\n",
      "model = 'IPSL-CM5A-LR'\n",
      "experiment = 'historical'\n",
      "realization = 'r1i1p1'\n",
      "\n",
      "# Month to use\n",
      "month = 7\n",
      "\n",
      "# Period\n",
      "firstyear = 1997 # included\n",
      "lastyear = 1999  # included\n",
      "\n",
      "# Number of workers\n",
      "num_workers = 4\n",
      "\n"
     ]
    }
   ],
   "source": [
    "with open(\"basic_diurnal_fourierAllGrid.py\") as f:\n",
    "    print(f.read())"
   ]
  },
  {
   "cell_type": "code",
   "execution_count": 24,
   "metadata": {},
   "outputs": [
    {
     "data": {
      "text/plain": [
       "CompletedProcess(args=['fourierDiurnalAllGrid.py', '-p', 'basic_diurnal_fourierAllGrid.py'], returncode=0)"
      ]
     },
     "execution_count": 24,
     "metadata": {},
     "output_type": "execute_result"
    }
   ],
   "source": [
    "run(\"fourierDiurnalAllGrid.py -p basic_diurnal_fourierAllGrid.py\".split())"
   ]
  },
  {
   "cell_type": "markdown",
   "metadata": {},
   "source": [
    "This generates 3 files:\n",
    "\n",
    "```\n",
    "pr_IPSL-CM5A-LR_Jul_1997-1999_tmean.nc\n",
    "pr_IPSL-CM5A-LR_Jul_1997-1999_S.nc\n",
    "pr_IPSL-CM5A-LR_Jul_1997-1999_tS.nc\n",
    "```\n"
   ]
  },
  {
   "cell_type": "code",
   "execution_count": null,
   "metadata": {},
   "outputs": [],
   "source": []
  }
 ],
 "metadata": {
  "kernelspec": {
   "display_name": "Python 3",
   "language": "python",
   "name": "python3"
  },
  "language_info": {
   "codemirror_mode": {
    "name": "ipython",
    "version": 3
   },
   "file_extension": ".py",
   "mimetype": "text/x-python",
   "name": "python",
   "nbconvert_exporter": "python",
   "pygments_lexer": "ipython3",
   "version": "3.7.3"
  },
  "selected_variables": [],
  "vcdat_file_path": "",
  "vcdat_loaded_variables": [],
  "vcdat_variable_info": {}
 },
 "nbformat": 4,
 "nbformat_minor": 4
}
