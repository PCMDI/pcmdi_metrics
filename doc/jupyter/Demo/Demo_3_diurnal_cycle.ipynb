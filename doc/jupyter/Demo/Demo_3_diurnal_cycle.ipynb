{
 "cells": [
  {
   "cell_type": "markdown",
   "metadata": {},
   "source": [
    "# Diurnal Cycle\n",
    "\n",
    "This notebook aims at inroducing new users on how to use the PCDMI diurnal cycle drivers.\n",
    "\n",
    "This [diagram](../../Diurnal%20Cycle%20Diagram.pdf) shows how various drivers are linked together\n",
    "\n",
    "It is expected that you have downloaded the sample data as demonstrated in [the download notebook](Demo_0_download_data.ipynb)\n",
    "\n",
    "Please edit the path in the following cell to reflect the location on your system where you downloaded the data\n",
    "\n",
    "For this tutorial we will be using 3 years worth of 3 hourly data resmapled to a 5x5 grid"
   ]
  },
  {
   "cell_type": "code",
   "execution_count": 1,
   "metadata": {},
   "outputs": [],
   "source": [
    "# This is where you downloaded the sample_data\n",
    "demo_data_directory = \"demo_data\"\n",
    "# this line is where your output will be stored\n",
    "demo_output_directory = \"demo_output\""
   ]
  },
  {
   "cell_type": "code",
   "execution_count": 9,
   "metadata": {},
   "outputs": [
    {
     "name": "stdout",
     "output_type": "stream",
     "text": [
      "Preparing parameter file: basic_diurnal_compute_daily_mean.py\n",
      "Preparing parameter file: basic_diurnal_std_daily_mean.py\n",
      "Preparing parameter file: basic_monsoon_wang_param.py\n",
      "Preparing parameter file: basic_diurnal_composite.py\n",
      "Preparing parameter file: basic_param.py\n"
     ]
    }
   ],
   "source": [
    "# this prepares the various parameter files used in this demo notebooks to reflect where you downloaded the data\n",
    "import glob\n",
    "\n",
    "# Dictionary for template_files substitutions \n",
    "sub_dict = {\n",
    "    \"INPUT_DIR\": demo_data_directory,\n",
    "    \"OUTPUT_DIR\": demo_output_directory\n",
    "}\n",
    "for name in glob.glob(\"*.in\"):\n",
    "    with open(name) as template_file:\n",
    "        print(\"Preparing parameter file: {}\".format(name[:-3]))\n",
    "        template = template_file.read()\n",
    "        for key in sub_dict:\n",
    "            template = template.replace(\"${}$\".format(key), sub_dict[key])\n",
    "        with open(name[:-3], \"w\") as param_file:\n",
    "            param_file.write(template)"
   ]
  },
  {
   "cell_type": "markdown",
   "metadata": {},
   "source": [
    "Like all other drivers in the PCMDI Metrics Package, dirunal cycles rely on parameter input files\n",
    "\n",
    "Our first driver starts from cmip5 data and compute the daily means\n"
   ]
  },
  {
   "cell_type": "code",
   "execution_count": 3,
   "metadata": {},
   "outputs": [
    {
     "name": "stdout",
     "output_type": "stream",
     "text": [
      "# output directory\n",
      "results_dir = 'demo_output/diurnal'\n",
      "\n",
      "# input directory\n",
      "modpath = 'demo_data/example_data/atm/3hr/pr/'\n",
      "\n",
      "# filenames template\n",
      "filename_template = 'pr_3hr_%(model)_%(experiment)_%(realization)_5x5_1997-1999.nc'\n",
      "\n",
      "# model to use\n",
      "model = 'IPSL-CM5A-LR'\n",
      "experiment = 'historical'\n",
      "realization = 'r1i1p1'\n",
      "\n",
      "# Month to use\n",
      "month = 7\n",
      "\n",
      "# Period\n",
      "firstyear = 1997 # included\n",
      "lastyear = 1999  # included\n",
      "\n",
      "# Number of workers\n",
      "num_workers = 4\n",
      "\n"
     ]
    }
   ],
   "source": [
    "with open(\"basic_diurnal_compute_daily_mean.py\") as f:\n",
    "    print(f.read())"
   ]
  },
  {
   "cell_type": "markdown",
   "metadata": {},
   "source": [
    "Now to run this simply call the driver\n",
    "```\n",
    "computeStdOfDailyMeans.py -p basic_diurnal_compute_daily_mean.py\n",
    "```"
   ]
  },
  {
   "cell_type": "code",
   "execution_count": 5,
   "metadata": {},
   "outputs": [
    {
     "data": {
      "text/plain": [
       "CompletedProcess(args=['computeStdOfDailyMeans.py', '-p', 'basic_diurnal_compute_daily_mean.py'], returncode=0)"
      ]
     },
     "execution_count": 5,
     "metadata": {},
     "output_type": "execute_result"
    }
   ],
   "source": [
    "from subprocess import run, PIPE\n",
    "run(\"computeStdOfDailyMeans.py -p basic_diurnal_compute_daily_mean.py\".split())"
   ]
  },
  {
   "cell_type": "markdown",
   "metadata": {},
   "source": [
    "Looking at our diagram the next driver to run is the one computing the standard deviation from daily means."
   ]
  },
  {
   "cell_type": "code",
   "execution_count": 6,
   "metadata": {},
   "outputs": [
    {
     "name": "stdout",
     "output_type": "stream",
     "text": [
      "# output directory\n",
      "results_dir = 'demo_output/diurnal'\n",
      "\n",
      "# input directory which is actually the output of previous driver\n",
      "modpath = 'demo_output/diurnal'\n",
      "\n",
      "# filenames template\n",
      "filename_template = 'pr_%(model)_Jul_%(firstyear)-%(lastyear)_std_of_dailymeans.nc'\n",
      "\n",
      "# model to use\n",
      "model = 'IPSL-CM5A-LR'\n",
      "experiment = 'historical'\n",
      "realization = 'r1i1p1'\n",
      "\n",
      "# Month to use\n",
      "month = 7\n",
      "\n",
      "# Period\n",
      "firstyear = 1997 # included\n",
      "lastyear = 1999  # included\n",
      "\n",
      "# Latitudes/longitudes to use\n",
      "lat1 = -50.\n",
      "lat2 = 50.\n",
      "lon1 = 0.\n",
      "lon2 = 360.\n",
      "\n",
      "# Name\n",
      "region_name = \"TRMM\"\n",
      "\n",
      "# Number of workers\n",
      "num_workers = 4\n",
      "\n"
     ]
    }
   ],
   "source": [
    "with open(\"basic_diurnal_std_daily_mean.py\") as f:\n",
    "    print(f.read())"
   ]
  },
  {
   "cell_type": "markdown",
   "metadata": {},
   "source": [
    "Now to run this simply call the driver\n",
    "```\n",
    "std_of_dailymeans.py -p basic_diurnal_std_daily_mean.py\n",
    "```"
   ]
  },
  {
   "cell_type": "code",
   "execution_count": 7,
   "metadata": {},
   "outputs": [
    {
     "data": {
      "text/plain": [
       "CompletedProcess(args=['std_of_dailymeans.py', '-p', 'basic_diurnal_std_daily_mean.py'], returncode=0)"
      ]
     },
     "execution_count": 7,
     "metadata": {},
     "output_type": "execute_result"
    }
   ],
   "source": [
    "from subprocess import run, PIPE\n",
    "run(\"std_of_dailymeans.py -p basic_diurnal_std_daily_mean.py\".split())"
   ]
  },
  {
   "cell_type": "markdown",
   "metadata": {},
   "source": [
    "You coul also append to this json file"
   ]
  },
  {
   "cell_type": "code",
   "execution_count": 8,
   "metadata": {},
   "outputs": [
    {
     "data": {
      "text/plain": [
       "CompletedProcess(args=['std_of_dailymeans.py', '-p', 'basic_diurnal_compute_daily_mean.py', '--region_name=TROPICS', '--lat1=-30.', '--lat2=30.', '--lon1=0.', '--lon2=360', '--append'], returncode=0)"
      ]
     },
     "execution_count": 8,
     "metadata": {},
     "output_type": "execute_result"
    }
   ],
   "source": [
    "from subprocess import run, PIPE\n",
    "run(\"std_of_dailymeans.py -p basic_diurnal_compute_daily_mean.py --region_name=TROPICS --lat1=-30. --lat2=30. --lon1=0. --lon2=360 --append\".split())"
   ]
  },
  {
   "cell_type": "markdown",
   "metadata": {},
   "source": [
    "Looking again at our diagram we can now start again from the original 3 hourly data"
   ]
  },
  {
   "cell_type": "code",
   "execution_count": 10,
   "metadata": {},
   "outputs": [
    {
     "name": "stdout",
     "output_type": "stream",
     "text": [
      "# output directory\n",
      "results_dir = 'demo_output/diurnal'\n",
      "\n",
      "# input directory\n",
      "modpath = 'demo_data/example_data/atm/3hr/pr/'\n",
      "\n",
      "# filenames template\n",
      "filename_template = 'pr_3hr_%(model)_%(experiment)_%(realization)_5x5_1997-1999.nc'\n",
      "\n",
      "# model to use\n",
      "model = 'IPSL-CM5A-LR'\n",
      "experiment = 'historical'\n",
      "realization = 'r1i1p1'\n",
      "\n",
      "# Month to use\n",
      "month = 7\n",
      "\n",
      "# Period\n",
      "firstyear = 1997 # included\n",
      "lastyear = 1999  # included\n",
      "\n",
      "# Number of workers\n",
      "num_workers = 4\n",
      "\n"
     ]
    }
   ],
   "source": [
    "with open(\"basic_diurnal_composite.py\") as f:\n",
    "    print(f.read())"
   ]
  },
  {
   "cell_type": "code",
   "execution_count": 11,
   "metadata": {},
   "outputs": [
    {
     "data": {
      "text/plain": [
       "CompletedProcess(args=['compositeDiurnalStatistics.py', '-p', 'basic_diurnal_composite.py'], returncode=0)"
      ]
     },
     "execution_count": 11,
     "metadata": {},
     "output_type": "execute_result"
    }
   ],
   "source": [
    "from subprocess import run, PIPE\n",
    "run(\"compositeDiurnalStatistics.py -p basic_diurnal_composite.py\".split())"
   ]
  },
  {
   "cell_type": "code",
   "execution_count": null,
   "metadata": {},
   "outputs": [],
   "source": []
  }
 ],
 "metadata": {
  "kernelspec": {
   "display_name": "Python 3",
   "language": "python",
   "name": "python3"
  },
  "language_info": {
   "codemirror_mode": {
    "name": "ipython",
    "version": 3
   },
   "file_extension": ".py",
   "mimetype": "text/x-python",
   "name": "python",
   "nbconvert_exporter": "python",
   "pygments_lexer": "ipython3",
   "version": "3.6.7"
  },
  "selected_variables": [],
  "vcdat_file_path": "",
  "vcdat_loaded_variables": [],
  "vcdat_variable_info": {}
 },
 "nbformat": 4,
 "nbformat_minor": 2
}
