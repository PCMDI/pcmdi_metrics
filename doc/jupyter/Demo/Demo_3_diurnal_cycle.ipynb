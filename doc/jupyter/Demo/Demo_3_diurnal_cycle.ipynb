{
 "cells": [
  {
   "cell_type": "markdown",
   "metadata": {},
   "source": [
    "# Diurnal Cycle\n",
    "\n",
    "This notebook aims at inroducing new users on how to use the PCDMI diurnal cycle drivers."
   ]
  },
  {
   "cell_type": "markdown",
   "metadata": {},
   "source": [
    "[This diagram](https://github.com/PCMDI/pcmdi_metrics/blob/master/doc/Diurnal%20Cycle%20Diagram.pdf) shows how various drivers are linked together."
   ]
  },
  {
   "cell_type": "markdown",
   "metadata": {},
   "source": [
    "To run the following demo, it is expected that you have downloaded the sample data as demonstrated in [the download notebook](Demo_0_download_data.ipynb). For this tutorial we will be using 3 years worth of 3-hourly data resampled to a 5x5 grid.\n",
    "\n",
    "The following cell loads the demo input and output directories set in the download notebook."
   ]
  },
  {
   "cell_type": "code",
   "execution_count": 1,
   "metadata": {},
   "outputs": [],
   "source": [
    "from user_choices import demo_data_directory, demo_output_directory"
   ]
  },
  {
   "cell_type": "markdown",
   "metadata": {},
   "source": [
    "## Daily Means\n",
    "\n",
    "Like all other drivers in the PCMDI Metrics Package, Diurnal Cycle relies on parameter input files.\n",
    "\n",
    "Our first driver starts from CMIP5 data and computes the daily means."
   ]
  },
  {
   "cell_type": "code",
   "execution_count": 2,
   "metadata": {},
   "outputs": [
    {
     "name": "stdout",
     "output_type": "stream",
     "text": [
      "# output directory\n",
      "results_dir = 'demo_output/diurnal/nc'\n",
      "\n",
      "# input directory\n",
      "modpath = 'demo_data/misc_demo_data/atm/3hr/pr/'\n",
      "\n",
      "# filenames template\n",
      "filename_template = 'pr_3hr_%(model)_%(experiment)_%(realization)_5x5_1997-1999.nc'\n",
      "\n",
      "# model to use\n",
      "model = 'IPSL-CM5A-LR'\n",
      "experiment = 'historical'\n",
      "realization = 'r1i1p1'\n",
      "\n",
      "# Month to use\n",
      "month = 7\n",
      "\n",
      "# Period\n",
      "firstyear = 1997 # included\n",
      "lastyear = 1999  # included\n",
      "\n",
      "# Number of workers\n",
      "num_workers = 4\n",
      "\n"
     ]
    }
   ],
   "source": [
    "with open(\"basic_diurnal_compute_daily_mean.py\") as f:\n",
    "    print(f.read())"
   ]
  },
  {
   "cell_type": "markdown",
   "metadata": {},
   "source": [
    "Now to run this simply call the driver:\n",
    "```\n",
    "computeStdOfDailyMeans.py -p basic_diurnal_compute_daily_mean.py\n",
    "```"
   ]
  },
  {
   "cell_type": "code",
   "execution_count": 3,
   "metadata": {},
   "outputs": [
    {
     "name": "stdout",
     "output_type": "stream",
     "text": [
      "SKIPPING: []\n",
      "FILES: ['demo_data/misc_demo_data/atm/3hr/pr/pr_3hr_IPSL-CM5A-LR_historical_r1i1p1_5x5_1997-1999.nc']\n",
      "PARAMS: [<pcmdi_metrics.diurnal.common.INPUT object at 0x7f82d16cf1c0>]\n",
      "Data source: IPSL-CM5A-LR\n",
      "Opening demo_data/misc_demo_data/atm/3hr/pr/pr_3hr_IPSL-CM5A-LR_historical_r1i1p1_5x5_1997-1999.nc ...\n",
      "Data source: IPSL-CM5A-LR\n",
      "Opening demo_data/misc_demo_data/atm/3hr/pr/pr_3hr_IPSL-CM5A-LR_historical_r1i1p1_5x5_1997-1999.nc ...\n",
      "Year 1997:\n",
      "Reading pr from demo_data/misc_demo_data/atm/3hr/pr/pr_3hr_IPSL-CM5A-LR_historical_r1i1p1_5x5_1997-1999.nc for time interval 1997-7-1 0:0:0.0 to 1997-7-31 23:59:0.0 ...\n",
      "Year 1998:\n",
      "Reading pr from demo_data/misc_demo_data/atm/3hr/pr/pr_3hr_IPSL-CM5A-LR_historical_r1i1p1_5x5_1997-1999.nc for time interval 1998-7-1 0:0:0.0 to 1998-7-31 23:59:0.0 ...\n",
      "Year 1999:\n",
      "Reading pr from demo_data/misc_demo_data/atm/3hr/pr/pr_3hr_IPSL-CM5A-LR_historical_r1i1p1_5x5_1997-1999.nc for time interval 1999-7-1 0:0:0.0 to 1999-7-31 23:59:0.0 ...\n"
     ]
    }
   ],
   "source": [
    "%%bash\n",
    "computeStdOfDailyMeans.py -p basic_diurnal_compute_daily_mean.py"
   ]
  },
  {
   "cell_type": "markdown",
   "metadata": {},
   "source": [
    "This generates a netcdf file `pr_IPSL-CM5A-LR_Jul_1997-1999_std_of_dailymeans.nc` which contains the daily standard deviation at each cell."
   ]
  },
  {
   "cell_type": "markdown",
   "metadata": {},
   "source": [
    "Looking at our diagram, the next driver to run is the one computing the mean of the standard deviation from daily means over a region of interest. First we open the parameter file."
   ]
  },
  {
   "cell_type": "code",
   "execution_count": 4,
   "metadata": {},
   "outputs": [
    {
     "name": "stdout",
     "output_type": "stream",
     "text": [
      "# output directory\n",
      "results_dir = 'demo_output/diurnal/json'\n",
      "\n",
      "# input directory which is actually the output of previous driver\n",
      "modpath = 'demo_output/diurnal/nc'\n",
      "\n",
      "# filenames template\n",
      "filename_template = 'pr_%(model)_Jul_%(firstyear)-%(lastyear)_std_of_dailymeans.nc'\n",
      "\n",
      "# model to use\n",
      "model = 'IPSL-CM5A-LR'\n",
      "experiment = 'historical'\n",
      "realization = 'r1i1p1'\n",
      "\n",
      "# Month to use\n",
      "month = 7\n",
      "\n",
      "# Period\n",
      "firstyear = 1997 # included\n",
      "lastyear = 1999  # included\n",
      "\n",
      "# Latitudes/longitudes to use\n",
      "lat1 = -50.\n",
      "lat2 = 50.\n",
      "lon1 = 0.\n",
      "lon2 = 360.\n",
      "\n",
      "# Name\n",
      "region_name = \"TRMM\"\n",
      "\n",
      "# Number of workers\n",
      "num_workers = 4\n",
      "\n"
     ]
    }
   ],
   "source": [
    "with open(\"basic_diurnal_std_daily_mean.py\") as f:\n",
    "    print(f.read())"
   ]
  },
  {
   "cell_type": "markdown",
   "metadata": {},
   "source": [
    "Now to run this simply call the driver\n",
    "```\n",
    "std_of_dailymeans.py -p basic_diurnal_std_daily_mean.py\n",
    "```"
   ]
  },
  {
   "cell_type": "code",
   "execution_count": 5,
   "metadata": {},
   "outputs": [
    {
     "name": "stdout",
     "output_type": "stream",
     "text": [
      "TEMPLATE NAME: pr_IPSL-CM5A-LR_Jul_1997-1999_std_of_dailymeans.nc\n",
      "Preparing to write output to JSON file ...\n",
      "Initializing dictionary of statistical results ...\n",
      "['demo_output/diurnal/nc/pr_IPSL-CM5A-LR_Jul_1997-1999_std_of_dailymeans.nc']\n",
      "PARAMS: [<pcmdi_metrics.diurnal.common.INPUT object at 0x7ff6482a5df0>]\n",
      "Specifying latitude / longitude domain of interest ...\n",
      "Reading demo_output/diurnal/nc/pr_IPSL-CM5A-LR_Jul_1997-1999_std_of_dailymeans.nc ...\n",
      "  Shape = (20, 72)\n",
      "Finding RMS area-average ...\n",
      "For IPSL-CM5A-LR in Jul, average variance of daily values = ( 3.92 mm/d)^2\n",
      "Writing output to JSON file ... {'IPSL-CM5A-LR': {'TRMM': 3.9163177715285187}}\n",
      "REG MASK: {}\n",
      "done\n"
     ]
    },
    {
     "name": "stderr",
     "output_type": "stream",
     "text": [
      "INFO::2021-02-24 09:10::pcmdi_metrics:: Results saved to a json file: /Users/ordonez4/Documents/git/pcmdi_metrics/doc/jupyter/Demo/demo_output/diurnal/json/pr_Jul_1997_1999_std_of_dailymeans.json\n"
     ]
    }
   ],
   "source": [
    "%%bash\n",
    "std_of_dailymeans.py -p basic_diurnal_std_daily_mean.py"
   ]
  },
  {
   "cell_type": "markdown",
   "metadata": {},
   "source": [
    "This generates a json file: `pr_Jul_1997_1999_std_of_dailymeans.json`\n",
    "\n",
    "OPTIONAL: You could also append a new region to this json file by overwritting some of our parameters from the command line. This example creates results for the tropics instead of the whole globe."
   ]
  },
  {
   "cell_type": "code",
   "execution_count": 6,
   "metadata": {},
   "outputs": [
    {
     "name": "stdout",
     "output_type": "stream",
     "text": [
      "TEMPLATE NAME: pr_IPSL-CM5A-LR_Jul_1997-1999_std_of_dailymeans.nc\n",
      "Preparing to write output to JSON file ...\n",
      "['demo_output/diurnal/nc/pr_IPSL-CM5A-LR_Jul_1997-1999_std_of_dailymeans.nc']\n",
      "PARAMS: [<pcmdi_metrics.diurnal.common.INPUT object at 0x7f9a407cdd00>]\n",
      "Specifying latitude / longitude domain of interest ...\n",
      "Reading demo_output/diurnal/nc/pr_IPSL-CM5A-LR_Jul_1997-1999_std_of_dailymeans.nc ...\n",
      "  Shape = (12, 72)\n",
      "Finding RMS area-average ...\n",
      "For IPSL-CM5A-LR in Jul, average variance of daily values = ( 3.89 mm/d)^2\n",
      "Writing output to JSON file ... {'IPSL-CM5A-LR': {'TRMM': 3.9163177715285187, 'TROPICS': 3.890735445846671}}\n",
      "REG MASK: {'TRMM': {'id': 'TRMM', 'domain': {'TRMM': 'cdutil.region.domain(latitude=(-50.0, 50.0),longitude=(0.0, 360.0))'}}}\n",
      "done\n"
     ]
    },
    {
     "name": "stderr",
     "output_type": "stream",
     "text": [
      "INFO::2021-02-24 09:10::pcmdi_metrics:: Results saved to a json file: /Users/ordonez4/Documents/git/pcmdi_metrics/doc/jupyter/Demo/demo_output/diurnal/json/pr_Jul_1997_1999_std_of_dailymeans.json\n"
     ]
    }
   ],
   "source": [
    "%%bash\n",
    "std_of_dailymeans.py -p basic_diurnal_std_daily_mean.py \\\n",
    "--region_name=TROPICS \\\n",
    "--lat1=-30. \\\n",
    "--lat2=30. \\\n",
    "--lon1=0. \\\n",
    "--lon2=360 \\\n",
    "--append"
   ]
  },
  {
   "cell_type": "markdown",
   "metadata": {},
   "source": [
    "## Diurnal Composite\n",
    "\n",
    "Looking again at our diagram we can now start again from the original 3 hourly data, and run the *composite* script"
   ]
  },
  {
   "cell_type": "code",
   "execution_count": 7,
   "metadata": {},
   "outputs": [
    {
     "name": "stdout",
     "output_type": "stream",
     "text": [
      "# output directory\n",
      "results_dir = 'demo_output/diurnal/nc'\n",
      "\n",
      "# input directory\n",
      "modpath = 'demo_data/misc_demo_data/atm/3hr/pr/'\n",
      "\n",
      "# filenames template\n",
      "filename_template = 'pr_3hr_%(model)_%(experiment)_%(realization)_5x5_1997-1999.nc'\n",
      "\n",
      "# model to use\n",
      "model = 'IPSL-CM5A-LR'\n",
      "experiment = 'historical'\n",
      "realization = 'r1i1p1'\n",
      "\n",
      "# Month to use\n",
      "month = 7\n",
      "\n",
      "# Period\n",
      "firstyear = 1997 # included\n",
      "lastyear = 1999  # included\n",
      "\n",
      "# Number of workers\n",
      "num_workers = 4\n",
      "\n"
     ]
    }
   ],
   "source": [
    "with open(\"basic_diurnal_composite.py\") as f:\n",
    "    print(f.read())"
   ]
  },
  {
   "cell_type": "code",
   "execution_count": 8,
   "metadata": {},
   "outputs": [
    {
     "name": "stdout",
     "output_type": "stream",
     "text": [
      "done\n",
      "TEMPLATE: pr_3hr_IPSL-CM5A-LR_historical_r1i1p1_5x5_1997-1999.nc\n",
      "FILES: ['demo_data/misc_demo_data/atm/3hr/pr/pr_3hr_IPSL-CM5A-LR_historical_r1i1p1_5x5_1997-1999.nc']\n",
      "PARAMS: [<pcmdi_metrics.diurnal.common.INPUT object at 0x7fca68098ac0>]\n",
      "Data source: IPSL-CM5A-LR\n",
      "Opening demo_data/misc_demo_data/atm/3hr/pr/pr_3hr_IPSL-CM5A-LR_historical_r1i1p1_5x5_1997-1999.nc ...\n",
      "Year 1997:\n",
      "Reading pr from demo_data/misc_demo_data/atm/3hr/pr/pr_3hr_IPSL-CM5A-LR_historical_r1i1p1_5x5_1997-1999.nc for time interval 1997-7-1 0:0:0.0 to 1997-7-31 23:59:0.0 ...\n",
      "Shape: (248, 36, 72)\n",
      "DATA FROM: 1997-7-1 1:30:0.0 to 1997-7-31 22:30:0.0\n",
      "  Shape =  (8, 36, 72)\n",
      "  8 timepoints per day, 3 hr intervals between timepoints\n",
      "  Creating temporary storage and output fields ...\n",
      "  Computing Local Standard Times for GMT  1.50 ...\n",
      "  Computing Local Standard Times for GMT  4.50 ...\n",
      "  Computing Local Standard Times for GMT  7.50 ...\n",
      "  Computing Local Standard Times for GMT 10.50 ...\n",
      "  Computing Local Standard Times for GMT 13.50 ...\n",
      "  Computing Local Standard Times for GMT 16.50 ...\n",
      "  Computing Local Standard Times for GMT 19.50 ...\n",
      "  Computing Local Standard Times for GMT 22.50 ...\n",
      "  Choosing timepoints with GMT  1.50 ...\n",
      "days per mo : 31\n",
      "  Choosing timepoints with GMT  4.50 ...\n",
      "days per mo : 31\n",
      "  Choosing timepoints with GMT  7.50 ...\n",
      "days per mo : 31\n",
      "  Choosing timepoints with GMT 10.50 ...\n",
      "days per mo : 31\n",
      "  Choosing timepoints with GMT 13.50 ...\n",
      "days per mo : 31\n",
      "  Choosing timepoints with GMT 16.50 ...\n",
      "days per mo : 31\n",
      "  Choosing timepoints with GMT 19.50 ...\n",
      "days per mo : 31\n",
      "  Choosing timepoints with GMT 22.50 ...\n",
      "days per mo : 31\n",
      "Year 1998:\n",
      "Reading pr from demo_data/misc_demo_data/atm/3hr/pr/pr_3hr_IPSL-CM5A-LR_historical_r1i1p1_5x5_1997-1999.nc for time interval 1998-7-1 0:0:0.0 to 1998-7-31 23:59:0.0 ...\n",
      "Shape: (248, 36, 72)\n",
      "  Choosing timepoints with GMT  1.50 ...\n",
      "days per mo : 31\n",
      "  Choosing timepoints with GMT  4.50 ...\n",
      "days per mo : 31\n",
      "  Choosing timepoints with GMT  7.50 ...\n",
      "days per mo : 31\n",
      "  Choosing timepoints with GMT 10.50 ...\n",
      "days per mo : 31\n",
      "  Choosing timepoints with GMT 13.50 ...\n",
      "days per mo : 31\n",
      "  Choosing timepoints with GMT 16.50 ...\n",
      "days per mo : 31\n",
      "  Choosing timepoints with GMT 19.50 ...\n",
      "days per mo : 31\n",
      "  Choosing timepoints with GMT 22.50 ...\n",
      "days per mo : 31\n",
      "Year 1999:\n",
      "Reading pr from demo_data/misc_demo_data/atm/3hr/pr/pr_3hr_IPSL-CM5A-LR_historical_r1i1p1_5x5_1997-1999.nc for time interval 1999-7-1 0:0:0.0 to 1999-7-31 23:59:0.0 ...\n",
      "Shape: (248, 36, 72)\n",
      "  Choosing timepoints with GMT  1.50 ...\n",
      "days per mo : 31\n",
      "  Choosing timepoints with GMT  4.50 ...\n",
      "days per mo : 31\n",
      "  Choosing timepoints with GMT  7.50 ...\n",
      "days per mo : 31\n",
      "  Choosing timepoints with GMT 10.50 ...\n",
      "days per mo : 31\n",
      "  Choosing timepoints with GMT 13.50 ...\n",
      "days per mo : 31\n",
      "  Choosing timepoints with GMT 16.50 ...\n",
      "days per mo : 31\n",
      "  Choosing timepoints with GMT 19.50 ...\n",
      "days per mo : 31\n",
      "  Choosing timepoints with GMT 22.50 ...\n",
      "days per mo : 31\n",
      "Computing mean and standard deviation over all GMT  1.50 timepoints ...\n",
      "Computing mean and standard deviation over all GMT  4.50 timepoints ...\n",
      "Computing mean and standard deviation over all GMT  7.50 timepoints ...\n",
      "Computing mean and standard deviation over all GMT 10.50 timepoints ...\n",
      "Computing mean and standard deviation over all GMT 13.50 timepoints ...\n",
      "Computing mean and standard deviation over all GMT 16.50 timepoints ...\n",
      "Computing mean and standard deviation over all GMT 19.50 timepoints ...\n",
      "Computing mean and standard deviation over all GMT 22.50 timepoints ...\n"
     ]
    }
   ],
   "source": [
    "%%bash\n",
    "compositeDiurnalStatistics.py -p basic_diurnal_composite.py"
   ]
  },
  {
   "cell_type": "markdown",
   "metadata": {},
   "source": [
    "This produces 3 output files:\n",
    "```\n",
    "pr_IPSL-CM5A-LR_Jul_1997-1999_diurnal_avg.nc\n",
    "pr_IPSL-CM5A-LR_Jul_1997-1999_diurnal_std.nc\n",
    "pr_IPSL-CM5A-LR_LocalSolarTimes.nc\n",
    "```\n",
    "\n",
    "These contain respectively the 1997-1999 mean diurnal cycle for July, the standard deviation of these results across individual years, and the local solar time. Results for each of these are available for the entire domain.\n",
    "\n",
    "We can now generate ASCII files for composite diurnal cycle (w/\terror\tbars) at selected grid points using the `fourierDiurnalGridpoints.py` script."
   ]
  },
  {
   "cell_type": "code",
   "execution_count": 9,
   "metadata": {},
   "outputs": [
    {
     "name": "stdout",
     "output_type": "stream",
     "text": [
      "LSTFILES: ['demo_output/diurnal/nc/pr_IPSL-CM5A-LR_LocalSolarTimes.nc']\n",
      "TMPL pr_IPSL-CM5A-LR_LocalSolarTimes.nc\n",
      "Results sent to: /Users/ordonez4/Documents/git/pcmdi_metrics/doc/jupyter/Demo/demo_output/diurnal/ascii/pr_Jul_1997-1999_fourierDiurnalGridPoints.asc\n"
     ]
    }
   ],
   "source": [
    "%%bash\n",
    "fourierDiurnalGridpoints.py -p basic_diurnal_fourier.py"
   ]
  },
  {
   "cell_type": "markdown",
   "metadata": {},
   "source": [
    "This produces an ascii file: `pr_Jul_1997-1999_fourierDiurnalGridPoints.asc` "
   ]
  },
  {
   "cell_type": "markdown",
   "metadata": {},
   "source": [
    "## Standard Deviation of Hourly Values\n",
    "\n",
    "Starting again from the *composite* results our diagram suggests we now compute the standard deviation of hourly values."
   ]
  },
  {
   "cell_type": "code",
   "execution_count": 10,
   "metadata": {},
   "outputs": [
    {
     "name": "stdout",
     "output_type": "stream",
     "text": [
      "# output directory\n",
      "results_dir = 'demo_output/diurnal/json'\n",
      "\n",
      "# input directory which is actually the output of previous driver\n",
      "modpath = 'demo_output/diurnal/nc'\n",
      "\n",
      "# model to use\n",
      "model = 'IPSL-CM5A-LR'\n",
      "experiment = 'historical'\n",
      "realization = 'r1i1p1'\n",
      "\n",
      "# Month to use\n",
      "month = 7\n",
      "\n",
      "# Period\n",
      "firstyear = 1997 # included\n",
      "lastyear = 1999  # included\n",
      "\n",
      "# Latitudes/longitudes to use\n",
      "lat1 = -50.\n",
      "lat2 = 50.\n",
      "lon1 = 0.\n",
      "lon2 = 360.\n",
      "\n",
      "# Number of workers\n",
      "num_workers = 4\n",
      "\n"
     ]
    }
   ],
   "source": [
    "with open(\"basic_diurnal_std_hourly_mean.py\") as f:\n",
    "    print(f.read())"
   ]
  },
  {
   "cell_type": "code",
   "execution_count": 11,
   "metadata": {},
   "outputs": [
    {
     "name": "stdout",
     "output_type": "stream",
     "text": [
      "TEMPLATE NAME: pr_IPSL-CM5A-LR_Jul_1997-1999_diurnal_std.nc\n",
      "Specifying latitude / longitude domain of interest ...\n",
      "Preparing to write output to JSON file ...\n",
      "Initializing dictionary of statistical results ...\n",
      "['demo_output/diurnal/nc/pr_IPSL-CM5A-LR_Jul_1997-1999_diurnal_std.nc']\n",
      "PARAMS: [<pcmdi_metrics.diurnal.common.INPUT object at 0x7f93283a7e80>]\n",
      "Specifying latitude / longitude domain of interest ...\n",
      "Reading demo_output/diurnal/nc/pr_IPSL-CM5A-LR_Jul_1997-1999_diurnal_std.nc ...\n",
      "  Shape = (8, 20, 72)\n",
      "Finding RMS area-average ...\n",
      "For IPSL-CM5A-LR in Jul, average variance of hourly values = ( 4.85 mm/d)^2\n",
      "Writing output to JSON file ...\n",
      "done\n"
     ]
    },
    {
     "name": "stderr",
     "output_type": "stream",
     "text": [
      "INFO::2021-02-24 09:10::pcmdi_metrics:: Results saved to a json file: /Users/ordonez4/Documents/git/pcmdi_metrics/doc/jupyter/Demo/demo_output/diurnal/json/pr_Jul_1997-1999_std_of_hourlymeans.json\n"
     ]
    }
   ],
   "source": [
    "%%bash\n",
    "std_of_hourlyvalues.py -p basic_diurnal_std_hourly_mean.py"
   ]
  },
  {
   "cell_type": "markdown",
   "metadata": {},
   "source": [
    "This generated the following file:\n",
    "    `pr_Jul_1997-1999_std_of_hourlymeans.json`\n",
    "    \n",
    "These results are used in Trenberth\tet\tal.\t(2017). They are a measure of the intermittancy of hourly values, which puts “error bars” on the mean diurnal cycle.\n",
    "\n",
    "Going back to the results of the *composite* we can now run `std_of_meandiurnalcycle.py` which can use the same input parameter file as the daily mean computation."
   ]
  },
  {
   "cell_type": "code",
   "execution_count": 12,
   "metadata": {},
   "outputs": [
    {
     "name": "stdout",
     "output_type": "stream",
     "text": [
      "TEMPLATE NAME: pr_IPSL-CM5A-LR_Jul_1997-1999_diurnal_avg.nc\n",
      "Specifying latitude / longitude domain of interest ...\n",
      "Preparing to write output to JSON file ...\n",
      "Initializing dictionary of statistical results ...\n",
      "['demo_output/diurnal/nc/pr_IPSL-CM5A-LR_Jul_1997-1999_diurnal_avg.nc']\n",
      "PARAMS: [<pcmdi_metrics.diurnal.common.INPUT object at 0x7f81986b5b80>]\n",
      "Specifying latitude / longitude domain of interest ...\n",
      "Reading demo_output/diurnal/nc/pr_IPSL-CM5A-LR_Jul_1997-1999_diurnal_avg.nc ...\n",
      "  Shape = (8, 20, 72)\n",
      "Finding standard deviation over first dimension (time of day) ...\n",
      "  Shape = (20, 72)\n",
      "Finding r.m.s. average over 2nd-3rd dimensions (area) ...\n",
      "For IPSL-CM5A-LR in Jul, average variance of hourly values = ( 2.15 mm/d)^2\n",
      "Writing output to JSON file ...\n",
      "KEYS AT END: ['DISCLAIMER', 'REFERENCE', 'RESULTS']\n",
      "REG MASK: {}\n",
      "done\n"
     ]
    },
    {
     "name": "stderr",
     "output_type": "stream",
     "text": [
      "INFO::2021-02-24 09:10::pcmdi_metrics:: Results saved to a json file: /Users/ordonez4/Documents/git/pcmdi_metrics/doc/jupyter/Demo/demo_output/diurnal/json/pr_Jul_1997-1999_std_of_meandiurnalcyc.json\n"
     ]
    }
   ],
   "source": [
    "%%bash\n",
    "std_of_meandiurnalcycle.py -p basic_diurnal_std_hourly_mean.py"
   ]
  },
  {
   "cell_type": "markdown",
   "metadata": {},
   "source": [
    "This generates the following file: `pr_Jul_1997-1999_std_of_meandiurnalcyc.json`"
   ]
  },
  {
   "cell_type": "markdown",
   "metadata": {},
   "source": [
    "## Fourier Analysis\n",
    "\n",
    "Again starting from the *composite* results let's do the fourier analysis. This uses a new parameter file."
   ]
  },
  {
   "cell_type": "code",
   "execution_count": 13,
   "metadata": {},
   "outputs": [
    {
     "name": "stdout",
     "output_type": "stream",
     "text": [
      "# output directory\n",
      "results_dir = 'demo_output/diurnal/nc'\n",
      "\n",
      "# input directory which is actually the output of previous driver\n",
      "modpath = 'demo_output/diurnal/nc'\n",
      "\n",
      "# model to use\n",
      "model = 'IPSL-CM5A-LR'\n",
      "experiment = 'historical'\n",
      "realization = 'r1i1p1'\n",
      "\n",
      "# Month to use\n",
      "month = 7\n",
      "\n",
      "# Period\n",
      "firstyear = 1997 # included\n",
      "lastyear = 1999  # included\n",
      "\n",
      "# Number of workers\n",
      "num_workers = 4\n",
      "\n"
     ]
    }
   ],
   "source": [
    "with open(\"basic_diurnal_fourierAllGrid.py\") as f:\n",
    "    print(f.read())"
   ]
  },
  {
   "cell_type": "code",
   "execution_count": 14,
   "metadata": {},
   "outputs": [
    {
     "name": "stdout",
     "output_type": "stream",
     "text": [
      "modpath  demo_output/diurnal/nc\n",
      "filename_template  pr_%(model)_%(month)_%(firstyear)-%(lastyear)_diurnal_avg.nc\n",
      "filename_template_LST  pr_%(model)_LocalSolarTimes.nc\n",
      "LSTFILES: ['demo_output/diurnal/nc/pr_IPSL-CM5A-LR_LocalSolarTimes.nc']\n",
      "TMPL pr_IPSL-CM5A-LR_LocalSolarTimes.nc\n",
      "Reading demo_output/diurnal/nc/pr_IPSL-CM5A-LR_LocalSolarTimes.nc ... pr_IPSL-CM5A-LR_LocalSolarTimes.nc\n",
      "====================\n",
      "IPSL-CM5A-LR\n",
      "====================\n",
      "Reading time series of mean diurnal cycle ...\n",
      "Input shapes:  (8, 36, 72) (8, 36, 72)\n",
      "Getting latitude and longitude coordinates.\n",
      "Taking fast Fourier transform of the mean diurnal cycle ...\n",
      "Creating output arrays ...\n",
      "Calling numpy FFT function ...\n",
      "(8, 36, 72)\n",
      "Converting from complex-valued FFT to real-valued amplitude and phase ...\n",
      "  Output:\n",
      "    cycmean (36, 72)\n",
      "    maxvalue (3, 36, 72)\n",
      "    tmax (3, 36, 72)\n",
      "\"Re-decorating\" Fourier harmonics with grid info, etc., ...\n",
      "... and writing to netCDF.\n"
     ]
    }
   ],
   "source": [
    "%%bash\n",
    "fourierDiurnalAllGrid.py -p basic_diurnal_fourierAllGrid.py"
   ]
  },
  {
   "cell_type": "markdown",
   "metadata": {},
   "source": [
    "This generates 3 files:\n",
    "\n",
    "```\n",
    "pr_IPSL-CM5A-LR_Jul_1997-1999_tmean.nc\n",
    "pr_IPSL-CM5A-LR_Jul_1997-1999_S.nc\n",
    "pr_IPSL-CM5A-LR_Jul_1997-1999_tS.nc\n",
    "```\n"
   ]
  },
  {
   "cell_type": "markdown",
   "metadata": {},
   "source": [
    "We can now run the last script: `savg_fourierWrappedInOut.py`"
   ]
  },
  {
   "cell_type": "code",
   "execution_count": 15,
   "metadata": {},
   "outputs": [
    {
     "name": "stdout",
     "output_type": "stream",
     "text": [
      "Specifying latitude / longitude domain of interest ...\n",
      "Preparing to write output to JSON file ...\n",
      "Initializing dictionary of statistical results ...\n",
      "TEMPLATE: pr_IPSL-CM5A-LR_Jul_1997-1999_S.nc\n",
      "['demo_output/diurnal/nc/pr_IPSL-CM5A-LR_Jul_1997-1999_S.nc']\n",
      "Reading Amplitude from demo_output/diurnal/nc/pr_IPSL-CM5A-LR_Jul_1997-1999_S.nc ...\n",
      "Reading Phase from demo_output/diurnal/nc/pr_IPSL-CM5A-LR_Jul_1997-1999_tS.nc ...\n",
      "Reading sftlf from demo_output/diurnal/nc/cmip5.IPSL-CM5A-LR.historical.r0i0p0.fx.atm.fx.sftlf.*.latestX.xml ...\n",
      "Failed reading sftlf from file (error was: list index out of range)\n",
      "Creating one for you\n",
      "  Global mean land fraction = 0.252\n",
      "Area-averaging globally, over land only, and over ocean only ...\n",
      "Converting singleton transient variables to plain floating-point numbers ...\n",
      "Jul 1-harmonic amplitude, phase =   0.583 mm/d,   9.681 hrsLST averaged globally\n",
      "Jul 1-harmonic amplitude, phase =   2.243 mm/d,  11.588 hrsLST averaged over land\n",
      "Jul 1-harmonic amplitude, phase =   0.380 mm/d,   4.854 hrsLST averaged over ocean\n",
      "Area-averaging globally, over land only, and over ocean only ...\n",
      "Converting singleton transient variables to plain floating-point numbers ...\n",
      "Jul 2-harmonic amplitude, phase =   0.569 mm/d,   0.159 hrsLST averaged globally\n",
      "Jul 2-harmonic amplitude, phase =   1.553 mm/d,  11.904 hrsLST averaged over land\n",
      "Jul 2-harmonic amplitude, phase =   0.251 mm/d,   0.698 hrsLST averaged over ocean\n",
      "Area-averaging globally, over land only, and over ocean only ...\n",
      "Converting singleton transient variables to plain floating-point numbers ...\n",
      "Jul 3-harmonic amplitude, phase =   0.223 mm/d,   3.454 hrsLST averaged globally\n",
      "Jul 3-harmonic amplitude, phase =   0.797 mm/d,   3.681 hrsLST averaged over land\n",
      "Jul 3-harmonic amplitude, phase =   0.058 mm/d,   2.230 hrsLST averaged over ocean\n",
      "{'IPSL-CM5A-LR': {'TRMM': {'harmonic1': {'amp_avg_lnd': 2.242995862103426, 'pha_avg_lnd': 11.587881354946367, 'amp_avg_ocn': 0.38036934839820885, 'pha_avg_ocn': 4.8537920964277905}, 'harmonic2': {'amp_avg_lnd': 1.5533814759275162, 'pha_avg_lnd': 11.90414360066512, 'amp_avg_ocn': 0.2513985389784492, 'pha_avg_ocn': 0.6976628431643584}, 'harmonic3': {'amp_avg_lnd': 0.7967068716487153, 'pha_avg_lnd': 3.68122152040087, 'amp_avg_ocn': 0.05825477671034634, 'pha_avg_ocn': 2.230342743709479}}}}\n",
      "done\n"
     ]
    },
    {
     "name": "stderr",
     "output_type": "stream",
     "text": [
      "INFO::2021-02-24 09:10::pcmdi_metrics:: Results saved to a json file: /Users/ordonez4/Documents/git/pcmdi_metrics/doc/jupyter/Demo/demo_output/diurnal/json/pr_Jul_1997-1999_savg_DiurnalFourier.json\n"
     ]
    }
   ],
   "source": [
    "%%bash\n",
    "savg_fourier.py -p basic_diurnal_std_hourly_mean.py"
   ]
  },
  {
   "cell_type": "markdown",
   "metadata": {},
   "source": [
    "This creates the following file:\n",
    "\n",
    "```\n",
    "pr_Jul_1997-1999_savg_DiurnalFourier.json\n",
    "```"
   ]
  },
  {
   "cell_type": "code",
   "execution_count": null,
   "metadata": {},
   "outputs": [],
   "source": []
  }
 ],
 "metadata": {
  "kernelspec": {
   "display_name": "Python 3",
   "language": "python",
   "name": "python3"
  },
  "language_info": {
   "codemirror_mode": {
    "name": "ipython",
    "version": 3
   },
   "file_extension": ".py",
   "mimetype": "text/x-python",
   "name": "python",
   "nbconvert_exporter": "python",
   "pygments_lexer": "ipython3",
   "version": "3.8.6"
  },
  "selected_variables": [],
  "vcdat_file_path": "",
  "vcdat_loaded_variables": [],
  "vcdat_variable_info": {}
 },
 "nbformat": 4,
 "nbformat_minor": 4
}
