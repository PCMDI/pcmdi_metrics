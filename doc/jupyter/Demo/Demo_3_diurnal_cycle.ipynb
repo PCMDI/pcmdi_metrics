{
 "cells": [
  {
   "cell_type": "markdown",
   "metadata": {},
   "source": [
    "# Diurnal Cycle\n",
    "\n",
    "This notebook aims at inroducing new users on how to use the PCDMI diurnal cycle drivers."
   ]
  },
  {
   "cell_type": "markdown",
   "metadata": {},
   "source": [
    "[This diagram](https://github.com/PCMDI/pcmdi_metrics/blob/master/doc/Diurnal%20Cycle%20Diagram.pdf) shows how various drivers are linked together."
   ]
  },
  {
   "cell_type": "markdown",
   "metadata": {},
   "source": [
    "To run the following demo, it is expected that you have downloaded the sample data as demonstrated in [the download notebook](Demo_0_download_data.ipynb)\n",
    "\n",
    "For this tutorial we will be using 3 years worth of 3 hourly data resampled to a 5x5 grid"
   ]
  },
  {
   "cell_type": "code",
   "execution_count": null,
   "metadata": {},
   "outputs": [],
   "source": [
    "from user_choices import demo_data_directory, demo_output_directory"
   ]
  },
  {
   "cell_type": "markdown",
   "metadata": {},
   "source": [
    "## Daily Means\n",
    "\n",
    "Like all other drivers in the PCMDI Metrics Package, Diurnal Cycle relies on parameter input files\n",
    "\n",
    "Our first driver starts from cmip5 data and computes the daily means"
   ]
  },
  {
   "cell_type": "code",
   "execution_count": null,
   "metadata": {},
   "outputs": [],
   "source": [
    "with open(\"basic_diurnal_compute_daily_mean.py\") as f:\n",
    "    print(f.read())"
   ]
  },
  {
   "cell_type": "markdown",
   "metadata": {},
   "source": [
    "Now to run this simply call the driver\n",
    "```\n",
    "computeStdOfDailyMeans.py -p basic_diurnal_compute_daily_mean.py\n",
    "```"
   ]
  },
  {
   "cell_type": "code",
   "execution_count": null,
   "metadata": {},
   "outputs": [],
   "source": [
    "%%bash\n",
    "computeStdOfDailyMeans.py -p basic_diurnal_compute_daily_mean.py"
   ]
  },
  {
   "cell_type": "markdown",
   "metadata": {},
   "source": [
    "This generates a netcdf file `pr_IPSL-CM5A-LR_Jul_1997-1999_std_of_dailymeans.nc` which contains the daily standard deviation at each cell"
   ]
  },
  {
   "cell_type": "markdown",
   "metadata": {},
   "source": [
    "## Standard Deviation of Daily Means\n",
    "\n",
    "Looking at our diagram the next driver to run is the one computing the mean of the standard deviation from daily means over a region of interest."
   ]
  },
  {
   "cell_type": "code",
   "execution_count": null,
   "metadata": {},
   "outputs": [],
   "source": [
    "with open(\"basic_diurnal_std_daily_mean.py\") as f:\n",
    "    print(f.read())"
   ]
  },
  {
   "cell_type": "markdown",
   "metadata": {},
   "source": [
    "Now to run this simply call the driver\n",
    "```\n",
    "std_of_dailymeans.py -p basic_diurnal_std_daily_mean.py\n",
    "```"
   ]
  },
  {
   "cell_type": "code",
   "execution_count": null,
   "metadata": {},
   "outputs": [],
   "source": [
    "%%bash\n",
    "std_of_dailymeans.py -p basic_diurnal_std_daily_mean.py"
   ]
  },
  {
   "cell_type": "markdown",
   "metadata": {},
   "source": [
    "This generates a json file: `pr_Jul_1997_1999_std_of_dailymeans.json`\n",
    "\n",
    "OPTIONAL: You could also append a new region to this json file by overwritting some of our parameters from the command line:"
   ]
  },
  {
   "cell_type": "code",
   "execution_count": null,
   "metadata": {},
   "outputs": [],
   "source": [
    "%%bash\n",
    "std_of_dailymeans.py -p basic_diurnal_std_daily_mean.py \\\n",
    "--region_name=TROPICS \\\n",
    "--lat1=-30. \\\n",
    "--lat2=30. \\\n",
    "--lon1=0. \\\n",
    "--lon2=360 \\\n",
    "--append"
   ]
  },
  {
   "cell_type": "markdown",
   "metadata": {},
   "source": [
    "## Diurnal Composite\n",
    "\n",
    "Looking again at our diagram we can now start again from the original 3 hourly data, and run the *composite* script"
   ]
  },
  {
   "cell_type": "code",
   "execution_count": null,
   "metadata": {},
   "outputs": [],
   "source": [
    "with open(\"basic_diurnal_composite.py\") as f:\n",
    "    print(f.read())"
   ]
  },
  {
   "cell_type": "code",
   "execution_count": null,
   "metadata": {},
   "outputs": [],
   "source": [
    "%%bash\n",
    "compositeDiurnalStatistics.py -p basic_diurnal_composite.py"
   ]
  },
  {
   "cell_type": "markdown",
   "metadata": {},
   "source": [
    "This produces 3 output files:\n",
    "```\n",
    "pr_IPSL-CM5A-LR_Jul_1997-1999_diurnal_avg.nc\n",
    "pr_IPSL-CM5A-LR_Jul_1997-1999_diurnal_std.nc\n",
    "pr_IPSL-CM5A-LR_LocalSolarTimes.nc\n",
    "```\n",
    "\n",
    "These contain respectively the 1997-1999 mean diurnal cycle for July, the standard deviation of these results across individual years, and the local solar time. Results for each of these are available for the entire domain\n",
    "\n",
    "We can now generate ASCII files for composite diurnal cycle (w/\terror\tbars) at selected grid points using the `fourierDiurnalGridpoints.py` script."
   ]
  },
  {
   "cell_type": "code",
   "execution_count": null,
   "metadata": {},
   "outputs": [],
   "source": [
    "%%bash\n",
    "fourierDiurnalGridpoints.py -p basic_diurnal_fourier.py"
   ]
  },
  {
   "cell_type": "markdown",
   "metadata": {},
   "source": [
    "This produces an ascii file: `pr_Jul_1997-1999_fourierDiurnalGridPoints.asc` "
   ]
  },
  {
   "cell_type": "markdown",
   "metadata": {},
   "source": [
    "## Standard Deviation of Hourly Values\n",
    "\n",
    "Starting again from the composite results our diagram suggests we now compute the std of hourly values"
   ]
  },
  {
   "cell_type": "code",
   "execution_count": null,
   "metadata": {},
   "outputs": [],
   "source": [
    "with open(\"basic_diurnal_std_hourly_mean.py\") as f:\n",
    "    print(f.read())"
   ]
  },
  {
   "cell_type": "code",
   "execution_count": null,
   "metadata": {},
   "outputs": [],
   "source": [
    "%%bash\n",
    "std_of_hourlyvalues.py -p basic_diurnal_std_hourly_mean.py"
   ]
  },
  {
   "cell_type": "markdown",
   "metadata": {},
   "source": [
    "This generated the following file:\n",
    "    `pr_Jul_1997-1999_std_of_hourlymeans.json`\n",
    "    \n",
    "This file is used in Trenberth\tet\tal.\t(2017) Day_to_day “intermittency” of hourly values (>>variance of daily means) Gives “error bars” on mean diurnal cycle\n",
    "\n",
    "\n",
    "Going back to the results of *composite* we can now run: `std_of_meandiurnalcycle.py` which can use the same input parameter file"
   ]
  },
  {
   "cell_type": "code",
   "execution_count": null,
   "metadata": {},
   "outputs": [],
   "source": [
    "with open(\"basic_diurnal_std_hourly_mean.py\") as f:\n",
    "    print(f.read())"
   ]
  },
  {
   "cell_type": "code",
   "execution_count": null,
   "metadata": {},
   "outputs": [],
   "source": [
    "%%bash\n",
    "std_of_meandiurnalcycle.py -p basic_diurnal_std_hourly_mean.py"
   ]
  },
  {
   "cell_type": "markdown",
   "metadata": {},
   "source": [
    "This generates the following file: `pr_Jul_1997-1999_std_of_meandiurnalcyc.json`"
   ]
  },
  {
   "cell_type": "markdown",
   "metadata": {},
   "source": [
    "## Fourier Analysis\n",
    "\n",
    "Again starting from the *composite* results let's do the fourier analysis."
   ]
  },
  {
   "cell_type": "code",
   "execution_count": null,
   "metadata": {},
   "outputs": [],
   "source": [
    "with open(\"basic_diurnal_fourierAllGrid.py\") as f:\n",
    "    print(f.read())"
   ]
  },
  {
   "cell_type": "code",
   "execution_count": null,
   "metadata": {},
   "outputs": [],
   "source": [
    "%%bash\n",
    "fourierDiurnalAllGrid.py -p basic_diurnal_fourierAllGrid.py"
   ]
  },
  {
   "cell_type": "markdown",
   "metadata": {},
   "source": [
    "This generates 3 files:\n",
    "\n",
    "```\n",
    "pr_IPSL-CM5A-LR_Jul_1997-1999_tmean.nc\n",
    "pr_IPSL-CM5A-LR_Jul_1997-1999_S.nc\n",
    "pr_IPSL-CM5A-LR_Jul_1997-1999_tS.nc\n",
    "```\n"
   ]
  },
  {
   "cell_type": "markdown",
   "metadata": {},
   "source": [
    "We can now run the last script: `savg_fourierWrappedInOut.py`"
   ]
  },
  {
   "cell_type": "code",
   "execution_count": null,
   "metadata": {},
   "outputs": [],
   "source": [
    "%%bash\n",
    "savg_fourier.py -p basic_diurnal_std_hourly_mean.py"
   ]
  },
  {
   "cell_type": "markdown",
   "metadata": {},
   "source": [
    "This creates the follwoing file:\n",
    "\n",
    "```\n",
    "pr_Jul_1997-1999_savg_DiurnalFourier.json\n",
    "```"
   ]
  },
  {
   "cell_type": "code",
   "execution_count": null,
   "metadata": {},
   "outputs": [],
   "source": []
  }
 ],
 "metadata": {
  "kernelspec": {
   "display_name": "Python 3",
   "language": "python",
   "name": "python3"
  },
  "language_info": {
   "codemirror_mode": {
    "name": "ipython",
    "version": 3
   },
   "file_extension": ".py",
   "mimetype": "text/x-python",
   "name": "python",
   "nbconvert_exporter": "python",
   "pygments_lexer": "ipython3",
   "version": "3.8.6"
  },
  "selected_variables": [],
  "vcdat_file_path": "",
  "vcdat_loaded_variables": [],
  "vcdat_variable_info": {}
 },
 "nbformat": 4,
 "nbformat_minor": 4
}
