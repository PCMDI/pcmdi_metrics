{
 "cells": [
  {
   "cell_type": "code",
   "execution_count": 10,
   "metadata": {},
   "outputs": [],
   "source": [
    "from __future__ import print_function\n",
    "import pcmdi_metrics\n",
    "import glob\n",
    "#jsons = glob.glob(\"../../tests/graphics/json/v1.0/*json\")\n",
    "json1 = \"../../tests/pcmdi_install_test_results/metrics_results/installationTest/tas_2.5x2.5_regrid2_linear_metrics.json\"\n",
    "json2 = \"../../tests/pcmdi_install_test_results/metrics_results/installationTest/tos_2.5x2.5_esmf_linear_metrics.json\"\n"
   ]
  },
  {
   "cell_type": "code",
   "execution_count": 11,
   "metadata": {},
   "outputs": [],
   "source": [
    "i=3\n",
    "pcmdi_metrics.pcmdi.io\n",
    "J1 = pcmdi_metrics.io.base.JSONs([json1, json2])"
   ]
  },
  {
   "cell_type": "code",
   "execution_count": 12,
   "metadata": {},
   "outputs": [
    {
     "data": {
      "text/plain": [
       "['variable', 'model', 'reference', 'rip', 'region', 'statistic', 'season']"
      ]
     },
     "execution_count": 12,
     "metadata": {},
     "output_type": "execute_result"
    }
   ],
   "source": [
    "J1.getAxisIds()"
   ]
  },
  {
   "cell_type": "code",
   "execution_count": 14,
   "metadata": {},
   "outputs": [
    {
     "data": {
      "text/plain": [
       "[   id: variable\n",
       "    Length: 2\n",
       "    First:  tas\n",
       "    Last:   tos\n",
       "    Python id:  0x7f50e9e2ef98,    id: model\n",
       "    Length: 1\n",
       "    First:  GFDL-ESM2G\n",
       "    Last:   GFDL-ESM2G\n",
       "    Python id:  0x7f50e9e2efd0,    id: reference\n",
       "    Length: 2\n",
       "    First:  SimulationDescription\n",
       "    Last:   defaultReference\n",
       "    Python id:  0x7f50e9e2e748,    id: rip\n",
       "    Length: 1\n",
       "    First:  r1i1p1\n",
       "    Last:   r1i1p1\n",
       "    Python id:  0x7f50e9e2e2e8,    id: region\n",
       "    Length: 6\n",
       "    First:  NHEX\n",
       "    Last:   terre\n",
       "    Python id:  0x7f50e9e10da0,    id: statistic\n",
       "    Length: 16\n",
       "    First:  bias_xy\n",
       "    Last:   std_xyt\n",
       "    Python id:  0x7f50e9e107b8,    id: season\n",
       "    Length: 5\n",
       "    First:  ann\n",
       "    Last:   son\n",
       "    Python id:  0x7f50e9e106d8]"
      ]
     },
     "execution_count": 14,
     "metadata": {},
     "output_type": "execute_result"
    }
   ],
   "source": [
    "J1.getAxisList()"
   ]
  },
  {
   "cell_type": "code",
   "execution_count": 13,
   "metadata": {},
   "outputs": [
    {
     "data": {
      "text/plain": [
       "   id: statistic\n",
       "   Length: 16\n",
       "   First:  bias_xy\n",
       "   Last:   std_xyt\n",
       "   Python id:  0x7f50e9c48dd8"
      ]
     },
     "execution_count": 13,
     "metadata": {},
     "output_type": "execute_result"
    }
   ],
   "source": [
    "J1.getAxis(\"statistic\")"
   ]
  },
  {
   "cell_type": "code",
   "execution_count": 16,
   "metadata": {},
   "outputs": [
    {
     "data": {
      "text/plain": [
       "array(['bias_xy', 'cor_xy', 'mae_xy', 'mean-obs_xy', 'mean_xy',\n",
       "       'rms_devzm', 'rms_xy', 'rms_xyt', 'rms_y', 'rmsc_xy', 'std-obs_xy',\n",
       "       'std-obs_xy_devzm', 'std-obs_xyt', 'std_xy', 'std_xy_devzm',\n",
       "       'std_xyt'], dtype='<U16')"
      ]
     },
     "execution_count": 16,
     "metadata": {},
     "output_type": "execute_result"
    }
   ],
   "source": [
    "J1.getAxis(\"statistic\")[:]"
   ]
  },
  {
   "cell_type": "code",
   "execution_count": 15,
   "metadata": {},
   "outputs": [
    {
     "data": {
      "text/plain": [
       "array(['NHEX', 'SHEX', 'TROPICS', 'global', 'ocean', 'terre'], dtype='<U7')"
      ]
     },
     "execution_count": 15,
     "metadata": {},
     "output_type": "execute_result"
    }
   ],
   "source": [
    "J1.getAxis(\"region\")[:]"
   ]
  },
  {
   "cell_type": "code",
   "execution_count": 17,
   "metadata": {},
   "outputs": [
    {
     "data": {
      "text/plain": [
       "(2, 1, 2, 1, 3, 2, 5)"
      ]
     },
     "execution_count": 17,
     "metadata": {},
     "output_type": "execute_result"
    }
   ],
   "source": [
    "data = J1(statistic=['rms_xy','std_xy'],region=['global', 'NHEX', 'terre'])\n",
    "data.shape"
   ]
  },
  {
   "cell_type": "code",
   "execution_count": 18,
   "metadata": {},
   "outputs": [
    {
     "data": {
      "text/plain": [
       "   id: statistic\n",
       "   Length: 2\n",
       "   First:  rms_xy\n",
       "   Last:   std_xy\n",
       "   Python id:  0x7f50e9e2e400"
      ]
     },
     "execution_count": 18,
     "metadata": {},
     "output_type": "execute_result"
    }
   ],
   "source": [
    "data.getAxis(-2)  # Now its' an MV can't get Axis by name"
   ]
  },
  {
   "cell_type": "code",
   "execution_count": 19,
   "metadata": {},
   "outputs": [
    {
     "data": {
      "text/plain": [
       "[   id: variable\n",
       "    Length: 2\n",
       "    First:  tas\n",
       "    Last:   tos\n",
       "    Python id:  0x7f50e9e2e828,    id: model\n",
       "    Length: 1\n",
       "    First:  GFDL-ESM2G\n",
       "    Last:   GFDL-ESM2G\n",
       "    Python id:  0x7f50e9e2e588,    id: reference\n",
       "    Length: 2\n",
       "    First:  SimulationDescription\n",
       "    Last:   defaultReference\n",
       "    Python id:  0x7f50e9e2e550,    id: rip\n",
       "    Length: 1\n",
       "    First:  r1i1p1\n",
       "    Last:   r1i1p1\n",
       "    Python id:  0x7f50e9e2e518,    id: region\n",
       "    Length: 3\n",
       "    First:  global\n",
       "    Last:   terre\n",
       "    Python id:  0x7f50e9e2e438,    id: statistic\n",
       "    Length: 2\n",
       "    First:  rms_xy\n",
       "    Last:   std_xy\n",
       "    Python id:  0x7f50e9e2e400,    id: season\n",
       "    Length: 5\n",
       "    First:  ann\n",
       "    Last:   son\n",
       "    Python id:  0x7f50e9e2e3c8]"
      ]
     },
     "execution_count": 19,
     "metadata": {},
     "output_type": "execute_result"
    }
   ],
   "source": [
    "data.getAxisList()"
   ]
  },
  {
   "cell_type": "code",
   "execution_count": null,
   "metadata": {},
   "outputs": [],
   "source": [
    "J12 = pcmdi_metrics.io.base.JSONs([json1,json2])"
   ]
  },
  {
   "cell_type": "code",
   "execution_count": null,
   "metadata": {},
   "outputs": [],
   "source": [
    "J12.getAxisIds()"
   ]
  },
  {
   "cell_type": "code",
   "execution_count": null,
   "metadata": {},
   "outputs": [],
   "source": [
    "J12.getAxis('rip')"
   ]
  },
  {
   "cell_type": "code",
   "execution_count": null,
   "metadata": {},
   "outputs": [],
   "source": [
    "data2 = J12(statistic=['rms_xy','std_xy'],model=['ACCESS1-0','CNRM-CM5','FGOALS-s2'])\n",
    "data2.shape"
   ]
  },
  {
   "cell_type": "code",
   "execution_count": null,
   "metadata": {},
   "outputs": [],
   "source": []
  }
 ],
 "metadata": {
  "kernelspec": {
   "display_name": "Python [conda env:nightly] *",
   "language": "python",
   "name": "conda-env-nightly-py"
  },
  "language_info": {
   "codemirror_mode": {
    "name": "ipython",
    "version": 3
   },
   "file_extension": ".py",
   "mimetype": "text/x-python",
   "name": "python",
   "nbconvert_exporter": "python",
   "pygments_lexer": "ipython3",
   "version": "3.6.7"
  }
 },
 "nbformat": 4,
 "nbformat_minor": 2
}
